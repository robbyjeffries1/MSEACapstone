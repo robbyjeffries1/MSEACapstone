{
 "cells": [
  {
   "cell_type": "markdown",
   "metadata": {},
   "source": [
    "# MS SQL Server"
   ]
  },
  {
   "cell_type": "markdown",
   "metadata": {},
   "source": [
    "We will use this notebook to query from MS SQL Server"
   ]
  },
  {
   "cell_type": "code",
   "execution_count": 1,
   "metadata": {},
   "outputs": [],
   "source": [
    "import pyodbc\n",
    "import pandas as pd"
   ]
  },
  {
   "cell_type": "code",
   "execution_count": 5,
   "metadata": {},
   "outputs": [],
   "source": [
    "uid = input(\"Enter your UID: \")\n",
    "pwd = input(\"Enter your Password: \")\n",
    "\n",
    "# Connect to Walton SQL Server\n",
    "conn = pyodbc.connect('Driver={SQL Server};'\n",
    "                      'Server=essql1.walton.uark.edu;'\n",
    "                      'Database={uid};'\n",
    "                      'UID={uid};'\n",
    "                      f'PWD={pwd};')"
   ]
  },
  {
   "cell_type": "code",
   "execution_count": 8,
   "metadata": {},
   "outputs": [
    {
     "name": "stdout",
     "output_type": "stream",
     "text": [
      "(0, '0 ', 'XX', 'XX', '     ', None)\n",
      "(140, '2 ', 'RALEIGH', 'NC', '27616', None)\n",
      "(205, '2 ', 'ST. PETERSBURG', 'FL', '33710', None)\n",
      "(214, '2 ', 'PORT CHARLOTTE', 'FL', '33948', None)\n",
      "(235, '2 ', 'DAYTONA BEACH', 'FL', '32114', None)\n",
      "(305, '4 ', 'ST. LOUIS', 'MO', '63129', None)\n",
      "(322, '4 ', 'OVERLAND PARK', 'KS', '66214', None)\n",
      "(365, '4 ', 'BEACHWOOD', 'OH', '44122', None)\n",
      "(406, '4 ', 'JONESBORO', 'AR', '72401', None)\n",
      "(501, '5 ', 'CONWAY', 'AR', '13579', None)\n",
      "(698, '6 ', 'MAUMELLE', 'AR', '72113', None)\n",
      "(704, '7 ', 'FORT WORTH', 'TX', '76132', None)\n",
      "(717, '7 ', 'FAIRVIEW', 'TX', '75069', None)\n",
      "(718, '7 ', 'PLANO', 'TX', '75093', None)\n",
      "(743, '7 ', 'LUBBOCK', 'TX', '79414', None)\n",
      "(925, '9 ', 'LAS CRUCES', 'NM', '88011', None)\n",
      "(926, '9 ', 'EL PASO', 'TX', '79912', None)\n"
     ]
    }
   ],
   "source": [
    "# Executing Queries\n",
    "cursor = conn.cursor()\n",
    "\n",
    "query = 'SELECT * FROM dbo.A1C_Store'\n",
    "cursor.execute(query)\n",
    "\n",
    "for i in cursor:\n",
    "    print(i)"
   ]
  },
  {
   "cell_type": "code",
   "execution_count": 9,
   "metadata": {},
   "outputs": [
    {
     "data": {
      "text/html": [
       "<div>\n",
       "<style scoped>\n",
       "    .dataframe tbody tr th:only-of-type {\n",
       "        vertical-align: middle;\n",
       "    }\n",
       "\n",
       "    .dataframe tbody tr th {\n",
       "        vertical-align: top;\n",
       "    }\n",
       "\n",
       "    .dataframe thead th {\n",
       "        text-align: right;\n",
       "    }\n",
       "</style>\n",
       "<table border=\"1\" class=\"dataframe\">\n",
       "  <thead>\n",
       "    <tr style=\"text-align: right;\">\n",
       "      <th></th>\n",
       "      <th>STORE</th>\n",
       "      <th>DIVISION</th>\n",
       "      <th>CITY</th>\n",
       "      <th>STATE</th>\n",
       "      <th>ZIP_CODE</th>\n",
       "      <th>ZIP_SECSEG</th>\n",
       "    </tr>\n",
       "  </thead>\n",
       "  <tbody>\n",
       "    <tr>\n",
       "      <th>0</th>\n",
       "      <td>0</td>\n",
       "      <td>0</td>\n",
       "      <td>XX</td>\n",
       "      <td>XX</td>\n",
       "      <td></td>\n",
       "      <td>None</td>\n",
       "    </tr>\n",
       "    <tr>\n",
       "      <th>1</th>\n",
       "      <td>140</td>\n",
       "      <td>2</td>\n",
       "      <td>RALEIGH</td>\n",
       "      <td>NC</td>\n",
       "      <td>27616</td>\n",
       "      <td>None</td>\n",
       "    </tr>\n",
       "    <tr>\n",
       "      <th>2</th>\n",
       "      <td>205</td>\n",
       "      <td>2</td>\n",
       "      <td>ST. PETERSBURG</td>\n",
       "      <td>FL</td>\n",
       "      <td>33710</td>\n",
       "      <td>None</td>\n",
       "    </tr>\n",
       "    <tr>\n",
       "      <th>3</th>\n",
       "      <td>214</td>\n",
       "      <td>2</td>\n",
       "      <td>PORT CHARLOTTE</td>\n",
       "      <td>FL</td>\n",
       "      <td>33948</td>\n",
       "      <td>None</td>\n",
       "    </tr>\n",
       "    <tr>\n",
       "      <th>4</th>\n",
       "      <td>235</td>\n",
       "      <td>2</td>\n",
       "      <td>DAYTONA BEACH</td>\n",
       "      <td>FL</td>\n",
       "      <td>32114</td>\n",
       "      <td>None</td>\n",
       "    </tr>\n",
       "  </tbody>\n",
       "</table>\n",
       "</div>"
      ],
      "text/plain": [
       "   STORE DIVISION            CITY STATE ZIP_CODE ZIP_SECSEG\n",
       "0      0       0               XX    XX                None\n",
       "1    140       2          RALEIGH    NC    27616       None\n",
       "2    205       2   ST. PETERSBURG    FL    33710       None\n",
       "3    214       2   PORT CHARLOTTE    FL    33948       None\n",
       "4    235       2    DAYTONA BEACH    FL    32114       None"
      ]
     },
     "execution_count": 9,
     "metadata": {},
     "output_type": "execute_result"
    }
   ],
   "source": [
    "# Storing Query result into a Data Frame\n",
    "df = pd.read_sql_query(query, conn)\n",
    "df.head()"
   ]
  },
  {
   "cell_type": "code",
   "execution_count": null,
   "metadata": {},
   "outputs": [],
   "source": []
  }
 ],
 "metadata": {
  "kernelspec": {
   "display_name": "Python 3 (ipykernel)",
   "language": "python",
   "name": "python3"
  },
  "language_info": {
   "codemirror_mode": {
    "name": "ipython",
    "version": 3
   },
   "file_extension": ".py",
   "mimetype": "text/x-python",
   "name": "python",
   "nbconvert_exporter": "python",
   "pygments_lexer": "ipython3",
   "version": "3.9.7"
  }
 },
 "nbformat": 4,
 "nbformat_minor": 4
}
