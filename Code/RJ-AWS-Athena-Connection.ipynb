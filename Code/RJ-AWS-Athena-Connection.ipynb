{
 "cells": [
  {
   "cell_type": "code",
   "execution_count": 1,
   "id": "e2fb6fc3",
   "metadata": {},
   "outputs": [],
   "source": [
    "import os\n",
    "os.environ['ATHENA_USER'] = ''\n",
    "os.environ['ATHENA_PASSWORD'] = ''"
   ]
  },
  {
   "cell_type": "code",
   "execution_count": 19,
   "id": "b6d2337c",
   "metadata": {},
   "outputs": [
    {
     "data": {
      "text/plain": [
       "'\\n!pip uninstall pyathena\\n!pip install pyathena==1.2.0\\n!pip install jupyter-athena-sql\\n'"
      ]
     },
     "execution_count": 19,
     "metadata": {},
     "output_type": "execute_result"
    }
   ],
   "source": [
    "## Important packages\n",
    "\n",
    "'''\n",
    "!pip install pyathena==1.2.0\n",
    "!pip install jupyter-athena-sql\n",
    "'''"
   ]
  },
  {
   "cell_type": "code",
   "execution_count": 39,
   "id": "840102f9",
   "metadata": {},
   "outputs": [],
   "source": [
    "import pyathena\n",
    "import pandas as pd\n",
    "\n",
    "\n",
    "## Athena Connection\n",
    "athena_conn = pyathena.connect(aws_access_key_id=os.environ['ATHENA_USER'], ##credentials of aws_access_key_id\n",
    "                 aws_secret_access_key=os.environ['ATHENA_PASSWORD'], ##credentials of aws_secret_access_key\n",
    "                 s3_staging_dir='s3://mseacapstone/query-results', ##where the athena query result saved - checked in S3 ,\n",
    "                 region_name='us-east-1') ##the region you set for Athena"
   ]
  },
  {
   "cell_type": "code",
   "execution_count": 40,
   "id": "6f40b570",
   "metadata": {},
   "outputs": [],
   "source": [
    "query=\"SELECT marketplace, COUNT(review_id) as total_reviews,\" \\\n",
    "\"COUNT(DISTINCT customer_id) as customers,\" \\\n",
    "\"COUNT(DISTINCT product_id) as products \" \\\n",
    "\"FROM amazon_reviews_parquet \" \\\n",
    "\"GROUP BY marketplace \" \\\n",
    "\"ORDER BY customers DESC;\""
   ]
  },
  {
   "cell_type": "code",
   "execution_count": 41,
   "id": "67269b48",
   "metadata": {},
   "outputs": [
    {
     "data": {
      "text/html": [
       "<div>\n",
       "<style scoped>\n",
       "    .dataframe tbody tr th:only-of-type {\n",
       "        vertical-align: middle;\n",
       "    }\n",
       "\n",
       "    .dataframe tbody tr th {\n",
       "        vertical-align: top;\n",
       "    }\n",
       "\n",
       "    .dataframe thead th {\n",
       "        text-align: right;\n",
       "    }\n",
       "</style>\n",
       "<table border=\"1\" class=\"dataframe\">\n",
       "  <thead>\n",
       "    <tr style=\"text-align: right;\">\n",
       "      <th></th>\n",
       "      <th>marketplace</th>\n",
       "      <th>total_reviews</th>\n",
       "      <th>customers</th>\n",
       "      <th>products</th>\n",
       "    </tr>\n",
       "  </thead>\n",
       "  <tbody>\n",
       "    <tr>\n",
       "      <th>0</th>\n",
       "      <td>US</td>\n",
       "      <td>157893444</td>\n",
       "      <td>33497620</td>\n",
       "      <td>21390118</td>\n",
       "    </tr>\n",
       "    <tr>\n",
       "      <th>1</th>\n",
       "      <td>UK</td>\n",
       "      <td>1707494</td>\n",
       "      <td>936722</td>\n",
       "      <td>58703</td>\n",
       "    </tr>\n",
       "    <tr>\n",
       "      <th>2</th>\n",
       "      <td>DE</td>\n",
       "      <td>679121</td>\n",
       "      <td>373956</td>\n",
       "      <td>47736</td>\n",
       "    </tr>\n",
       "    <tr>\n",
       "      <th>3</th>\n",
       "      <td>FR</td>\n",
       "      <td>254080</td>\n",
       "      <td>131386</td>\n",
       "      <td>35451</td>\n",
       "    </tr>\n",
       "    <tr>\n",
       "      <th>4</th>\n",
       "      <td>JP</td>\n",
       "      <td>262431</td>\n",
       "      <td>122441</td>\n",
       "      <td>38447</td>\n",
       "    </tr>\n",
       "  </tbody>\n",
       "</table>\n",
       "</div>"
      ],
      "text/plain": [
       "  marketplace  total_reviews  customers  products\n",
       "0          US      157893444   33497620  21390118\n",
       "1          UK        1707494     936722     58703\n",
       "2          DE         679121     373956     47736\n",
       "3          FR         254080     131386     35451\n",
       "4          JP         262431     122441     38447"
      ]
     },
     "execution_count": 41,
     "metadata": {},
     "output_type": "execute_result"
    }
   ],
   "source": [
    "df = pd.read_sql(query, athena_conn)\n",
    "df.head(5)"
   ]
  },
  {
   "cell_type": "code",
   "execution_count": 7,
   "id": "10673914",
   "metadata": {},
   "outputs": [
    {
     "data": {
      "text/plain": [
       "Index(['marketplace', 'customer_id', 'review_id', 'product_id',\n",
       "       'product_parent', 'product_title', 'star_rating', 'helpful_votes',\n",
       "       'total_votes', 'vine', 'verified_purchase', 'review_headline',\n",
       "       'review_body', 'review_date', 'year', 'product_category'],\n",
       "      dtype='object')"
      ]
     },
     "execution_count": 7,
     "metadata": {},
     "output_type": "execute_result"
    }
   ],
   "source": [
    "df.columns"
   ]
  },
  {
   "cell_type": "code",
   "execution_count": null,
   "id": "8617fd15",
   "metadata": {},
   "outputs": [],
   "source": []
  }
 ],
 "metadata": {
  "kernelspec": {
   "display_name": "Python 3 (ipykernel)",
   "language": "python",
   "name": "python3"
  },
  "language_info": {
   "codemirror_mode": {
    "name": "ipython",
    "version": 3
   },
   "file_extension": ".py",
   "mimetype": "text/x-python",
   "name": "python",
   "nbconvert_exporter": "python",
   "pygments_lexer": "ipython3",
   "version": "3.9.7"
  }
 },
 "nbformat": 4,
 "nbformat_minor": 5
}
