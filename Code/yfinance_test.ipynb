{
 "cells": [
  {
   "cell_type": "markdown",
   "id": "175d5359",
   "metadata": {},
   "source": [
    "# YFINANCE"
   ]
  },
  {
   "cell_type": "markdown",
   "id": "0c91e03c",
   "metadata": {},
   "source": [
    "We will use this notebook to experiment with the yfinance package"
   ]
  },
  {
   "cell_type": "code",
   "execution_count": 1,
   "id": "b43ea267",
   "metadata": {},
   "outputs": [],
   "source": [
    "import yfinance as yf\n",
    "import numpy as np\n",
    "import pandas as pd\n",
    "import matplotlib.pyplot as plt\n",
    "import gzip"
   ]
  },
  {
   "cell_type": "code",
   "execution_count": 2,
   "id": "36cc8883",
   "metadata": {},
   "outputs": [],
   "source": [
    "amzn = yf.Ticker(\"AMZN\")"
   ]
  },
  {
   "cell_type": "code",
   "execution_count": 3,
   "id": "60198e23",
   "metadata": {},
   "outputs": [
    {
     "data": {
      "text/plain": [
       "{'zip': '98109-5210',\n",
       " 'sector': 'Consumer Cyclical',\n",
       " 'fullTimeEmployees': 1608000,\n",
       " 'longBusinessSummary': 'Amazon.com, Inc. engages in the retail sale of consumer products and subscriptions in North America and internationally. The company operates through three segments: North America, International, and Amazon Web Services (AWS). It sells merchandise and content purchased for resale from third-party sellers through physical and online stores. The company also manufactures and sells electronic devices, including Kindle, Fire tablets, Fire TVs, Rings, and Echo and other devices; provides Kindle Direct Publishing, an online service that allows independent authors and publishers to make their books available in the Kindle Store; and develops and produces media content. In addition, it offers programs that enable sellers to sell their products on its websites, as well as its stores; and programs that allow authors, musicians, filmmakers, Twitch streamers, skill and app developers, and others to publish and sell content. Further, the company provides compute, storage, database, analytics, machine learning, and other services, as well as fulfillment, advertising, publishing, and digital content subscriptions. Additionally, it offers Amazon Prime, a membership program, which provides free shipping of various items; access to streaming of movies and series; and other services. The company serves consumers, sellers, developers, enterprises, and content creators. Amazon.com, Inc. was incorporated in 1994 and is headquartered in Seattle, Washington.',\n",
       " 'city': 'Seattle',\n",
       " 'phone': '206 266 1000',\n",
       " 'state': 'WA',\n",
       " 'country': 'United States',\n",
       " 'companyOfficers': [],\n",
       " 'website': 'https://www.amazon.com',\n",
       " 'maxAge': 1,\n",
       " 'address1': '410 Terry Avenue North',\n",
       " 'industry': 'Internet Retail',\n",
       " 'ebitdaMargins': 0.12595001,\n",
       " 'profitMargins': 0.07101,\n",
       " 'grossMargins': 0.42032,\n",
       " 'operatingCashflow': 46327001088,\n",
       " 'revenueGrowth': 0.094,\n",
       " 'operatingMargins': 0.052950002,\n",
       " 'ebitda': 59174998016,\n",
       " 'targetLowPrice': 3333,\n",
       " 'recommendationKey': 'buy',\n",
       " 'grossProfits': 197478000000,\n",
       " 'freeCashflow': -787249984,\n",
       " 'targetMedianPrice': 4100,\n",
       " 'currentPrice': 3231.945,\n",
       " 'earningsGrowth': 0.975,\n",
       " 'currentRatio': 1.136,\n",
       " 'returnOnAssets': 0.041929998,\n",
       " 'numberOfAnalystOpinions': 51,\n",
       " 'targetMeanPrice': 4105.92,\n",
       " 'debtToEquity': 100.864,\n",
       " 'returnOnEquity': 0.28806,\n",
       " 'targetHighPrice': 5000,\n",
       " 'totalCash': 96048996352,\n",
       " 'totalDebt': 139438997504,\n",
       " 'totalRevenue': 469822013440,\n",
       " 'totalCashPerShare': 188.759,\n",
       " 'financialCurrency': 'USD',\n",
       " 'revenuePerShare': 928.502,\n",
       " 'quickRatio': 0.905,\n",
       " 'recommendationMean': 1.7,\n",
       " 'exchange': 'NMS',\n",
       " 'shortName': 'Amazon.com, Inc.',\n",
       " 'longName': 'Amazon.com, Inc.',\n",
       " 'exchangeTimezoneName': 'America/New_York',\n",
       " 'exchangeTimezoneShortName': 'EST',\n",
       " 'isEsgPopulated': False,\n",
       " 'gmtOffSetMilliseconds': '-18000000',\n",
       " 'quoteType': 'EQUITY',\n",
       " 'symbol': 'AMZN',\n",
       " 'messageBoardId': 'finmb_18749',\n",
       " 'market': 'us_market',\n",
       " 'annualHoldingsTurnover': None,\n",
       " 'enterpriseToRevenue': 3.589,\n",
       " 'beta3Year': None,\n",
       " 'enterpriseToEbitda': 28.493,\n",
       " '52WeekChange': -0.017741859,\n",
       " 'morningStarRiskRating': None,\n",
       " 'forwardEps': 73.03,\n",
       " 'revenueQuarterlyGrowth': None,\n",
       " 'sharesOutstanding': 508844000,\n",
       " 'fundInceptionDate': None,\n",
       " 'annualReportExpenseRatio': None,\n",
       " 'totalAssets': None,\n",
       " 'bookValue': 271.601,\n",
       " 'sharesShort': 3494045,\n",
       " 'sharesPercentSharesOut': 0.0069,\n",
       " 'fundFamily': None,\n",
       " 'lastFiscalYearEnd': 1640908800,\n",
       " 'heldPercentInstitutions': 0.59284,\n",
       " 'netIncomeToCommon': 33364000768,\n",
       " 'trailingEps': 64.81,\n",
       " 'lastDividendValue': None,\n",
       " 'SandP52WeekChange': 0.15643954,\n",
       " 'priceToBook': 11.899606,\n",
       " 'heldPercentInsiders': 0.09891,\n",
       " 'nextFiscalYearEnd': 1703980800,\n",
       " 'yield': None,\n",
       " 'mostRecentQuarter': 1640908800,\n",
       " 'shortRatio': 1.22,\n",
       " 'sharesShortPreviousMonthDate': 1639526400,\n",
       " 'floatShares': 443127154,\n",
       " 'beta': 1.126802,\n",
       " 'enterpriseValue': 1686077177856,\n",
       " 'priceHint': 2,\n",
       " 'threeYearAverageReturn': None,\n",
       " 'lastSplitDate': 936230400,\n",
       " 'lastSplitFactor': '2:1',\n",
       " 'legalType': None,\n",
       " 'lastDividendDate': None,\n",
       " 'morningStarOverallRating': None,\n",
       " 'earningsQuarterlyGrowth': 0.983,\n",
       " 'priceToSalesTrailing12Months': 3.5003805,\n",
       " 'dateShortInterest': 1642118400,\n",
       " 'pegRatio': 1.91,\n",
       " 'ytdReturn': None,\n",
       " 'forwardPE': 44.255035,\n",
       " 'lastCapGain': None,\n",
       " 'shortPercentOfFloat': 0.008,\n",
       " 'sharesShortPriorMonth': 3599503,\n",
       " 'impliedSharesOutstanding': None,\n",
       " 'category': None,\n",
       " 'fiveYearAverageReturn': None,\n",
       " 'previousClose': 3228.27,\n",
       " 'regularMarketOpen': 3257.47,\n",
       " 'twoHundredDayAverage': 3366.1697,\n",
       " 'trailingAnnualDividendYield': 0,\n",
       " 'payoutRatio': 0,\n",
       " 'volume24Hr': None,\n",
       " 'regularMarketDayHigh': 3276.025,\n",
       " 'navPrice': None,\n",
       " 'averageDailyVolume10Day': 5645960,\n",
       " 'regularMarketPreviousClose': 3228.27,\n",
       " 'fiftyDayAverage': 3255.8655,\n",
       " 'trailingAnnualDividendRate': 0,\n",
       " 'open': 3257.47,\n",
       " 'toCurrency': None,\n",
       " 'averageVolume10days': 5645960,\n",
       " 'expireDate': None,\n",
       " 'algorithm': None,\n",
       " 'dividendRate': None,\n",
       " 'exDividendDate': None,\n",
       " 'circulatingSupply': None,\n",
       " 'startDate': None,\n",
       " 'regularMarketDayLow': 3216.065,\n",
       " 'currency': 'USD',\n",
       " 'trailingPE': 49.868,\n",
       " 'regularMarketVolume': 1101123,\n",
       " 'lastMarket': None,\n",
       " 'maxSupply': None,\n",
       " 'openInterest': None,\n",
       " 'marketCap': 1644555796480,\n",
       " 'volumeAllCurrencies': None,\n",
       " 'strikePrice': None,\n",
       " 'averageVolume': 3697082,\n",
       " 'dayLow': 3216.065,\n",
       " 'ask': 3243.5,\n",
       " 'askSize': 1000,\n",
       " 'volume': 1101123,\n",
       " 'fiftyTwoWeekHigh': 3773.08,\n",
       " 'fromCurrency': None,\n",
       " 'fiveYearAvgDividendYield': None,\n",
       " 'fiftyTwoWeekLow': 2707.04,\n",
       " 'bid': 3242.01,\n",
       " 'tradeable': False,\n",
       " 'dividendYield': None,\n",
       " 'bidSize': 1200,\n",
       " 'dayHigh': 3276.025,\n",
       " 'regularMarketPrice': 3231.945,\n",
       " 'preMarketPrice': 3258.59,\n",
       " 'logo_url': 'https://logo.clearbit.com/amazon.com'}"
      ]
     },
     "execution_count": 3,
     "metadata": {},
     "output_type": "execute_result"
    }
   ],
   "source": [
    "amzn.info"
   ]
  },
  {
   "cell_type": "code",
   "execution_count": 4,
   "id": "3fd9eaad",
   "metadata": {},
   "outputs": [
    {
     "data": {
      "text/plain": [
       "'Internet Retail'"
      ]
     },
     "execution_count": 4,
     "metadata": {},
     "output_type": "execute_result"
    }
   ],
   "source": [
    "amzn.info['industry']"
   ]
  },
  {
   "cell_type": "code",
   "execution_count": null,
   "id": "6ec03fe6",
   "metadata": {},
   "outputs": [],
   "source": []
  }
 ],
 "metadata": {
  "kernelspec": {
   "display_name": "Python 3",
   "language": "python",
   "name": "python3"
  },
  "language_info": {
   "codemirror_mode": {
    "name": "ipython",
    "version": 3
   },
   "file_extension": ".py",
   "mimetype": "text/x-python",
   "name": "python",
   "nbconvert_exporter": "python",
   "pygments_lexer": "ipython3",
   "version": "3.6.13"
  }
 },
 "nbformat": 4,
 "nbformat_minor": 5
}
