{
 "cells": [
  {
   "cell_type": "markdown",
   "id": "a2ea7403",
   "metadata": {},
   "source": [
    "# Amazon Reviews + Metadata \n",
    "## JSON to CSV\n",
    "\n",
    "### Step 1: Import libraries"
   ]
  },
  {
   "cell_type": "code",
   "execution_count": 2,
   "id": "3849bdfe",
   "metadata": {},
   "outputs": [],
   "source": [
    "import os\n",
    "os.chdir('/Users/robbyjeffries/MSEACapstone/Data')\n",
    "\n",
    "import pandas as pd\n",
    "import gzip\n",
    "import json\n",
    "from tqdm import tqdm\n",
    "import io\n",
    "import codecs\n",
    "import mmap"
   ]
  },
  {
   "cell_type": "markdown",
   "id": "546cac14",
   "metadata": {},
   "source": [
    "### Step 2: Convert each review file to a csv"
   ]
  },
  {
   "cell_type": "code",
   "execution_count": null,
   "id": "7ca9fe6f",
   "metadata": {
    "scrolled": true
   },
   "outputs": [],
   "source": [
    "# assign directory\n",
    "directory1 = '/Users/robbyjeffries/MSEACapstone/Data/Reviews_Clean'\n",
    "directory2 = '/Users/robbyjeffries/MSEACapstone/Data/CSV_cleaned'\n",
    "\n",
    "# create a dictionary that will store keys (file name) and value (list)\n",
    "d = {}\n",
    "\n",
    "# initialize a counter\n",
    "count = 1\n",
    "\n",
    "# iterate over files in that directory\n",
    "for filename in os.listdir(directory1):\n",
    "    \n",
    "    if filename != '.DS_Store':\n",
    "        \n",
    "        # create the path name for each iteration\n",
    "        path = directory1 + '/' + filename\n",
    "\n",
    "        # create a category name from the file name\n",
    "        category = filename[:len(filename) - 5]\n",
    "        print(\"\\nNow processing:\", category, '(', count, '/', len(os.listdir(directory1))-1, ')')\n",
    "\n",
    "        # assign an empty list to each category\n",
    "        d[\"{0}\".format(category)] = []\n",
    "\n",
    "        # store all category reviews in a list for each dictionary value\n",
    "        with open(path) as f:    \n",
    "            for line in tqdm(f.readlines(), total=sum(1 for line in open(path))):\n",
    "                d[\"{0}\".format(category)].append(json.loads(line))\n",
    "\n",
    "        # convert each list to a pandas dataframe\n",
    "        d[\"{0}\".format(category)] = pd.json_normalize(d[\"{0}\".format(category)])\n",
    "\n",
    "        # create the path for the exported file\n",
    "        export = directory2 + '/' + category + '.csv'\n",
    "\n",
    "        # export each category to a csv\n",
    "        d[\"{0}\".format(category)].to_csv(export)\n",
    "\n",
    "        count += 1\n",
    "\n",
    "print(\"\\nCompleted Successfully!\")"
   ]
  },
  {
   "cell_type": "markdown",
   "id": "911c9502",
   "metadata": {},
   "source": [
    "### Step 3: Add a category_name column to each csv"
   ]
  },
  {
   "cell_type": "code",
   "execution_count": null,
   "id": "3748bd6f",
   "metadata": {},
   "outputs": [],
   "source": [
    "directory3 = '/Users/robbyjeffries/MSEACapstone/Data/CSV_raw'\n",
    "directory4 = '/Users/robbyjeffries/MSEACapstone/Data/CSV_cleaned'\n",
    "\n",
    "# create a dictionary that will store keys (file name) and value (list)\n",
    "d2 = {}\n",
    "\n",
    "# initialize a counter\n",
    "count = 1\n",
    "\n",
    "# iterate over files in that directory\n",
    "for filename in os.listdir(directory3):\n",
    "    \n",
    "    if filename != '.DS_Store':\n",
    "        \n",
    "        # create the path name for each iteration\n",
    "        path = directory3 + '/' + filename\n",
    "\n",
    "        # create a category name from the file name\n",
    "        category = filename[:len(filename) - 4]\n",
    "        print(\"\\nNow processing:\", category, '(', count, '/', len(os.listdir(directory3))-1, ')')\n",
    "\n",
    "        # assign an empty list to each category\n",
    "        d2[\"{0}\".format(category)] = []\n",
    "        \n",
    "        # convert each list to a pandas dataframe\n",
    "        d2[\"{0}\".format(category)] = pd.read_csv(path)\n",
    "        \n",
    "        print('  ', filename, 'converted to pandas df')\n",
    "        print('   Adding category name and exporting to csv...')\n",
    "        \n",
    "        # add category name\n",
    "        d2[\"{0}\".format(category)]['categoryName'] = category\n",
    "        \n",
    "        # create the path for the exported file\n",
    "        export = directory4 + '/' + category + '.csv'\n",
    "        \n",
    "        # export each category to a csv\n",
    "        d2[\"{0}\".format(category)].to_csv(export)\n",
    "        \n",
    "        count += 1\n",
    "        \n",
    "print(\"\\nCompleted Successfully!\")"
   ]
  },
  {
   "cell_type": "markdown",
   "id": "8b5fe1d5",
   "metadata": {},
   "source": [
    "### Step 4: Convert metadata to csv"
   ]
  },
  {
   "cell_type": "code",
   "execution_count": null,
   "id": "b2baaef2",
   "metadata": {},
   "outputs": [],
   "source": [
    "directory5 = '/Users/robbyjeffries/MSEACapstone/Data/Metadata_raw'\n",
    "directory6 = '/Users/robbyjeffries/MSEACapstone/Data/Metadata_cleaned'\n",
    "\n",
    "\n",
    "# create a dictionary that will store keys (file name) and value (list)\n",
    "d3 = {}\n",
    "\n",
    "# initialize a counter\n",
    "count = 1\n",
    "\n",
    "# iterate over files in that directory\n",
    "for filename in os.listdir(directory5):\n",
    "    \n",
    "    if filename != '.DS_Store':\n",
    "        \n",
    "        # create the path name for each iteration\n",
    "        path = directory5 + '/' + filename\n",
    "\n",
    "        # create a category name from the file name\n",
    "        category = filename[:len(filename) - 5]\n",
    "        print(\"\\nNow processing:\", category, '(', count, '/', len(os.listdir(directory5))-1, ')')\n",
    "\n",
    "        # assign an empty list to each category\n",
    "        d3[\"{0}\".format(category)] = []\n",
    "        \n",
    "        # store all category reviews in a list for each dictionary value\n",
    "        with open(path) as f:    \n",
    "            for line in tqdm(f.readlines(), total=sum(1 for line in open(path))):\n",
    "                d3[\"{0}\".format(category)].append(json.loads(line))\n",
    "\n",
    "        # convert each list to a pandas dataframe\n",
    "        d3[\"{0}\".format(category)] = pd.json_normalize(d3[\"{0}\".format(category)])\n",
    "\n",
    "        # create the path for the exported file\n",
    "        export = directory6 + '/' + category + '.csv'\n",
    "\n",
    "        # export each category to a csv\n",
    "        d3[\"{0}\".format(category)].to_csv(export)\n",
    "\n",
    "        count += 1\n",
    "\n",
    "print(\"\\nCompleted Successfully!\")"
   ]
  },
  {
   "cell_type": "markdown",
   "id": "aea6ef99",
   "metadata": {},
   "source": [
    "### Step 5"
   ]
  },
  {
   "cell_type": "code",
   "execution_count": 3,
   "id": "758f4b53",
   "metadata": {
    "scrolled": true
   },
   "outputs": [
    {
     "name": "stderr",
     "output_type": "stream",
     "text": [
      "/opt/anaconda3/lib/python3.9/site-packages/IPython/core/interactiveshell.py:3444: DtypeWarning: Columns (11,13,16,17,18,19,20,22,23,26,29,30,31,32,33) have mixed types.Specify dtype option on import or set low_memory=False.\n",
      "  exec(code_obj, self.user_global_ns, self.user_ns)\n"
     ]
    }
   ],
   "source": [
    "data = pd.read_csv('CSV_cleaned/Grocery_and_Gourmet_Food.csv')"
   ]
  },
  {
   "cell_type": "code",
   "execution_count": 4,
   "id": "2e4ec3c7",
   "metadata": {
    "scrolled": true
   },
   "outputs": [
    {
     "data": {
      "text/plain": [
       "Index(['Unnamed: 0', 'Unnamed: 0.1', 'overall', 'verified', 'reviewTime',\n",
       "       'reviewerID', 'asin', 'reviewerName', 'reviewText', 'summary',\n",
       "       'unixReviewTime', 'vote', 'image', 'style.Scent Name:', 'style.Size:',\n",
       "       'style.Flavor:', 'style.Design:', 'style.Color:', 'style.Format:',\n",
       "       'style.Flavor Name:', 'style.Style Name:', 'style.Package Quantity:',\n",
       "       'style.Package Type:', 'style.Style:', 'style.Number of Items:',\n",
       "       'style.Item Package Quantity:', 'style.Size Name:', 'style.Unit Count:',\n",
       "       'style.Item Display Weight:', 'style.Product Packaging:',\n",
       "       'style.Material Type:', 'style.Material:', 'style.Edition:',\n",
       "       'style.Team Name:', 'style.Display Height:', 'categoryName'],\n",
       "      dtype='object')"
      ]
     },
     "execution_count": 4,
     "metadata": {},
     "output_type": "execute_result"
    }
   ],
   "source": [
    "data.columns\n"
   ]
  },
  {
   "cell_type": "code",
   "execution_count": 5,
   "id": "4c2764bc",
   "metadata": {},
   "outputs": [],
   "source": [
    "data = data[['overall', 'verified', 'reviewTime', 'reviewerID', 'asin', 'reviewerName', 'reviewText', 'summary', 'vote', 'unixReviewTime', 'categoryName']]"
   ]
  },
  {
   "cell_type": "code",
   "execution_count": 6,
   "id": "186dfccd",
   "metadata": {},
   "outputs": [
    {
     "data": {
      "text/html": [
       "<div>\n",
       "<style scoped>\n",
       "    .dataframe tbody tr th:only-of-type {\n",
       "        vertical-align: middle;\n",
       "    }\n",
       "\n",
       "    .dataframe tbody tr th {\n",
       "        vertical-align: top;\n",
       "    }\n",
       "\n",
       "    .dataframe thead th {\n",
       "        text-align: right;\n",
       "    }\n",
       "</style>\n",
       "<table border=\"1\" class=\"dataframe\">\n",
       "  <thead>\n",
       "    <tr style=\"text-align: right;\">\n",
       "      <th></th>\n",
       "      <th>overall</th>\n",
       "      <th>verified</th>\n",
       "      <th>reviewTime</th>\n",
       "      <th>reviewerID</th>\n",
       "      <th>asin</th>\n",
       "      <th>reviewerName</th>\n",
       "      <th>reviewText</th>\n",
       "      <th>summary</th>\n",
       "      <th>vote</th>\n",
       "      <th>unixReviewTime</th>\n",
       "      <th>categoryName</th>\n",
       "    </tr>\n",
       "  </thead>\n",
       "  <tbody>\n",
       "    <tr>\n",
       "      <th>0</th>\n",
       "      <td>5.0</td>\n",
       "      <td>True</td>\n",
       "      <td>06 4, 2013</td>\n",
       "      <td>ALP49FBWT4I7V</td>\n",
       "      <td>1888861614</td>\n",
       "      <td>Lori</td>\n",
       "      <td>Very pleased with my purchase. Looks exactly l...</td>\n",
       "      <td>Love it</td>\n",
       "      <td>NaN</td>\n",
       "      <td>1370304000</td>\n",
       "      <td>Grocery_and_Gourmet_Food</td>\n",
       "    </tr>\n",
       "    <tr>\n",
       "      <th>1</th>\n",
       "      <td>4.0</td>\n",
       "      <td>True</td>\n",
       "      <td>05 23, 2014</td>\n",
       "      <td>A1KPIZOCLB9FZ8</td>\n",
       "      <td>1888861614</td>\n",
       "      <td>BK Shopper</td>\n",
       "      <td>Very nicely crafted but too small. Am going to...</td>\n",
       "      <td>Nice but small</td>\n",
       "      <td>NaN</td>\n",
       "      <td>1400803200</td>\n",
       "      <td>Grocery_and_Gourmet_Food</td>\n",
       "    </tr>\n",
       "    <tr>\n",
       "      <th>2</th>\n",
       "      <td>4.0</td>\n",
       "      <td>True</td>\n",
       "      <td>05 9, 2014</td>\n",
       "      <td>A2W0FA06IYAYQE</td>\n",
       "      <td>1888861614</td>\n",
       "      <td>daninethequeen</td>\n",
       "      <td>still very pretty and well made...i am super p...</td>\n",
       "      <td>the \"s\" looks like a 5, kina</td>\n",
       "      <td>NaN</td>\n",
       "      <td>1399593600</td>\n",
       "      <td>Grocery_and_Gourmet_Food</td>\n",
       "    </tr>\n",
       "    <tr>\n",
       "      <th>3</th>\n",
       "      <td>5.0</td>\n",
       "      <td>True</td>\n",
       "      <td>04 20, 2014</td>\n",
       "      <td>A2PTZTCH2QUYBC</td>\n",
       "      <td>1888861614</td>\n",
       "      <td>Tammara</td>\n",
       "      <td>I got this for our wedding cake, and it was ev...</td>\n",
       "      <td>Would recommend this to a friend!</td>\n",
       "      <td>NaN</td>\n",
       "      <td>1397952000</td>\n",
       "      <td>Grocery_and_Gourmet_Food</td>\n",
       "    </tr>\n",
       "    <tr>\n",
       "      <th>4</th>\n",
       "      <td>4.0</td>\n",
       "      <td>True</td>\n",
       "      <td>04 16, 2014</td>\n",
       "      <td>A2VNHGJ59N4Z90</td>\n",
       "      <td>1888861614</td>\n",
       "      <td>LaQuinta Alexander</td>\n",
       "      <td>It was just what I want to put at the top of m...</td>\n",
       "      <td>Topper</td>\n",
       "      <td>NaN</td>\n",
       "      <td>1397606400</td>\n",
       "      <td>Grocery_and_Gourmet_Food</td>\n",
       "    </tr>\n",
       "  </tbody>\n",
       "</table>\n",
       "</div>"
      ],
      "text/plain": [
       "   overall  verified   reviewTime      reviewerID        asin  \\\n",
       "0      5.0      True   06 4, 2013   ALP49FBWT4I7V  1888861614   \n",
       "1      4.0      True  05 23, 2014  A1KPIZOCLB9FZ8  1888861614   \n",
       "2      4.0      True   05 9, 2014  A2W0FA06IYAYQE  1888861614   \n",
       "3      5.0      True  04 20, 2014  A2PTZTCH2QUYBC  1888861614   \n",
       "4      4.0      True  04 16, 2014  A2VNHGJ59N4Z90  1888861614   \n",
       "\n",
       "         reviewerName                                         reviewText  \\\n",
       "0                Lori  Very pleased with my purchase. Looks exactly l...   \n",
       "1          BK Shopper  Very nicely crafted but too small. Am going to...   \n",
       "2      daninethequeen  still very pretty and well made...i am super p...   \n",
       "3             Tammara  I got this for our wedding cake, and it was ev...   \n",
       "4  LaQuinta Alexander  It was just what I want to put at the top of m...   \n",
       "\n",
       "                             summary vote  unixReviewTime  \\\n",
       "0                            Love it  NaN      1370304000   \n",
       "1                     Nice but small  NaN      1400803200   \n",
       "2       the \"s\" looks like a 5, kina  NaN      1399593600   \n",
       "3  Would recommend this to a friend!  NaN      1397952000   \n",
       "4                             Topper  NaN      1397606400   \n",
       "\n",
       "               categoryName  \n",
       "0  Grocery_and_Gourmet_Food  \n",
       "1  Grocery_and_Gourmet_Food  \n",
       "2  Grocery_and_Gourmet_Food  \n",
       "3  Grocery_and_Gourmet_Food  \n",
       "4  Grocery_and_Gourmet_Food  "
      ]
     },
     "execution_count": 6,
     "metadata": {},
     "output_type": "execute_result"
    }
   ],
   "source": [
    "data.head()"
   ]
  },
  {
   "cell_type": "code",
   "execution_count": 12,
   "id": "f1a081ca",
   "metadata": {},
   "outputs": [
    {
     "data": {
      "text/html": [
       "<div>\n",
       "<style scoped>\n",
       "    .dataframe tbody tr th:only-of-type {\n",
       "        vertical-align: middle;\n",
       "    }\n",
       "\n",
       "    .dataframe tbody tr th {\n",
       "        vertical-align: top;\n",
       "    }\n",
       "\n",
       "    .dataframe thead th {\n",
       "        text-align: right;\n",
       "    }\n",
       "</style>\n",
       "<table border=\"1\" class=\"dataframe\">\n",
       "  <thead>\n",
       "    <tr style=\"text-align: right;\">\n",
       "      <th></th>\n",
       "      <th>overall</th>\n",
       "      <th>verified</th>\n",
       "      <th>reviewTime</th>\n",
       "      <th>reviewerID</th>\n",
       "      <th>asin</th>\n",
       "      <th>reviewerName</th>\n",
       "      <th>reviewText</th>\n",
       "      <th>summary</th>\n",
       "      <th>vote</th>\n",
       "      <th>unixReviewTime</th>\n",
       "      <th>categoryName</th>\n",
       "      <th>year</th>\n",
       "    </tr>\n",
       "  </thead>\n",
       "  <tbody>\n",
       "    <tr>\n",
       "      <th>0</th>\n",
       "      <td>5.0</td>\n",
       "      <td>True</td>\n",
       "      <td>06 4, 2013</td>\n",
       "      <td>ALP49FBWT4I7V</td>\n",
       "      <td>1888861614</td>\n",
       "      <td>Lori</td>\n",
       "      <td>Very pleased with my purchase. Looks exactly l...</td>\n",
       "      <td>Love it</td>\n",
       "      <td>NaN</td>\n",
       "      <td>1370304000</td>\n",
       "      <td>Grocery_and_Gourmet_Food</td>\n",
       "      <td>2013</td>\n",
       "    </tr>\n",
       "    <tr>\n",
       "      <th>1</th>\n",
       "      <td>4.0</td>\n",
       "      <td>True</td>\n",
       "      <td>05 23, 2014</td>\n",
       "      <td>A1KPIZOCLB9FZ8</td>\n",
       "      <td>1888861614</td>\n",
       "      <td>BK Shopper</td>\n",
       "      <td>Very nicely crafted but too small. Am going to...</td>\n",
       "      <td>Nice but small</td>\n",
       "      <td>NaN</td>\n",
       "      <td>1400803200</td>\n",
       "      <td>Grocery_and_Gourmet_Food</td>\n",
       "      <td>2014</td>\n",
       "    </tr>\n",
       "    <tr>\n",
       "      <th>2</th>\n",
       "      <td>4.0</td>\n",
       "      <td>True</td>\n",
       "      <td>05 9, 2014</td>\n",
       "      <td>A2W0FA06IYAYQE</td>\n",
       "      <td>1888861614</td>\n",
       "      <td>daninethequeen</td>\n",
       "      <td>still very pretty and well made...i am super p...</td>\n",
       "      <td>the \"s\" looks like a 5, kina</td>\n",
       "      <td>NaN</td>\n",
       "      <td>1399593600</td>\n",
       "      <td>Grocery_and_Gourmet_Food</td>\n",
       "      <td>2014</td>\n",
       "    </tr>\n",
       "    <tr>\n",
       "      <th>3</th>\n",
       "      <td>5.0</td>\n",
       "      <td>True</td>\n",
       "      <td>04 20, 2014</td>\n",
       "      <td>A2PTZTCH2QUYBC</td>\n",
       "      <td>1888861614</td>\n",
       "      <td>Tammara</td>\n",
       "      <td>I got this for our wedding cake, and it was ev...</td>\n",
       "      <td>Would recommend this to a friend!</td>\n",
       "      <td>NaN</td>\n",
       "      <td>1397952000</td>\n",
       "      <td>Grocery_and_Gourmet_Food</td>\n",
       "      <td>2014</td>\n",
       "    </tr>\n",
       "    <tr>\n",
       "      <th>4</th>\n",
       "      <td>4.0</td>\n",
       "      <td>True</td>\n",
       "      <td>04 16, 2014</td>\n",
       "      <td>A2VNHGJ59N4Z90</td>\n",
       "      <td>1888861614</td>\n",
       "      <td>LaQuinta Alexander</td>\n",
       "      <td>It was just what I want to put at the top of m...</td>\n",
       "      <td>Topper</td>\n",
       "      <td>NaN</td>\n",
       "      <td>1397606400</td>\n",
       "      <td>Grocery_and_Gourmet_Food</td>\n",
       "      <td>2014</td>\n",
       "    </tr>\n",
       "  </tbody>\n",
       "</table>\n",
       "</div>"
      ],
      "text/plain": [
       "   overall  verified   reviewTime      reviewerID        asin  \\\n",
       "0      5.0      True   06 4, 2013   ALP49FBWT4I7V  1888861614   \n",
       "1      4.0      True  05 23, 2014  A1KPIZOCLB9FZ8  1888861614   \n",
       "2      4.0      True   05 9, 2014  A2W0FA06IYAYQE  1888861614   \n",
       "3      5.0      True  04 20, 2014  A2PTZTCH2QUYBC  1888861614   \n",
       "4      4.0      True  04 16, 2014  A2VNHGJ59N4Z90  1888861614   \n",
       "\n",
       "         reviewerName                                         reviewText  \\\n",
       "0                Lori  Very pleased with my purchase. Looks exactly l...   \n",
       "1          BK Shopper  Very nicely crafted but too small. Am going to...   \n",
       "2      daninethequeen  still very pretty and well made...i am super p...   \n",
       "3             Tammara  I got this for our wedding cake, and it was ev...   \n",
       "4  LaQuinta Alexander  It was just what I want to put at the top of m...   \n",
       "\n",
       "                             summary vote  unixReviewTime  \\\n",
       "0                            Love it  NaN      1370304000   \n",
       "1                     Nice but small  NaN      1400803200   \n",
       "2       the \"s\" looks like a 5, kina  NaN      1399593600   \n",
       "3  Would recommend this to a friend!  NaN      1397952000   \n",
       "4                             Topper  NaN      1397606400   \n",
       "\n",
       "               categoryName  year  \n",
       "0  Grocery_and_Gourmet_Food  2013  \n",
       "1  Grocery_and_Gourmet_Food  2014  \n",
       "2  Grocery_and_Gourmet_Food  2014  \n",
       "3  Grocery_and_Gourmet_Food  2014  \n",
       "4  Grocery_and_Gourmet_Food  2014  "
      ]
     },
     "execution_count": 12,
     "metadata": {},
     "output_type": "execute_result"
    }
   ],
   "source": [
    "data['year'] = data['reviewTime'].apply(lambda x: x[-4:])\n",
    "data.head()"
   ]
  },
  {
   "cell_type": "code",
   "execution_count": 14,
   "id": "ba19b390",
   "metadata": {},
   "outputs": [],
   "source": [
    "import re"
   ]
  },
  {
   "cell_type": "code",
   "execution_count": 35,
   "id": "9232921c",
   "metadata": {},
   "outputs": [
    {
     "name": "stderr",
     "output_type": "stream",
     "text": [
      "/var/folders/c9/z8kjq8qs15n6nq0dr7vdg5640000gn/T/ipykernel_79397/3400805170.py:2: SettingWithCopyWarning: \n",
      "A value is trying to be set on a copy of a slice from a DataFrame.\n",
      "Try using .loc[row_indexer,col_indexer] = value instead\n",
      "\n",
      "See the caveats in the documentation: https://pandas.pydata.org/pandas-docs/stable/user_guide/indexing.html#returning-a-view-versus-a-copy\n",
      "  data['reviewText'] = data['reviewText'].str.replace(',', '', regex=False)\n",
      "/var/folders/c9/z8kjq8qs15n6nq0dr7vdg5640000gn/T/ipykernel_79397/3400805170.py:3: SettingWithCopyWarning: \n",
      "A value is trying to be set on a copy of a slice from a DataFrame.\n",
      "Try using .loc[row_indexer,col_indexer] = value instead\n",
      "\n",
      "See the caveats in the documentation: https://pandas.pydata.org/pandas-docs/stable/user_guide/indexing.html#returning-a-view-versus-a-copy\n",
      "  data['summary'] = data['summary'].str.replace(',', '', regex=False)\n",
      "/var/folders/c9/z8kjq8qs15n6nq0dr7vdg5640000gn/T/ipykernel_79397/3400805170.py:6: SettingWithCopyWarning: \n",
      "A value is trying to be set on a copy of a slice from a DataFrame.\n",
      "Try using .loc[row_indexer,col_indexer] = value instead\n",
      "\n",
      "See the caveats in the documentation: https://pandas.pydata.org/pandas-docs/stable/user_guide/indexing.html#returning-a-view-versus-a-copy\n",
      "  data['reviewText'] = data['reviewText'].str.replace('\"', '', regex=False)\n",
      "/var/folders/c9/z8kjq8qs15n6nq0dr7vdg5640000gn/T/ipykernel_79397/3400805170.py:7: SettingWithCopyWarning: \n",
      "A value is trying to be set on a copy of a slice from a DataFrame.\n",
      "Try using .loc[row_indexer,col_indexer] = value instead\n",
      "\n",
      "See the caveats in the documentation: https://pandas.pydata.org/pandas-docs/stable/user_guide/indexing.html#returning-a-view-versus-a-copy\n",
      "  data['summary'] = data['summary'].str.replace('\"', '', regex=False)\n"
     ]
    }
   ],
   "source": [
    "# remove commas\n",
    "data['reviewText'] = data['reviewText'].str.replace(',', '', regex=False)\n",
    "data['summary'] = data['summary'].str.replace(',', '', regex=False)\n",
    "\n",
    "# remove quotation marks\n",
    "data['reviewText'] = data['reviewText'].str.replace('\"', '', regex=False)\n",
    "data['summary'] = data['summary'].str.replace('\"', '', regex=False)"
   ]
  },
  {
   "cell_type": "code",
   "execution_count": 36,
   "id": "16de7aa7",
   "metadata": {
    "scrolled": true
   },
   "outputs": [
    {
     "data": {
      "text/plain": [
       "(5074160, 10)"
      ]
     },
     "execution_count": 36,
     "metadata": {},
     "output_type": "execute_result"
    }
   ],
   "source": [
    "data.shape"
   ]
  },
  {
   "cell_type": "code",
   "execution_count": 37,
   "id": "914a5b42",
   "metadata": {},
   "outputs": [],
   "source": [
    "data.to_csv('CSV_cleaned/Grocery_and_Gourmet_Food_clean.csv')"
   ]
  },
  {
   "cell_type": "code",
   "execution_count": 38,
   "id": "79bf695f",
   "metadata": {},
   "outputs": [
    {
     "data": {
      "text/plain": [
       "Index(['overall', 'verified', 'reviewerID', 'asin', 'reviewerName',\n",
       "       'reviewText', 'summary', 'vote', 'unixReviewTime', 'categoryName'],\n",
       "      dtype='object')"
      ]
     },
     "execution_count": 38,
     "metadata": {},
     "output_type": "execute_result"
    }
   ],
   "source": [
    "data.columns"
   ]
  },
  {
   "cell_type": "code",
   "execution_count": 39,
   "id": "272e2035",
   "metadata": {},
   "outputs": [],
   "source": [
    "sample = data.head(1000)\n",
    "sample.to_csv('CSV_cleaned/Grocery_and_Gourmet_Food_sample.csv')"
   ]
  },
  {
   "cell_type": "code",
   "execution_count": 40,
   "id": "6ac91393",
   "metadata": {},
   "outputs": [
    {
     "data": {
      "text/html": [
       "<div>\n",
       "<style scoped>\n",
       "    .dataframe tbody tr th:only-of-type {\n",
       "        vertical-align: middle;\n",
       "    }\n",
       "\n",
       "    .dataframe tbody tr th {\n",
       "        vertical-align: top;\n",
       "    }\n",
       "\n",
       "    .dataframe thead th {\n",
       "        text-align: right;\n",
       "    }\n",
       "</style>\n",
       "<table border=\"1\" class=\"dataframe\">\n",
       "  <thead>\n",
       "    <tr style=\"text-align: right;\">\n",
       "      <th></th>\n",
       "      <th>overall</th>\n",
       "      <th>verified</th>\n",
       "      <th>reviewerID</th>\n",
       "      <th>asin</th>\n",
       "      <th>reviewerName</th>\n",
       "      <th>reviewText</th>\n",
       "      <th>summary</th>\n",
       "      <th>vote</th>\n",
       "      <th>unixReviewTime</th>\n",
       "      <th>categoryName</th>\n",
       "    </tr>\n",
       "  </thead>\n",
       "  <tbody>\n",
       "    <tr>\n",
       "      <th>0</th>\n",
       "      <td>5.0</td>\n",
       "      <td>True</td>\n",
       "      <td>ALP49FBWT4I7V</td>\n",
       "      <td>1888861614</td>\n",
       "      <td>Lori</td>\n",
       "      <td>Very pleased with my purchase. Looks exactly l...</td>\n",
       "      <td>Love it</td>\n",
       "      <td>NaN</td>\n",
       "      <td>1370304000</td>\n",
       "      <td>Grocery_and_Gourmet_Food</td>\n",
       "    </tr>\n",
       "    <tr>\n",
       "      <th>1</th>\n",
       "      <td>4.0</td>\n",
       "      <td>True</td>\n",
       "      <td>A1KPIZOCLB9FZ8</td>\n",
       "      <td>1888861614</td>\n",
       "      <td>BK Shopper</td>\n",
       "      <td>Very nicely crafted but too small. Am going to...</td>\n",
       "      <td>Nice but small</td>\n",
       "      <td>NaN</td>\n",
       "      <td>1400803200</td>\n",
       "      <td>Grocery_and_Gourmet_Food</td>\n",
       "    </tr>\n",
       "    <tr>\n",
       "      <th>2</th>\n",
       "      <td>4.0</td>\n",
       "      <td>True</td>\n",
       "      <td>A2W0FA06IYAYQE</td>\n",
       "      <td>1888861614</td>\n",
       "      <td>daninethequeen</td>\n",
       "      <td>still very pretty and well made...i am super p...</td>\n",
       "      <td>the s looks like a 5 kina</td>\n",
       "      <td>NaN</td>\n",
       "      <td>1399593600</td>\n",
       "      <td>Grocery_and_Gourmet_Food</td>\n",
       "    </tr>\n",
       "    <tr>\n",
       "      <th>3</th>\n",
       "      <td>5.0</td>\n",
       "      <td>True</td>\n",
       "      <td>A2PTZTCH2QUYBC</td>\n",
       "      <td>1888861614</td>\n",
       "      <td>Tammara</td>\n",
       "      <td>I got this for our wedding cake and it was eve...</td>\n",
       "      <td>Would recommend this to a friend!</td>\n",
       "      <td>NaN</td>\n",
       "      <td>1397952000</td>\n",
       "      <td>Grocery_and_Gourmet_Food</td>\n",
       "    </tr>\n",
       "    <tr>\n",
       "      <th>4</th>\n",
       "      <td>4.0</td>\n",
       "      <td>True</td>\n",
       "      <td>A2VNHGJ59N4Z90</td>\n",
       "      <td>1888861614</td>\n",
       "      <td>LaQuinta Alexander</td>\n",
       "      <td>It was just what I want to put at the top of m...</td>\n",
       "      <td>Topper</td>\n",
       "      <td>NaN</td>\n",
       "      <td>1397606400</td>\n",
       "      <td>Grocery_and_Gourmet_Food</td>\n",
       "    </tr>\n",
       "  </tbody>\n",
       "</table>\n",
       "</div>"
      ],
      "text/plain": [
       "   overall  verified      reviewerID        asin        reviewerName  \\\n",
       "0      5.0      True   ALP49FBWT4I7V  1888861614                Lori   \n",
       "1      4.0      True  A1KPIZOCLB9FZ8  1888861614          BK Shopper   \n",
       "2      4.0      True  A2W0FA06IYAYQE  1888861614      daninethequeen   \n",
       "3      5.0      True  A2PTZTCH2QUYBC  1888861614             Tammara   \n",
       "4      4.0      True  A2VNHGJ59N4Z90  1888861614  LaQuinta Alexander   \n",
       "\n",
       "                                          reviewText  \\\n",
       "0  Very pleased with my purchase. Looks exactly l...   \n",
       "1  Very nicely crafted but too small. Am going to...   \n",
       "2  still very pretty and well made...i am super p...   \n",
       "3  I got this for our wedding cake and it was eve...   \n",
       "4  It was just what I want to put at the top of m...   \n",
       "\n",
       "                             summary vote  unixReviewTime  \\\n",
       "0                            Love it  NaN      1370304000   \n",
       "1                     Nice but small  NaN      1400803200   \n",
       "2          the s looks like a 5 kina  NaN      1399593600   \n",
       "3  Would recommend this to a friend!  NaN      1397952000   \n",
       "4                             Topper  NaN      1397606400   \n",
       "\n",
       "               categoryName  \n",
       "0  Grocery_and_Gourmet_Food  \n",
       "1  Grocery_and_Gourmet_Food  \n",
       "2  Grocery_and_Gourmet_Food  \n",
       "3  Grocery_and_Gourmet_Food  \n",
       "4  Grocery_and_Gourmet_Food  "
      ]
     },
     "execution_count": 40,
     "metadata": {},
     "output_type": "execute_result"
    }
   ],
   "source": [
    "sample.head()"
   ]
  },
  {
   "cell_type": "code",
   "execution_count": null,
   "id": "2384064e",
   "metadata": {},
   "outputs": [],
   "source": [
    "for row in sample['reviewText']:\n",
    "    "
   ]
  },
  {
   "cell_type": "markdown",
   "id": "fb7dfe65",
   "metadata": {},
   "source": [
    "***\n",
    "\n",
    "# Graveyard"
   ]
  },
  {
   "cell_type": "code",
   "execution_count": null,
   "id": "a29f1ef2",
   "metadata": {
    "scrolled": true
   },
   "outputs": [],
   "source": [
    "all_reviews = []\n",
    "\n",
    "with open('Reviews_Clean/Patio_Lawn_and_Garden.json') as f:\n",
    "    for line in tqdm(f, total=sum(1 for line in open('Reviews_Clean/Patio_Lawn_and_Garden.json'))):\n",
    "        all_reviews.append(json.loads(line))"
   ]
  },
  {
   "cell_type": "code",
   "execution_count": null,
   "id": "4aa169a8",
   "metadata": {},
   "outputs": [],
   "source": [
    "all_reviews_clean = pd.json_normalize(all_reviews)"
   ]
  },
  {
   "cell_type": "markdown",
   "id": "1edf7a27",
   "metadata": {},
   "source": [
    "#### Convert Patio, Lawn, and Garden Metadata"
   ]
  },
  {
   "cell_type": "code",
   "execution_count": null,
   "id": "f6dc8a51",
   "metadata": {
    "scrolled": true
   },
   "outputs": [],
   "source": [
    "plg_metadata = []\n",
    "with open('sample4.json') as f:\n",
    "    for line in f:\n",
    "        plg_metadata.append(json.loads(line))"
   ]
  },
  {
   "cell_type": "code",
   "execution_count": null,
   "id": "5fc04450",
   "metadata": {},
   "outputs": [],
   "source": [
    "json_clean = pd.json_normalize(plg_metadata)\n",
    "#json_clean = json_clean[['brand','asin']]\n",
    "json_clean"
   ]
  },
  {
   "cell_type": "markdown",
   "id": "4d57a618",
   "metadata": {},
   "source": [
    "#### Convert Patio, Lawn, and Garden Reviews"
   ]
  },
  {
   "cell_type": "code",
   "execution_count": null,
   "id": "3e03e47b",
   "metadata": {},
   "outputs": [],
   "source": [
    "plg_review_data = []\n",
    "with open('Patio_Lawn_and_Garden.json') as f:\n",
    "    for line in f:\n",
    "        plg_review_data.append(json.loads(line))"
   ]
  },
  {
   "cell_type": "code",
   "execution_count": null,
   "id": "e5b25bc2",
   "metadata": {},
   "outputs": [],
   "source": [
    "plg_review_clean = pd.json_normalize(plg_review_data)\n",
    "# review_clean"
   ]
  },
  {
   "cell_type": "code",
   "execution_count": null,
   "id": "653454ca",
   "metadata": {},
   "outputs": [],
   "source": [
    "f = pd.DataFrame({'num_legs': [2, 4, 8, 0], \n",
    "                  'num_wings': [2, 0, 0, 0],\n",
    "                  'num_specimen_seen': [10, 2, 1, 8]},\n",
    "                 index=['falcon', 'dog', 'spider', 'fish'])\n",
    "\n",
    "f.to_csv(index=False)"
   ]
  },
  {
   "cell_type": "markdown",
   "id": "0d14a786",
   "metadata": {},
   "source": [
    "# First draft of working script"
   ]
  },
  {
   "cell_type": "code",
   "execution_count": null,
   "id": "31ca2eee",
   "metadata": {},
   "outputs": [],
   "source": [
    "# assign directory\n",
    "directory1 = '/Users/robbyjeffries/MSEACapstone/Data/Reviews_Clean'\n",
    "directory2 = '/Users/robbyjeffries/MSEACapstone/Data/CSV'\n",
    "directory3 = '/Users/robbyjeffries/MSEACapstone/Data/Metadata'\n",
    "\n",
    "# create a dictionary that will store keys (file name) and value (list)\n",
    "d = {}\n",
    "\n",
    "# initialize a counter\n",
    "count = 1\n",
    "\n",
    "# iterate over files in that directory\n",
    "for filename in os.listdir(directory1):\n",
    "    \n",
    "    if filename != '.DS_Store':\n",
    "        \n",
    "        # create the path name for each iteration\n",
    "        path = directory1 + '/' + filename\n",
    "\n",
    "        # create a category name from the file name\n",
    "        category = filename[:len(filename) - 5]\n",
    "        print(\"\\nNow processing:\", category, '(', count, '/', len(os.listdir(directory1))-1, ')')\n",
    "\n",
    "        # assign an empty list to each category\n",
    "        d[\"{0}\".format(category)] = []\n",
    "\n",
    "        # store all category reviews in a list for each dictionary value\n",
    "        with open(path) as f:    \n",
    "            for line in tqdm(f, total=sum(1 for line in open(path))):\n",
    "                d[\"{0}\".format(category)].append(json.loads(line))\n",
    "\n",
    "        # convert each list to a pandas dataframe\n",
    "        d[\"{0}\".format(category)] = pd.json_normalize(d[\"{0}\".format(category)])\n",
    "\n",
    "        # create the path for the exported file\n",
    "        export = directory2 + '/' + category + '.csv'\n",
    "\n",
    "        # export each category to a csv\n",
    "        d[\"{0}\".format(category)].to_csv(export)\n",
    "\n",
    "        count += 1\n",
    "\n",
    "print(\"\\nCompleted Successfully!\")"
   ]
  },
  {
   "cell_type": "code",
   "execution_count": null,
   "id": "33715f6c",
   "metadata": {},
   "outputs": [],
   "source": []
  }
 ],
 "metadata": {
  "kernelspec": {
   "display_name": "Python 3.9.7 64-bit ('base': conda)",
   "language": "python",
   "name": "python397jvsc74a57bd040d3a090f54c6569ab1632332b64b2c03c39dcf918b08424e98f38b5ae0af88f"
  },
  "language_info": {
   "codemirror_mode": {
    "name": "ipython",
    "version": 3
   },
   "file_extension": ".py",
   "mimetype": "text/x-python",
   "name": "python",
   "nbconvert_exporter": "python",
   "pygments_lexer": "ipython3",
   "version": "3.9.7"
  }
 },
 "nbformat": 4,
 "nbformat_minor": 5
}
