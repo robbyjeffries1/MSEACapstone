{
 "cells": [
  {
   "cell_type": "markdown",
   "id": "6dd45202",
   "metadata": {},
   "source": [
    "# Product Matching by Robby Jeffries\n",
    "## Amazon and Sam's Club\n",
    "\n",
    "This notebook will identify which products appear in both the Amazon and Sam's Club data sets."
   ]
  },
  {
   "cell_type": "code",
   "execution_count": 122,
   "id": "001da707",
   "metadata": {},
   "outputs": [],
   "source": [
    "import os\n",
    "import numpy as np\n",
    "import pandas as pd"
   ]
  },
  {
   "cell_type": "code",
   "execution_count": 123,
   "id": "24cb8177",
   "metadata": {},
   "outputs": [],
   "source": [
    "# set working directory\n",
    "os.chdir('/Users/robbyjeffries/MSEACapstone/Data')\n",
    "\n",
    "# import raw review data for the Electronics category\n",
    "amz_raw = pd.read_csv('Products/products_with_first_review_date.csv')\n",
    "sams_raw = pd.read_excel('Products/Products_Vendor_Start_Date.xlsx') "
   ]
  },
  {
   "cell_type": "code",
   "execution_count": 124,
   "id": "6840d4a7",
   "metadata": {},
   "outputs": [
    {
     "data": {
      "text/html": [
       "<div>\n",
       "<style scoped>\n",
       "    .dataframe tbody tr th:only-of-type {\n",
       "        vertical-align: middle;\n",
       "    }\n",
       "\n",
       "    .dataframe tbody tr th {\n",
       "        vertical-align: top;\n",
       "    }\n",
       "\n",
       "    .dataframe thead th {\n",
       "        text-align: right;\n",
       "    }\n",
       "</style>\n",
       "<table border=\"1\" class=\"dataframe\">\n",
       "  <thead>\n",
       "    <tr style=\"text-align: right;\">\n",
       "      <th></th>\n",
       "      <th>Primary_Desc</th>\n",
       "      <th>Vendor_Name</th>\n",
       "      <th>UPC_Desc</th>\n",
       "      <th>Start Date</th>\n",
       "    </tr>\n",
       "  </thead>\n",
       "  <tbody>\n",
       "    <tr>\n",
       "      <th>0</th>\n",
       "      <td>CG PORT CHARGER LRG</td>\n",
       "      <td>CONCEPT GREEN ENERGY SOLUTIONS</td>\n",
       "      <td>CHARGER</td>\n",
       "      <td>2014-07-01</td>\n",
       "    </tr>\n",
       "    <tr>\n",
       "      <th>1</th>\n",
       "      <td>48IN 720P LED TV</td>\n",
       "      <td>JSP LLC</td>\n",
       "      <td>48IN JVC TV</td>\n",
       "      <td>2015-10-14</td>\n",
       "    </tr>\n",
       "    <tr>\n",
       "      <th>2</th>\n",
       "      <td>19\" MTS TV</td>\n",
       "      <td>SANYO MFG CORP</td>\n",
       "      <td>19\"REFURB TV</td>\n",
       "      <td>2014-11-28</td>\n",
       "    </tr>\n",
       "    <tr>\n",
       "      <th>3</th>\n",
       "      <td>BELKIN GRP CDY SHEER</td>\n",
       "      <td>BRIGHTSTAR US INC</td>\n",
       "      <td>PHONE CASE</td>\n",
       "      <td>2014-07-03</td>\n",
       "    </tr>\n",
       "    <tr>\n",
       "      <th>4</th>\n",
       "      <td>TOSHIBA 27\" TV</td>\n",
       "      <td>TOSHIBA AMERICA INC</td>\n",
       "      <td>TV 27\" PIP</td>\n",
       "      <td>2015-05-30</td>\n",
       "    </tr>\n",
       "  </tbody>\n",
       "</table>\n",
       "</div>"
      ],
      "text/plain": [
       "           Primary_Desc                     Vendor_Name      UPC_Desc  \\\n",
       "0  CG PORT CHARGER LRG   CONCEPT GREEN ENERGY SOLUTIONS  CHARGER        \n",
       "1  48IN 720P LED TV      JSP LLC                         48IN JVC TV    \n",
       "2  19\" MTS TV            SANYO MFG CORP                  19\"REFURB TV   \n",
       "3  BELKIN GRP CDY SHEER  BRIGHTSTAR US INC               PHONE CASE     \n",
       "4  TOSHIBA 27\" TV        TOSHIBA AMERICA INC             TV 27\" PIP     \n",
       "\n",
       "  Start Date  \n",
       "0 2014-07-01  \n",
       "1 2015-10-14  \n",
       "2 2014-11-28  \n",
       "3 2014-07-03  \n",
       "4 2015-05-30  "
      ]
     },
     "execution_count": 124,
     "metadata": {},
     "output_type": "execute_result"
    }
   ],
   "source": [
    "sams_raw.head()"
   ]
  },
  {
   "cell_type": "code",
   "execution_count": 125,
   "id": "345cd338",
   "metadata": {},
   "outputs": [
    {
     "data": {
      "text/html": [
       "<div>\n",
       "<style scoped>\n",
       "    .dataframe tbody tr th:only-of-type {\n",
       "        vertical-align: middle;\n",
       "    }\n",
       "\n",
       "    .dataframe tbody tr th {\n",
       "        vertical-align: top;\n",
       "    }\n",
       "\n",
       "    .dataframe thead th {\n",
       "        text-align: right;\n",
       "    }\n",
       "</style>\n",
       "<table border=\"1\" class=\"dataframe\">\n",
       "  <thead>\n",
       "    <tr style=\"text-align: right;\">\n",
       "      <th></th>\n",
       "      <th>title</th>\n",
       "      <th>firstReview</th>\n",
       "    </tr>\n",
       "  </thead>\n",
       "  <tbody>\n",
       "    <tr>\n",
       "      <th>0</th>\n",
       "      <td>1000 Cd DVD Silver Aluminum Hard Case for Media Storage Holder w/Hanger Sleeves</td>\n",
       "      <td>2014-01-01</td>\n",
       "    </tr>\n",
       "    <tr>\n",
       "      <th>1</th>\n",
       "      <td>Toshiba Satellite L670-17E Laptop Screen 17.3 LED BOTTOM LEFT WXGA++ 1600x900</td>\n",
       "      <td>2014-01-01</td>\n",
       "    </tr>\n",
       "    <tr>\n",
       "      <th>2</th>\n",
       "      <td>ASUS GTX780TI-3GD5 Graphics Cards GTX780TI-3GD5</td>\n",
       "      <td>2014-01-01</td>\n",
       "    </tr>\n",
       "    <tr>\n",
       "      <th>3</th>\n",
       "      <td>12&amp;quot; SATA 15-Pin Male to Female Power Extension Cable</td>\n",
       "      <td>2014-01-01</td>\n",
       "    </tr>\n",
       "    <tr>\n",
       "      <th>4</th>\n",
       "      <td>GreatShield LEAN Series Slim Bluetooth Keyboard Leather Case with Sleep / Wake Cover for Google Nexus 7 FHD 2nd Gen (2013) - Black/Blue</td>\n",
       "      <td>2014-01-01</td>\n",
       "    </tr>\n",
       "  </tbody>\n",
       "</table>\n",
       "</div>"
      ],
      "text/plain": [
       "                                                                                                                                     title  \\\n",
       "0  1000 Cd DVD Silver Aluminum Hard Case for Media Storage Holder w/Hanger Sleeves                                                           \n",
       "1  Toshiba Satellite L670-17E Laptop Screen 17.3 LED BOTTOM LEFT WXGA++ 1600x900                                                             \n",
       "2  ASUS GTX780TI-3GD5 Graphics Cards GTX780TI-3GD5                                                                                           \n",
       "3  12&quot; SATA 15-Pin Male to Female Power Extension Cable                                                                                 \n",
       "4  GreatShield LEAN Series Slim Bluetooth Keyboard Leather Case with Sleep / Wake Cover for Google Nexus 7 FHD 2nd Gen (2013) - Black/Blue   \n",
       "\n",
       "  firstReview  \n",
       "0  2014-01-01  \n",
       "1  2014-01-01  \n",
       "2  2014-01-01  \n",
       "3  2014-01-01  \n",
       "4  2014-01-01  "
      ]
     },
     "execution_count": 125,
     "metadata": {},
     "output_type": "execute_result"
    }
   ],
   "source": [
    "amz_raw.head()"
   ]
  },
  {
   "cell_type": "code",
   "execution_count": 126,
   "id": "db03da3d",
   "metadata": {},
   "outputs": [
    {
     "data": {
      "text/plain": [
       "(1932, 4)"
      ]
     },
     "execution_count": 126,
     "metadata": {},
     "output_type": "execute_result"
    }
   ],
   "source": [
    "sams_raw.shape"
   ]
  },
  {
   "cell_type": "code",
   "execution_count": 127,
   "id": "4f8af0ce",
   "metadata": {},
   "outputs": [
    {
     "data": {
      "text/plain": [
       "(259873, 2)"
      ]
     },
     "execution_count": 127,
     "metadata": {},
     "output_type": "execute_result"
    }
   ],
   "source": [
    "amz_raw.shape"
   ]
  },
  {
   "cell_type": "code",
   "execution_count": 128,
   "id": "e6a4e398",
   "metadata": {},
   "outputs": [],
   "source": [
    "new = amz_raw.join(sams_raw['Primary_Desc'])"
   ]
  },
  {
   "cell_type": "code",
   "execution_count": 129,
   "id": "849a80da",
   "metadata": {
    "scrolled": true
   },
   "outputs": [],
   "source": [
    "new = new[['title', 'Primary_Desc']]"
   ]
  },
  {
   "cell_type": "code",
   "execution_count": 130,
   "id": "c15311cd",
   "metadata": {},
   "outputs": [
    {
     "data": {
      "text/html": [
       "<div>\n",
       "<style scoped>\n",
       "    .dataframe tbody tr th:only-of-type {\n",
       "        vertical-align: middle;\n",
       "    }\n",
       "\n",
       "    .dataframe tbody tr th {\n",
       "        vertical-align: top;\n",
       "    }\n",
       "\n",
       "    .dataframe thead th {\n",
       "        text-align: right;\n",
       "    }\n",
       "</style>\n",
       "<table border=\"1\" class=\"dataframe\">\n",
       "  <thead>\n",
       "    <tr style=\"text-align: right;\">\n",
       "      <th></th>\n",
       "      <th>title</th>\n",
       "      <th>Primary_Desc</th>\n",
       "    </tr>\n",
       "  </thead>\n",
       "  <tbody>\n",
       "    <tr>\n",
       "      <th>0</th>\n",
       "      <td>1000 Cd DVD Silver Aluminum Hard Case for Media Storage Holder w/Hanger Sleeves</td>\n",
       "      <td>CG PORT CHARGER LRG</td>\n",
       "    </tr>\n",
       "    <tr>\n",
       "      <th>1</th>\n",
       "      <td>Toshiba Satellite L670-17E Laptop Screen 17.3 LED BOTTOM LEFT WXGA++ 1600x900</td>\n",
       "      <td>48IN 720P LED TV</td>\n",
       "    </tr>\n",
       "    <tr>\n",
       "      <th>2</th>\n",
       "      <td>ASUS GTX780TI-3GD5 Graphics Cards GTX780TI-3GD5</td>\n",
       "      <td>19\" MTS TV</td>\n",
       "    </tr>\n",
       "    <tr>\n",
       "      <th>3</th>\n",
       "      <td>12&amp;quot; SATA 15-Pin Male to Female Power Extension Cable</td>\n",
       "      <td>BELKIN GRP CDY SHEER</td>\n",
       "    </tr>\n",
       "    <tr>\n",
       "      <th>4</th>\n",
       "      <td>GreatShield LEAN Series Slim Bluetooth Keyboard Leather Case with Sleep / Wake Cover for Google Nexus 7 FHD 2nd Gen (2013) - Black/Blue</td>\n",
       "      <td>TOSHIBA 27\" TV</td>\n",
       "    </tr>\n",
       "  </tbody>\n",
       "</table>\n",
       "</div>"
      ],
      "text/plain": [
       "                                                                                                                                     title  \\\n",
       "0  1000 Cd DVD Silver Aluminum Hard Case for Media Storage Holder w/Hanger Sleeves                                                           \n",
       "1  Toshiba Satellite L670-17E Laptop Screen 17.3 LED BOTTOM LEFT WXGA++ 1600x900                                                             \n",
       "2  ASUS GTX780TI-3GD5 Graphics Cards GTX780TI-3GD5                                                                                           \n",
       "3  12&quot; SATA 15-Pin Male to Female Power Extension Cable                                                                                 \n",
       "4  GreatShield LEAN Series Slim Bluetooth Keyboard Leather Case with Sleep / Wake Cover for Google Nexus 7 FHD 2nd Gen (2013) - Black/Blue   \n",
       "\n",
       "           Primary_Desc  \n",
       "0  CG PORT CHARGER LRG   \n",
       "1  48IN 720P LED TV      \n",
       "2  19\" MTS TV            \n",
       "3  BELKIN GRP CDY SHEER  \n",
       "4  TOSHIBA 27\" TV        "
      ]
     },
     "execution_count": 130,
     "metadata": {},
     "output_type": "execute_result"
    }
   ],
   "source": [
    "new.head()"
   ]
  },
  {
   "cell_type": "code",
   "execution_count": 131,
   "id": "656b20db",
   "metadata": {},
   "outputs": [],
   "source": [
    "#new = new.T.stack().reset_index(drop=True)\n"
   ]
  },
  {
   "cell_type": "code",
   "execution_count": 71,
   "id": "39fa2d53",
   "metadata": {},
   "outputs": [],
   "source": [
    "all_products = new.to_frame()"
   ]
  },
  {
   "cell_type": "code",
   "execution_count": 79,
   "id": "0b0a12ad",
   "metadata": {},
   "outputs": [],
   "source": [
    "# all_products = all_products.rename(columns={0: \"product\"})"
   ]
  },
  {
   "cell_type": "code",
   "execution_count": 80,
   "id": "76aff8ab",
   "metadata": {},
   "outputs": [
    {
     "data": {
      "text/html": [
       "<div>\n",
       "<style scoped>\n",
       "    .dataframe tbody tr th:only-of-type {\n",
       "        vertical-align: middle;\n",
       "    }\n",
       "\n",
       "    .dataframe tbody tr th {\n",
       "        vertical-align: top;\n",
       "    }\n",
       "\n",
       "    .dataframe thead th {\n",
       "        text-align: right;\n",
       "    }\n",
       "</style>\n",
       "<table border=\"1\" class=\"dataframe\">\n",
       "  <thead>\n",
       "    <tr style=\"text-align: right;\">\n",
       "      <th></th>\n",
       "      <th>product</th>\n",
       "    </tr>\n",
       "  </thead>\n",
       "  <tbody>\n",
       "    <tr>\n",
       "      <th>0</th>\n",
       "      <td>1000 Cd DVD Silver Aluminum Hard Case for Media Storage Holder w/Hanger Sleeves</td>\n",
       "    </tr>\n",
       "    <tr>\n",
       "      <th>1</th>\n",
       "      <td>Toshiba Satellite L670-17E Laptop Screen 17.3 LED BOTTOM LEFT WXGA++ 1600x900</td>\n",
       "    </tr>\n",
       "    <tr>\n",
       "      <th>2</th>\n",
       "      <td>ASUS GTX780TI-3GD5 Graphics Cards GTX780TI-3GD5</td>\n",
       "    </tr>\n",
       "    <tr>\n",
       "      <th>3</th>\n",
       "      <td>12&amp;quot; SATA 15-Pin Male to Female Power Extension Cable</td>\n",
       "    </tr>\n",
       "    <tr>\n",
       "      <th>4</th>\n",
       "      <td>GreatShield LEAN Series Slim Bluetooth Keyboard Leather Case with Sleep / Wake Cover for Google Nexus 7 FHD 2nd Gen (2013) - Black/Blue</td>\n",
       "    </tr>\n",
       "  </tbody>\n",
       "</table>\n",
       "</div>"
      ],
      "text/plain": [
       "                                                                                                                                   product\n",
       "0  1000 Cd DVD Silver Aluminum Hard Case for Media Storage Holder w/Hanger Sleeves                                                        \n",
       "1  Toshiba Satellite L670-17E Laptop Screen 17.3 LED BOTTOM LEFT WXGA++ 1600x900                                                          \n",
       "2  ASUS GTX780TI-3GD5 Graphics Cards GTX780TI-3GD5                                                                                        \n",
       "3  12&quot; SATA 15-Pin Male to Female Power Extension Cable                                                                              \n",
       "4  GreatShield LEAN Series Slim Bluetooth Keyboard Leather Case with Sleep / Wake Cover for Google Nexus 7 FHD 2nd Gen (2013) - Black/Blue"
      ]
     },
     "execution_count": 80,
     "metadata": {},
     "output_type": "execute_result"
    }
   ],
   "source": [
    "all_products.head()"
   ]
  },
  {
   "cell_type": "markdown",
   "id": "f076fb36",
   "metadata": {},
   "source": [
    "### Example from Toward Data Science\n",
    "https://towardsdatascience.com/surprisingly-effective-way-to-name-matching-in-python-1a67328e670e"
   ]
  },
  {
   "cell_type": "code",
   "execution_count": 8,
   "id": "96b199c5",
   "metadata": {},
   "outputs": [],
   "source": [
    "if False: # Change it to true if you haven't installed it\n",
    "    !pip install cython\n",
    "    !pip install git+https://github.com/ing-bank/sparse_dot_topn.git"
   ]
  },
  {
   "cell_type": "code",
   "execution_count": 27,
   "id": "b61f88b9",
   "metadata": {
    "scrolled": true
   },
   "outputs": [
    {
     "name": "stderr",
     "output_type": "stream",
     "text": [
      "/var/folders/c9/z8kjq8qs15n6nq0dr7vdg5640000gn/T/ipykernel_53365/752063784.py:9: FutureWarning: Passing a negative integer is deprecated in version 1.0 and will not be supported in future version. Instead, use None to not limit the column width.\n",
      "  pd.set_option('display.max_colwidth', -1)\n"
     ]
    },
    {
     "data": {
      "text/html": [
       "<div>\n",
       "<style scoped>\n",
       "    .dataframe tbody tr th:only-of-type {\n",
       "        vertical-align: middle;\n",
       "    }\n",
       "\n",
       "    .dataframe tbody tr th {\n",
       "        vertical-align: top;\n",
       "    }\n",
       "\n",
       "    .dataframe thead th {\n",
       "        text-align: right;\n",
       "    }\n",
       "</style>\n",
       "<table border=\"1\" class=\"dataframe\">\n",
       "  <thead>\n",
       "    <tr style=\"text-align: right;\">\n",
       "      <th></th>\n",
       "      <th>Primary_Desc</th>\n",
       "      <th>Vendor_Name</th>\n",
       "      <th>UPC_Desc</th>\n",
       "      <th>Start Date</th>\n",
       "    </tr>\n",
       "  </thead>\n",
       "  <tbody>\n",
       "    <tr>\n",
       "      <th>0</th>\n",
       "      <td>CG PORT CHARGER LRG</td>\n",
       "      <td>CONCEPT GREEN ENERGY SOLUTIONS</td>\n",
       "      <td>CHARGER</td>\n",
       "      <td>2014-07-01</td>\n",
       "    </tr>\n",
       "    <tr>\n",
       "      <th>1</th>\n",
       "      <td>48IN 720P LED TV</td>\n",
       "      <td>JSP LLC</td>\n",
       "      <td>48IN JVC TV</td>\n",
       "      <td>2015-10-14</td>\n",
       "    </tr>\n",
       "    <tr>\n",
       "      <th>2</th>\n",
       "      <td>19\" MTS TV</td>\n",
       "      <td>SANYO MFG CORP</td>\n",
       "      <td>19\"REFURB TV</td>\n",
       "      <td>2014-11-28</td>\n",
       "    </tr>\n",
       "    <tr>\n",
       "      <th>3</th>\n",
       "      <td>BELKIN GRP CDY SHEER</td>\n",
       "      <td>BRIGHTSTAR US INC</td>\n",
       "      <td>PHONE CASE</td>\n",
       "      <td>2014-07-03</td>\n",
       "    </tr>\n",
       "    <tr>\n",
       "      <th>4</th>\n",
       "      <td>TOSHIBA 27\" TV</td>\n",
       "      <td>TOSHIBA AMERICA INC</td>\n",
       "      <td>TV 27\" PIP</td>\n",
       "      <td>2015-05-30</td>\n",
       "    </tr>\n",
       "  </tbody>\n",
       "</table>\n",
       "</div>"
      ],
      "text/plain": [
       "           Primary_Desc                     Vendor_Name      UPC_Desc  \\\n",
       "0  CG PORT CHARGER LRG   CONCEPT GREEN ENERGY SOLUTIONS  CHARGER        \n",
       "1  48IN 720P LED TV      JSP LLC                         48IN JVC TV    \n",
       "2  19\" MTS TV            SANYO MFG CORP                  19\"REFURB TV   \n",
       "3  BELKIN GRP CDY SHEER  BRIGHTSTAR US INC               PHONE CASE     \n",
       "4  TOSHIBA 27\" TV        TOSHIBA AMERICA INC             TV 27\" PIP     \n",
       "\n",
       "  Start Date  \n",
       "0 2014-07-01  \n",
       "1 2015-10-14  \n",
       "2 2014-11-28  \n",
       "3 2014-07-03  \n",
       "4 2015-05-30  "
      ]
     },
     "execution_count": 27,
     "metadata": {},
     "output_type": "execute_result"
    }
   ],
   "source": [
    "#  Importing libraries and module and some setting for notebook\n",
    "import pandas as pd \n",
    "import re\n",
    "from sklearn.feature_extraction.text import TfidfVectorizer\n",
    "import numpy as np\n",
    "from scipy.sparse import csr_matrix\n",
    "import sparse_dot_topn.sparse_dot_topn as ct  # Leading Juice for us\n",
    "import time\n",
    "pd.set_option('display.max_colwidth', -1)\n",
    "\n",
    "# reading dataset as df\n",
    "df = pd.read_excel('Products/Products_Vendor_Start_Date.xlsx') \n",
    "\n",
    "# printing first five rows\n",
    "df.head(5)"
   ]
  },
  {
   "cell_type": "code",
   "execution_count": 81,
   "id": "7219fe9c",
   "metadata": {},
   "outputs": [
    {
     "name": "stdout",
     "output_type": "stream",
     "text": [
      "Number of NaN values present: 0\n"
     ]
    }
   ],
   "source": [
    "# total the number of NaN rows\n",
    "nan_in_df = all_products.isnull().sum().sum()\n",
    "  \n",
    "# printing the number of NaN values present in the whole dataframe\n",
    "print('Number of NaN values present: ' + str(nan_in_df))"
   ]
  },
  {
   "cell_type": "code",
   "execution_count": 83,
   "id": "05ff0c2d",
   "metadata": {},
   "outputs": [],
   "source": [
    "# drop NaN rows\n",
    "df = all_products.dropna()"
   ]
  },
  {
   "cell_type": "code",
   "execution_count": 84,
   "id": "636b682d",
   "metadata": {},
   "outputs": [
    {
     "name": "stdout",
     "output_type": "stream",
     "text": [
      "All 3-grams in \"Deluxroom\":\n"
     ]
    },
    {
     "data": {
      "text/plain": [
       "['Del', 'elu', 'lux', 'uxr', 'xro', 'roo', 'oom']"
      ]
     },
     "execution_count": 84,
     "metadata": {},
     "output_type": "execute_result"
    }
   ],
   "source": [
    "def ngrams(string, n=3):\n",
    "    \n",
    "    string = re.sub(r'[,-./]|\\sBD',r'', string)\n",
    "    ngrams = zip(*[string[i:] for i in range(n)])\n",
    "    return [''.join(ngram) for ngram in ngrams]\n",
    "\n",
    "# Testing ngrams work for verification\n",
    "print('All 3-grams in \"Deluxroom\":')\n",
    "ngrams('Deluxroom')"
   ]
  },
  {
   "cell_type": "code",
   "execution_count": 85,
   "id": "fcae5f4a",
   "metadata": {},
   "outputs": [],
   "source": [
    "products = df['product']\n",
    "vectorizer = TfidfVectorizer(min_df=1, analyzer=ngrams)\n",
    "tf_idf_matrix = vectorizer.fit_transform(products)"
   ]
  },
  {
   "cell_type": "code",
   "execution_count": 86,
   "id": "939212aa",
   "metadata": {
    "scrolled": true
   },
   "outputs": [
    {
     "name": "stdout",
     "output_type": "stream",
     "text": [
      "  (0, 113042)\t0.16129878385316632\n",
      "  (0, 89949)\t0.11717223289757034\n",
      "  (0, 89154)\t0.12539077651726988\n",
      "  (0, 98047)\t0.10795626337769408\n",
      "  (0, 69478)\t0.10889387799748038\n",
      "  (0, 2437)\t0.09465047330794478\n",
      "  (0, 105547)\t0.07236638643804462\n",
      "  (0, 91880)\t0.09209309831453706\n",
      "  (0, 101363)\t0.1148872648142515\n",
      "  (0, 83147)\t0.11882858115115032\n",
      "  (0, 50377)\t0.11136714164308963\n",
      "  (0, 113737)\t0.22315196054824632\n",
      "  (0, 3790)\t0.211416541898131\n",
      "  (0, 105579)\t0.10406303301022846\n",
      "  (0, 87130)\t0.09102406710458476\n",
      "  (0, 97971)\t0.11522134265192932\n",
      "  (0, 103201)\t0.10733603970330352\n",
      "  (0, 50588)\t0.12877667860452913\n",
      "  (0, 1719)\t0.09776260383576765\n",
      "  (0, 87715)\t0.10317733055991289\n",
      "  (0, 91818)\t0.09951114242184766\n",
      "  (0, 82796)\t0.1123500219999272\n",
      "  (0, 106503)\t0.13628455387897437\n",
      "  (0, 103538)\t0.13511418521898266\n",
      "  (0, 110953)\t0.08020052540025328\n",
      "  :\t:\n",
      "  (0, 101889)\t0.13978825212280604\n",
      "  (0, 95200)\t0.12811547603306742\n",
      "  (0, 99705)\t0.10589128686776503\n",
      "  (0, 112079)\t0.1271388881044658\n",
      "  (0, 98606)\t0.1325522010845686\n",
      "  (0, 36622)\t0.14280674848740166\n",
      "  (0, 1250)\t0.10944485809725871\n",
      "  (0, 105529)\t0.080780035493562\n",
      "  (0, 89673)\t0.13077251015778482\n",
      "  (0, 113041)\t0.06902105376389614\n",
      "  (0, 98626)\t0.12671661477583057\n",
      "  (0, 95067)\t0.12830980660530672\n",
      "  (0, 69423)\t0.111989795023563\n",
      "  (0, 2434)\t0.10119272069770754\n",
      "  (0, 41114)\t0.12021257706918936\n",
      "  (0, 73979)\t0.13103105880960536\n",
      "  (0, 42572)\t0.12142006985712613\n",
      "  (0, 1438)\t0.10908405718618025\n",
      "  (0, 86155)\t0.11154225623975468\n",
      "  (0, 40681)\t0.20352744354815766\n",
      "  (0, 1379)\t0.20310046821651798\n",
      "  (0, 8768)\t0.11948554521586408\n",
      "  (0, 9007)\t0.07888939637122816\n",
      "  (0, 9019)\t0.09987067496024467\n",
      "  (0, 12076)\t0.0956722897597466\n"
     ]
    }
   ],
   "source": [
    "print(tf_idf_matrix[0])"
   ]
  },
  {
   "cell_type": "code",
   "execution_count": 87,
   "id": "ea0965ac",
   "metadata": {},
   "outputs": [],
   "source": [
    "def awesome_cossim_top(A, B, ntop, lower_bound=0):\n",
    "    # force A and B as a CSR matrix.\n",
    "    # If they have already been CSR, there is no overhead\n",
    "    A = A.tocsr()\n",
    "    B = B.tocsr()\n",
    "    M, _ = A.shape\n",
    "    _, N = B.shape\n",
    " \n",
    "    idx_dtype = np.int32\n",
    " \n",
    "    nnz_max = M*ntop\n",
    " \n",
    "    indptr = np.zeros(M+1, dtype=idx_dtype)\n",
    "    indices = np.zeros(nnz_max, dtype=idx_dtype)\n",
    "    data = np.zeros(nnz_max, dtype=A.dtype)\n",
    "    \n",
    "    ct.sparse_dot_topn(\n",
    "            M, N, np.asarray(A.indptr, dtype=idx_dtype),\n",
    "            np.asarray(A.indices, dtype=idx_dtype),\n",
    "            A.data,\n",
    "            np.asarray(B.indptr, dtype=idx_dtype),\n",
    "            np.asarray(B.indices, dtype=idx_dtype),\n",
    "            B.data,\n",
    "            ntop,\n",
    "            lower_bound,\n",
    "            indptr, indices, data)\n",
    "    \n",
    "    return csr_matrix((data,indices,indptr),shape=(M,N))\n"
   ]
  },
  {
   "cell_type": "code",
   "execution_count": 88,
   "id": "ebbfc749",
   "metadata": {},
   "outputs": [
    {
     "name": "stdout",
     "output_type": "stream",
     "text": [
      "SELFTIMED: 1202.9403960704803\n"
     ]
    }
   ],
   "source": [
    "#  Top 10 with similarity above 0.8\n",
    "t1 = time.time()\n",
    "matches = awesome_cossim_top(tf_idf_matrix, tf_idf_matrix.transpose(), 10, 0.8)\n",
    "t = time.time()-t1\n",
    "print(\"SELFTIMED:\", t)"
   ]
  },
  {
   "cell_type": "code",
   "execution_count": 181,
   "id": "df427977",
   "metadata": {},
   "outputs": [
    {
     "data": {
      "text/plain": [
       "(261796, 117511)"
      ]
     },
     "execution_count": 181,
     "metadata": {},
     "output_type": "execute_result"
    }
   ],
   "source": [
    "tf_idf_matrix.shape"
   ]
  },
  {
   "cell_type": "code",
   "execution_count": 89,
   "id": "6d01e85b",
   "metadata": {},
   "outputs": [],
   "source": [
    "# unpacks the resulting sparse matrix\n",
    "def get_matches_df(sparse_matrix, name_vector, top=100):\n",
    "    non_zeros = sparse_matrix.nonzero()\n",
    "    \n",
    "    sparserows = non_zeros[0]\n",
    "    sparsecols = non_zeros[1]\n",
    "    \n",
    "    if top:\n",
    "        nr_matches = top\n",
    "    else:\n",
    "        nr_matches = sparsecols.size\n",
    "    \n",
    "    left_side = np.empty([nr_matches], dtype=object)\n",
    "    right_side = np.empty([nr_matches], dtype=object)\n",
    "    similairity = np.zeros(nr_matches)\n",
    "    \n",
    "    for index in range(0, nr_matches):\n",
    "        left_side[index] = name_vector[sparserows[index]]\n",
    "        right_side[index] = name_vector[sparsecols[index]]\n",
    "        similairity[index] = sparse_matrix.data[index]\n",
    "    \n",
    "    return pd.DataFrame({'left_side': left_side,\n",
    "                          'right_side': right_side,\n",
    "                           'similairity': similairity})"
   ]
  },
  {
   "cell_type": "code",
   "execution_count": 90,
   "id": "07bd1f85",
   "metadata": {},
   "outputs": [
    {
     "data": {
      "text/html": [
       "<div>\n",
       "<style scoped>\n",
       "    .dataframe tbody tr th:only-of-type {\n",
       "        vertical-align: middle;\n",
       "    }\n",
       "\n",
       "    .dataframe tbody tr th {\n",
       "        vertical-align: top;\n",
       "    }\n",
       "\n",
       "    .dataframe thead th {\n",
       "        text-align: right;\n",
       "    }\n",
       "</style>\n",
       "<table border=\"1\" class=\"dataframe\">\n",
       "  <thead>\n",
       "    <tr style=\"text-align: right;\">\n",
       "      <th></th>\n",
       "      <th>left_side</th>\n",
       "      <th>right_side</th>\n",
       "      <th>similairity</th>\n",
       "    </tr>\n",
       "  </thead>\n",
       "  <tbody>\n",
       "    <tr>\n",
       "      <th>181</th>\n",
       "      <td>Kicker 40CWRT102 CompRT Series 10 inch Subwoofer Dual 2 Ohm</td>\n",
       "      <td>Kicker 40CWRT122 CompRT Series 12 inch Subwoofer Dual 2 Ohm</td>\n",
       "      <td>0.896278</td>\n",
       "    </tr>\n",
       "    <tr>\n",
       "      <th>90</th>\n",
       "      <td>Pad Cases,iPad 2 Case,iPad 3 Case,iPad 4 Case,TRAVELLOR[Heavy Duty] iPad Case,Three Layer Armor Defender And Full Body Protective Case Cover With Kickstand And Screen Protector for iPad 2/3/4(Black)</td>\n",
       "      <td>iPad Cases,iPad 2 Case,iPad 3 Case,iPad 4 Case,TRAVELLOR&amp;reg;[Heavy Duty] iPad Case,Three Layer Armor Defender And Full Body Protective Case Cover With Kickstand And Screen Protector for iPad 2/3/4 - Army/Olive</td>\n",
       "      <td>0.885624</td>\n",
       "    </tr>\n",
       "    <tr>\n",
       "      <th>25</th>\n",
       "      <td>SwitchEasy Colors Silicone Case for iPod touch 5G (Blue)</td>\n",
       "      <td>SwitchEasy Colors Silicone Case for iPod touch 5G (Turquoise)</td>\n",
       "      <td>0.807870</td>\n",
       "    </tr>\n",
       "    <tr>\n",
       "      <th>193</th>\n",
       "      <td>Nikon D5200 Digital SLR Camera Body (Black) with 18-140mm VR Lens + 32GB Card + Case + Flash + Battery + Filter + Tripod Kit</td>\n",
       "      <td>Nikon D5500 Wi-Fi Digital SLR Camera Body (Black) with 18-200mm VC Lens + 32GB Card + Case + Battery + Tripod + Filter + Kit</td>\n",
       "      <td>0.801593</td>\n",
       "    </tr>\n",
       "    <tr>\n",
       "      <th>85</th>\n",
       "      <td>Pad Cases,iPad 2 Case,iPad 3 Case,iPad 4 Case,TRAVELLOR[Heavy Duty] iPad Case,Three Layer Armor Defender And Full Body Protective Case Cover With Kickstand And Screen Protector for iPad 2/3/4(Black)</td>\n",
       "      <td>iPad Cases,iPad 2 Case,iPad 4 Case,TRAVELLOR[Heavy Duty] iPad Case,Three Layer Armor Defender and Full Body Protective Case Cover with Kickstand and Screen Protector for iPad 2/3/4 - Red</td>\n",
       "      <td>0.924157</td>\n",
       "    </tr>\n",
       "    <tr>\n",
       "      <th>36</th>\n",
       "      <td>Okeler Purple 360 Rotating PU Leather Case Cover For ASUS MeMO Pad HD 7 ME173X ME173 with Free Pen</td>\n",
       "      <td>Okeler Red 360 Rotating PU Leather Stand Case Cover For ASUS MeMO Pad HD 7 ME173X ME173 with Free Pen</td>\n",
       "      <td>0.941846</td>\n",
       "    </tr>\n",
       "    <tr>\n",
       "      <th>160</th>\n",
       "      <td>Griffin, iPad mini 1/2/3 Case, Survivor CrossGrip, Protective Gaming Case with shoulder strap, Ergonomic, Rugged, Citron</td>\n",
       "      <td>Griffin, Survivor CrossGrip for iPad mini, Protective Gaming Case with shoulder strap, Ergonomic, Rugged, Black</td>\n",
       "      <td>0.888742</td>\n",
       "    </tr>\n",
       "    <tr>\n",
       "      <th>31</th>\n",
       "      <td>Assurant 5-Year Television Protection Plan ($2000-$2249.99)</td>\n",
       "      <td>Assurant 5-Year Television Protection Plan ($200-$249.99)</td>\n",
       "      <td>0.909246</td>\n",
       "    </tr>\n",
       "    <tr>\n",
       "      <th>96</th>\n",
       "      <td>Pro Digital Hard Lens Hood For The JVC Everio GZ-MG680, MG670, MG630, MG465, MG435, MG365, MG360, MG335, MG330, MG230 High Definition Camcorders</td>\n",
       "      <td>PROFESSIONAL 72 Inch Full Size Tripod with Carrying Case For The JVC Everio GZ-MG680, MG670, MG630, MG465, MG435, MG365, MG360, MG335, MG330, MG230 High Definition Camcorders with Exclusive FREE Complimentary Super Deal Micro Fiber Lens Cleaning Cloth</td>\n",
       "      <td>0.886503</td>\n",
       "    </tr>\n",
       "    <tr>\n",
       "      <th>9</th>\n",
       "      <td>GreatShield LEAN Series Slim Bluetooth Keyboard Leather Case with Sleep / Wake Cover for Google Nexus 7 FHD 2nd Gen (2013) - Black/Blue</td>\n",
       "      <td>GreatShield LEAN Series Ultra Slim Bluetooth Keyboard Leather Case with Sleep / Wake Cover for Google Nexus 7 FHD 2nd Gen (2013) - Black/Pink</td>\n",
       "      <td>0.921078</td>\n",
       "    </tr>\n",
       "  </tbody>\n",
       "</table>\n",
       "</div>"
      ],
      "text/plain": [
       "                                                                                                                                                                                                  left_side  \\\n",
       "181  Kicker 40CWRT102 CompRT Series 10 inch Subwoofer Dual 2 Ohm                                                                                                                                              \n",
       "90   Pad Cases,iPad 2 Case,iPad 3 Case,iPad 4 Case,TRAVELLOR[Heavy Duty] iPad Case,Three Layer Armor Defender And Full Body Protective Case Cover With Kickstand And Screen Protector for iPad 2/3/4(Black)   \n",
       "25   SwitchEasy Colors Silicone Case for iPod touch 5G (Blue)                                                                                                                                                 \n",
       "193  Nikon D5200 Digital SLR Camera Body (Black) with 18-140mm VR Lens + 32GB Card + Case + Flash + Battery + Filter + Tripod Kit                                                                             \n",
       "85   Pad Cases,iPad 2 Case,iPad 3 Case,iPad 4 Case,TRAVELLOR[Heavy Duty] iPad Case,Three Layer Armor Defender And Full Body Protective Case Cover With Kickstand And Screen Protector for iPad 2/3/4(Black)   \n",
       "36   Okeler Purple 360 Rotating PU Leather Case Cover For ASUS MeMO Pad HD 7 ME173X ME173 with Free Pen                                                                                                       \n",
       "160  Griffin, iPad mini 1/2/3 Case, Survivor CrossGrip, Protective Gaming Case with shoulder strap, Ergonomic, Rugged, Citron                                                                                 \n",
       "31   Assurant 5-Year Television Protection Plan ($2000-$2249.99)                                                                                                                                              \n",
       "96   Pro Digital Hard Lens Hood For The JVC Everio GZ-MG680, MG670, MG630, MG465, MG435, MG365, MG360, MG335, MG330, MG230 High Definition Camcorders                                                         \n",
       "9    GreatShield LEAN Series Slim Bluetooth Keyboard Leather Case with Sleep / Wake Cover for Google Nexus 7 FHD 2nd Gen (2013) - Black/Blue                                                                  \n",
       "\n",
       "                                                                                                                                                                                                                                                      right_side  \\\n",
       "181  Kicker 40CWRT122 CompRT Series 12 inch Subwoofer Dual 2 Ohm                                                                                                                                                                                                   \n",
       "90   iPad Cases,iPad 2 Case,iPad 3 Case,iPad 4 Case,TRAVELLOR&reg;[Heavy Duty] iPad Case,Three Layer Armor Defender And Full Body Protective Case Cover With Kickstand And Screen Protector for iPad 2/3/4 - Army/Olive                                            \n",
       "25   SwitchEasy Colors Silicone Case for iPod touch 5G (Turquoise)                                                                                                                                                                                                 \n",
       "193  Nikon D5500 Wi-Fi Digital SLR Camera Body (Black) with 18-200mm VC Lens + 32GB Card + Case + Battery + Tripod + Filter + Kit                                                                                                                                  \n",
       "85   iPad Cases,iPad 2 Case,iPad 4 Case,TRAVELLOR[Heavy Duty] iPad Case,Three Layer Armor Defender and Full Body Protective Case Cover with Kickstand and Screen Protector for iPad 2/3/4 - Red                                                                    \n",
       "36   Okeler Red 360 Rotating PU Leather Stand Case Cover For ASUS MeMO Pad HD 7 ME173X ME173 with Free Pen                                                                                                                                                         \n",
       "160  Griffin, Survivor CrossGrip for iPad mini, Protective Gaming Case with shoulder strap, Ergonomic, Rugged, Black                                                                                                                                               \n",
       "31   Assurant 5-Year Television Protection Plan ($200-$249.99)                                                                                                                                                                                                     \n",
       "96   PROFESSIONAL 72 Inch Full Size Tripod with Carrying Case For The JVC Everio GZ-MG680, MG670, MG630, MG465, MG435, MG365, MG360, MG335, MG330, MG230 High Definition Camcorders with Exclusive FREE Complimentary Super Deal Micro Fiber Lens Cleaning Cloth   \n",
       "9    GreatShield LEAN Series Ultra Slim Bluetooth Keyboard Leather Case with Sleep / Wake Cover for Google Nexus 7 FHD 2nd Gen (2013) - Black/Pink                                                                                                                 \n",
       "\n",
       "     similairity  \n",
       "181  0.896278     \n",
       "90   0.885624     \n",
       "25   0.807870     \n",
       "193  0.801593     \n",
       "85   0.924157     \n",
       "36   0.941846     \n",
       "160  0.888742     \n",
       "31   0.909246     \n",
       "96   0.886503     \n",
       "9    0.921078     "
      ]
     },
     "execution_count": 90,
     "metadata": {},
     "output_type": "execute_result"
    }
   ],
   "source": [
    "# store the  matches into new dataframe called matched_df and \n",
    "# printing 10 samples\n",
    "matches_df = get_matches_df(matches, products, top=200)\n",
    "matches_df = matches_df[matches_df['similairity'] < 0.99999] # For removing all exact matches\n",
    "matches_df.sample(10)"
   ]
  },
  {
   "cell_type": "code",
   "execution_count": 174,
   "id": "f2211618",
   "metadata": {},
   "outputs": [
    {
     "data": {
      "text/html": [
       "<div>\n",
       "<style scoped>\n",
       "    .dataframe tbody tr th:only-of-type {\n",
       "        vertical-align: middle;\n",
       "    }\n",
       "\n",
       "    .dataframe tbody tr th {\n",
       "        vertical-align: top;\n",
       "    }\n",
       "\n",
       "    .dataframe thead th {\n",
       "        text-align: right;\n",
       "    }\n",
       "</style>\n",
       "<table border=\"1\" class=\"dataframe\">\n",
       "  <thead>\n",
       "    <tr style=\"text-align: right;\">\n",
       "      <th></th>\n",
       "      <th>left_side</th>\n",
       "      <th>right_side</th>\n",
       "      <th>similairity</th>\n",
       "    </tr>\n",
       "  </thead>\n",
       "  <tbody>\n",
       "    <tr>\n",
       "      <th>50</th>\n",
       "      <td>iPad Air 2 &amp;amp; 1 Bluetooth Keyboard Case, QQ-Tech&amp;reg; Premium Series PU Leather Case Cover W Removable Wireless Keyboard for iPad Air 1st and 2nd [Best iPad Companion] &amp;ndash; Red</td>\n",
       "      <td>iPad Air 2 &amp;amp; 1 Bluetooth Keyboard Case, QQ-Tech&amp;reg; Premium Series PU Leather Case Cover W Removable Wireless Keyboard for iPad Air 1st and 2nd [Best iPad Companion] &amp;ndash; White</td>\n",
       "      <td>0.983058</td>\n",
       "    </tr>\n",
       "    <tr>\n",
       "      <th>51</th>\n",
       "      <td>iPad Air 2 &amp;amp; 1 Bluetooth Keyboard Case, QQ-Tech&amp;reg; Premium Series PU Leather Case Cover W Removable Wireless Keyboard for iPad Air 1st and 2nd [Best iPad Companion] &amp;ndash; Red</td>\n",
       "      <td>iPad Air 2 &amp;amp; 1 Bluetooth Keyboard Case, QQ-Tech&amp;reg; Premium Series PU Leather Case Cover W Removable Wireless Keyboard for iPad Air 1st and 2nd [Best iPad Companion] &amp;ndash; Brown</td>\n",
       "      <td>0.978312</td>\n",
       "    </tr>\n",
       "    <tr>\n",
       "      <th>62</th>\n",
       "      <td>360 Premium Rotating Leather Case Cover Blue Map with Kickstand by KIQ with Kickstand for Apple iPad Air 1 1st Gen 9.7-inch Retina Display 2013 2014 (A1474, A1475, A1476)</td>\n",
       "      <td>360 Premium Rotating Leather Case Cover Black with Kickstand by KIQ with Kickstand for Apple iPad Air 1 1st Gen 9.7-inch Retina Display 2013 2014 (A1474, A1475, A1476)</td>\n",
       "      <td>0.975107</td>\n",
       "    </tr>\n",
       "    <tr>\n",
       "      <th>63</th>\n",
       "      <td>360 Premium Rotating Leather Case Cover Blue Map with Kickstand by KIQ with Kickstand for Apple iPad Air 1 1st Gen 9.7-inch Retina Display 2013 2014 (A1474, A1475, A1476)</td>\n",
       "      <td>360 Premium Rotating Leather Case Cover Map Purple with Kickstand by KIQ with Kickstand for Apple iPad Air 1 1st Gen 9.7-inch Retina Display 2013 2014 (A1474, A1475, A1476)</td>\n",
       "      <td>0.970326</td>\n",
       "    </tr>\n",
       "    <tr>\n",
       "      <th>82</th>\n",
       "      <td>Pad Cases,iPad 2 Case,iPad 3 Case,iPad 4 Case,TRAVELLOR[Heavy Duty] iPad Case,Three Layer Armor Defender And Full Body Protective Case Cover With Kickstand And Screen Protector for iPad 2/3/4(Black)</td>\n",
       "      <td>iPad Cases,iPad 2 Case,iPad 3 Case,iPad 4 Case,TRAVELLOR[Heavy Duty] iPad Case,Three Layer Armor Defender And Full Body Protective Case Cover With Kickstand And Screen Protector for iPad 2/3/4 - Olive</td>\n",
       "      <td>0.957990</td>\n",
       "    </tr>\n",
       "    <tr>\n",
       "      <th>83</th>\n",
       "      <td>Pad Cases,iPad 2 Case,iPad 3 Case,iPad 4 Case,TRAVELLOR[Heavy Duty] iPad Case,Three Layer Armor Defender And Full Body Protective Case Cover With Kickstand And Screen Protector for iPad 2/3/4(Black)</td>\n",
       "      <td>iPad 2 Case,iPad 3 Case,iPad 4 Case,TRAVELLOR[Heavy Duty] iPad Case,Three Layer Armor Defender And Full Body Protective Case Cover With Kickstand And Screen Protector for iPad 2/3/4 - Red</td>\n",
       "      <td>0.956151</td>\n",
       "    </tr>\n",
       "    <tr>\n",
       "      <th>117</th>\n",
       "      <td>Elecday Authentic Spider-man Extreme-Duty Military Survivor Silicone Plastic Protective Case Dual Layer water/Dust/Shock/Sand Proof Absorbing Kid-proof With Wall/Glass/Wood Attachable Kids Children Gift Stand Designed For Apple iPad Mini/ Mini2/ Mini 2</td>\n",
       "      <td>Elecday Authentic Spider-man Extreme-Duty Military Survivor Silicone Plastic Protective Case Dual Layer water/Dust/Shock/Sand Proof Absorbing Kid-proof With Wall/Glass/Wood Attachable Kids Children Gift Stand Designed For Apple iPad Mini/ Mini2/ Mini 2 (Olive/olive)</td>\n",
       "      <td>0.948375</td>\n",
       "    </tr>\n",
       "    <tr>\n",
       "      <th>64</th>\n",
       "      <td>360 Premium Rotating Leather Case Cover Blue Map with Kickstand by KIQ with Kickstand for Apple iPad Air 1 1st Gen 9.7-inch Retina Display 2013 2014 (A1474, A1475, A1476)</td>\n",
       "      <td>360 Premium Rotating Leather Case Cover Giraffe with Kickstand by KIQ with Kickstand for Apple iPad Air 1 1st Gen 9.7-inch Retina Display 2013 2014 (A1474, A1475, A1476)</td>\n",
       "      <td>0.947737</td>\n",
       "    </tr>\n",
       "    <tr>\n",
       "      <th>35</th>\n",
       "      <td>Okeler Purple 360 Rotating PU Leather Case Cover For ASUS MeMO Pad HD 7 ME173X ME173 with Free Pen</td>\n",
       "      <td>Okeler Green 360 Rotating PU Leather Case Cover For ASUS MeMO Pad HD 7 ME173X ME173 with Free Pen</td>\n",
       "      <td>0.947417</td>\n",
       "    </tr>\n",
       "    <tr>\n",
       "      <th>84</th>\n",
       "      <td>Pad Cases,iPad 2 Case,iPad 3 Case,iPad 4 Case,TRAVELLOR[Heavy Duty] iPad Case,Three Layer Armor Defender And Full Body Protective Case Cover With Kickstand And Screen Protector for iPad 2/3/4(Black)</td>\n",
       "      <td>iPad Cases,iPad 2 Case,iPad 3 Case,iPad 4 Case,TRAVELLOR[Heavy Duty] iPad Case,Three Layer Armor Defender And Full Body Protective Case Cover With Kickstand And Screen Protector for iPad 2/3/4 - Gray/White</td>\n",
       "      <td>0.947415</td>\n",
       "    </tr>\n",
       "    <tr>\n",
       "      <th>36</th>\n",
       "      <td>Okeler Purple 360 Rotating PU Leather Case Cover For ASUS MeMO Pad HD 7 ME173X ME173 with Free Pen</td>\n",
       "      <td>Okeler Red 360 Rotating PU Leather Stand Case Cover For ASUS MeMO Pad HD 7 ME173X ME173 with Free Pen</td>\n",
       "      <td>0.941846</td>\n",
       "    </tr>\n",
       "    <tr>\n",
       "      <th>143</th>\n",
       "      <td>BIRUGEAR Leather Keyboard Portfolio Stand Case w/ Screen Protector for Asus Transformer Book T100 / T100TAF / T100T / T100TA / T100TAL / T100TAM - 10.1 inch Windows 8.1 Tablet</td>\n",
       "      <td>Evecase Leather Keyboard Portfolio Stand Case w/Handle Bag for Asus Transformer Book T100 / T100TAF / T100T / T100TA / T100TAL / T100TAM - 10.1 inch Windows 8.1 Tablet</td>\n",
       "      <td>0.941173</td>\n",
       "    </tr>\n",
       "    <tr>\n",
       "      <th>65</th>\n",
       "      <td>360 Premium Rotating Leather Case Cover Blue Map with Kickstand by KIQ with Kickstand for Apple iPad Air 1 1st Gen 9.7-inch Retina Display 2013 2014 (A1474, A1475, A1476)</td>\n",
       "      <td>360 Premium Rotating Leather Case Cover Polka Dot Pink with Kickstand by KIQ with Kickstand for Apple iPad Air 1 1st Gen 9.7-inch Retina Display 2013 2014 (A1474, A1475, A1476)</td>\n",
       "      <td>0.938488</td>\n",
       "    </tr>\n",
       "    <tr>\n",
       "      <th>67</th>\n",
       "      <td>Ematic EGQ307 7 Inch Tablet Case - UniGrip Edition - RED (Fits All EGQ307 Colors)</td>\n",
       "      <td>Ematic EGQ307 7 Inch Tablet Case - UniGrip Edition - PINK (Fits All EGQ307 Colors)</td>\n",
       "      <td>0.937870</td>\n",
       "    </tr>\n",
       "    <tr>\n",
       "      <th>68</th>\n",
       "      <td>Ematic EGQ307 7 Inch Tablet Case - UniGrip Edition - RED (Fits All EGQ307 Colors)</td>\n",
       "      <td>Ematic EGQ 307 7 Inch Tablet Case - UniGrip Edition - RED (Fits All EGQ307 Colors)</td>\n",
       "      <td>0.936903</td>\n",
       "    </tr>\n",
       "    <tr>\n",
       "      <th>100</th>\n",
       "      <td>VanGoddy Laurel Carrying Bag for Pentax Q-S1 / Q7 / Q10 / Q Mirrorless Digital Cameras (Dark Green)</td>\n",
       "      <td>VanGoddy Laurel Carrying Bag for Pentax Q-S1 / Q7 / Q10 / Q Mirrorless Digital Cameras (Blue)</td>\n",
       "      <td>0.936074</td>\n",
       "    </tr>\n",
       "    <tr>\n",
       "      <th>54</th>\n",
       "      <td>RND Dock for Moto X  (compatible without or with a slim-fit case) (black)</td>\n",
       "      <td>RND Dock for Moto G  (compatible without or with a slim-fit case) (black)</td>\n",
       "      <td>0.935378</td>\n",
       "    </tr>\n",
       "    <tr>\n",
       "      <th>184</th>\n",
       "      <td>OWC 480GB Aura Pro 6G SSD and Envoy Kit for MacBook Air 2012: Complete Upgrade&amp;nbsp;Solution with SSD Drive, Envoy Pro Enclosure, and Install Tools</td>\n",
       "      <td>480GB OWC Aura 6G SSD with Envoy Kit For MacBook Air 2012: Complete Upgrade&amp;nbsp;Solution with SSD Drive, Envoy Pro Enclosure, and Install Tools</td>\n",
       "      <td>0.929875</td>\n",
       "    </tr>\n",
       "    <tr>\n",
       "      <th>69</th>\n",
       "      <td>Ematic EGQ307 7 Inch Tablet Case - UniGrip Edition - RED (Fits All EGQ307 Colors)</td>\n",
       "      <td>Ematic EGQ307 7 Inch Tablet Case - UniGrip Edition - PURPLE (Fits All EGQ307 Colors)</td>\n",
       "      <td>0.926981</td>\n",
       "    </tr>\n",
       "    <tr>\n",
       "      <th>85</th>\n",
       "      <td>Pad Cases,iPad 2 Case,iPad 3 Case,iPad 4 Case,TRAVELLOR[Heavy Duty] iPad Case,Three Layer Armor Defender And Full Body Protective Case Cover With Kickstand And Screen Protector for iPad 2/3/4(Black)</td>\n",
       "      <td>iPad Cases,iPad 2 Case,iPad 4 Case,TRAVELLOR[Heavy Duty] iPad Case,Three Layer Armor Defender and Full Body Protective Case Cover with Kickstand and Screen Protector for iPad 2/3/4 - Red</td>\n",
       "      <td>0.924157</td>\n",
       "    </tr>\n",
       "    <tr>\n",
       "      <th>75</th>\n",
       "      <td>XShields for Mach Speed Trio Stealth G2 10.1&amp;quot; Elite (3-Pack) Tablet Screen Protectors (Ultra Clear)</td>\n",
       "      <td>XShields for Mach Speed Trio Stealth G2 10.1&amp;quot; Elite (5-Pack) Tablet Screen Protectors (Ultra Clear)</td>\n",
       "      <td>0.924092</td>\n",
       "    </tr>\n",
       "    <tr>\n",
       "      <th>9</th>\n",
       "      <td>GreatShield LEAN Series Slim Bluetooth Keyboard Leather Case with Sleep / Wake Cover for Google Nexus 7 FHD 2nd Gen (2013) - Black/Blue</td>\n",
       "      <td>GreatShield LEAN Series Ultra Slim Bluetooth Keyboard Leather Case with Sleep / Wake Cover for Google Nexus 7 FHD 2nd Gen (2013) - Black/Pink</td>\n",
       "      <td>0.921078</td>\n",
       "    </tr>\n",
       "    <tr>\n",
       "      <th>188</th>\n",
       "      <td>Nikon D5200 Digital SLR Camera Body (Black) with 18-140mm VR Lens + 32GB Card + Case + Flash + Battery + Filter + Tripod Kit</td>\n",
       "      <td>Nikon D7100 Digital SLR Camera Body with 18-140mm VR Lens + 32GB Card + Case + Flash + Battery + Filter + Tripod Kit</td>\n",
       "      <td>0.920481</td>\n",
       "    </tr>\n",
       "    <tr>\n",
       "      <th>101</th>\n",
       "      <td>VanGoddy Laurel Carrying Bag for Pentax Q-S1 / Q7 / Q10 / Q Mirrorless Digital Cameras (Dark Green)</td>\n",
       "      <td>VanGoddy Laurel Carrying Bag for Pentax Q-S1 / Q7 / Q10 / Q Mirrorless Digital Cameras (Purple)</td>\n",
       "      <td>0.919705</td>\n",
       "    </tr>\n",
       "    <tr>\n",
       "      <th>48</th>\n",
       "      <td>Turcom Professional Wireless Graphic Drawing Replacement Tablet Pen</td>\n",
       "      <td>Turcom Professional Wireless Graphic Drawing Tablet Replacement Pen White</td>\n",
       "      <td>0.917372</td>\n",
       "    </tr>\n",
       "    <tr>\n",
       "      <th>151</th>\n",
       "      <td>SmartGuard 3-Year Major Appliance Protection Plan ($250-$300)</td>\n",
       "      <td>SmartGuard 2-Year Major Appliance Protection Plan ($250-$300)</td>\n",
       "      <td>0.913490</td>\n",
       "    </tr>\n",
       "    <tr>\n",
       "      <th>86</th>\n",
       "      <td>Pad Cases,iPad 2 Case,iPad 3 Case,iPad 4 Case,TRAVELLOR[Heavy Duty] iPad Case,Three Layer Armor Defender And Full Body Protective Case Cover With Kickstand And Screen Protector for iPad 2/3/4(Black)</td>\n",
       "      <td>iPad Cases,iPad 2 Case,iPad 4 Case,TRAVELLOR[Heavy Duty] iPad Case,Three Layer Armor Defender and Full Body Protective Case Cover with Kickstand and Screen Protector for iPad 2/3/4 - Green/Black</td>\n",
       "      <td>0.910636</td>\n",
       "    </tr>\n",
       "    <tr>\n",
       "      <th>102</th>\n",
       "      <td>VanGoddy Laurel Carrying Bag for Pentax Q-S1 / Q7 / Q10 / Q Mirrorless Digital Cameras (Dark Green)</td>\n",
       "      <td>VanGoddy Laurel Carrying Bag for Pentax Q-S1 / Q7 / Q10 / Q Mirrorless Digital Cameras (Hot Pink)</td>\n",
       "      <td>0.910087</td>\n",
       "    </tr>\n",
       "    <tr>\n",
       "      <th>31</th>\n",
       "      <td>Assurant 5-Year Television Protection Plan ($2000-$2249.99)</td>\n",
       "      <td>Assurant 5-Year Television Protection Plan ($200-$249.99)</td>\n",
       "      <td>0.909246</td>\n",
       "    </tr>\n",
       "    <tr>\n",
       "      <th>118</th>\n",
       "      <td>Elecday Authentic Spider-man Extreme-Duty Military Survivor Silicone Plastic Protective Case Dual Layer water/Dust/Shock/Sand Proof Absorbing Kid-proof With Wall/Glass/Wood Attachable Kids Children Gift Stand Designed For Apple iPad Mini/ Mini2/ Mini 2</td>\n",
       "      <td>Elecday Authentic Spider-man Extreme-Duty Military Survivor Silicone Plastic Protective Case Dual Layer water/Dust/Shock/Sand Proof Absorbing Kid-proof With Wall/Glass/Wood Attachable Kids Children Gift Stand Designed For Apple iPad 5 / iPad Air (Rose/blue)</td>\n",
       "      <td>0.906605</td>\n",
       "    </tr>\n",
       "    <tr>\n",
       "      <th>159</th>\n",
       "      <td>Griffin, iPad mini 1/2/3 Case, Survivor CrossGrip, Protective Gaming Case with shoulder strap, Ergonomic, Rugged, Citron</td>\n",
       "      <td>Griffin, Survivor CrossGrip for iPad Air, Protective Gaming Case with shoulder strap, Ergonomic, Rugged, Citron</td>\n",
       "      <td>0.906405</td>\n",
       "    </tr>\n",
       "    <tr>\n",
       "      <th>87</th>\n",
       "      <td>Pad Cases,iPad 2 Case,iPad 3 Case,iPad 4 Case,TRAVELLOR[Heavy Duty] iPad Case,Three Layer Armor Defender And Full Body Protective Case Cover With Kickstand And Screen Protector for iPad 2/3/4(Black)</td>\n",
       "      <td>iPad 2 Case,iPad 3 Case,iPad 4 Case,TRAVELLOR [Heavy Duty] iPad Case,Three Layer Armor Defender And Full Body Protective Case Cover With Kickstand And Screen Protector for iPad 2/3/4 - Blue/White</td>\n",
       "      <td>0.904884</td>\n",
       "    </tr>\n",
       "    <tr>\n",
       "      <th>144</th>\n",
       "      <td>BIRUGEAR Leather Keyboard Portfolio Stand Case w/ Screen Protector for Asus Transformer Book T100 / T100TAF / T100T / T100TA / T100TAL / T100TAM - 10.1 inch Windows 8.1 Tablet</td>\n",
       "      <td>BIRUGEAR 12 Items Essential Accessories Bundle kit for Asus Transformer Book T100 / T100TAF / T100T / T100TA / T100TAL / T100TAM - 10.1 inch Windows 8.1 Tablet (Hot Pink Leather Keyboard Portfolio Stand Case included)</td>\n",
       "      <td>0.904044</td>\n",
       "    </tr>\n",
       "    <tr>\n",
       "      <th>70</th>\n",
       "      <td>Ematic EGQ307 7 Inch Tablet Case - UniGrip Edition - RED (Fits All EGQ307 Colors)</td>\n",
       "      <td>Ematic EGQ307 7 Inch Tablet Case - UniGrip Edition - ROYAL BLUE (Fits All EGQ307 Colors)</td>\n",
       "      <td>0.903351</td>\n",
       "    </tr>\n",
       "    <tr>\n",
       "      <th>145</th>\n",
       "      <td>BIRUGEAR Leather Keyboard Portfolio Stand Case w/ Screen Protector for Asus Transformer Book T100 / T100TAF / T100T / T100TA / T100TAL / T100TAM - 10.1 inch Windows 8.1 Tablet</td>\n",
       "      <td>BIRUGEAR 12 Items Essential Accessories Bundle Kit for Asus Transformer Book T100 / T100TAF / T100T / T100TA / T100TAL / T100TAM - 10.1 inch Windows 8.1 Tablet (Black Leather Portfolio Stand Case Cover with Keyboard Support included)</td>\n",
       "      <td>0.902760</td>\n",
       "    </tr>\n",
       "    <tr>\n",
       "      <th>185</th>\n",
       "      <td>OWC 480GB Aura Pro 6G SSD and Envoy Kit for MacBook Air 2012: Complete Upgrade&amp;nbsp;Solution with SSD Drive, Envoy Pro Enclosure, and Install Tools</td>\n",
       "      <td>1.0TB OWC Aura 6G SSD with Envoy Kit For MacBook Air 2012: Complete Upgrade&amp;nbsp;Solution with SSD Drive, Envoy Pro Enclosure, and Install Tools</td>\n",
       "      <td>0.900202</td>\n",
       "    </tr>\n",
       "    <tr>\n",
       "      <th>121</th>\n",
       "      <td>Nikon Coolpix S4300 USB Cable - UC-E6 USB</td>\n",
       "      <td>Nikon Coolpix S4000 USB Cable - UC-E6 USB</td>\n",
       "      <td>0.898487</td>\n",
       "    </tr>\n",
       "    <tr>\n",
       "      <th>11</th>\n",
       "      <td>iHip IP-LILDUDEBL Lil Dude Portable Mini Keychain Speaker (Blue)</td>\n",
       "      <td>iHip IP-LILDUDEBK Lil Dude Portable Mini Keychain Speaker (Black)</td>\n",
       "      <td>0.897614</td>\n",
       "    </tr>\n",
       "    <tr>\n",
       "      <th>178</th>\n",
       "      <td>Kicker 40CWRT122 CompRT Series 12 inch Subwoofer Dual 2 Ohm</td>\n",
       "      <td>Kicker 40CWRT102 CompRT Series 10 inch Subwoofer Dual 2 Ohm</td>\n",
       "      <td>0.896278</td>\n",
       "    </tr>\n",
       "    <tr>\n",
       "      <th>181</th>\n",
       "      <td>Kicker 40CWRT102 CompRT Series 10 inch Subwoofer Dual 2 Ohm</td>\n",
       "      <td>Kicker 40CWRT122 CompRT Series 12 inch Subwoofer Dual 2 Ohm</td>\n",
       "      <td>0.896278</td>\n",
       "    </tr>\n",
       "    <tr>\n",
       "      <th>182</th>\n",
       "      <td>Kicker 40CWRT102 CompRT Series 10 inch Subwoofer Dual 2 Ohm</td>\n",
       "      <td>Kicker 40CWRT101 CompRT Series 10 inch Subwoofer Dual 1 Ohm</td>\n",
       "      <td>0.893901</td>\n",
       "    </tr>\n",
       "    <tr>\n",
       "      <th>88</th>\n",
       "      <td>Pad Cases,iPad 2 Case,iPad 3 Case,iPad 4 Case,TRAVELLOR[Heavy Duty] iPad Case,Three Layer Armor Defender And Full Body Protective Case Cover With Kickstand And Screen Protector for iPad 2/3/4(Black)</td>\n",
       "      <td>iPad Cases,iPad 2 Case,iPad 3 Case,iPad 4 Case,TRAVELLOR&amp;reg;[Heavy Duty] iPad Case,Three Layer Armor Defender And Full Body Protective Case Cover With Kickstand And Screen Protector for iPad 2/3/4 - Navy/White</td>\n",
       "      <td>0.892557</td>\n",
       "    </tr>\n",
       "    <tr>\n",
       "      <th>89</th>\n",
       "      <td>Pad Cases,iPad 2 Case,iPad 3 Case,iPad 4 Case,TRAVELLOR[Heavy Duty] iPad Case,Three Layer Armor Defender And Full Body Protective Case Cover With Kickstand And Screen Protector for iPad 2/3/4(Black)</td>\n",
       "      <td>iPad Cases,iPad 2 Case,iPad 4 Case,TRAVELLOR [Heavy Duty] iPad Case,Three Layer Armor Defender And Full Body Protective Case Cover With Kickstand And Screen Protector for iPad 2/3/4 - Ice/White</td>\n",
       "      <td>0.891553</td>\n",
       "    </tr>\n",
       "    <tr>\n",
       "      <th>139</th>\n",
       "      <td>Kapaxen BP-718 Intelligent Battery for Select Canon VIXIA Full HD Camcorders</td>\n",
       "      <td>Kapaxen BP-709 Intelligent Battery for Select Canon VIXIA Full HD Camcorders</td>\n",
       "      <td>0.889262</td>\n",
       "    </tr>\n",
       "    <tr>\n",
       "      <th>160</th>\n",
       "      <td>Griffin, iPad mini 1/2/3 Case, Survivor CrossGrip, Protective Gaming Case with shoulder strap, Ergonomic, Rugged, Citron</td>\n",
       "      <td>Griffin, Survivor CrossGrip for iPad mini, Protective Gaming Case with shoulder strap, Ergonomic, Rugged, Black</td>\n",
       "      <td>0.888742</td>\n",
       "    </tr>\n",
       "    <tr>\n",
       "      <th>164</th>\n",
       "      <td>URBANEARS Plattan Over-Ear Headphones - Cobalt</td>\n",
       "      <td>URBANEARS Plattan Over-Ear Headphones - Clover</td>\n",
       "      <td>0.888738</td>\n",
       "    </tr>\n",
       "    <tr>\n",
       "      <th>122</th>\n",
       "      <td>Nikon Coolpix S4300 USB Cable - UC-E6 USB</td>\n",
       "      <td>Nikon Coolpix S4200 USB Cable - UC-E6 USB</td>\n",
       "      <td>0.887582</td>\n",
       "    </tr>\n",
       "    <tr>\n",
       "      <th>123</th>\n",
       "      <td>Nikon Coolpix S4300 USB Cable - UC-E6 USB</td>\n",
       "      <td>Nikon Coolpix S4100 USB Cable - UC-E6 USB</td>\n",
       "      <td>0.886986</td>\n",
       "    </tr>\n",
       "    <tr>\n",
       "      <th>96</th>\n",
       "      <td>Pro Digital Hard Lens Hood For The JVC Everio GZ-MG680, MG670, MG630, MG465, MG435, MG365, MG360, MG335, MG330, MG230 High Definition Camcorders</td>\n",
       "      <td>PROFESSIONAL 72 Inch Full Size Tripod with Carrying Case For The JVC Everio GZ-MG680, MG670, MG630, MG465, MG435, MG365, MG360, MG335, MG330, MG230 High Definition Camcorders with Exclusive FREE Complimentary Super Deal Micro Fiber Lens Cleaning Cloth</td>\n",
       "      <td>0.886503</td>\n",
       "    </tr>\n",
       "    <tr>\n",
       "      <th>119</th>\n",
       "      <td>Elecday Authentic Spider-man Extreme-Duty Military Survivor Silicone Plastic Protective Case Dual Layer water/Dust/Shock/Sand Proof Absorbing Kid-proof With Wall/Glass/Wood Attachable Kids Children Gift Stand Designed For Apple iPad Mini/ Mini2/ Mini 2</td>\n",
       "      <td>Elecday Authentic Spider-man Extreme-Duty Military Survivor Silicone Plastic Protective Case Dual Layer water/Dust/Shock/Sand Proof Absorbing Kid-proof With Wall/Glass/Wood Attachable Kids Children Gift Stand Designed For Apple iPad 5 / iPad Air (Olive/olive)</td>\n",
       "      <td>0.885992</td>\n",
       "    </tr>\n",
       "    <tr>\n",
       "      <th>90</th>\n",
       "      <td>Pad Cases,iPad 2 Case,iPad 3 Case,iPad 4 Case,TRAVELLOR[Heavy Duty] iPad Case,Three Layer Armor Defender And Full Body Protective Case Cover With Kickstand And Screen Protector for iPad 2/3/4(Black)</td>\n",
       "      <td>iPad Cases,iPad 2 Case,iPad 3 Case,iPad 4 Case,TRAVELLOR&amp;reg;[Heavy Duty] iPad Case,Three Layer Armor Defender And Full Body Protective Case Cover With Kickstand And Screen Protector for iPad 2/3/4 - Army/Olive</td>\n",
       "      <td>0.885624</td>\n",
       "    </tr>\n",
       "    <tr>\n",
       "      <th>97</th>\n",
       "      <td>Pro Digital Hard Lens Hood For The JVC Everio GZ-MG680, MG670, MG630, MG465, MG435, MG365, MG360, MG335, MG330, MG230 High Definition Camcorders</td>\n",
       "      <td>PROFESSIONAL 67 Inch Full Size Tripod with Carrying Case For The JVC Everio GZ-MG680, MG670, MG630, MG465, MG435, MG365, MG360, MG335, MG330, MG230 High Definition Camcorders with Exclusive FREE Complimentary Super Deal Micro Fiber Lens Cleaning Cloth</td>\n",
       "      <td>0.884219</td>\n",
       "    </tr>\n",
       "    <tr>\n",
       "      <th>124</th>\n",
       "      <td>Nikon Coolpix S4300 USB Cable - UC-E6 USB</td>\n",
       "      <td>Nikon Coolpix S3000 USB Cable - UC-E6 USB</td>\n",
       "      <td>0.884167</td>\n",
       "    </tr>\n",
       "    <tr>\n",
       "      <th>32</th>\n",
       "      <td>Assurant 5-Year Television Protection Plan ($2000-$2249.99)</td>\n",
       "      <td>Assurant 4-Year Television Protection Plan ($2000-$2249.99)</td>\n",
       "      <td>0.882937</td>\n",
       "    </tr>\n",
       "    <tr>\n",
       "      <th>125</th>\n",
       "      <td>Nikon Coolpix S4300 USB Cable - UC-E6 USB</td>\n",
       "      <td>Nikon Coolpix S4400 USB Cable - UC-E6 USB</td>\n",
       "      <td>0.880355</td>\n",
       "    </tr>\n",
       "    <tr>\n",
       "      <th>71</th>\n",
       "      <td>Ematic EGQ307 7 Inch Tablet Case - UniGrip Edition - RED (Fits All EGQ307 Colors)</td>\n",
       "      <td>Ematic EGQ 307 7 Inch Tablet Case - UniGrip Edition - BLACK (Fits All EGQ307 Colors)</td>\n",
       "      <td>0.874549</td>\n",
       "    </tr>\n",
       "    <tr>\n",
       "      <th>18</th>\n",
       "      <td>LB1 High Performance Battery for HP Pavilion DV7-3078NR, Fits: HSTNN-OB75, HSTNN-Q35C, GA08, HSTNN-C50C</td>\n",
       "      <td>LB1 High Performance Battery for HP Pavilion dv7-3188cl, Fits: HSTNN-OB75, HSTNN-Q35C, GA08, HSTNN-C50C</td>\n",
       "      <td>0.865607</td>\n",
       "    </tr>\n",
       "    <tr>\n",
       "      <th>2</th>\n",
       "      <td>Toshiba Satellite L670-17E Laptop Screen 17.3 LED BOTTOM LEFT WXGA++ 1600x900</td>\n",
       "      <td>Toshiba Satellite L675D-S7016 Laptop Screen 17.3 LED BOTTOM LEFT WXGA++ 1600x900</td>\n",
       "      <td>0.863419</td>\n",
       "    </tr>\n",
       "    <tr>\n",
       "      <th>103</th>\n",
       "      <td>VanGoddy Laurel Carrying Bag for Pentax Q-S1 / Q7 / Q10 / Q Mirrorless Digital Cameras (Dark Green)</td>\n",
       "      <td>VanGoddy Laurel Carrying Bag for Pentax Q-S1 / Q7 / Q10 / Q Mirrorless Digital Cameras + Mini Tripod + Screen Protector (Black)</td>\n",
       "      <td>0.862900</td>\n",
       "    </tr>\n",
       "    <tr>\n",
       "      <th>12</th>\n",
       "      <td>iHip IP-LILDUDEBL Lil Dude Portable Mini Keychain Speaker (Blue)</td>\n",
       "      <td>iHip IP-LILDUDER Lil Dude Portable Mini Keychain Speaker (Red)</td>\n",
       "      <td>0.862342</td>\n",
       "    </tr>\n",
       "    <tr>\n",
       "      <th>126</th>\n",
       "      <td>Nikon Coolpix S4300 USB Cable - UC-E6 USB</td>\n",
       "      <td>Nikon Coolpix S6300 USB Cable - UC-E6 USB</td>\n",
       "      <td>0.861471</td>\n",
       "    </tr>\n",
       "    <tr>\n",
       "      <th>42</th>\n",
       "      <td>Ematic EM63 7&amp;quot; Tablet Case - UniGrip Edition - PURPLE</td>\n",
       "      <td>Ematic EM63 7&amp;quot; Tablet Case - UniGrip Edition - RED</td>\n",
       "      <td>0.861003</td>\n",
       "    </tr>\n",
       "    <tr>\n",
       "      <th>165</th>\n",
       "      <td>URBANEARS Plattan Over-Ear Headphones - Cobalt</td>\n",
       "      <td>URBANEARS Plattan Over-Ear Headphones - Lilac</td>\n",
       "      <td>0.858871</td>\n",
       "    </tr>\n",
       "    <tr>\n",
       "      <th>173</th>\n",
       "      <td>Duck Dynasty Custom Case for iPod Touch 4, VICustom iTouch 4 Protective Cover(Black&amp;amp;White) - Retail Packaging</td>\n",
       "      <td>Machine Gun Kelly Custom Case for iPod Touch 4, VICustom iTouch 4 Protective Cover(Black&amp;amp;White) - Retail Packaging</td>\n",
       "      <td>0.858504</td>\n",
       "    </tr>\n",
       "    <tr>\n",
       "      <th>33</th>\n",
       "      <td>Assurant 5-Year Television Protection Plan ($2000-$2249.99)</td>\n",
       "      <td>Assurant 5-Year Television Protection Plan ($2250-$2499.99)</td>\n",
       "      <td>0.856127</td>\n",
       "    </tr>\n",
       "    <tr>\n",
       "      <th>127</th>\n",
       "      <td>Nikon Coolpix S4300 USB Cable - UC-E6 USB</td>\n",
       "      <td>Nikon Coolpix S2500 USB Cable - UC-E6 USB</td>\n",
       "      <td>0.856099</td>\n",
       "    </tr>\n",
       "    <tr>\n",
       "      <th>161</th>\n",
       "      <td>Griffin, iPad mini 1/2/3 Case, Survivor CrossGrip, Protective Gaming Case with shoulder strap, Ergonomic, Rugged, Citron</td>\n",
       "      <td>Griffin Survivor CrossGrip for iPad Air 2, Protective Gaming Case with shoulder strap, Ergonomic, Rugged, Black</td>\n",
       "      <td>0.850612</td>\n",
       "    </tr>\n",
       "    <tr>\n",
       "      <th>3</th>\n",
       "      <td>Toshiba Satellite L670-17E Laptop Screen 17.3 LED BOTTOM LEFT WXGA++ 1600x900</td>\n",
       "      <td>Toshiba Satellite L675D-S7105 Laptop Screen 17.3 LED BOTTOM LEFT WXGA++ 1600x900</td>\n",
       "      <td>0.848321</td>\n",
       "    </tr>\n",
       "    <tr>\n",
       "      <th>128</th>\n",
       "      <td>Nikon Coolpix S4300 USB Cable - UC-E6 USB</td>\n",
       "      <td>Nikon Coolpix S6100 USB Cable - UC-E6 USB</td>\n",
       "      <td>0.848265</td>\n",
       "    </tr>\n",
       "    <tr>\n",
       "      <th>43</th>\n",
       "      <td>Ematic EM63 7&amp;quot; Tablet Case - UniGrip Edition - PURPLE</td>\n",
       "      <td>Ematic EM63 7&amp;quot; Tablet Case - UniGrip Edition - BLACK</td>\n",
       "      <td>0.846176</td>\n",
       "    </tr>\n",
       "    <tr>\n",
       "      <th>4</th>\n",
       "      <td>Toshiba Satellite L670-17E Laptop Screen 17.3 LED BOTTOM LEFT WXGA++ 1600x900</td>\n",
       "      <td>Toshiba Satellite L675D-S7106 Laptop Screen 17.3 LED BOTTOM LEFT WXGA++ 1600x900</td>\n",
       "      <td>0.846123</td>\n",
       "    </tr>\n",
       "    <tr>\n",
       "      <th>152</th>\n",
       "      <td>SmartGuard 3-Year Major Appliance Protection Plan ($250-$300)</td>\n",
       "      <td>SmartGuard 5-Year Major Appliance Protection Plan ($2500-$3000)</td>\n",
       "      <td>0.845862</td>\n",
       "    </tr>\n",
       "    <tr>\n",
       "      <th>5</th>\n",
       "      <td>Toshiba Satellite L670-17E Laptop Screen 17.3 LED BOTTOM LEFT WXGA++ 1600x900</td>\n",
       "      <td>Toshiba Satellite L675D-S7107 Laptop Screen 17.3 LED BOTTOM LEFT WXGA++ 1600x900</td>\n",
       "      <td>0.843419</td>\n",
       "    </tr>\n",
       "    <tr>\n",
       "      <th>129</th>\n",
       "      <td>Nikon Coolpix S4300 USB Cable - UC-E6 USB</td>\n",
       "      <td>Nikon Coolpix S8200 USB Cable - UC-E6 USB</td>\n",
       "      <td>0.842053</td>\n",
       "    </tr>\n",
       "    <tr>\n",
       "      <th>104</th>\n",
       "      <td>VanGoddy Laurel Carrying Bag for Pentax Q-S1 / Q7 / Q10 / Q Mirrorless Digital Cameras (Dark Green)</td>\n",
       "      <td>VanGoddy Laurel Carrying Bag for Pentax Q-S1 / Q7 / Q10 / Q Mirrorless Digital Cameras + Mini Tripod + Screen Protector (Hot Pink)</td>\n",
       "      <td>0.840938</td>\n",
       "    </tr>\n",
       "    <tr>\n",
       "      <th>146</th>\n",
       "      <td>BIRUGEAR Leather Keyboard Portfolio Stand Case w/ Screen Protector for Asus Transformer Book T100 / T100TAF / T100T / T100TA / T100TAL / T100TAM - 10.1 inch Windows 8.1 Tablet</td>\n",
       "      <td>EZOPower 6ft Micro USB 2-in-1 Sync &amp;amp; Charging Data Cable + USB Host OTG Cable for Asus Transformer Book T100 / T100TAF / T100T / T100TA / T100TAL / T100TAM - 10.1 inch Windows 8.1 Tablet</td>\n",
       "      <td>0.837936</td>\n",
       "    </tr>\n",
       "    <tr>\n",
       "      <th>189</th>\n",
       "      <td>Nikon D5200 Digital SLR Camera Body (Black) with 18-140mm VR Lens + 32GB Card + Case + Flash + Battery + Filter + Tripod Kit</td>\n",
       "      <td>Nikon D5300 Digital SLR Camera Body (Black) with 18-140mm VR Zoom Lens + 64GB Card + Case + Flash + Grip + Battery + Tripod Kit</td>\n",
       "      <td>0.833954</td>\n",
       "    </tr>\n",
       "    <tr>\n",
       "      <th>190</th>\n",
       "      <td>Nikon D5200 Digital SLR Camera Body (Black) with 18-140mm VR Lens + 32GB Card + Case + Flash + Battery + Filter + Tripod Kit</td>\n",
       "      <td>Nikon D5300 Digital SLR Camera Body (Black) with 18-140mm VR Zoom Lens + 32GB Card + Case + Battery + Tripod + Kit</td>\n",
       "      <td>0.833493</td>\n",
       "    </tr>\n",
       "    <tr>\n",
       "      <th>22</th>\n",
       "      <td>SwitchEasy Colors Silicone Case for iPod touch 5G (Blue)</td>\n",
       "      <td>SwitchEasy Colors Silicone Case for iPod touch 5G (Viola)</td>\n",
       "      <td>0.830533</td>\n",
       "    </tr>\n",
       "    <tr>\n",
       "      <th>23</th>\n",
       "      <td>SwitchEasy Colors Silicone Case for iPod touch 5G (Blue)</td>\n",
       "      <td>SwitchEasy Colors Silicone Case for iPod touch 5G (Crimson)</td>\n",
       "      <td>0.825701</td>\n",
       "    </tr>\n",
       "    <tr>\n",
       "      <th>174</th>\n",
       "      <td>Duck Dynasty Custom Case for iPod Touch 4, VICustom iTouch 4 Protective Cover(Black&amp;amp;White) - Retail Packaging</td>\n",
       "      <td>Minecraft Custom Case for iPod Touch 4, VICustom iTouch 4 Protective Cover(Black&amp;amp;White) - Retail Packaging&amp;hellip;</td>\n",
       "      <td>0.825558</td>\n",
       "    </tr>\n",
       "    <tr>\n",
       "      <th>179</th>\n",
       "      <td>Kicker 40CWRT122 CompRT Series 12 inch Subwoofer Dual 2 Ohm</td>\n",
       "      <td>Kicker 40CWRT101 CompRT Series 10 inch Subwoofer Dual 1 Ohm</td>\n",
       "      <td>0.825139</td>\n",
       "    </tr>\n",
       "    <tr>\n",
       "      <th>191</th>\n",
       "      <td>Nikon D5200 Digital SLR Camera Body (Black) with 18-140mm VR Lens + 32GB Card + Case + Flash + Battery + Filter + Tripod Kit</td>\n",
       "      <td>Nikon D5300 Digital SLR Camera Body (Black) with 18-140mm VR Zoom Lens + 64GB Card + Case + Flash + Battery &amp;amp; Charger + Tripod Kit</td>\n",
       "      <td>0.820134</td>\n",
       "    </tr>\n",
       "    <tr>\n",
       "      <th>147</th>\n",
       "      <td>BIRUGEAR Leather Keyboard Portfolio Stand Case w/ Screen Protector for Asus Transformer Book T100 / T100TAF / T100T / T100TA / T100TAL / T100TAM - 10.1 inch Windows 8.1 Tablet</td>\n",
       "      <td>EZOPower Bundle of 3: 6ft Micro USB Data Cable + USB Host OTG Cable + Micro HDMI Cable for Asus Transformer Book T100 / T100TAF / T100T / T100TA / T100TAL / T100TAM - 10.1 inch Windows 8.1 Tablet</td>\n",
       "      <td>0.817133</td>\n",
       "    </tr>\n",
       "    <tr>\n",
       "      <th>24</th>\n",
       "      <td>SwitchEasy Colors Silicone Case for iPod touch 5G (Blue)</td>\n",
       "      <td>SwitchEasy Colors Silicone Case for iPod Touch 5G - Lime</td>\n",
       "      <td>0.817075</td>\n",
       "    </tr>\n",
       "    <tr>\n",
       "      <th>29</th>\n",
       "      <td>Oisound Wireless bluetooth Music Fountain Dancing Water Speakers/Apple Speakers(White)</td>\n",
       "      <td>Oisound Fountain Dancing Water Music Speakers/Apple Speakers(Black)</td>\n",
       "      <td>0.810688</td>\n",
       "    </tr>\n",
       "    <tr>\n",
       "      <th>167</th>\n",
       "      <td>Aiphone LEF-10S Open Voice Selective Call Master Intercom with All-Call; Surface Mount; Accepts Up to 10 Connecting Door, Sub-Master, or Master Intercoms</td>\n",
       "      <td>Aiphone LEF-3 Open Voice Selective Call Master Intercom, Accepts Up to Three Connecting Door, Sub-Master, or Master Intercoms</td>\n",
       "      <td>0.810526</td>\n",
       "    </tr>\n",
       "    <tr>\n",
       "      <th>136</th>\n",
       "      <td>Ubuntu Linux 13.04 on a Bootable 8GB USB Flash Drive - 32-bit and 64-bit.</td>\n",
       "      <td>Ubuntu Linux 14.04 Bootable 8GB USB Flash Drive - Contains Both 32-bit and 64-bit.</td>\n",
       "      <td>0.808179</td>\n",
       "    </tr>\n",
       "    <tr>\n",
       "      <th>25</th>\n",
       "      <td>SwitchEasy Colors Silicone Case for iPod touch 5G (Blue)</td>\n",
       "      <td>SwitchEasy Colors Silicone Case for iPod touch 5G (Turquoise)</td>\n",
       "      <td>0.807870</td>\n",
       "    </tr>\n",
       "    <tr>\n",
       "      <th>192</th>\n",
       "      <td>Nikon D5200 Digital SLR Camera Body (Black) with 18-140mm VR Lens + 32GB Card + Case + Flash + Battery + Filter + Tripod Kit</td>\n",
       "      <td>Nikon D5200 Digital SLR Camera Body with 18-140mm VR Lens + 32GB Card + Case + Grip + Battery/Charger + Remote + Filter Kit</td>\n",
       "      <td>0.806763</td>\n",
       "    </tr>\n",
       "    <tr>\n",
       "      <th>77</th>\n",
       "      <td>Manfrotto MB MP-BP-30BB Pro Backpack 30 (Black)</td>\n",
       "      <td>Manfrotto MB MP-BP-20BB Pro Backpack 20 (Black)</td>\n",
       "      <td>0.806256</td>\n",
       "    </tr>\n",
       "    <tr>\n",
       "      <th>175</th>\n",
       "      <td>Duck Dynasty Custom Case for iPod Touch 4, VICustom iTouch 4 Protective Cover(Black&amp;amp;White) - Retail Packaging</td>\n",
       "      <td>Sherlock Custom Case for iPod Touch 5, VICustom iTouch 5 Protective Cover(Black&amp;amp;White) - Retail Packaging</td>\n",
       "      <td>0.805886</td>\n",
       "    </tr>\n",
       "    <tr>\n",
       "      <th>176</th>\n",
       "      <td>Duck Dynasty Custom Case for iPod Touch 4, VICustom iTouch 4 Protective Cover(Black&amp;amp;White) - Retail Packaging</td>\n",
       "      <td>The Legend of Zelda Custom Case for iPod Touch 4, VICustom iTouch 4 Protective Cover(Black&amp;amp;White) - Retail Packing</td>\n",
       "      <td>0.804666</td>\n",
       "    </tr>\n",
       "    <tr>\n",
       "      <th>55</th>\n",
       "      <td>RND Dock for Moto X  (compatible without or with a slim-fit case) (black)</td>\n",
       "      <td>RND Dock and 2nd Battery Charger for LG G3  (compatible without or with a slim-fit case) (black)</td>\n",
       "      <td>0.804607</td>\n",
       "    </tr>\n",
       "    <tr>\n",
       "      <th>56</th>\n",
       "      <td>RND Dock for Moto X  (compatible without or with a slim-fit case) (black)</td>\n",
       "      <td>RND Dock for Google Nexus 5 (compatible with or without a slim-fit case) (black)</td>\n",
       "      <td>0.802828</td>\n",
       "    </tr>\n",
       "    <tr>\n",
       "      <th>193</th>\n",
       "      <td>Nikon D5200 Digital SLR Camera Body (Black) with 18-140mm VR Lens + 32GB Card + Case + Flash + Battery + Filter + Tripod Kit</td>\n",
       "      <td>Nikon D5500 Wi-Fi Digital SLR Camera Body (Black) with 18-200mm VC Lens + 32GB Card + Case + Battery + Tripod + Filter + Kit</td>\n",
       "      <td>0.801593</td>\n",
       "    </tr>\n",
       "    <tr>\n",
       "      <th>194</th>\n",
       "      <td>Nikon D5200 Digital SLR Camera Body (Black) with 18-140mm VR Lens + 32GB Card + Case + Flash + Battery + Filter + Tripod Kit</td>\n",
       "      <td>Nikon D5300 Digital SLR Camera Body (Grey) with 18-140mm VR Zoom Lens + 32GB Card + Backpack + Flash + Battery + Tripod Kit</td>\n",
       "      <td>0.800220</td>\n",
       "    </tr>\n",
       "  </tbody>\n",
       "</table>\n",
       "</div>"
      ],
      "text/plain": [
       "                                                                                                                                                                                                                                                        left_side  \\\n",
       "50   iPad Air 2 &amp; 1 Bluetooth Keyboard Case, QQ-Tech&reg; Premium Series PU Leather Case Cover W Removable Wireless Keyboard for iPad Air 1st and 2nd [Best iPad Companion] &ndash; Red                                                                         \n",
       "51   iPad Air 2 &amp; 1 Bluetooth Keyboard Case, QQ-Tech&reg; Premium Series PU Leather Case Cover W Removable Wireless Keyboard for iPad Air 1st and 2nd [Best iPad Companion] &ndash; Red                                                                         \n",
       "62   360 Premium Rotating Leather Case Cover Blue Map with Kickstand by KIQ with Kickstand for Apple iPad Air 1 1st Gen 9.7-inch Retina Display 2013 2014 (A1474, A1475, A1476)                                                                                     \n",
       "63   360 Premium Rotating Leather Case Cover Blue Map with Kickstand by KIQ with Kickstand for Apple iPad Air 1 1st Gen 9.7-inch Retina Display 2013 2014 (A1474, A1475, A1476)                                                                                     \n",
       "82   Pad Cases,iPad 2 Case,iPad 3 Case,iPad 4 Case,TRAVELLOR[Heavy Duty] iPad Case,Three Layer Armor Defender And Full Body Protective Case Cover With Kickstand And Screen Protector for iPad 2/3/4(Black)                                                         \n",
       "83   Pad Cases,iPad 2 Case,iPad 3 Case,iPad 4 Case,TRAVELLOR[Heavy Duty] iPad Case,Three Layer Armor Defender And Full Body Protective Case Cover With Kickstand And Screen Protector for iPad 2/3/4(Black)                                                         \n",
       "117  Elecday Authentic Spider-man Extreme-Duty Military Survivor Silicone Plastic Protective Case Dual Layer water/Dust/Shock/Sand Proof Absorbing Kid-proof With Wall/Glass/Wood Attachable Kids Children Gift Stand Designed For Apple iPad Mini/ Mini2/ Mini 2   \n",
       "64   360 Premium Rotating Leather Case Cover Blue Map with Kickstand by KIQ with Kickstand for Apple iPad Air 1 1st Gen 9.7-inch Retina Display 2013 2014 (A1474, A1475, A1476)                                                                                     \n",
       "35   Okeler Purple 360 Rotating PU Leather Case Cover For ASUS MeMO Pad HD 7 ME173X ME173 with Free Pen                                                                                                                                                             \n",
       "84   Pad Cases,iPad 2 Case,iPad 3 Case,iPad 4 Case,TRAVELLOR[Heavy Duty] iPad Case,Three Layer Armor Defender And Full Body Protective Case Cover With Kickstand And Screen Protector for iPad 2/3/4(Black)                                                         \n",
       "36   Okeler Purple 360 Rotating PU Leather Case Cover For ASUS MeMO Pad HD 7 ME173X ME173 with Free Pen                                                                                                                                                             \n",
       "143  BIRUGEAR Leather Keyboard Portfolio Stand Case w/ Screen Protector for Asus Transformer Book T100 / T100TAF / T100T / T100TA / T100TAL / T100TAM - 10.1 inch Windows 8.1 Tablet                                                                                \n",
       "65   360 Premium Rotating Leather Case Cover Blue Map with Kickstand by KIQ with Kickstand for Apple iPad Air 1 1st Gen 9.7-inch Retina Display 2013 2014 (A1474, A1475, A1476)                                                                                     \n",
       "67   Ematic EGQ307 7 Inch Tablet Case - UniGrip Edition - RED (Fits All EGQ307 Colors)                                                                                                                                                                              \n",
       "68   Ematic EGQ307 7 Inch Tablet Case - UniGrip Edition - RED (Fits All EGQ307 Colors)                                                                                                                                                                              \n",
       "100  VanGoddy Laurel Carrying Bag for Pentax Q-S1 / Q7 / Q10 / Q Mirrorless Digital Cameras (Dark Green)                                                                                                                                                            \n",
       "54   RND Dock for Moto X  (compatible without or with a slim-fit case) (black)                                                                                                                                                                                      \n",
       "184  OWC 480GB Aura Pro 6G SSD and Envoy Kit for MacBook Air 2012: Complete Upgrade&nbsp;Solution with SSD Drive, Envoy Pro Enclosure, and Install Tools                                                                                                            \n",
       "69   Ematic EGQ307 7 Inch Tablet Case - UniGrip Edition - RED (Fits All EGQ307 Colors)                                                                                                                                                                              \n",
       "85   Pad Cases,iPad 2 Case,iPad 3 Case,iPad 4 Case,TRAVELLOR[Heavy Duty] iPad Case,Three Layer Armor Defender And Full Body Protective Case Cover With Kickstand And Screen Protector for iPad 2/3/4(Black)                                                         \n",
       "75   XShields for Mach Speed Trio Stealth G2 10.1&quot; Elite (3-Pack) Tablet Screen Protectors (Ultra Clear)                                                                                                                                                       \n",
       "9    GreatShield LEAN Series Slim Bluetooth Keyboard Leather Case with Sleep / Wake Cover for Google Nexus 7 FHD 2nd Gen (2013) - Black/Blue                                                                                                                        \n",
       "188  Nikon D5200 Digital SLR Camera Body (Black) with 18-140mm VR Lens + 32GB Card + Case + Flash + Battery + Filter + Tripod Kit                                                                                                                                   \n",
       "101  VanGoddy Laurel Carrying Bag for Pentax Q-S1 / Q7 / Q10 / Q Mirrorless Digital Cameras (Dark Green)                                                                                                                                                            \n",
       "48   Turcom Professional Wireless Graphic Drawing Replacement Tablet Pen                                                                                                                                                                                            \n",
       "151  SmartGuard 3-Year Major Appliance Protection Plan ($250-$300)                                                                                                                                                                                                  \n",
       "86   Pad Cases,iPad 2 Case,iPad 3 Case,iPad 4 Case,TRAVELLOR[Heavy Duty] iPad Case,Three Layer Armor Defender And Full Body Protective Case Cover With Kickstand And Screen Protector for iPad 2/3/4(Black)                                                         \n",
       "102  VanGoddy Laurel Carrying Bag for Pentax Q-S1 / Q7 / Q10 / Q Mirrorless Digital Cameras (Dark Green)                                                                                                                                                            \n",
       "31   Assurant 5-Year Television Protection Plan ($2000-$2249.99)                                                                                                                                                                                                    \n",
       "118  Elecday Authentic Spider-man Extreme-Duty Military Survivor Silicone Plastic Protective Case Dual Layer water/Dust/Shock/Sand Proof Absorbing Kid-proof With Wall/Glass/Wood Attachable Kids Children Gift Stand Designed For Apple iPad Mini/ Mini2/ Mini 2   \n",
       "159  Griffin, iPad mini 1/2/3 Case, Survivor CrossGrip, Protective Gaming Case with shoulder strap, Ergonomic, Rugged, Citron                                                                                                                                       \n",
       "87   Pad Cases,iPad 2 Case,iPad 3 Case,iPad 4 Case,TRAVELLOR[Heavy Duty] iPad Case,Three Layer Armor Defender And Full Body Protective Case Cover With Kickstand And Screen Protector for iPad 2/3/4(Black)                                                         \n",
       "144  BIRUGEAR Leather Keyboard Portfolio Stand Case w/ Screen Protector for Asus Transformer Book T100 / T100TAF / T100T / T100TA / T100TAL / T100TAM - 10.1 inch Windows 8.1 Tablet                                                                                \n",
       "70   Ematic EGQ307 7 Inch Tablet Case - UniGrip Edition - RED (Fits All EGQ307 Colors)                                                                                                                                                                              \n",
       "145  BIRUGEAR Leather Keyboard Portfolio Stand Case w/ Screen Protector for Asus Transformer Book T100 / T100TAF / T100T / T100TA / T100TAL / T100TAM - 10.1 inch Windows 8.1 Tablet                                                                                \n",
       "185  OWC 480GB Aura Pro 6G SSD and Envoy Kit for MacBook Air 2012: Complete Upgrade&nbsp;Solution with SSD Drive, Envoy Pro Enclosure, and Install Tools                                                                                                            \n",
       "121  Nikon Coolpix S4300 USB Cable - UC-E6 USB                                                                                                                                                                                                                      \n",
       "11   iHip IP-LILDUDEBL Lil Dude Portable Mini Keychain Speaker (Blue)                                                                                                                                                                                               \n",
       "178  Kicker 40CWRT122 CompRT Series 12 inch Subwoofer Dual 2 Ohm                                                                                                                                                                                                    \n",
       "181  Kicker 40CWRT102 CompRT Series 10 inch Subwoofer Dual 2 Ohm                                                                                                                                                                                                    \n",
       "182  Kicker 40CWRT102 CompRT Series 10 inch Subwoofer Dual 2 Ohm                                                                                                                                                                                                    \n",
       "88   Pad Cases,iPad 2 Case,iPad 3 Case,iPad 4 Case,TRAVELLOR[Heavy Duty] iPad Case,Three Layer Armor Defender And Full Body Protective Case Cover With Kickstand And Screen Protector for iPad 2/3/4(Black)                                                         \n",
       "89   Pad Cases,iPad 2 Case,iPad 3 Case,iPad 4 Case,TRAVELLOR[Heavy Duty] iPad Case,Three Layer Armor Defender And Full Body Protective Case Cover With Kickstand And Screen Protector for iPad 2/3/4(Black)                                                         \n",
       "139  Kapaxen BP-718 Intelligent Battery for Select Canon VIXIA Full HD Camcorders                                                                                                                                                                                   \n",
       "160  Griffin, iPad mini 1/2/3 Case, Survivor CrossGrip, Protective Gaming Case with shoulder strap, Ergonomic, Rugged, Citron                                                                                                                                       \n",
       "164  URBANEARS Plattan Over-Ear Headphones - Cobalt                                                                                                                                                                                                                 \n",
       "122  Nikon Coolpix S4300 USB Cable - UC-E6 USB                                                                                                                                                                                                                      \n",
       "123  Nikon Coolpix S4300 USB Cable - UC-E6 USB                                                                                                                                                                                                                      \n",
       "96   Pro Digital Hard Lens Hood For The JVC Everio GZ-MG680, MG670, MG630, MG465, MG435, MG365, MG360, MG335, MG330, MG230 High Definition Camcorders                                                                                                               \n",
       "119  Elecday Authentic Spider-man Extreme-Duty Military Survivor Silicone Plastic Protective Case Dual Layer water/Dust/Shock/Sand Proof Absorbing Kid-proof With Wall/Glass/Wood Attachable Kids Children Gift Stand Designed For Apple iPad Mini/ Mini2/ Mini 2   \n",
       "90   Pad Cases,iPad 2 Case,iPad 3 Case,iPad 4 Case,TRAVELLOR[Heavy Duty] iPad Case,Three Layer Armor Defender And Full Body Protective Case Cover With Kickstand And Screen Protector for iPad 2/3/4(Black)                                                         \n",
       "97   Pro Digital Hard Lens Hood For The JVC Everio GZ-MG680, MG670, MG630, MG465, MG435, MG365, MG360, MG335, MG330, MG230 High Definition Camcorders                                                                                                               \n",
       "124  Nikon Coolpix S4300 USB Cable - UC-E6 USB                                                                                                                                                                                                                      \n",
       "32   Assurant 5-Year Television Protection Plan ($2000-$2249.99)                                                                                                                                                                                                    \n",
       "125  Nikon Coolpix S4300 USB Cable - UC-E6 USB                                                                                                                                                                                                                      \n",
       "71   Ematic EGQ307 7 Inch Tablet Case - UniGrip Edition - RED (Fits All EGQ307 Colors)                                                                                                                                                                              \n",
       "18   LB1 High Performance Battery for HP Pavilion DV7-3078NR, Fits: HSTNN-OB75, HSTNN-Q35C, GA08, HSTNN-C50C                                                                                                                                                        \n",
       "2    Toshiba Satellite L670-17E Laptop Screen 17.3 LED BOTTOM LEFT WXGA++ 1600x900                                                                                                                                                                                  \n",
       "103  VanGoddy Laurel Carrying Bag for Pentax Q-S1 / Q7 / Q10 / Q Mirrorless Digital Cameras (Dark Green)                                                                                                                                                            \n",
       "12   iHip IP-LILDUDEBL Lil Dude Portable Mini Keychain Speaker (Blue)                                                                                                                                                                                               \n",
       "126  Nikon Coolpix S4300 USB Cable - UC-E6 USB                                                                                                                                                                                                                      \n",
       "42   Ematic EM63 7&quot; Tablet Case - UniGrip Edition - PURPLE                                                                                                                                                                                                     \n",
       "165  URBANEARS Plattan Over-Ear Headphones - Cobalt                                                                                                                                                                                                                 \n",
       "173  Duck Dynasty Custom Case for iPod Touch 4, VICustom iTouch 4 Protective Cover(Black&amp;White) - Retail Packaging                                                                                                                                              \n",
       "33   Assurant 5-Year Television Protection Plan ($2000-$2249.99)                                                                                                                                                                                                    \n",
       "127  Nikon Coolpix S4300 USB Cable - UC-E6 USB                                                                                                                                                                                                                      \n",
       "161  Griffin, iPad mini 1/2/3 Case, Survivor CrossGrip, Protective Gaming Case with shoulder strap, Ergonomic, Rugged, Citron                                                                                                                                       \n",
       "3    Toshiba Satellite L670-17E Laptop Screen 17.3 LED BOTTOM LEFT WXGA++ 1600x900                                                                                                                                                                                  \n",
       "128  Nikon Coolpix S4300 USB Cable - UC-E6 USB                                                                                                                                                                                                                      \n",
       "43   Ematic EM63 7&quot; Tablet Case - UniGrip Edition - PURPLE                                                                                                                                                                                                     \n",
       "4    Toshiba Satellite L670-17E Laptop Screen 17.3 LED BOTTOM LEFT WXGA++ 1600x900                                                                                                                                                                                  \n",
       "152  SmartGuard 3-Year Major Appliance Protection Plan ($250-$300)                                                                                                                                                                                                  \n",
       "5    Toshiba Satellite L670-17E Laptop Screen 17.3 LED BOTTOM LEFT WXGA++ 1600x900                                                                                                                                                                                  \n",
       "129  Nikon Coolpix S4300 USB Cable - UC-E6 USB                                                                                                                                                                                                                      \n",
       "104  VanGoddy Laurel Carrying Bag for Pentax Q-S1 / Q7 / Q10 / Q Mirrorless Digital Cameras (Dark Green)                                                                                                                                                            \n",
       "146  BIRUGEAR Leather Keyboard Portfolio Stand Case w/ Screen Protector for Asus Transformer Book T100 / T100TAF / T100T / T100TA / T100TAL / T100TAM - 10.1 inch Windows 8.1 Tablet                                                                                \n",
       "189  Nikon D5200 Digital SLR Camera Body (Black) with 18-140mm VR Lens + 32GB Card + Case + Flash + Battery + Filter + Tripod Kit                                                                                                                                   \n",
       "190  Nikon D5200 Digital SLR Camera Body (Black) with 18-140mm VR Lens + 32GB Card + Case + Flash + Battery + Filter + Tripod Kit                                                                                                                                   \n",
       "22   SwitchEasy Colors Silicone Case for iPod touch 5G (Blue)                                                                                                                                                                                                       \n",
       "23   SwitchEasy Colors Silicone Case for iPod touch 5G (Blue)                                                                                                                                                                                                       \n",
       "174  Duck Dynasty Custom Case for iPod Touch 4, VICustom iTouch 4 Protective Cover(Black&amp;White) - Retail Packaging                                                                                                                                              \n",
       "179  Kicker 40CWRT122 CompRT Series 12 inch Subwoofer Dual 2 Ohm                                                                                                                                                                                                    \n",
       "191  Nikon D5200 Digital SLR Camera Body (Black) with 18-140mm VR Lens + 32GB Card + Case + Flash + Battery + Filter + Tripod Kit                                                                                                                                   \n",
       "147  BIRUGEAR Leather Keyboard Portfolio Stand Case w/ Screen Protector for Asus Transformer Book T100 / T100TAF / T100T / T100TA / T100TAL / T100TAM - 10.1 inch Windows 8.1 Tablet                                                                                \n",
       "24   SwitchEasy Colors Silicone Case for iPod touch 5G (Blue)                                                                                                                                                                                                       \n",
       "29   Oisound Wireless bluetooth Music Fountain Dancing Water Speakers/Apple Speakers(White)                                                                                                                                                                         \n",
       "167  Aiphone LEF-10S Open Voice Selective Call Master Intercom with All-Call; Surface Mount; Accepts Up to 10 Connecting Door, Sub-Master, or Master Intercoms                                                                                                      \n",
       "136  Ubuntu Linux 13.04 on a Bootable 8GB USB Flash Drive - 32-bit and 64-bit.                                                                                                                                                                                      \n",
       "25   SwitchEasy Colors Silicone Case for iPod touch 5G (Blue)                                                                                                                                                                                                       \n",
       "192  Nikon D5200 Digital SLR Camera Body (Black) with 18-140mm VR Lens + 32GB Card + Case + Flash + Battery + Filter + Tripod Kit                                                                                                                                   \n",
       "77   Manfrotto MB MP-BP-30BB Pro Backpack 30 (Black)                                                                                                                                                                                                                \n",
       "175  Duck Dynasty Custom Case for iPod Touch 4, VICustom iTouch 4 Protective Cover(Black&amp;White) - Retail Packaging                                                                                                                                              \n",
       "176  Duck Dynasty Custom Case for iPod Touch 4, VICustom iTouch 4 Protective Cover(Black&amp;White) - Retail Packaging                                                                                                                                              \n",
       "55   RND Dock for Moto X  (compatible without or with a slim-fit case) (black)                                                                                                                                                                                      \n",
       "56   RND Dock for Moto X  (compatible without or with a slim-fit case) (black)                                                                                                                                                                                      \n",
       "193  Nikon D5200 Digital SLR Camera Body (Black) with 18-140mm VR Lens + 32GB Card + Case + Flash + Battery + Filter + Tripod Kit                                                                                                                                   \n",
       "194  Nikon D5200 Digital SLR Camera Body (Black) with 18-140mm VR Lens + 32GB Card + Case + Flash + Battery + Filter + Tripod Kit                                                                                                                                   \n",
       "\n",
       "                                                                                                                                                                                                                                                                     right_side  \\\n",
       "50   iPad Air 2 &amp; 1 Bluetooth Keyboard Case, QQ-Tech&reg; Premium Series PU Leather Case Cover W Removable Wireless Keyboard for iPad Air 1st and 2nd [Best iPad Companion] &ndash; White                                                                                     \n",
       "51   iPad Air 2 &amp; 1 Bluetooth Keyboard Case, QQ-Tech&reg; Premium Series PU Leather Case Cover W Removable Wireless Keyboard for iPad Air 1st and 2nd [Best iPad Companion] &ndash; Brown                                                                                     \n",
       "62   360 Premium Rotating Leather Case Cover Black with Kickstand by KIQ with Kickstand for Apple iPad Air 1 1st Gen 9.7-inch Retina Display 2013 2014 (A1474, A1475, A1476)                                                                                                      \n",
       "63   360 Premium Rotating Leather Case Cover Map Purple with Kickstand by KIQ with Kickstand for Apple iPad Air 1 1st Gen 9.7-inch Retina Display 2013 2014 (A1474, A1475, A1476)                                                                                                 \n",
       "82   iPad Cases,iPad 2 Case,iPad 3 Case,iPad 4 Case,TRAVELLOR[Heavy Duty] iPad Case,Three Layer Armor Defender And Full Body Protective Case Cover With Kickstand And Screen Protector for iPad 2/3/4 - Olive                                                                     \n",
       "83   iPad 2 Case,iPad 3 Case,iPad 4 Case,TRAVELLOR[Heavy Duty] iPad Case,Three Layer Armor Defender And Full Body Protective Case Cover With Kickstand And Screen Protector for iPad 2/3/4 - Red                                                                                  \n",
       "117  Elecday Authentic Spider-man Extreme-Duty Military Survivor Silicone Plastic Protective Case Dual Layer water/Dust/Shock/Sand Proof Absorbing Kid-proof With Wall/Glass/Wood Attachable Kids Children Gift Stand Designed For Apple iPad Mini/ Mini2/ Mini 2 (Olive/olive)   \n",
       "64   360 Premium Rotating Leather Case Cover Giraffe with Kickstand by KIQ with Kickstand for Apple iPad Air 1 1st Gen 9.7-inch Retina Display 2013 2014 (A1474, A1475, A1476)                                                                                                    \n",
       "35   Okeler Green 360 Rotating PU Leather Case Cover For ASUS MeMO Pad HD 7 ME173X ME173 with Free Pen                                                                                                                                                                            \n",
       "84   iPad Cases,iPad 2 Case,iPad 3 Case,iPad 4 Case,TRAVELLOR[Heavy Duty] iPad Case,Three Layer Armor Defender And Full Body Protective Case Cover With Kickstand And Screen Protector for iPad 2/3/4 - Gray/White                                                                \n",
       "36   Okeler Red 360 Rotating PU Leather Stand Case Cover For ASUS MeMO Pad HD 7 ME173X ME173 with Free Pen                                                                                                                                                                        \n",
       "143  Evecase Leather Keyboard Portfolio Stand Case w/Handle Bag for Asus Transformer Book T100 / T100TAF / T100T / T100TA / T100TAL / T100TAM - 10.1 inch Windows 8.1 Tablet                                                                                                      \n",
       "65   360 Premium Rotating Leather Case Cover Polka Dot Pink with Kickstand by KIQ with Kickstand for Apple iPad Air 1 1st Gen 9.7-inch Retina Display 2013 2014 (A1474, A1475, A1476)                                                                                             \n",
       "67   Ematic EGQ307 7 Inch Tablet Case - UniGrip Edition - PINK (Fits All EGQ307 Colors)                                                                                                                                                                                           \n",
       "68   Ematic EGQ 307 7 Inch Tablet Case - UniGrip Edition - RED (Fits All EGQ307 Colors)                                                                                                                                                                                           \n",
       "100  VanGoddy Laurel Carrying Bag for Pentax Q-S1 / Q7 / Q10 / Q Mirrorless Digital Cameras (Blue)                                                                                                                                                                                \n",
       "54   RND Dock for Moto G  (compatible without or with a slim-fit case) (black)                                                                                                                                                                                                    \n",
       "184  480GB OWC Aura 6G SSD with Envoy Kit For MacBook Air 2012: Complete Upgrade&nbsp;Solution with SSD Drive, Envoy Pro Enclosure, and Install Tools                                                                                                                             \n",
       "69   Ematic EGQ307 7 Inch Tablet Case - UniGrip Edition - PURPLE (Fits All EGQ307 Colors)                                                                                                                                                                                         \n",
       "85   iPad Cases,iPad 2 Case,iPad 4 Case,TRAVELLOR[Heavy Duty] iPad Case,Three Layer Armor Defender and Full Body Protective Case Cover with Kickstand and Screen Protector for iPad 2/3/4 - Red                                                                                   \n",
       "75   XShields for Mach Speed Trio Stealth G2 10.1&quot; Elite (5-Pack) Tablet Screen Protectors (Ultra Clear)                                                                                                                                                                     \n",
       "9    GreatShield LEAN Series Ultra Slim Bluetooth Keyboard Leather Case with Sleep / Wake Cover for Google Nexus 7 FHD 2nd Gen (2013) - Black/Pink                                                                                                                                \n",
       "188  Nikon D7100 Digital SLR Camera Body with 18-140mm VR Lens + 32GB Card + Case + Flash + Battery + Filter + Tripod Kit                                                                                                                                                         \n",
       "101  VanGoddy Laurel Carrying Bag for Pentax Q-S1 / Q7 / Q10 / Q Mirrorless Digital Cameras (Purple)                                                                                                                                                                              \n",
       "48   Turcom Professional Wireless Graphic Drawing Tablet Replacement Pen White                                                                                                                                                                                                    \n",
       "151  SmartGuard 2-Year Major Appliance Protection Plan ($250-$300)                                                                                                                                                                                                                \n",
       "86   iPad Cases,iPad 2 Case,iPad 4 Case,TRAVELLOR[Heavy Duty] iPad Case,Three Layer Armor Defender and Full Body Protective Case Cover with Kickstand and Screen Protector for iPad 2/3/4 - Green/Black                                                                           \n",
       "102  VanGoddy Laurel Carrying Bag for Pentax Q-S1 / Q7 / Q10 / Q Mirrorless Digital Cameras (Hot Pink)                                                                                                                                                                            \n",
       "31   Assurant 5-Year Television Protection Plan ($200-$249.99)                                                                                                                                                                                                                    \n",
       "118  Elecday Authentic Spider-man Extreme-Duty Military Survivor Silicone Plastic Protective Case Dual Layer water/Dust/Shock/Sand Proof Absorbing Kid-proof With Wall/Glass/Wood Attachable Kids Children Gift Stand Designed For Apple iPad 5 / iPad Air (Rose/blue)            \n",
       "159  Griffin, Survivor CrossGrip for iPad Air, Protective Gaming Case with shoulder strap, Ergonomic, Rugged, Citron                                                                                                                                                              \n",
       "87   iPad 2 Case,iPad 3 Case,iPad 4 Case,TRAVELLOR [Heavy Duty] iPad Case,Three Layer Armor Defender And Full Body Protective Case Cover With Kickstand And Screen Protector for iPad 2/3/4 - Blue/White                                                                          \n",
       "144  BIRUGEAR 12 Items Essential Accessories Bundle kit for Asus Transformer Book T100 / T100TAF / T100T / T100TA / T100TAL / T100TAM - 10.1 inch Windows 8.1 Tablet (Hot Pink Leather Keyboard Portfolio Stand Case included)                                                    \n",
       "70   Ematic EGQ307 7 Inch Tablet Case - UniGrip Edition - ROYAL BLUE (Fits All EGQ307 Colors)                                                                                                                                                                                     \n",
       "145  BIRUGEAR 12 Items Essential Accessories Bundle Kit for Asus Transformer Book T100 / T100TAF / T100T / T100TA / T100TAL / T100TAM - 10.1 inch Windows 8.1 Tablet (Black Leather Portfolio Stand Case Cover with Keyboard Support included)                                    \n",
       "185  1.0TB OWC Aura 6G SSD with Envoy Kit For MacBook Air 2012: Complete Upgrade&nbsp;Solution with SSD Drive, Envoy Pro Enclosure, and Install Tools                                                                                                                             \n",
       "121  Nikon Coolpix S4000 USB Cable - UC-E6 USB                                                                                                                                                                                                                                    \n",
       "11   iHip IP-LILDUDEBK Lil Dude Portable Mini Keychain Speaker (Black)                                                                                                                                                                                                            \n",
       "178  Kicker 40CWRT102 CompRT Series 10 inch Subwoofer Dual 2 Ohm                                                                                                                                                                                                                  \n",
       "181  Kicker 40CWRT122 CompRT Series 12 inch Subwoofer Dual 2 Ohm                                                                                                                                                                                                                  \n",
       "182  Kicker 40CWRT101 CompRT Series 10 inch Subwoofer Dual 1 Ohm                                                                                                                                                                                                                  \n",
       "88   iPad Cases,iPad 2 Case,iPad 3 Case,iPad 4 Case,TRAVELLOR&reg;[Heavy Duty] iPad Case,Three Layer Armor Defender And Full Body Protective Case Cover With Kickstand And Screen Protector for iPad 2/3/4 - Navy/White                                                           \n",
       "89   iPad Cases,iPad 2 Case,iPad 4 Case,TRAVELLOR [Heavy Duty] iPad Case,Three Layer Armor Defender And Full Body Protective Case Cover With Kickstand And Screen Protector for iPad 2/3/4 - Ice/White                                                                            \n",
       "139  Kapaxen BP-709 Intelligent Battery for Select Canon VIXIA Full HD Camcorders                                                                                                                                                                                                 \n",
       "160  Griffin, Survivor CrossGrip for iPad mini, Protective Gaming Case with shoulder strap, Ergonomic, Rugged, Black                                                                                                                                                              \n",
       "164  URBANEARS Plattan Over-Ear Headphones - Clover                                                                                                                                                                                                                               \n",
       "122  Nikon Coolpix S4200 USB Cable - UC-E6 USB                                                                                                                                                                                                                                    \n",
       "123  Nikon Coolpix S4100 USB Cable - UC-E6 USB                                                                                                                                                                                                                                    \n",
       "96   PROFESSIONAL 72 Inch Full Size Tripod with Carrying Case For The JVC Everio GZ-MG680, MG670, MG630, MG465, MG435, MG365, MG360, MG335, MG330, MG230 High Definition Camcorders with Exclusive FREE Complimentary Super Deal Micro Fiber Lens Cleaning Cloth                  \n",
       "119  Elecday Authentic Spider-man Extreme-Duty Military Survivor Silicone Plastic Protective Case Dual Layer water/Dust/Shock/Sand Proof Absorbing Kid-proof With Wall/Glass/Wood Attachable Kids Children Gift Stand Designed For Apple iPad 5 / iPad Air (Olive/olive)          \n",
       "90   iPad Cases,iPad 2 Case,iPad 3 Case,iPad 4 Case,TRAVELLOR&reg;[Heavy Duty] iPad Case,Three Layer Armor Defender And Full Body Protective Case Cover With Kickstand And Screen Protector for iPad 2/3/4 - Army/Olive                                                           \n",
       "97    PROFESSIONAL 67 Inch Full Size Tripod with Carrying Case For The JVC Everio GZ-MG680, MG670, MG630, MG465, MG435, MG365, MG360, MG335, MG330, MG230 High Definition Camcorders with Exclusive FREE Complimentary Super Deal Micro Fiber Lens Cleaning Cloth                 \n",
       "124  Nikon Coolpix S3000 USB Cable - UC-E6 USB                                                                                                                                                                                                                                    \n",
       "32   Assurant 4-Year Television Protection Plan ($2000-$2249.99)                                                                                                                                                                                                                  \n",
       "125  Nikon Coolpix S4400 USB Cable - UC-E6 USB                                                                                                                                                                                                                                    \n",
       "71   Ematic EGQ 307 7 Inch Tablet Case - UniGrip Edition - BLACK (Fits All EGQ307 Colors)                                                                                                                                                                                         \n",
       "18   LB1 High Performance Battery for HP Pavilion dv7-3188cl, Fits: HSTNN-OB75, HSTNN-Q35C, GA08, HSTNN-C50C                                                                                                                                                                      \n",
       "2    Toshiba Satellite L675D-S7016 Laptop Screen 17.3 LED BOTTOM LEFT WXGA++ 1600x900                                                                                                                                                                                             \n",
       "103  VanGoddy Laurel Carrying Bag for Pentax Q-S1 / Q7 / Q10 / Q Mirrorless Digital Cameras + Mini Tripod + Screen Protector (Black)                                                                                                                                              \n",
       "12   iHip IP-LILDUDER Lil Dude Portable Mini Keychain Speaker (Red)                                                                                                                                                                                                               \n",
       "126  Nikon Coolpix S6300 USB Cable - UC-E6 USB                                                                                                                                                                                                                                    \n",
       "42   Ematic EM63 7&quot; Tablet Case - UniGrip Edition - RED                                                                                                                                                                                                                      \n",
       "165  URBANEARS Plattan Over-Ear Headphones - Lilac                                                                                                                                                                                                                                \n",
       "173  Machine Gun Kelly Custom Case for iPod Touch 4, VICustom iTouch 4 Protective Cover(Black&amp;White) - Retail Packaging                                                                                                                                                       \n",
       "33   Assurant 5-Year Television Protection Plan ($2250-$2499.99)                                                                                                                                                                                                                  \n",
       "127  Nikon Coolpix S2500 USB Cable - UC-E6 USB                                                                                                                                                                                                                                    \n",
       "161  Griffin Survivor CrossGrip for iPad Air 2, Protective Gaming Case with shoulder strap, Ergonomic, Rugged, Black                                                                                                                                                              \n",
       "3    Toshiba Satellite L675D-S7105 Laptop Screen 17.3 LED BOTTOM LEFT WXGA++ 1600x900                                                                                                                                                                                             \n",
       "128  Nikon Coolpix S6100 USB Cable - UC-E6 USB                                                                                                                                                                                                                                    \n",
       "43   Ematic EM63 7&quot; Tablet Case - UniGrip Edition - BLACK                                                                                                                                                                                                                    \n",
       "4    Toshiba Satellite L675D-S7106 Laptop Screen 17.3 LED BOTTOM LEFT WXGA++ 1600x900                                                                                                                                                                                             \n",
       "152  SmartGuard 5-Year Major Appliance Protection Plan ($2500-$3000)                                                                                                                                                                                                              \n",
       "5    Toshiba Satellite L675D-S7107 Laptop Screen 17.3 LED BOTTOM LEFT WXGA++ 1600x900                                                                                                                                                                                             \n",
       "129  Nikon Coolpix S8200 USB Cable - UC-E6 USB                                                                                                                                                                                                                                    \n",
       "104  VanGoddy Laurel Carrying Bag for Pentax Q-S1 / Q7 / Q10 / Q Mirrorless Digital Cameras + Mini Tripod + Screen Protector (Hot Pink)                                                                                                                                           \n",
       "146  EZOPower 6ft Micro USB 2-in-1 Sync &amp; Charging Data Cable + USB Host OTG Cable for Asus Transformer Book T100 / T100TAF / T100T / T100TA / T100TAL / T100TAM - 10.1 inch Windows 8.1 Tablet                                                                               \n",
       "189  Nikon D5300 Digital SLR Camera Body (Black) with 18-140mm VR Zoom Lens + 64GB Card + Case + Flash + Grip + Battery + Tripod Kit                                                                                                                                              \n",
       "190  Nikon D5300 Digital SLR Camera Body (Black) with 18-140mm VR Zoom Lens + 32GB Card + Case + Battery + Tripod + Kit                                                                                                                                                           \n",
       "22   SwitchEasy Colors Silicone Case for iPod touch 5G (Viola)                                                                                                                                                                                                                    \n",
       "23   SwitchEasy Colors Silicone Case for iPod touch 5G (Crimson)                                                                                                                                                                                                                  \n",
       "174  Minecraft Custom Case for iPod Touch 4, VICustom iTouch 4 Protective Cover(Black&amp;White) - Retail Packaging&hellip;                                                                                                                                                       \n",
       "179  Kicker 40CWRT101 CompRT Series 10 inch Subwoofer Dual 1 Ohm                                                                                                                                                                                                                  \n",
       "191  Nikon D5300 Digital SLR Camera Body (Black) with 18-140mm VR Zoom Lens + 64GB Card + Case + Flash + Battery &amp; Charger + Tripod Kit                                                                                                                                       \n",
       "147  EZOPower Bundle of 3: 6ft Micro USB Data Cable + USB Host OTG Cable + Micro HDMI Cable for Asus Transformer Book T100 / T100TAF / T100T / T100TA / T100TAL / T100TAM - 10.1 inch Windows 8.1 Tablet                                                                          \n",
       "24   SwitchEasy Colors Silicone Case for iPod Touch 5G - Lime                                                                                                                                                                                                                     \n",
       "29   Oisound Fountain Dancing Water Music Speakers/Apple Speakers(Black)                                                                                                                                                                                                          \n",
       "167  Aiphone LEF-3 Open Voice Selective Call Master Intercom, Accepts Up to Three Connecting Door, Sub-Master, or Master Intercoms                                                                                                                                                \n",
       "136  Ubuntu Linux 14.04 Bootable 8GB USB Flash Drive - Contains Both 32-bit and 64-bit.                                                                                                                                                                                           \n",
       "25   SwitchEasy Colors Silicone Case for iPod touch 5G (Turquoise)                                                                                                                                                                                                                \n",
       "192  Nikon D5200 Digital SLR Camera Body with 18-140mm VR Lens + 32GB Card + Case + Grip + Battery/Charger + Remote + Filter Kit                                                                                                                                                  \n",
       "77   Manfrotto MB MP-BP-20BB Pro Backpack 20 (Black)                                                                                                                                                                                                                              \n",
       "175  Sherlock Custom Case for iPod Touch 5, VICustom iTouch 5 Protective Cover(Black&amp;White) - Retail Packaging                                                                                                                                                                \n",
       "176  The Legend of Zelda Custom Case for iPod Touch 4, VICustom iTouch 4 Protective Cover(Black&amp;White) - Retail Packing                                                                                                                                                       \n",
       "55   RND Dock and 2nd Battery Charger for LG G3  (compatible without or with a slim-fit case) (black)                                                                                                                                                                             \n",
       "56   RND Dock for Google Nexus 5 (compatible with or without a slim-fit case) (black)                                                                                                                                                                                             \n",
       "193  Nikon D5500 Wi-Fi Digital SLR Camera Body (Black) with 18-200mm VC Lens + 32GB Card + Case + Battery + Tripod + Filter + Kit                                                                                                                                                 \n",
       "194  Nikon D5300 Digital SLR Camera Body (Grey) with 18-140mm VR Zoom Lens + 32GB Card + Backpack + Flash + Battery + Tripod Kit                                                                                                                                                  \n",
       "\n",
       "     similairity  \n",
       "50   0.983058     \n",
       "51   0.978312     \n",
       "62   0.975107     \n",
       "63   0.970326     \n",
       "82   0.957990     \n",
       "83   0.956151     \n",
       "117  0.948375     \n",
       "64   0.947737     \n",
       "35   0.947417     \n",
       "84   0.947415     \n",
       "36   0.941846     \n",
       "143  0.941173     \n",
       "65   0.938488     \n",
       "67   0.937870     \n",
       "68   0.936903     \n",
       "100  0.936074     \n",
       "54   0.935378     \n",
       "184  0.929875     \n",
       "69   0.926981     \n",
       "85   0.924157     \n",
       "75   0.924092     \n",
       "9    0.921078     \n",
       "188  0.920481     \n",
       "101  0.919705     \n",
       "48   0.917372     \n",
       "151  0.913490     \n",
       "86   0.910636     \n",
       "102  0.910087     \n",
       "31   0.909246     \n",
       "118  0.906605     \n",
       "159  0.906405     \n",
       "87   0.904884     \n",
       "144  0.904044     \n",
       "70   0.903351     \n",
       "145  0.902760     \n",
       "185  0.900202     \n",
       "121  0.898487     \n",
       "11   0.897614     \n",
       "178  0.896278     \n",
       "181  0.896278     \n",
       "182  0.893901     \n",
       "88   0.892557     \n",
       "89   0.891553     \n",
       "139  0.889262     \n",
       "160  0.888742     \n",
       "164  0.888738     \n",
       "122  0.887582     \n",
       "123  0.886986     \n",
       "96   0.886503     \n",
       "119  0.885992     \n",
       "90   0.885624     \n",
       "97   0.884219     \n",
       "124  0.884167     \n",
       "32   0.882937     \n",
       "125  0.880355     \n",
       "71   0.874549     \n",
       "18   0.865607     \n",
       "2    0.863419     \n",
       "103  0.862900     \n",
       "12   0.862342     \n",
       "126  0.861471     \n",
       "42   0.861003     \n",
       "165  0.858871     \n",
       "173  0.858504     \n",
       "33   0.856127     \n",
       "127  0.856099     \n",
       "161  0.850612     \n",
       "3    0.848321     \n",
       "128  0.848265     \n",
       "43   0.846176     \n",
       "4    0.846123     \n",
       "152  0.845862     \n",
       "5    0.843419     \n",
       "129  0.842053     \n",
       "104  0.840938     \n",
       "146  0.837936     \n",
       "189  0.833954     \n",
       "190  0.833493     \n",
       "22   0.830533     \n",
       "23   0.825701     \n",
       "174  0.825558     \n",
       "179  0.825139     \n",
       "191  0.820134     \n",
       "147  0.817133     \n",
       "24   0.817075     \n",
       "29   0.810688     \n",
       "167  0.810526     \n",
       "136  0.808179     \n",
       "25   0.807870     \n",
       "192  0.806763     \n",
       "77   0.806256     \n",
       "175  0.805886     \n",
       "176  0.804666     \n",
       "55   0.804607     \n",
       "56   0.802828     \n",
       "193  0.801593     \n",
       "194  0.800220     "
      ]
     },
     "execution_count": 174,
     "metadata": {},
     "output_type": "execute_result"
    }
   ],
   "source": [
    "# printing the matches in sorted order\n",
    "matches_df.sort_values(['similairity'], ascending=False).head(97)"
   ]
  },
  {
   "cell_type": "code",
   "execution_count": 173,
   "id": "2113feea",
   "metadata": {},
   "outputs": [
    {
     "data": {
      "text/plain": [
       "(97, 3)"
      ]
     },
     "execution_count": 173,
     "metadata": {},
     "output_type": "execute_result"
    }
   ],
   "source": [
    "matches_df.shape"
   ]
  },
  {
   "cell_type": "code",
   "execution_count": 93,
   "id": "448f0576",
   "metadata": {
    "scrolled": true
   },
   "outputs": [
    {
     "data": {
      "text/plain": [
       "(261796, 1)"
      ]
     },
     "execution_count": 93,
     "metadata": {},
     "output_type": "execute_result"
    }
   ],
   "source": [
    "df.shape"
   ]
  },
  {
   "cell_type": "markdown",
   "id": "306a5695",
   "metadata": {},
   "source": [
    "## Fuzzymatcher library"
   ]
  },
  {
   "cell_type": "code",
   "execution_count": 111,
   "id": "76f3e104",
   "metadata": {
    "scrolled": true
   },
   "outputs": [],
   "source": [
    "if False: # Change it to true if you haven't installed it\n",
    "    !pip install fuzzymatcher\n",
    "    !pip install pysqlite3"
   ]
  },
  {
   "cell_type": "code",
   "execution_count": 112,
   "id": "8c0d13f2",
   "metadata": {},
   "outputs": [],
   "source": [
    "import fuzzymatcher\n",
    "import pysqlite3\n",
    "\n",
    "# set working directory\n",
    "os.chdir('/Users/robbyjeffries/MSEACapstone/Data')\n",
    "\n",
    "# import raw review data for the Electronics category\n",
    "amz_raw = pd.read_csv('Products/products_with_first_review_date.csv')\n",
    "sams_raw = pd.read_excel('Products/Products_Vendor_Start_Date.xlsx') \n",
    "\n",
    "sams_raw = sams_raw.dropna()\n",
    "amz_raw = amz_raw.dropna()"
   ]
  },
  {
   "cell_type": "code",
   "execution_count": 113,
   "id": "73cb86fb",
   "metadata": {},
   "outputs": [
    {
     "data": {
      "text/html": [
       "<div>\n",
       "<style scoped>\n",
       "    .dataframe tbody tr th:only-of-type {\n",
       "        vertical-align: middle;\n",
       "    }\n",
       "\n",
       "    .dataframe tbody tr th {\n",
       "        vertical-align: top;\n",
       "    }\n",
       "\n",
       "    .dataframe thead th {\n",
       "        text-align: right;\n",
       "    }\n",
       "</style>\n",
       "<table border=\"1\" class=\"dataframe\">\n",
       "  <thead>\n",
       "    <tr style=\"text-align: right;\">\n",
       "      <th></th>\n",
       "      <th>title</th>\n",
       "      <th>firstReview</th>\n",
       "    </tr>\n",
       "  </thead>\n",
       "  <tbody>\n",
       "    <tr>\n",
       "      <th>0</th>\n",
       "      <td>1000 Cd DVD Silver Aluminum Hard Case for Media Storage Holder w/Hanger Sleeves</td>\n",
       "      <td>2014-01-01</td>\n",
       "    </tr>\n",
       "    <tr>\n",
       "      <th>1</th>\n",
       "      <td>Toshiba Satellite L670-17E Laptop Screen 17.3 LED BOTTOM LEFT WXGA++ 1600x900</td>\n",
       "      <td>2014-01-01</td>\n",
       "    </tr>\n",
       "    <tr>\n",
       "      <th>2</th>\n",
       "      <td>ASUS GTX780TI-3GD5 Graphics Cards GTX780TI-3GD5</td>\n",
       "      <td>2014-01-01</td>\n",
       "    </tr>\n",
       "    <tr>\n",
       "      <th>3</th>\n",
       "      <td>12&amp;quot; SATA 15-Pin Male to Female Power Extension Cable</td>\n",
       "      <td>2014-01-01</td>\n",
       "    </tr>\n",
       "    <tr>\n",
       "      <th>4</th>\n",
       "      <td>GreatShield LEAN Series Slim Bluetooth Keyboard Leather Case with Sleep / Wake Cover for Google Nexus 7 FHD 2nd Gen (2013) - Black/Blue</td>\n",
       "      <td>2014-01-01</td>\n",
       "    </tr>\n",
       "  </tbody>\n",
       "</table>\n",
       "</div>"
      ],
      "text/plain": [
       "                                                                                                                                     title  \\\n",
       "0  1000 Cd DVD Silver Aluminum Hard Case for Media Storage Holder w/Hanger Sleeves                                                           \n",
       "1  Toshiba Satellite L670-17E Laptop Screen 17.3 LED BOTTOM LEFT WXGA++ 1600x900                                                             \n",
       "2  ASUS GTX780TI-3GD5 Graphics Cards GTX780TI-3GD5                                                                                           \n",
       "3  12&quot; SATA 15-Pin Male to Female Power Extension Cable                                                                                 \n",
       "4  GreatShield LEAN Series Slim Bluetooth Keyboard Leather Case with Sleep / Wake Cover for Google Nexus 7 FHD 2nd Gen (2013) - Black/Blue   \n",
       "\n",
       "  firstReview  \n",
       "0  2014-01-01  \n",
       "1  2014-01-01  \n",
       "2  2014-01-01  \n",
       "3  2014-01-01  \n",
       "4  2014-01-01  "
      ]
     },
     "execution_count": 113,
     "metadata": {},
     "output_type": "execute_result"
    }
   ],
   "source": [
    "amz_raw.head()"
   ]
  },
  {
   "cell_type": "code",
   "execution_count": 114,
   "id": "6f3e55e5",
   "metadata": {},
   "outputs": [
    {
     "data": {
      "text/html": [
       "<div>\n",
       "<style scoped>\n",
       "    .dataframe tbody tr th:only-of-type {\n",
       "        vertical-align: middle;\n",
       "    }\n",
       "\n",
       "    .dataframe tbody tr th {\n",
       "        vertical-align: top;\n",
       "    }\n",
       "\n",
       "    .dataframe thead th {\n",
       "        text-align: right;\n",
       "    }\n",
       "</style>\n",
       "<table border=\"1\" class=\"dataframe\">\n",
       "  <thead>\n",
       "    <tr style=\"text-align: right;\">\n",
       "      <th></th>\n",
       "      <th>Primary_Desc</th>\n",
       "      <th>Vendor_Name</th>\n",
       "      <th>UPC_Desc</th>\n",
       "      <th>Start Date</th>\n",
       "    </tr>\n",
       "  </thead>\n",
       "  <tbody>\n",
       "    <tr>\n",
       "      <th>0</th>\n",
       "      <td>CG PORT CHARGER LRG</td>\n",
       "      <td>CONCEPT GREEN ENERGY SOLUTIONS</td>\n",
       "      <td>CHARGER</td>\n",
       "      <td>2014-07-01</td>\n",
       "    </tr>\n",
       "    <tr>\n",
       "      <th>1</th>\n",
       "      <td>48IN 720P LED TV</td>\n",
       "      <td>JSP LLC</td>\n",
       "      <td>48IN JVC TV</td>\n",
       "      <td>2015-10-14</td>\n",
       "    </tr>\n",
       "    <tr>\n",
       "      <th>2</th>\n",
       "      <td>19\" MTS TV</td>\n",
       "      <td>SANYO MFG CORP</td>\n",
       "      <td>19\"REFURB TV</td>\n",
       "      <td>2014-11-28</td>\n",
       "    </tr>\n",
       "    <tr>\n",
       "      <th>3</th>\n",
       "      <td>BELKIN GRP CDY SHEER</td>\n",
       "      <td>BRIGHTSTAR US INC</td>\n",
       "      <td>PHONE CASE</td>\n",
       "      <td>2014-07-03</td>\n",
       "    </tr>\n",
       "    <tr>\n",
       "      <th>4</th>\n",
       "      <td>TOSHIBA 27\" TV</td>\n",
       "      <td>TOSHIBA AMERICA INC</td>\n",
       "      <td>TV 27\" PIP</td>\n",
       "      <td>2015-05-30</td>\n",
       "    </tr>\n",
       "  </tbody>\n",
       "</table>\n",
       "</div>"
      ],
      "text/plain": [
       "           Primary_Desc                     Vendor_Name      UPC_Desc  \\\n",
       "0  CG PORT CHARGER LRG   CONCEPT GREEN ENERGY SOLUTIONS  CHARGER        \n",
       "1  48IN 720P LED TV      JSP LLC                         48IN JVC TV    \n",
       "2  19\" MTS TV            SANYO MFG CORP                  19\"REFURB TV   \n",
       "3  BELKIN GRP CDY SHEER  BRIGHTSTAR US INC               PHONE CASE     \n",
       "4  TOSHIBA 27\" TV        TOSHIBA AMERICA INC             TV 27\" PIP     \n",
       "\n",
       "  Start Date  \n",
       "0 2014-07-01  \n",
       "1 2015-10-14  \n",
       "2 2014-11-28  \n",
       "3 2014-07-03  \n",
       "4 2015-05-30  "
      ]
     },
     "execution_count": 114,
     "metadata": {},
     "output_type": "execute_result"
    }
   ],
   "source": [
    "sams_raw.head()"
   ]
  },
  {
   "cell_type": "code",
   "execution_count": 117,
   "id": "db81607f",
   "metadata": {},
   "outputs": [],
   "source": [
    "# fuzzymatcher.link_table(amz_raw, sams_raw, left_on = 'title', right_on = 'Primary_Desc')"
   ]
  },
  {
   "cell_type": "markdown",
   "id": "bc348390",
   "metadata": {},
   "source": [
    "## Fuzzywuzzy"
   ]
  },
  {
   "cell_type": "code",
   "execution_count": 119,
   "id": "3bef0c06",
   "metadata": {},
   "outputs": [],
   "source": [
    "from fuzzywuzzy import fuzz\n",
    "from fuzzywuzzy import process\n",
    "\n",
    "# set working directory\n",
    "os.chdir('/Users/robbyjeffries/MSEACapstone/Data')\n",
    "\n",
    "# import raw review data for the Electronics category\n",
    "amz_raw = pd.read_csv('Products/products_with_first_review_date.csv')\n",
    "sams_raw = pd.read_excel('Products/Products_Vendor_Start_Date.xlsx') \n",
    "\n",
    "sams_raw = sams_raw.dropna()\n",
    "amz_raw = amz_raw.dropna()\n",
    "\n",
    "# create lists\n",
    "amazon_list           = amz_raw['title'].fillna('*').to_list()\n",
    "sams_list             = sams_raw['Primary_Desc'].fillna('*').to_list()\n",
    "# validation_list       = hand_typed_list_df['Validation'].fillna('*').to_list()"
   ]
  },
  {
   "cell_type": "code",
   "execution_count": 135,
   "id": "b1583608",
   "metadata": {},
   "outputs": [],
   "source": [
    "import pandas as pd\n",
    "import csv\n",
    "from fuzzywuzzy import fuzz \n",
    "from fuzzywuzzy import process\n",
    "\n",
    "pd.set_option('display.max_rows', 300)\n",
    "pd.set_option('display.max_columns', 300)\n",
    "\n",
    "from tqdm import tqdm_notebook as tqdm"
   ]
  },
  {
   "cell_type": "code",
   "execution_count": 144,
   "id": "be00fee6",
   "metadata": {},
   "outputs": [],
   "source": [
    "# set working directory\n",
    "os.chdir('/Users/robbyjeffries/MSEACapstone/Data')\n",
    "\n",
    "# import raw review data for the Electronics category\n",
    "amz_raw = pd.read_csv('Products/products_with_first_review_date.csv')\n",
    "sams_raw = pd.read_excel('Products/Products_Vendor_Start_Date.xlsx') \n",
    "\n",
    "amz_sample = amz_raw.sample(100)\n",
    "\n",
    "sams_raw = sams_raw.dropna()\n",
    "amz_raw = amz_raw.dropna()"
   ]
  },
  {
   "cell_type": "code",
   "execution_count": null,
   "id": "89f7387a",
   "metadata": {},
   "outputs": [],
   "source": []
  },
  {
   "cell_type": "code",
   "execution_count": 170,
   "id": "67dc14ce",
   "metadata": {
    "scrolled": false
   },
   "outputs": [
    {
     "name": "stderr",
     "output_type": "stream",
     "text": [
      "/var/folders/c9/z8kjq8qs15n6nq0dr7vdg5640000gn/T/ipykernel_53365/1629402363.py:2: TqdmDeprecationWarning: This function will be removed in tqdm==5.0.0\n",
      "Please use `tqdm.notebook.tqdm` instead of `tqdm.tqdm_notebook`\n",
      "  for product in tqdm(amz_raw['title']):\n"
     ]
    },
    {
     "data": {
      "application/vnd.jupyter.widget-view+json": {
       "model_id": "bcd6cf452d9e43fab220691146dfec70",
       "version_major": 2,
       "version_minor": 0
      },
      "text/plain": [
       "  0%|          | 0/259873 [00:00<?, ?it/s]"
      ]
     },
     "metadata": {},
     "output_type": "display_data"
    },
    {
     "ename": "KeyboardInterrupt",
     "evalue": "",
     "output_type": "error",
     "traceback": [
      "\u001b[0;31m---------------------------------------------------------------------------\u001b[0m",
      "\u001b[0;31mAttributeError\u001b[0m                            Traceback (most recent call last)",
      "\u001b[0;32m/opt/anaconda3/lib/python3.9/site-packages/fuzzywuzzy/process.py\u001b[0m in \u001b[0;36mextractWithoutOrder\u001b[0;34m(query, choices, processor, scorer, score_cutoff)\u001b[0m\n\u001b[1;32m    107\u001b[0m         \u001b[0;31m# See if choices is a dictionary-like object.\u001b[0m\u001b[0;34m\u001b[0m\u001b[0;34m\u001b[0m\u001b[0m\n\u001b[0;32m--> 108\u001b[0;31m         \u001b[0;32mfor\u001b[0m \u001b[0mkey\u001b[0m\u001b[0;34m,\u001b[0m \u001b[0mchoice\u001b[0m \u001b[0;32min\u001b[0m \u001b[0mchoices\u001b[0m\u001b[0;34m.\u001b[0m\u001b[0mitems\u001b[0m\u001b[0;34m(\u001b[0m\u001b[0;34m)\u001b[0m\u001b[0;34m:\u001b[0m\u001b[0;34m\u001b[0m\u001b[0;34m\u001b[0m\u001b[0m\n\u001b[0m\u001b[1;32m    109\u001b[0m             \u001b[0mprocessed\u001b[0m \u001b[0;34m=\u001b[0m \u001b[0mpre_processor\u001b[0m\u001b[0;34m(\u001b[0m\u001b[0mprocessor\u001b[0m\u001b[0;34m(\u001b[0m\u001b[0mchoice\u001b[0m\u001b[0;34m)\u001b[0m\u001b[0;34m)\u001b[0m\u001b[0;34m\u001b[0m\u001b[0;34m\u001b[0m\u001b[0m\n",
      "\u001b[0;31mAttributeError\u001b[0m: 'list' object has no attribute 'items'",
      "\nDuring handling of the above exception, another exception occurred:\n",
      "\u001b[0;31mKeyboardInterrupt\u001b[0m                         Traceback (most recent call last)",
      "\u001b[0;32m/var/folders/c9/z8kjq8qs15n6nq0dr7vdg5640000gn/T/ipykernel_53365/1629402363.py\u001b[0m in \u001b[0;36m<module>\u001b[0;34m\u001b[0m\n\u001b[1;32m      4\u001b[0m         \u001b[0;32mpass\u001b[0m\u001b[0;34m\u001b[0m\u001b[0;34m\u001b[0m\u001b[0m\n\u001b[1;32m      5\u001b[0m     \u001b[0;32melse\u001b[0m\u001b[0;34m:\u001b[0m\u001b[0;34m\u001b[0m\u001b[0;34m\u001b[0m\u001b[0m\n\u001b[0;32m----> 6\u001b[0;31m         \u001b[0mmatch\u001b[0m \u001b[0;34m=\u001b[0m \u001b[0mprocess\u001b[0m\u001b[0;34m.\u001b[0m\u001b[0mextractOne\u001b[0m\u001b[0;34m(\u001b[0m\u001b[0mproduct\u001b[0m\u001b[0;34m,\u001b[0m \u001b[0mlist\u001b[0m\u001b[0;34m(\u001b[0m\u001b[0msams_raw\u001b[0m\u001b[0;34m[\u001b[0m\u001b[0;34m'Primary_Desc'\u001b[0m\u001b[0;34m]\u001b[0m\u001b[0;34m)\u001b[0m\u001b[0;34m)\u001b[0m\u001b[0;34m\u001b[0m\u001b[0;34m\u001b[0m\u001b[0m\n\u001b[0m\u001b[1;32m      7\u001b[0m         \u001b[0;32mif\u001b[0m \u001b[0mmatch\u001b[0m\u001b[0;34m[\u001b[0m\u001b[0;36m1\u001b[0m\u001b[0;34m]\u001b[0m \u001b[0;34m>\u001b[0m \u001b[0;36m95\u001b[0m\u001b[0;34m:\u001b[0m\u001b[0;34m\u001b[0m\u001b[0;34m\u001b[0m\u001b[0m\n\u001b[1;32m      8\u001b[0m             \u001b[0mmatches\u001b[0m\u001b[0;34m.\u001b[0m\u001b[0mappend\u001b[0m\u001b[0;34m(\u001b[0m\u001b[0mproduct\u001b[0m\u001b[0;34m)\u001b[0m\u001b[0;34m\u001b[0m\u001b[0;34m\u001b[0m\u001b[0m\n",
      "\u001b[0;32m/opt/anaconda3/lib/python3.9/site-packages/fuzzywuzzy/process.py\u001b[0m in \u001b[0;36mextractOne\u001b[0;34m(query, choices, processor, scorer, score_cutoff)\u001b[0m\n\u001b[1;32m    218\u001b[0m     \u001b[0mbest_list\u001b[0m \u001b[0;34m=\u001b[0m \u001b[0mextractWithoutOrder\u001b[0m\u001b[0;34m(\u001b[0m\u001b[0mquery\u001b[0m\u001b[0;34m,\u001b[0m \u001b[0mchoices\u001b[0m\u001b[0;34m,\u001b[0m \u001b[0mprocessor\u001b[0m\u001b[0;34m,\u001b[0m \u001b[0mscorer\u001b[0m\u001b[0;34m,\u001b[0m \u001b[0mscore_cutoff\u001b[0m\u001b[0;34m)\u001b[0m\u001b[0;34m\u001b[0m\u001b[0;34m\u001b[0m\u001b[0m\n\u001b[1;32m    219\u001b[0m     \u001b[0;32mtry\u001b[0m\u001b[0;34m:\u001b[0m\u001b[0;34m\u001b[0m\u001b[0;34m\u001b[0m\u001b[0m\n\u001b[0;32m--> 220\u001b[0;31m         \u001b[0;32mreturn\u001b[0m \u001b[0mmax\u001b[0m\u001b[0;34m(\u001b[0m\u001b[0mbest_list\u001b[0m\u001b[0;34m,\u001b[0m \u001b[0mkey\u001b[0m\u001b[0;34m=\u001b[0m\u001b[0;32mlambda\u001b[0m \u001b[0mi\u001b[0m\u001b[0;34m:\u001b[0m \u001b[0mi\u001b[0m\u001b[0;34m[\u001b[0m\u001b[0;36m1\u001b[0m\u001b[0;34m]\u001b[0m\u001b[0;34m)\u001b[0m\u001b[0;34m\u001b[0m\u001b[0;34m\u001b[0m\u001b[0m\n\u001b[0m\u001b[1;32m    221\u001b[0m     \u001b[0;32mexcept\u001b[0m \u001b[0mValueError\u001b[0m\u001b[0;34m:\u001b[0m\u001b[0;34m\u001b[0m\u001b[0;34m\u001b[0m\u001b[0m\n\u001b[1;32m    222\u001b[0m         \u001b[0;32mreturn\u001b[0m \u001b[0;32mNone\u001b[0m\u001b[0;34m\u001b[0m\u001b[0;34m\u001b[0m\u001b[0m\n",
      "\u001b[0;32m/opt/anaconda3/lib/python3.9/site-packages/fuzzywuzzy/process.py\u001b[0m in \u001b[0;36mextractWithoutOrder\u001b[0;34m(query, choices, processor, scorer, score_cutoff)\u001b[0m\n\u001b[1;32m    115\u001b[0m         \u001b[0;32mfor\u001b[0m \u001b[0mchoice\u001b[0m \u001b[0;32min\u001b[0m \u001b[0mchoices\u001b[0m\u001b[0;34m:\u001b[0m\u001b[0;34m\u001b[0m\u001b[0;34m\u001b[0m\u001b[0m\n\u001b[1;32m    116\u001b[0m             \u001b[0mprocessed\u001b[0m \u001b[0;34m=\u001b[0m \u001b[0mpre_processor\u001b[0m\u001b[0;34m(\u001b[0m\u001b[0mprocessor\u001b[0m\u001b[0;34m(\u001b[0m\u001b[0mchoice\u001b[0m\u001b[0;34m)\u001b[0m\u001b[0;34m)\u001b[0m\u001b[0;34m\u001b[0m\u001b[0;34m\u001b[0m\u001b[0m\n\u001b[0;32m--> 117\u001b[0;31m             \u001b[0mscore\u001b[0m \u001b[0;34m=\u001b[0m \u001b[0mscorer\u001b[0m\u001b[0;34m(\u001b[0m\u001b[0mprocessed_query\u001b[0m\u001b[0;34m,\u001b[0m \u001b[0mprocessed\u001b[0m\u001b[0;34m)\u001b[0m\u001b[0;34m\u001b[0m\u001b[0;34m\u001b[0m\u001b[0m\n\u001b[0m\u001b[1;32m    118\u001b[0m             \u001b[0;32mif\u001b[0m \u001b[0mscore\u001b[0m \u001b[0;34m>=\u001b[0m \u001b[0mscore_cutoff\u001b[0m\u001b[0;34m:\u001b[0m\u001b[0;34m\u001b[0m\u001b[0;34m\u001b[0m\u001b[0m\n\u001b[1;32m    119\u001b[0m                 \u001b[0;32myield\u001b[0m \u001b[0;34m(\u001b[0m\u001b[0mchoice\u001b[0m\u001b[0;34m,\u001b[0m \u001b[0mscore\u001b[0m\u001b[0;34m)\u001b[0m\u001b[0;34m\u001b[0m\u001b[0;34m\u001b[0m\u001b[0m\n",
      "\u001b[0;32m/opt/anaconda3/lib/python3.9/site-packages/fuzzywuzzy/fuzz.py\u001b[0m in \u001b[0;36mWRatio\u001b[0;34m(s1, s2, force_ascii, full_process)\u001b[0m\n\u001b[1;32m    289\u001b[0m         \u001b[0mptsor\u001b[0m \u001b[0;34m=\u001b[0m \u001b[0mpartial_token_sort_ratio\u001b[0m\u001b[0;34m(\u001b[0m\u001b[0mp1\u001b[0m\u001b[0;34m,\u001b[0m \u001b[0mp2\u001b[0m\u001b[0;34m,\u001b[0m \u001b[0mfull_process\u001b[0m\u001b[0;34m=\u001b[0m\u001b[0;32mFalse\u001b[0m\u001b[0;34m)\u001b[0m\u001b[0;31m \u001b[0m\u001b[0;31m\\\u001b[0m\u001b[0;34m\u001b[0m\u001b[0;34m\u001b[0m\u001b[0m\n\u001b[1;32m    290\u001b[0m             \u001b[0;34m*\u001b[0m \u001b[0munbase_scale\u001b[0m \u001b[0;34m*\u001b[0m \u001b[0mpartial_scale\u001b[0m\u001b[0;34m\u001b[0m\u001b[0;34m\u001b[0m\u001b[0m\n\u001b[0;32m--> 291\u001b[0;31m         \u001b[0mptser\u001b[0m \u001b[0;34m=\u001b[0m \u001b[0mpartial_token_set_ratio\u001b[0m\u001b[0;34m(\u001b[0m\u001b[0mp1\u001b[0m\u001b[0;34m,\u001b[0m \u001b[0mp2\u001b[0m\u001b[0;34m,\u001b[0m \u001b[0mfull_process\u001b[0m\u001b[0;34m=\u001b[0m\u001b[0;32mFalse\u001b[0m\u001b[0;34m)\u001b[0m\u001b[0;31m \u001b[0m\u001b[0;31m\\\u001b[0m\u001b[0;34m\u001b[0m\u001b[0;34m\u001b[0m\u001b[0m\n\u001b[0m\u001b[1;32m    292\u001b[0m             \u001b[0;34m*\u001b[0m \u001b[0munbase_scale\u001b[0m \u001b[0;34m*\u001b[0m \u001b[0mpartial_scale\u001b[0m\u001b[0;34m\u001b[0m\u001b[0;34m\u001b[0m\u001b[0m\n\u001b[1;32m    293\u001b[0m \u001b[0;34m\u001b[0m\u001b[0m\n",
      "\u001b[0;32m/opt/anaconda3/lib/python3.9/site-packages/fuzzywuzzy/fuzz.py\u001b[0m in \u001b[0;36mpartial_token_set_ratio\u001b[0;34m(s1, s2, force_ascii, full_process)\u001b[0m\n\u001b[1;32m    171\u001b[0m \u001b[0;34m\u001b[0m\u001b[0m\n\u001b[1;32m    172\u001b[0m \u001b[0;32mdef\u001b[0m \u001b[0mpartial_token_set_ratio\u001b[0m\u001b[0;34m(\u001b[0m\u001b[0ms1\u001b[0m\u001b[0;34m,\u001b[0m \u001b[0ms2\u001b[0m\u001b[0;34m,\u001b[0m \u001b[0mforce_ascii\u001b[0m\u001b[0;34m=\u001b[0m\u001b[0;32mTrue\u001b[0m\u001b[0;34m,\u001b[0m \u001b[0mfull_process\u001b[0m\u001b[0;34m=\u001b[0m\u001b[0;32mTrue\u001b[0m\u001b[0;34m)\u001b[0m\u001b[0;34m:\u001b[0m\u001b[0;34m\u001b[0m\u001b[0;34m\u001b[0m\u001b[0m\n\u001b[0;32m--> 173\u001b[0;31m     \u001b[0;32mreturn\u001b[0m \u001b[0m_token_set\u001b[0m\u001b[0;34m(\u001b[0m\u001b[0ms1\u001b[0m\u001b[0;34m,\u001b[0m \u001b[0ms2\u001b[0m\u001b[0;34m,\u001b[0m \u001b[0mpartial\u001b[0m\u001b[0;34m=\u001b[0m\u001b[0;32mTrue\u001b[0m\u001b[0;34m,\u001b[0m \u001b[0mforce_ascii\u001b[0m\u001b[0;34m=\u001b[0m\u001b[0mforce_ascii\u001b[0m\u001b[0;34m,\u001b[0m \u001b[0mfull_process\u001b[0m\u001b[0;34m=\u001b[0m\u001b[0mfull_process\u001b[0m\u001b[0;34m)\u001b[0m\u001b[0;34m\u001b[0m\u001b[0;34m\u001b[0m\u001b[0m\n\u001b[0m\u001b[1;32m    174\u001b[0m \u001b[0;34m\u001b[0m\u001b[0m\n\u001b[1;32m    175\u001b[0m \u001b[0;34m\u001b[0m\u001b[0m\n",
      "\u001b[0;32m/opt/anaconda3/lib/python3.9/site-packages/fuzzywuzzy/utils.py\u001b[0m in \u001b[0;36mdecorator\u001b[0;34m(*args, **kwargs)\u001b[0m\n\u001b[1;32m     36\u001b[0m         \u001b[0;32mif\u001b[0m \u001b[0margs\u001b[0m\u001b[0;34m[\u001b[0m\u001b[0;36m0\u001b[0m\u001b[0;34m]\u001b[0m \u001b[0;32mis\u001b[0m \u001b[0;32mNone\u001b[0m \u001b[0;32mor\u001b[0m \u001b[0margs\u001b[0m\u001b[0;34m[\u001b[0m\u001b[0;36m1\u001b[0m\u001b[0;34m]\u001b[0m \u001b[0;32mis\u001b[0m \u001b[0;32mNone\u001b[0m\u001b[0;34m:\u001b[0m\u001b[0;34m\u001b[0m\u001b[0;34m\u001b[0m\u001b[0m\n\u001b[1;32m     37\u001b[0m             \u001b[0;32mreturn\u001b[0m \u001b[0;36m0\u001b[0m\u001b[0;34m\u001b[0m\u001b[0;34m\u001b[0m\u001b[0m\n\u001b[0;32m---> 38\u001b[0;31m         \u001b[0;32mreturn\u001b[0m \u001b[0mfunc\u001b[0m\u001b[0;34m(\u001b[0m\u001b[0;34m*\u001b[0m\u001b[0margs\u001b[0m\u001b[0;34m,\u001b[0m \u001b[0;34m**\u001b[0m\u001b[0mkwargs\u001b[0m\u001b[0;34m)\u001b[0m\u001b[0;34m\u001b[0m\u001b[0;34m\u001b[0m\u001b[0m\n\u001b[0m\u001b[1;32m     39\u001b[0m     \u001b[0;32mreturn\u001b[0m \u001b[0mdecorator\u001b[0m\u001b[0;34m\u001b[0m\u001b[0;34m\u001b[0m\u001b[0m\n\u001b[1;32m     40\u001b[0m \u001b[0;34m\u001b[0m\u001b[0m\n",
      "\u001b[0;32m/opt/anaconda3/lib/python3.9/site-packages/fuzzywuzzy/fuzz.py\u001b[0m in \u001b[0;36m_token_set\u001b[0;34m(s1, s2, partial, force_ascii, full_process)\u001b[0m\n\u001b[1;32m    161\u001b[0m         \u001b[0mratio_func\u001b[0m\u001b[0;34m(\u001b[0m\u001b[0msorted_sect\u001b[0m\u001b[0;34m,\u001b[0m \u001b[0mcombined_1to2\u001b[0m\u001b[0;34m)\u001b[0m\u001b[0;34m,\u001b[0m\u001b[0;34m\u001b[0m\u001b[0;34m\u001b[0m\u001b[0m\n\u001b[1;32m    162\u001b[0m         \u001b[0mratio_func\u001b[0m\u001b[0;34m(\u001b[0m\u001b[0msorted_sect\u001b[0m\u001b[0;34m,\u001b[0m \u001b[0mcombined_2to1\u001b[0m\u001b[0;34m)\u001b[0m\u001b[0;34m,\u001b[0m\u001b[0;34m\u001b[0m\u001b[0;34m\u001b[0m\u001b[0m\n\u001b[0;32m--> 163\u001b[0;31m         \u001b[0mratio_func\u001b[0m\u001b[0;34m(\u001b[0m\u001b[0mcombined_1to2\u001b[0m\u001b[0;34m,\u001b[0m \u001b[0mcombined_2to1\u001b[0m\u001b[0;34m)\u001b[0m\u001b[0;34m\u001b[0m\u001b[0;34m\u001b[0m\u001b[0m\n\u001b[0m\u001b[1;32m    164\u001b[0m     ]\n\u001b[1;32m    165\u001b[0m     \u001b[0;32mreturn\u001b[0m \u001b[0mmax\u001b[0m\u001b[0;34m(\u001b[0m\u001b[0mpairwise\u001b[0m\u001b[0;34m)\u001b[0m\u001b[0;34m\u001b[0m\u001b[0;34m\u001b[0m\u001b[0m\n",
      "\u001b[0;32m/opt/anaconda3/lib/python3.9/site-packages/fuzzywuzzy/utils.py\u001b[0m in \u001b[0;36mdecorator\u001b[0;34m(*args, **kwargs)\u001b[0m\n\u001b[1;32m     36\u001b[0m         \u001b[0;32mif\u001b[0m \u001b[0margs\u001b[0m\u001b[0;34m[\u001b[0m\u001b[0;36m0\u001b[0m\u001b[0;34m]\u001b[0m \u001b[0;32mis\u001b[0m \u001b[0;32mNone\u001b[0m \u001b[0;32mor\u001b[0m \u001b[0margs\u001b[0m\u001b[0;34m[\u001b[0m\u001b[0;36m1\u001b[0m\u001b[0;34m]\u001b[0m \u001b[0;32mis\u001b[0m \u001b[0;32mNone\u001b[0m\u001b[0;34m:\u001b[0m\u001b[0;34m\u001b[0m\u001b[0;34m\u001b[0m\u001b[0m\n\u001b[1;32m     37\u001b[0m             \u001b[0;32mreturn\u001b[0m \u001b[0;36m0\u001b[0m\u001b[0;34m\u001b[0m\u001b[0;34m\u001b[0m\u001b[0m\n\u001b[0;32m---> 38\u001b[0;31m         \u001b[0;32mreturn\u001b[0m \u001b[0mfunc\u001b[0m\u001b[0;34m(\u001b[0m\u001b[0;34m*\u001b[0m\u001b[0margs\u001b[0m\u001b[0;34m,\u001b[0m \u001b[0;34m**\u001b[0m\u001b[0mkwargs\u001b[0m\u001b[0;34m)\u001b[0m\u001b[0;34m\u001b[0m\u001b[0;34m\u001b[0m\u001b[0m\n\u001b[0m\u001b[1;32m     39\u001b[0m     \u001b[0;32mreturn\u001b[0m \u001b[0mdecorator\u001b[0m\u001b[0;34m\u001b[0m\u001b[0;34m\u001b[0m\u001b[0m\n\u001b[1;32m     40\u001b[0m \u001b[0;34m\u001b[0m\u001b[0m\n",
      "\u001b[0;32m/opt/anaconda3/lib/python3.9/site-packages/fuzzywuzzy/utils.py\u001b[0m in \u001b[0;36mdecorator\u001b[0;34m(*args, **kwargs)\u001b[0m\n\u001b[1;32m     27\u001b[0m         \u001b[0;32mif\u001b[0m \u001b[0margs\u001b[0m\u001b[0;34m[\u001b[0m\u001b[0;36m0\u001b[0m\u001b[0;34m]\u001b[0m \u001b[0;34m==\u001b[0m \u001b[0margs\u001b[0m\u001b[0;34m[\u001b[0m\u001b[0;36m1\u001b[0m\u001b[0;34m]\u001b[0m\u001b[0;34m:\u001b[0m\u001b[0;34m\u001b[0m\u001b[0;34m\u001b[0m\u001b[0m\n\u001b[1;32m     28\u001b[0m             \u001b[0;32mreturn\u001b[0m \u001b[0;36m100\u001b[0m\u001b[0;34m\u001b[0m\u001b[0;34m\u001b[0m\u001b[0m\n\u001b[0;32m---> 29\u001b[0;31m         \u001b[0;32mreturn\u001b[0m \u001b[0mfunc\u001b[0m\u001b[0;34m(\u001b[0m\u001b[0;34m*\u001b[0m\u001b[0margs\u001b[0m\u001b[0;34m,\u001b[0m \u001b[0;34m**\u001b[0m\u001b[0mkwargs\u001b[0m\u001b[0;34m)\u001b[0m\u001b[0;34m\u001b[0m\u001b[0;34m\u001b[0m\u001b[0m\n\u001b[0m\u001b[1;32m     30\u001b[0m     \u001b[0;32mreturn\u001b[0m \u001b[0mdecorator\u001b[0m\u001b[0;34m\u001b[0m\u001b[0;34m\u001b[0m\u001b[0m\n\u001b[1;32m     31\u001b[0m \u001b[0;34m\u001b[0m\u001b[0m\n",
      "\u001b[0;32m/opt/anaconda3/lib/python3.9/site-packages/fuzzywuzzy/utils.py\u001b[0m in \u001b[0;36mdecorator\u001b[0;34m(*args, **kwargs)\u001b[0m\n\u001b[1;32m     45\u001b[0m         \u001b[0;32mif\u001b[0m \u001b[0mlen\u001b[0m\u001b[0;34m(\u001b[0m\u001b[0margs\u001b[0m\u001b[0;34m[\u001b[0m\u001b[0;36m0\u001b[0m\u001b[0;34m]\u001b[0m\u001b[0;34m)\u001b[0m \u001b[0;34m==\u001b[0m \u001b[0;36m0\u001b[0m \u001b[0;32mor\u001b[0m \u001b[0mlen\u001b[0m\u001b[0;34m(\u001b[0m\u001b[0margs\u001b[0m\u001b[0;34m[\u001b[0m\u001b[0;36m1\u001b[0m\u001b[0;34m]\u001b[0m\u001b[0;34m)\u001b[0m \u001b[0;34m==\u001b[0m \u001b[0;36m0\u001b[0m\u001b[0;34m:\u001b[0m\u001b[0;34m\u001b[0m\u001b[0;34m\u001b[0m\u001b[0m\n\u001b[1;32m     46\u001b[0m             \u001b[0;32mreturn\u001b[0m \u001b[0;36m0\u001b[0m\u001b[0;34m\u001b[0m\u001b[0;34m\u001b[0m\u001b[0m\n\u001b[0;32m---> 47\u001b[0;31m         \u001b[0;32mreturn\u001b[0m \u001b[0mfunc\u001b[0m\u001b[0;34m(\u001b[0m\u001b[0;34m*\u001b[0m\u001b[0margs\u001b[0m\u001b[0;34m,\u001b[0m \u001b[0;34m**\u001b[0m\u001b[0mkwargs\u001b[0m\u001b[0;34m)\u001b[0m\u001b[0;34m\u001b[0m\u001b[0;34m\u001b[0m\u001b[0m\n\u001b[0m\u001b[1;32m     48\u001b[0m     \u001b[0;32mreturn\u001b[0m \u001b[0mdecorator\u001b[0m\u001b[0;34m\u001b[0m\u001b[0;34m\u001b[0m\u001b[0m\n\u001b[1;32m     49\u001b[0m \u001b[0;34m\u001b[0m\u001b[0m\n",
      "\u001b[0;32m/opt/anaconda3/lib/python3.9/site-packages/fuzzywuzzy/fuzz.py\u001b[0m in \u001b[0;36mpartial_ratio\u001b[0;34m(s1, s2)\u001b[0m\n\u001b[1;32m     60\u001b[0m \u001b[0;34m\u001b[0m\u001b[0m\n\u001b[1;32m     61\u001b[0m         \u001b[0mm2\u001b[0m \u001b[0;34m=\u001b[0m \u001b[0mSequenceMatcher\u001b[0m\u001b[0;34m(\u001b[0m\u001b[0;32mNone\u001b[0m\u001b[0;34m,\u001b[0m \u001b[0mshorter\u001b[0m\u001b[0;34m,\u001b[0m \u001b[0mlong_substr\u001b[0m\u001b[0;34m)\u001b[0m\u001b[0;34m\u001b[0m\u001b[0;34m\u001b[0m\u001b[0m\n\u001b[0;32m---> 62\u001b[0;31m         \u001b[0mr\u001b[0m \u001b[0;34m=\u001b[0m \u001b[0mm2\u001b[0m\u001b[0;34m.\u001b[0m\u001b[0mratio\u001b[0m\u001b[0;34m(\u001b[0m\u001b[0;34m)\u001b[0m\u001b[0;34m\u001b[0m\u001b[0;34m\u001b[0m\u001b[0m\n\u001b[0m\u001b[1;32m     63\u001b[0m         \u001b[0;32mif\u001b[0m \u001b[0mr\u001b[0m \u001b[0;34m>\u001b[0m \u001b[0;36m.995\u001b[0m\u001b[0;34m:\u001b[0m\u001b[0;34m\u001b[0m\u001b[0;34m\u001b[0m\u001b[0m\n\u001b[1;32m     64\u001b[0m             \u001b[0;32mreturn\u001b[0m \u001b[0;36m100\u001b[0m\u001b[0;34m\u001b[0m\u001b[0;34m\u001b[0m\u001b[0m\n",
      "\u001b[0;32m/opt/anaconda3/lib/python3.9/site-packages/fuzzywuzzy/StringMatcher.py\u001b[0m in \u001b[0;36mratio\u001b[0;34m(self)\u001b[0m\n\u001b[1;32m     62\u001b[0m     \u001b[0;32mdef\u001b[0m \u001b[0mratio\u001b[0m\u001b[0;34m(\u001b[0m\u001b[0mself\u001b[0m\u001b[0;34m)\u001b[0m\u001b[0;34m:\u001b[0m\u001b[0;34m\u001b[0m\u001b[0;34m\u001b[0m\u001b[0m\n\u001b[1;32m     63\u001b[0m         \u001b[0;32mif\u001b[0m \u001b[0;32mnot\u001b[0m \u001b[0mself\u001b[0m\u001b[0;34m.\u001b[0m\u001b[0m_ratio\u001b[0m\u001b[0;34m:\u001b[0m\u001b[0;34m\u001b[0m\u001b[0;34m\u001b[0m\u001b[0m\n\u001b[0;32m---> 64\u001b[0;31m             \u001b[0mself\u001b[0m\u001b[0;34m.\u001b[0m\u001b[0m_ratio\u001b[0m \u001b[0;34m=\u001b[0m \u001b[0mratio\u001b[0m\u001b[0;34m(\u001b[0m\u001b[0mself\u001b[0m\u001b[0;34m.\u001b[0m\u001b[0m_str1\u001b[0m\u001b[0;34m,\u001b[0m \u001b[0mself\u001b[0m\u001b[0;34m.\u001b[0m\u001b[0m_str2\u001b[0m\u001b[0;34m)\u001b[0m\u001b[0;34m\u001b[0m\u001b[0;34m\u001b[0m\u001b[0m\n\u001b[0m\u001b[1;32m     65\u001b[0m         \u001b[0;32mreturn\u001b[0m \u001b[0mself\u001b[0m\u001b[0;34m.\u001b[0m\u001b[0m_ratio\u001b[0m\u001b[0;34m\u001b[0m\u001b[0;34m\u001b[0m\u001b[0m\n\u001b[1;32m     66\u001b[0m \u001b[0;34m\u001b[0m\u001b[0m\n",
      "\u001b[0;31mKeyboardInterrupt\u001b[0m: "
     ]
    }
   ],
   "source": [
    "matches = []\n",
    "for product in tqdm(amz_raw['title']):\n",
    "    if type(product) != str: # checking base case\n",
    "        pass\n",
    "    else:\n",
    "        match = process.extractOne(product, list(sams_raw['Primary_Desc']))\n",
    "        if match[1] > 95:\n",
    "            matches.append(product)\n",
    "            matches.append(match)"
   ]
  },
  {
   "cell_type": "code",
   "execution_count": 178,
   "id": "cd8bcea0",
   "metadata": {},
   "outputs": [
    {
     "data": {
      "text/plain": [
       "'Earbud Headphones'"
      ]
     },
     "execution_count": 178,
     "metadata": {},
     "output_type": "execute_result"
    }
   ],
   "source": [
    "matches[0]"
   ]
  },
  {
   "cell_type": "code",
   "execution_count": 179,
   "id": "914d08bc",
   "metadata": {},
   "outputs": [
    {
     "data": {
      "text/plain": [
       "86"
      ]
     },
     "execution_count": 179,
     "metadata": {},
     "output_type": "execute_result"
    }
   ],
   "source": [
    "match[1]"
   ]
  },
  {
   "cell_type": "code",
   "execution_count": 180,
   "id": "1387a735",
   "metadata": {
    "scrolled": false
   },
   "outputs": [
    {
     "data": {
      "text/html": [
       "<div>\n",
       "<style scoped>\n",
       "    .dataframe tbody tr th:only-of-type {\n",
       "        vertical-align: middle;\n",
       "    }\n",
       "\n",
       "    .dataframe tbody tr th {\n",
       "        vertical-align: top;\n",
       "    }\n",
       "\n",
       "    .dataframe thead th {\n",
       "        text-align: right;\n",
       "    }\n",
       "</style>\n",
       "<table border=\"1\" class=\"dataframe\">\n",
       "  <thead>\n",
       "    <tr style=\"text-align: right;\">\n",
       "      <th></th>\n",
       "      <th>col</th>\n",
       "    </tr>\n",
       "  </thead>\n",
       "  <tbody>\n",
       "    <tr>\n",
       "      <th>0</th>\n",
       "      <td>Earbud Headphones</td>\n",
       "    </tr>\n",
       "    <tr>\n",
       "      <th>1</th>\n",
       "      <td>(EARBUD HEADPHONES   , 100)</td>\n",
       "    </tr>\n",
       "  </tbody>\n",
       "</table>\n",
       "</div>"
      ],
      "text/plain": [
       "                           col\n",
       "0  Earbud Headphones          \n",
       "1  (EARBUD HEADPHONES   , 100)"
      ]
     },
     "execution_count": 180,
     "metadata": {},
     "output_type": "execute_result"
    }
   ],
   "source": [
    "df = pd.DataFrame({'col':matches})\n",
    "df.head(100)"
   ]
  },
  {
   "cell_type": "markdown",
   "id": "e3392667",
   "metadata": {},
   "source": [
    "## Fuzzy Merge"
   ]
  },
  {
   "cell_type": "code",
   "execution_count": 184,
   "id": "8d15a5b3",
   "metadata": {
    "scrolled": true
   },
   "outputs": [],
   "source": [
    "if False:\n",
    "    !pip install fuzzy_pandas"
   ]
  },
  {
   "cell_type": "code",
   "execution_count": 185,
   "id": "b3133042",
   "metadata": {},
   "outputs": [],
   "source": [
    "import pandas as pd\n",
    "import fuzzy_pandas as fpd\n",
    "\n",
    "# set working directory\n",
    "os.chdir('/Users/robbyjeffries/MSEACapstone/Data')\n",
    "\n",
    "# import raw review data for the Electronics category\n",
    "amz_raw = pd.read_csv('Products/products_with_first_review_date.csv')\n",
    "sams_raw = pd.read_excel('Products/Products_Vendor_Start_Date.xlsx') \n",
    "\n",
    "sams_raw = sams_raw.dropna()\n",
    "amz_raw = amz_raw.dropna()"
   ]
  },
  {
   "cell_type": "code",
   "execution_count": 186,
   "id": "6f1b6923",
   "metadata": {},
   "outputs": [
    {
     "ename": "KeyboardInterrupt",
     "evalue": "",
     "output_type": "error",
     "traceback": [
      "\u001b[0;31m---------------------------------------------------------------------------\u001b[0m",
      "\u001b[0;31mKeyboardInterrupt\u001b[0m                         Traceback (most recent call last)",
      "\u001b[0;32m/var/folders/c9/z8kjq8qs15n6nq0dr7vdg5640000gn/T/ipykernel_53365/1590424546.py\u001b[0m in \u001b[0;36m<module>\u001b[0;34m\u001b[0m\n\u001b[0;32m----> 1\u001b[0;31m fpd.fuzzy_merge(amz_raw, sams_raw,\n\u001b[0m\u001b[1;32m      2\u001b[0m                 \u001b[0mleft_on\u001b[0m\u001b[0;34m=\u001b[0m\u001b[0;34m[\u001b[0m\u001b[0;34m'title'\u001b[0m\u001b[0;34m]\u001b[0m\u001b[0;34m,\u001b[0m\u001b[0;34m\u001b[0m\u001b[0;34m\u001b[0m\u001b[0m\n\u001b[1;32m      3\u001b[0m                 \u001b[0mright_on\u001b[0m\u001b[0;34m=\u001b[0m\u001b[0;34m[\u001b[0m\u001b[0;34m'Primary_Desc'\u001b[0m\u001b[0;34m]\u001b[0m\u001b[0;34m,\u001b[0m\u001b[0;34m\u001b[0m\u001b[0;34m\u001b[0m\u001b[0m\n\u001b[1;32m      4\u001b[0m                 \u001b[0mignore_case\u001b[0m\u001b[0;34m=\u001b[0m\u001b[0;32mTrue\u001b[0m\u001b[0;34m,\u001b[0m\u001b[0;34m\u001b[0m\u001b[0;34m\u001b[0m\u001b[0m\n\u001b[1;32m      5\u001b[0m                 keep='match')\n",
      "\u001b[0;32m/opt/anaconda3/lib/python3.9/site-packages/fuzzy_pandas/fuzzy_merge.py\u001b[0m in \u001b[0;36mfuzzy_merge\u001b[0;34m(df1, df2, on, left_on, right_on, keep, keep_left, keep_right, method, threshold, **kwargs)\u001b[0m\n\u001b[1;32m    121\u001b[0m     \u001b[0moutput\u001b[0m \u001b[0;34m=\u001b[0m \u001b[0mkwargs\u001b[0m\u001b[0;34m.\u001b[0m\u001b[0mpop\u001b[0m\u001b[0;34m(\u001b[0m\u001b[0;34m'output'\u001b[0m\u001b[0;34m,\u001b[0m \u001b[0moutput\u001b[0m\u001b[0;34m)\u001b[0m\u001b[0;34m\u001b[0m\u001b[0;34m\u001b[0m\u001b[0m\n\u001b[1;32m    122\u001b[0m \u001b[0;34m\u001b[0m\u001b[0m\n\u001b[0;32m--> 123\u001b[0;31m     results, keys = csvmatch.run(\n\u001b[0m\u001b[1;32m    124\u001b[0m         \u001b[0mdata1\u001b[0m\u001b[0;34m,\u001b[0m\u001b[0;34m\u001b[0m\u001b[0;34m\u001b[0m\u001b[0m\n\u001b[1;32m    125\u001b[0m         \u001b[0mheaders1\u001b[0m\u001b[0;34m,\u001b[0m\u001b[0;34m\u001b[0m\u001b[0;34m\u001b[0m\u001b[0m\n",
      "\u001b[0;32m/opt/anaconda3/lib/python3.9/site-packages/csvmatch.py\u001b[0m in \u001b[0;36mrun\u001b[0;34m(data1, headers1, data2, headers2, fields1, fields2, ignore_case, ignore_nonalpha, ignore_nonlatin, ignore_order_words, ignore_order_letters, ignore_titles, ignore_custom, methods, thresholds, output, join, ticker)\u001b[0m\n\u001b[1;32m     52\u001b[0m     \u001b[0mmatches\u001b[0m \u001b[0;34m=\u001b[0m \u001b[0mmatcher\u001b[0m\u001b[0;34m(\u001b[0m\u001b[0mprocessed1\u001b[0m\u001b[0;34m,\u001b[0m \u001b[0mprocessed2\u001b[0m\u001b[0;34m)\u001b[0m\u001b[0;34m\u001b[0m\u001b[0;34m\u001b[0m\u001b[0m\n\u001b[1;32m     53\u001b[0m     \u001b[0moutputs\u001b[0m \u001b[0;34m=\u001b[0m \u001b[0mformat\u001b[0m\u001b[0;34m(\u001b[0m\u001b[0moutput\u001b[0m\u001b[0;34m,\u001b[0m \u001b[0mheaders1\u001b[0m\u001b[0;34m,\u001b[0m \u001b[0mheaders2\u001b[0m\u001b[0;34m,\u001b[0m \u001b[0mfields1\u001b[0m\u001b[0;34m,\u001b[0m \u001b[0mfields2\u001b[0m\u001b[0;34m)\u001b[0m\u001b[0;34m\u001b[0m\u001b[0;34m\u001b[0m\u001b[0m\n\u001b[0;32m---> 54\u001b[0;31m     \u001b[0mresults\u001b[0m \u001b[0;34m=\u001b[0m \u001b[0mconnect\u001b[0m\u001b[0;34m(\u001b[0m\u001b[0mjoin\u001b[0m\u001b[0;34m,\u001b[0m \u001b[0mdata1\u001b[0m\u001b[0;34m,\u001b[0m \u001b[0mheaders1\u001b[0m\u001b[0;34m,\u001b[0m \u001b[0mdata2\u001b[0m\u001b[0;34m,\u001b[0m \u001b[0mheaders2\u001b[0m\u001b[0;34m,\u001b[0m \u001b[0mlist\u001b[0m\u001b[0;34m(\u001b[0m\u001b[0mmatches\u001b[0m\u001b[0;34m)\u001b[0m\u001b[0;34m,\u001b[0m \u001b[0moutputs\u001b[0m\u001b[0;34m)\u001b[0m\u001b[0;34m\u001b[0m\u001b[0;34m\u001b[0m\u001b[0m\n\u001b[0m\u001b[1;32m     55\u001b[0m     \u001b[0mkeys\u001b[0m \u001b[0;34m=\u001b[0m \u001b[0;34m[\u001b[0m\u001b[0mkey\u001b[0m \u001b[0;32mfor\u001b[0m \u001b[0m_\u001b[0m\u001b[0;34m,\u001b[0m \u001b[0mkey\u001b[0m \u001b[0;32min\u001b[0m \u001b[0moutputs\u001b[0m\u001b[0;34m]\u001b[0m\u001b[0;34m\u001b[0m\u001b[0;34m\u001b[0m\u001b[0m\n\u001b[1;32m     56\u001b[0m     \u001b[0;32mreturn\u001b[0m \u001b[0mresults\u001b[0m\u001b[0;34m,\u001b[0m \u001b[0mkeys\u001b[0m\u001b[0;34m\u001b[0m\u001b[0;34m\u001b[0m\u001b[0m\n",
      "\u001b[0;32m/opt/anaconda3/lib/python3.9/site-packages/csvmatch.py\u001b[0m in \u001b[0;36mexecutor\u001b[0;34m(data1, data2)\u001b[0m\n\u001b[1;32m    126\u001b[0m         \u001b[0;32mfor\u001b[0m \u001b[0mi1\u001b[0m\u001b[0;34m,\u001b[0m \u001b[0mrow1\u001b[0m \u001b[0;32min\u001b[0m \u001b[0menumerate\u001b[0m\u001b[0;34m(\u001b[0m\u001b[0mdata1\u001b[0m\u001b[0;34m)\u001b[0m\u001b[0;34m:\u001b[0m\u001b[0;34m\u001b[0m\u001b[0;34m\u001b[0m\u001b[0m\n\u001b[1;32m    127\u001b[0m             \u001b[0;32mfor\u001b[0m \u001b[0mi2\u001b[0m\u001b[0;34m,\u001b[0m \u001b[0mrow2\u001b[0m \u001b[0;32min\u001b[0m \u001b[0menumerate\u001b[0m\u001b[0;34m(\u001b[0m\u001b[0mdata2\u001b[0m\u001b[0;34m)\u001b[0m\u001b[0;34m:\u001b[0m\u001b[0;34m\u001b[0m\u001b[0;34m\u001b[0m\u001b[0m\n\u001b[0;32m--> 128\u001b[0;31m                 \u001b[0mdegrees\u001b[0m \u001b[0;34m=\u001b[0m \u001b[0;34m[\u001b[0m\u001b[0;34m]\u001b[0m\u001b[0;34m\u001b[0m\u001b[0;34m\u001b[0m\u001b[0m\n\u001b[0m\u001b[1;32m    129\u001b[0m                 \u001b[0;32mfor\u001b[0m \u001b[0mi\u001b[0m\u001b[0;34m,\u001b[0m \u001b[0mmatcher\u001b[0m \u001b[0;32min\u001b[0m \u001b[0menumerate\u001b[0m\u001b[0;34m(\u001b[0m\u001b[0mmatchers\u001b[0m\u001b[0;34m)\u001b[0m\u001b[0;34m:\u001b[0m\u001b[0;34m\u001b[0m\u001b[0;34m\u001b[0m\u001b[0m\n\u001b[1;32m    130\u001b[0m                     \u001b[0mdegree\u001b[0m \u001b[0;34m=\u001b[0m \u001b[0mmatcher\u001b[0m\u001b[0;34m[\u001b[0m\u001b[0;34m'method'\u001b[0m\u001b[0;34m]\u001b[0m\u001b[0;34m(\u001b[0m\u001b[0mrow1\u001b[0m\u001b[0;34m[\u001b[0m\u001b[0mi\u001b[0m\u001b[0;34m]\u001b[0m\u001b[0;34m,\u001b[0m \u001b[0mrow2\u001b[0m\u001b[0;34m[\u001b[0m\u001b[0mi\u001b[0m\u001b[0;34m]\u001b[0m\u001b[0;34m)\u001b[0m\u001b[0;34m\u001b[0m\u001b[0;34m\u001b[0m\u001b[0m\n",
      "\u001b[0;31mKeyboardInterrupt\u001b[0m: "
     ]
    }
   ],
   "source": [
    "fpd.fuzzy_merge(amz_raw, sams_raw,\n",
    "                left_on=['title'],\n",
    "                right_on=['Primary_Desc'],\n",
    "                ignore_case=True,\n",
    "                keep='match')"
   ]
  },
  {
   "cell_type": "code",
   "execution_count": 195,
   "id": "95ebd2af",
   "metadata": {},
   "outputs": [
    {
     "data": {
      "text/plain": [
       "('ipad', 100)"
      ]
     },
     "execution_count": 195,
     "metadata": {},
     "output_type": "execute_result"
    }
   ],
   "source": [
    "import pandas as pd\n",
    "from fuzzywuzzy import process\n",
    "\n",
    "process.extractOne('ipad' ,['apple', 'ipad'])"
   ]
  },
  {
   "cell_type": "markdown",
   "id": "5dc117c3",
   "metadata": {},
   "source": [
    "***\n",
    "\n",
    "# Working Matcher\n",
    "\n",
    "https://stackoverflow.com/questions/68894999/fuzzy-match-for-2-lists-with-very-similar-names"
   ]
  },
  {
   "cell_type": "code",
   "execution_count": 216,
   "id": "ec84cb79",
   "metadata": {
    "scrolled": false
   },
   "outputs": [
    {
     "name": "stderr",
     "output_type": "stream",
     "text": [
      "  0%|                                       | 1/1923 [00:40<21:46:50, 40.80s/it]"
     ]
    },
    {
     "name": "stdout",
     "output_type": "stream",
     "text": [
      "{'sams_name': 'CG PORT CHARGER LRG ', 'amazon_name': 'Charger', 'score': 90}\n"
     ]
    },
    {
     "name": "stderr",
     "output_type": "stream",
     "text": [
      "  0%|                                       | 6/1923 [03:47<20:06:47, 37.77s/it]"
     ]
    },
    {
     "name": "stdout",
     "output_type": "stream",
     "text": [
      "{'sams_name': 'INCIPIO FEATHER     ', 'amazon_name': 'Incipio Feather Case for Microsoft Surface Pro and Surface Pro 2', 'score': 90}\n"
     ]
    },
    {
     "name": "stderr",
     "output_type": "stream",
     "text": [
      "  1%|▏                                     | 11/1923 [06:57<19:26:34, 36.61s/it]"
     ]
    },
    {
     "name": "stdout",
     "output_type": "stream",
     "text": [
      "{'sams_name': 'LG LUCID            ', 'amazon_name': 'Black Micro Bluetooth Hands Free Heaphone For LG Lucid2', 'score': 90}\n"
     ]
    },
    {
     "name": "stderr",
     "output_type": "stream",
     "text": [
      "  1%|▎                                     | 18/1923 [12:07<21:24:26, 40.45s/it]"
     ]
    },
    {
     "name": "stdout",
     "output_type": "stream",
     "text": [
      "{'sams_name': 'SOUND RUSH          ', 'amazon_name': 'Panasonic RP-HXS200M-K Sound Rush On-Ear Headphones, Black/Gray', 'score': 90}\n"
     ]
    },
    {
     "name": "stderr",
     "output_type": "stream",
     "text": [
      "  1%|▍                                     | 21/1923 [14:07<20:22:07, 38.55s/it]"
     ]
    },
    {
     "name": "stdout",
     "output_type": "stream",
     "text": [
      "{'sams_name': 'INCIPIO BRIG        ', 'amazon_name': 'Incipio Brig Textured Impact Resistant Case for iPod touch 5th Gen 16GB (Black)', 'score': 90}\n"
     ]
    },
    {
     "name": "stderr",
     "output_type": "stream",
     "text": [
      "\r",
      "  1%|▍                                     | 22/1923 [14:42<19:52:08, 37.63s/it]"
     ]
    },
    {
     "name": "stdout",
     "output_type": "stream",
     "text": [
      "{'sams_name': 'DELL INSPIRON 11    ', 'amazon_name': 'Dell Inspiron 1150', 'score': 94}\n"
     ]
    },
    {
     "name": "stderr",
     "output_type": "stream",
     "text": [
      "\r",
      "  1%|▍                                     | 23/1923 [15:13<18:50:05, 35.69s/it]"
     ]
    },
    {
     "name": "stdout",
     "output_type": "stream",
     "text": [
      "{'sams_name': 'TV STAND            ', 'amazon_name': 'Aluminum Portable TV Stand for up to 60 inch Monitors - Silver', 'score': 90}\n"
     ]
    },
    {
     "name": "stderr",
     "output_type": "stream",
     "text": [
      "\r",
      "  1%|▍                                     | 24/1923 [15:51<19:06:22, 36.22s/it]"
     ]
    },
    {
     "name": "stdout",
     "output_type": "stream",
     "text": [
      "{'sams_name': 'SPEAKER PHONE       ', 'amazon_name': 'Micro Boom Wireless Bluetooth Speaker &amp; Speaker Phone (Black)', 'score': 90}\n"
     ]
    },
    {
     "name": "stderr",
     "output_type": "stream",
     "text": [
      "  2%|▋                                     | 35/1923 [22:45<19:10:54, 36.58s/it]"
     ]
    },
    {
     "name": "stdout",
     "output_type": "stream",
     "text": [
      "{'sams_name': '64GB FLASH DRIVE    ', 'amazon_name': 'ULTRA 64GB Flash Drive', 'score': 95}\n"
     ]
    },
    {
     "name": "stderr",
     "output_type": "stream",
     "text": [
      "\r",
      "  2%|▋                                     | 36/1923 [23:21<19:05:20, 36.42s/it]"
     ]
    },
    {
     "name": "stdout",
     "output_type": "stream",
     "text": [
      "{'sams_name': '27\" MONORAL REMOTE  ', 'amazon_name': 'REMOTE', 'score': 90}\n"
     ]
    },
    {
     "name": "stderr",
     "output_type": "stream",
     "text": [
      "  3%|▉                                     | 49/1923 [30:19<15:56:37, 30.63s/it]"
     ]
    },
    {
     "name": "stdout",
     "output_type": "stream",
     "text": [
      "{'sams_name': 'CEILING MOUNT       ', 'amazon_name': 'Projector Ceiling Mount for PANASONIC PT-AE8000 AE8000U', 'score': 90}\n"
     ]
    },
    {
     "name": "stderr",
     "output_type": "stream",
     "text": [
      "  3%|█                                     | 51/1923 [31:19<15:29:05, 29.78s/it]"
     ]
    },
    {
     "name": "stdout",
     "output_type": "stream",
     "text": [
      "{'sams_name': 'INSPIRON 15Z        ', 'amazon_name': 'Dell Inspiron 15Z Intel Core i5 1.8GHz 6GB 500GB+32GB SSD DVD 15.6&quot; W8 (Silver)', 'score': 90}\n"
     ]
    },
    {
     "name": "stderr",
     "output_type": "stream",
     "text": [
      "  3%|█                                     | 56/1923 [34:08<16:46:21, 32.34s/it]"
     ]
    },
    {
     "name": "stdout",
     "output_type": "stream",
     "text": [
      "{'sams_name': 'CORDLESS PHONE      ', 'amazon_name': 'Fenzer Rechargeable Cordless Phone Battery for GE 27911EE1 27950EE1 Cordless Telephone Battery Replacement Pack', 'score': 90}\n"
     ]
    },
    {
     "name": "stderr",
     "output_type": "stream",
     "text": [
      "  3%|█▏                                    | 63/1923 [38:02<17:03:18, 33.01s/it]"
     ]
    },
    {
     "name": "stdout",
     "output_type": "stream",
     "text": [
      "{'sams_name': 'DELL INSPIRON 660   ', 'amazon_name': 'Dell Inspiron 660 I660-1044BK Desktop Computer', 'score': 90}\n"
     ]
    },
    {
     "name": "stderr",
     "output_type": "stream",
     "text": [
      "  4%|█▎                                    | 69/1923 [41:22<16:11:02, 31.43s/it]"
     ]
    },
    {
     "name": "stdout",
     "output_type": "stream",
     "text": [
      "{'sams_name': 'HARLEY DAVIDSON     ', 'amazon_name': \"Hogtunes 0401 Audio Cable (3.3', Connect MP3/GPS to Factory Harley-Davidson Radio)\", 'score': 90}\n"
     ]
    },
    {
     "name": "stderr",
     "output_type": "stream",
     "text": [
      "  4%|█▌                                    | 79/1923 [47:05<18:19:15, 35.77s/it]\n"
     ]
    },
    {
     "ename": "KeyboardInterrupt",
     "evalue": "",
     "output_type": "error",
     "traceback": [
      "\u001b[0;31m---------------------------------------------------------------------------\u001b[0m",
      "\u001b[0;31mAttributeError\u001b[0m                            Traceback (most recent call last)",
      "\u001b[0;32m/opt/anaconda3/lib/python3.9/site-packages/fuzzywuzzy/process.py\u001b[0m in \u001b[0;36mextractWithoutOrder\u001b[0;34m(query, choices, processor, scorer, score_cutoff)\u001b[0m\n\u001b[1;32m    107\u001b[0m         \u001b[0;31m# See if choices is a dictionary-like object.\u001b[0m\u001b[0;34m\u001b[0m\u001b[0;34m\u001b[0m\u001b[0m\n\u001b[0;32m--> 108\u001b[0;31m         \u001b[0;32mfor\u001b[0m \u001b[0mkey\u001b[0m\u001b[0;34m,\u001b[0m \u001b[0mchoice\u001b[0m \u001b[0;32min\u001b[0m \u001b[0mchoices\u001b[0m\u001b[0;34m.\u001b[0m\u001b[0mitems\u001b[0m\u001b[0;34m(\u001b[0m\u001b[0;34m)\u001b[0m\u001b[0;34m:\u001b[0m\u001b[0;34m\u001b[0m\u001b[0;34m\u001b[0m\u001b[0m\n\u001b[0m\u001b[1;32m    109\u001b[0m             \u001b[0mprocessed\u001b[0m \u001b[0;34m=\u001b[0m \u001b[0mpre_processor\u001b[0m\u001b[0;34m(\u001b[0m\u001b[0mprocessor\u001b[0m\u001b[0;34m(\u001b[0m\u001b[0mchoice\u001b[0m\u001b[0;34m)\u001b[0m\u001b[0;34m)\u001b[0m\u001b[0;34m\u001b[0m\u001b[0;34m\u001b[0m\u001b[0m\n",
      "\u001b[0;31mAttributeError\u001b[0m: 'list' object has no attribute 'items'",
      "\nDuring handling of the above exception, another exception occurred:\n",
      "\u001b[0;31mKeyboardInterrupt\u001b[0m                         Traceback (most recent call last)",
      "\u001b[0;32m/var/folders/c9/z8kjq8qs15n6nq0dr7vdg5640000gn/T/ipykernel_53365/4244635543.py\u001b[0m in \u001b[0;36m<module>\u001b[0;34m\u001b[0m\n\u001b[1;32m     12\u001b[0m \u001b[0;34m\u001b[0m\u001b[0m\n\u001b[1;32m     13\u001b[0m \u001b[0;32mfor\u001b[0m \u001b[0mname_to_find\u001b[0m \u001b[0;32min\u001b[0m \u001b[0mtqdm\u001b[0m\u001b[0;34m(\u001b[0m\u001b[0msams_list\u001b[0m\u001b[0;34m,\u001b[0m \u001b[0mtotal\u001b[0m \u001b[0;34m=\u001b[0m \u001b[0mlen\u001b[0m\u001b[0;34m(\u001b[0m\u001b[0msams_list\u001b[0m\u001b[0;34m)\u001b[0m\u001b[0;34m)\u001b[0m\u001b[0;34m:\u001b[0m\u001b[0;34m\u001b[0m\u001b[0;34m\u001b[0m\u001b[0m\n\u001b[0;32m---> 14\u001b[0;31m     \u001b[0mresp_match\u001b[0m \u001b[0;34m=\u001b[0m  \u001b[0mprocess\u001b[0m\u001b[0;34m.\u001b[0m\u001b[0mextractOne\u001b[0m\u001b[0;34m(\u001b[0m\u001b[0mname_to_find\u001b[0m\u001b[0;34m,\u001b[0m \u001b[0mamz_list\u001b[0m\u001b[0;34m)\u001b[0m\u001b[0;34m\u001b[0m\u001b[0;34m\u001b[0m\u001b[0m\n\u001b[0m\u001b[1;32m     15\u001b[0m     \u001b[0;32mif\u001b[0m \u001b[0mresp_match\u001b[0m\u001b[0;34m[\u001b[0m\u001b[0;36m1\u001b[0m\u001b[0;34m]\u001b[0m \u001b[0;34m>=\u001b[0m \u001b[0mthreshold\u001b[0m\u001b[0;34m:\u001b[0m\u001b[0;34m\u001b[0m\u001b[0;34m\u001b[0m\u001b[0m\n\u001b[1;32m     16\u001b[0m          \u001b[0mrow\u001b[0m \u001b[0;34m=\u001b[0m \u001b[0;34m{\u001b[0m\u001b[0;34m'sams_name'\u001b[0m\u001b[0;34m:\u001b[0m\u001b[0mname_to_find\u001b[0m\u001b[0;34m,\u001b[0m\u001b[0;34m'amazon_name'\u001b[0m\u001b[0;34m:\u001b[0m\u001b[0mresp_match\u001b[0m\u001b[0;34m[\u001b[0m\u001b[0;36m0\u001b[0m\u001b[0;34m]\u001b[0m\u001b[0;34m,\u001b[0m \u001b[0;34m'score'\u001b[0m\u001b[0;34m:\u001b[0m\u001b[0mresp_match\u001b[0m\u001b[0;34m[\u001b[0m\u001b[0;36m1\u001b[0m\u001b[0;34m]\u001b[0m\u001b[0;34m}\u001b[0m\u001b[0;34m\u001b[0m\u001b[0;34m\u001b[0m\u001b[0m\n",
      "\u001b[0;32m/opt/anaconda3/lib/python3.9/site-packages/fuzzywuzzy/process.py\u001b[0m in \u001b[0;36mextractOne\u001b[0;34m(query, choices, processor, scorer, score_cutoff)\u001b[0m\n\u001b[1;32m    218\u001b[0m     \u001b[0mbest_list\u001b[0m \u001b[0;34m=\u001b[0m \u001b[0mextractWithoutOrder\u001b[0m\u001b[0;34m(\u001b[0m\u001b[0mquery\u001b[0m\u001b[0;34m,\u001b[0m \u001b[0mchoices\u001b[0m\u001b[0;34m,\u001b[0m \u001b[0mprocessor\u001b[0m\u001b[0;34m,\u001b[0m \u001b[0mscorer\u001b[0m\u001b[0;34m,\u001b[0m \u001b[0mscore_cutoff\u001b[0m\u001b[0;34m)\u001b[0m\u001b[0;34m\u001b[0m\u001b[0;34m\u001b[0m\u001b[0m\n\u001b[1;32m    219\u001b[0m     \u001b[0;32mtry\u001b[0m\u001b[0;34m:\u001b[0m\u001b[0;34m\u001b[0m\u001b[0;34m\u001b[0m\u001b[0m\n\u001b[0;32m--> 220\u001b[0;31m         \u001b[0;32mreturn\u001b[0m \u001b[0mmax\u001b[0m\u001b[0;34m(\u001b[0m\u001b[0mbest_list\u001b[0m\u001b[0;34m,\u001b[0m \u001b[0mkey\u001b[0m\u001b[0;34m=\u001b[0m\u001b[0;32mlambda\u001b[0m \u001b[0mi\u001b[0m\u001b[0;34m:\u001b[0m \u001b[0mi\u001b[0m\u001b[0;34m[\u001b[0m\u001b[0;36m1\u001b[0m\u001b[0;34m]\u001b[0m\u001b[0;34m)\u001b[0m\u001b[0;34m\u001b[0m\u001b[0;34m\u001b[0m\u001b[0m\n\u001b[0m\u001b[1;32m    221\u001b[0m     \u001b[0;32mexcept\u001b[0m \u001b[0mValueError\u001b[0m\u001b[0;34m:\u001b[0m\u001b[0;34m\u001b[0m\u001b[0;34m\u001b[0m\u001b[0m\n\u001b[1;32m    222\u001b[0m         \u001b[0;32mreturn\u001b[0m \u001b[0;32mNone\u001b[0m\u001b[0;34m\u001b[0m\u001b[0;34m\u001b[0m\u001b[0m\n",
      "\u001b[0;32m/opt/anaconda3/lib/python3.9/site-packages/fuzzywuzzy/process.py\u001b[0m in \u001b[0;36mextractWithoutOrder\u001b[0;34m(query, choices, processor, scorer, score_cutoff)\u001b[0m\n\u001b[1;32m    115\u001b[0m         \u001b[0;32mfor\u001b[0m \u001b[0mchoice\u001b[0m \u001b[0;32min\u001b[0m \u001b[0mchoices\u001b[0m\u001b[0;34m:\u001b[0m\u001b[0;34m\u001b[0m\u001b[0;34m\u001b[0m\u001b[0m\n\u001b[1;32m    116\u001b[0m             \u001b[0mprocessed\u001b[0m \u001b[0;34m=\u001b[0m \u001b[0mpre_processor\u001b[0m\u001b[0;34m(\u001b[0m\u001b[0mprocessor\u001b[0m\u001b[0;34m(\u001b[0m\u001b[0mchoice\u001b[0m\u001b[0;34m)\u001b[0m\u001b[0;34m)\u001b[0m\u001b[0;34m\u001b[0m\u001b[0;34m\u001b[0m\u001b[0m\n\u001b[0;32m--> 117\u001b[0;31m             \u001b[0mscore\u001b[0m \u001b[0;34m=\u001b[0m \u001b[0mscorer\u001b[0m\u001b[0;34m(\u001b[0m\u001b[0mprocessed_query\u001b[0m\u001b[0;34m,\u001b[0m \u001b[0mprocessed\u001b[0m\u001b[0;34m)\u001b[0m\u001b[0;34m\u001b[0m\u001b[0;34m\u001b[0m\u001b[0m\n\u001b[0m\u001b[1;32m    118\u001b[0m             \u001b[0;32mif\u001b[0m \u001b[0mscore\u001b[0m \u001b[0;34m>=\u001b[0m \u001b[0mscore_cutoff\u001b[0m\u001b[0;34m:\u001b[0m\u001b[0;34m\u001b[0m\u001b[0;34m\u001b[0m\u001b[0m\n\u001b[1;32m    119\u001b[0m                 \u001b[0;32myield\u001b[0m \u001b[0;34m(\u001b[0m\u001b[0mchoice\u001b[0m\u001b[0;34m,\u001b[0m \u001b[0mscore\u001b[0m\u001b[0;34m)\u001b[0m\u001b[0;34m\u001b[0m\u001b[0;34m\u001b[0m\u001b[0m\n",
      "\u001b[0;32m/opt/anaconda3/lib/python3.9/site-packages/fuzzywuzzy/fuzz.py\u001b[0m in \u001b[0;36mWRatio\u001b[0;34m(s1, s2, force_ascii, full_process)\u001b[0m\n\u001b[1;32m    286\u001b[0m \u001b[0;34m\u001b[0m\u001b[0m\n\u001b[1;32m    287\u001b[0m     \u001b[0;32mif\u001b[0m \u001b[0mtry_partial\u001b[0m\u001b[0;34m:\u001b[0m\u001b[0;34m\u001b[0m\u001b[0;34m\u001b[0m\u001b[0m\n\u001b[0;32m--> 288\u001b[0;31m         \u001b[0mpartial\u001b[0m \u001b[0;34m=\u001b[0m \u001b[0mpartial_ratio\u001b[0m\u001b[0;34m(\u001b[0m\u001b[0mp1\u001b[0m\u001b[0;34m,\u001b[0m \u001b[0mp2\u001b[0m\u001b[0;34m)\u001b[0m \u001b[0;34m*\u001b[0m \u001b[0mpartial_scale\u001b[0m\u001b[0;34m\u001b[0m\u001b[0;34m\u001b[0m\u001b[0m\n\u001b[0m\u001b[1;32m    289\u001b[0m         \u001b[0mptsor\u001b[0m \u001b[0;34m=\u001b[0m \u001b[0mpartial_token_sort_ratio\u001b[0m\u001b[0;34m(\u001b[0m\u001b[0mp1\u001b[0m\u001b[0;34m,\u001b[0m \u001b[0mp2\u001b[0m\u001b[0;34m,\u001b[0m \u001b[0mfull_process\u001b[0m\u001b[0;34m=\u001b[0m\u001b[0;32mFalse\u001b[0m\u001b[0;34m)\u001b[0m\u001b[0;31m \u001b[0m\u001b[0;31m\\\u001b[0m\u001b[0;34m\u001b[0m\u001b[0;34m\u001b[0m\u001b[0m\n\u001b[1;32m    290\u001b[0m             \u001b[0;34m*\u001b[0m \u001b[0munbase_scale\u001b[0m \u001b[0;34m*\u001b[0m \u001b[0mpartial_scale\u001b[0m\u001b[0;34m\u001b[0m\u001b[0;34m\u001b[0m\u001b[0m\n",
      "\u001b[0;32m/opt/anaconda3/lib/python3.9/site-packages/fuzzywuzzy/utils.py\u001b[0m in \u001b[0;36mdecorator\u001b[0;34m(*args, **kwargs)\u001b[0m\n\u001b[1;32m     36\u001b[0m         \u001b[0;32mif\u001b[0m \u001b[0margs\u001b[0m\u001b[0;34m[\u001b[0m\u001b[0;36m0\u001b[0m\u001b[0;34m]\u001b[0m \u001b[0;32mis\u001b[0m \u001b[0;32mNone\u001b[0m \u001b[0;32mor\u001b[0m \u001b[0margs\u001b[0m\u001b[0;34m[\u001b[0m\u001b[0;36m1\u001b[0m\u001b[0;34m]\u001b[0m \u001b[0;32mis\u001b[0m \u001b[0;32mNone\u001b[0m\u001b[0;34m:\u001b[0m\u001b[0;34m\u001b[0m\u001b[0;34m\u001b[0m\u001b[0m\n\u001b[1;32m     37\u001b[0m             \u001b[0;32mreturn\u001b[0m \u001b[0;36m0\u001b[0m\u001b[0;34m\u001b[0m\u001b[0;34m\u001b[0m\u001b[0m\n\u001b[0;32m---> 38\u001b[0;31m         \u001b[0;32mreturn\u001b[0m \u001b[0mfunc\u001b[0m\u001b[0;34m(\u001b[0m\u001b[0;34m*\u001b[0m\u001b[0margs\u001b[0m\u001b[0;34m,\u001b[0m \u001b[0;34m**\u001b[0m\u001b[0mkwargs\u001b[0m\u001b[0;34m)\u001b[0m\u001b[0;34m\u001b[0m\u001b[0;34m\u001b[0m\u001b[0m\n\u001b[0m\u001b[1;32m     39\u001b[0m     \u001b[0;32mreturn\u001b[0m \u001b[0mdecorator\u001b[0m\u001b[0;34m\u001b[0m\u001b[0;34m\u001b[0m\u001b[0m\n\u001b[1;32m     40\u001b[0m \u001b[0;34m\u001b[0m\u001b[0m\n",
      "\u001b[0;32m/opt/anaconda3/lib/python3.9/site-packages/fuzzywuzzy/utils.py\u001b[0m in \u001b[0;36mdecorator\u001b[0;34m(*args, **kwargs)\u001b[0m\n\u001b[1;32m     27\u001b[0m         \u001b[0;32mif\u001b[0m \u001b[0margs\u001b[0m\u001b[0;34m[\u001b[0m\u001b[0;36m0\u001b[0m\u001b[0;34m]\u001b[0m \u001b[0;34m==\u001b[0m \u001b[0margs\u001b[0m\u001b[0;34m[\u001b[0m\u001b[0;36m1\u001b[0m\u001b[0;34m]\u001b[0m\u001b[0;34m:\u001b[0m\u001b[0;34m\u001b[0m\u001b[0;34m\u001b[0m\u001b[0m\n\u001b[1;32m     28\u001b[0m             \u001b[0;32mreturn\u001b[0m \u001b[0;36m100\u001b[0m\u001b[0;34m\u001b[0m\u001b[0;34m\u001b[0m\u001b[0m\n\u001b[0;32m---> 29\u001b[0;31m         \u001b[0;32mreturn\u001b[0m \u001b[0mfunc\u001b[0m\u001b[0;34m(\u001b[0m\u001b[0;34m*\u001b[0m\u001b[0margs\u001b[0m\u001b[0;34m,\u001b[0m \u001b[0;34m**\u001b[0m\u001b[0mkwargs\u001b[0m\u001b[0;34m)\u001b[0m\u001b[0;34m\u001b[0m\u001b[0;34m\u001b[0m\u001b[0m\n\u001b[0m\u001b[1;32m     30\u001b[0m     \u001b[0;32mreturn\u001b[0m \u001b[0mdecorator\u001b[0m\u001b[0;34m\u001b[0m\u001b[0;34m\u001b[0m\u001b[0m\n\u001b[1;32m     31\u001b[0m \u001b[0;34m\u001b[0m\u001b[0m\n",
      "\u001b[0;32m/opt/anaconda3/lib/python3.9/site-packages/fuzzywuzzy/utils.py\u001b[0m in \u001b[0;36mdecorator\u001b[0;34m(*args, **kwargs)\u001b[0m\n\u001b[1;32m     45\u001b[0m         \u001b[0;32mif\u001b[0m \u001b[0mlen\u001b[0m\u001b[0;34m(\u001b[0m\u001b[0margs\u001b[0m\u001b[0;34m[\u001b[0m\u001b[0;36m0\u001b[0m\u001b[0;34m]\u001b[0m\u001b[0;34m)\u001b[0m \u001b[0;34m==\u001b[0m \u001b[0;36m0\u001b[0m \u001b[0;32mor\u001b[0m \u001b[0mlen\u001b[0m\u001b[0;34m(\u001b[0m\u001b[0margs\u001b[0m\u001b[0;34m[\u001b[0m\u001b[0;36m1\u001b[0m\u001b[0;34m]\u001b[0m\u001b[0;34m)\u001b[0m \u001b[0;34m==\u001b[0m \u001b[0;36m0\u001b[0m\u001b[0;34m:\u001b[0m\u001b[0;34m\u001b[0m\u001b[0;34m\u001b[0m\u001b[0m\n\u001b[1;32m     46\u001b[0m             \u001b[0;32mreturn\u001b[0m \u001b[0;36m0\u001b[0m\u001b[0;34m\u001b[0m\u001b[0;34m\u001b[0m\u001b[0m\n\u001b[0;32m---> 47\u001b[0;31m         \u001b[0;32mreturn\u001b[0m \u001b[0mfunc\u001b[0m\u001b[0;34m(\u001b[0m\u001b[0;34m*\u001b[0m\u001b[0margs\u001b[0m\u001b[0;34m,\u001b[0m \u001b[0;34m**\u001b[0m\u001b[0mkwargs\u001b[0m\u001b[0;34m)\u001b[0m\u001b[0;34m\u001b[0m\u001b[0;34m\u001b[0m\u001b[0m\n\u001b[0m\u001b[1;32m     48\u001b[0m     \u001b[0;32mreturn\u001b[0m \u001b[0mdecorator\u001b[0m\u001b[0;34m\u001b[0m\u001b[0;34m\u001b[0m\u001b[0m\n\u001b[1;32m     49\u001b[0m \u001b[0;34m\u001b[0m\u001b[0m\n",
      "\u001b[0;32m/opt/anaconda3/lib/python3.9/site-packages/fuzzywuzzy/fuzz.py\u001b[0m in \u001b[0;36mpartial_ratio\u001b[0;34m(s1, s2)\u001b[0m\n\u001b[1;32m     45\u001b[0m \u001b[0;34m\u001b[0m\u001b[0m\n\u001b[1;32m     46\u001b[0m     \u001b[0mm\u001b[0m \u001b[0;34m=\u001b[0m \u001b[0mSequenceMatcher\u001b[0m\u001b[0;34m(\u001b[0m\u001b[0;32mNone\u001b[0m\u001b[0;34m,\u001b[0m \u001b[0mshorter\u001b[0m\u001b[0;34m,\u001b[0m \u001b[0mlonger\u001b[0m\u001b[0;34m)\u001b[0m\u001b[0;34m\u001b[0m\u001b[0;34m\u001b[0m\u001b[0m\n\u001b[0;32m---> 47\u001b[0;31m     \u001b[0mblocks\u001b[0m \u001b[0;34m=\u001b[0m \u001b[0mm\u001b[0m\u001b[0;34m.\u001b[0m\u001b[0mget_matching_blocks\u001b[0m\u001b[0;34m(\u001b[0m\u001b[0;34m)\u001b[0m\u001b[0;34m\u001b[0m\u001b[0;34m\u001b[0m\u001b[0m\n\u001b[0m\u001b[1;32m     48\u001b[0m \u001b[0;34m\u001b[0m\u001b[0m\n\u001b[1;32m     49\u001b[0m     \u001b[0;31m# each block represents a sequence of matching characters in a string\u001b[0m\u001b[0;34m\u001b[0m\u001b[0;34m\u001b[0m\u001b[0m\n",
      "\u001b[0;32m/opt/anaconda3/lib/python3.9/site-packages/fuzzywuzzy/StringMatcher.py\u001b[0m in \u001b[0;36mget_matching_blocks\u001b[0;34m(self)\u001b[0m\n\u001b[1;32m     56\u001b[0m     \u001b[0;32mdef\u001b[0m \u001b[0mget_matching_blocks\u001b[0m\u001b[0;34m(\u001b[0m\u001b[0mself\u001b[0m\u001b[0;34m)\u001b[0m\u001b[0;34m:\u001b[0m\u001b[0;34m\u001b[0m\u001b[0;34m\u001b[0m\u001b[0m\n\u001b[1;32m     57\u001b[0m         \u001b[0;32mif\u001b[0m \u001b[0;32mnot\u001b[0m \u001b[0mself\u001b[0m\u001b[0;34m.\u001b[0m\u001b[0m_matching_blocks\u001b[0m\u001b[0;34m:\u001b[0m\u001b[0;34m\u001b[0m\u001b[0;34m\u001b[0m\u001b[0m\n\u001b[0;32m---> 58\u001b[0;31m             self._matching_blocks = matching_blocks(self.get_opcodes(),\n\u001b[0m\u001b[1;32m     59\u001b[0m                                                     self._str1, self._str2)\n\u001b[1;32m     60\u001b[0m         \u001b[0;32mreturn\u001b[0m \u001b[0mself\u001b[0m\u001b[0;34m.\u001b[0m\u001b[0m_matching_blocks\u001b[0m\u001b[0;34m\u001b[0m\u001b[0;34m\u001b[0m\u001b[0m\n",
      "\u001b[0;31mKeyboardInterrupt\u001b[0m: "
     ]
    }
   ],
   "source": [
    "import pandas as pd\n",
    "from fuzzywuzzy import process\n",
    "from tqdm import tqdm\n",
    "\n",
    "threshold = 90\n",
    "\n",
    "amz_list = list(amz_raw['title'])\n",
    "\n",
    "sams_list = list(sams_raw['Primary_Desc'])\n",
    "\n",
    "response = []\n",
    "\n",
    "for name_to_find in tqdm(sams_list, total = len(sams_list)):\n",
    "    resp_match =  process.extractOne(name_to_find, amz_list)\n",
    "    if resp_match[1] >= threshold:\n",
    "         row = {'sams_name':name_to_find,'amazon_name':resp_match[0], 'score':resp_match[1]}\n",
    "         response.append(row)\n",
    "         print(row)\n",
    "\n",
    "results = pd.DataFrame(response)"
   ]
  },
  {
   "cell_type": "code",
   "execution_count": 217,
   "id": "bb5beffd",
   "metadata": {},
   "outputs": [],
   "source": [
    "results = pd.DataFrame(response)"
   ]
  },
  {
   "cell_type": "code",
   "execution_count": 220,
   "id": "30fd10c9",
   "metadata": {},
   "outputs": [],
   "source": [
    "results.to_csv('CSV_completed/product_match.csv', sep='\\t', index=False)"
   ]
  },
  {
   "cell_type": "code",
   "execution_count": 202,
   "id": "0026960e",
   "metadata": {},
   "outputs": [],
   "source": [
    "import pandas as pd\n",
    "import fuzzy_pandas as fpd\n",
    "\n",
    "# set working directory\n",
    "os.chdir('/Users/robbyjeffries/MSEACapstone/Data')\n",
    "\n",
    "# import raw review data for the Electronics category\n",
    "amz_raw = pd.read_csv('Products/products_with_first_review_date.csv')\n",
    "sams_raw = pd.read_excel('Products/Products_Vendor_Start_Date.xlsx') \n",
    "\n",
    "sams_raw = sams_raw.dropna()\n",
    "amz_raw = amz_raw.dropna()"
   ]
  },
  {
   "cell_type": "code",
   "execution_count": 203,
   "id": "6e8c29ef",
   "metadata": {},
   "outputs": [
    {
     "data": {
      "text/html": [
       "<div>\n",
       "<style scoped>\n",
       "    .dataframe tbody tr th:only-of-type {\n",
       "        vertical-align: middle;\n",
       "    }\n",
       "\n",
       "    .dataframe tbody tr th {\n",
       "        vertical-align: top;\n",
       "    }\n",
       "\n",
       "    .dataframe thead th {\n",
       "        text-align: right;\n",
       "    }\n",
       "</style>\n",
       "<table border=\"1\" class=\"dataframe\">\n",
       "  <thead>\n",
       "    <tr style=\"text-align: right;\">\n",
       "      <th></th>\n",
       "      <th>Primary_Desc</th>\n",
       "      <th>Vendor_Name</th>\n",
       "      <th>UPC_Desc</th>\n",
       "      <th>Start Date</th>\n",
       "    </tr>\n",
       "  </thead>\n",
       "  <tbody>\n",
       "    <tr>\n",
       "      <th>0</th>\n",
       "      <td>CG PORT CHARGER LRG</td>\n",
       "      <td>CONCEPT GREEN ENERGY SOLUTIONS</td>\n",
       "      <td>CHARGER</td>\n",
       "      <td>2014-07-01</td>\n",
       "    </tr>\n",
       "    <tr>\n",
       "      <th>1</th>\n",
       "      <td>48IN 720P LED TV</td>\n",
       "      <td>JSP LLC</td>\n",
       "      <td>48IN JVC TV</td>\n",
       "      <td>2015-10-14</td>\n",
       "    </tr>\n",
       "    <tr>\n",
       "      <th>2</th>\n",
       "      <td>19\" MTS TV</td>\n",
       "      <td>SANYO MFG CORP</td>\n",
       "      <td>19\"REFURB TV</td>\n",
       "      <td>2014-11-28</td>\n",
       "    </tr>\n",
       "    <tr>\n",
       "      <th>3</th>\n",
       "      <td>BELKIN GRP CDY SHEER</td>\n",
       "      <td>BRIGHTSTAR US INC</td>\n",
       "      <td>PHONE CASE</td>\n",
       "      <td>2014-07-03</td>\n",
       "    </tr>\n",
       "    <tr>\n",
       "      <th>4</th>\n",
       "      <td>TOSHIBA 27\" TV</td>\n",
       "      <td>TOSHIBA AMERICA INC</td>\n",
       "      <td>TV 27\" PIP</td>\n",
       "      <td>2015-05-30</td>\n",
       "    </tr>\n",
       "  </tbody>\n",
       "</table>\n",
       "</div>"
      ],
      "text/plain": [
       "           Primary_Desc                     Vendor_Name      UPC_Desc  \\\n",
       "0  CG PORT CHARGER LRG   CONCEPT GREEN ENERGY SOLUTIONS  CHARGER        \n",
       "1  48IN 720P LED TV      JSP LLC                         48IN JVC TV    \n",
       "2  19\" MTS TV            SANYO MFG CORP                  19\"REFURB TV   \n",
       "3  BELKIN GRP CDY SHEER  BRIGHTSTAR US INC               PHONE CASE     \n",
       "4  TOSHIBA 27\" TV        TOSHIBA AMERICA INC             TV 27\" PIP     \n",
       "\n",
       "  Start Date  \n",
       "0 2014-07-01  \n",
       "1 2015-10-14  \n",
       "2 2014-11-28  \n",
       "3 2014-07-03  \n",
       "4 2015-05-30  "
      ]
     },
     "execution_count": 203,
     "metadata": {},
     "output_type": "execute_result"
    }
   ],
   "source": [
    "sams_raw.head()"
   ]
  },
  {
   "cell_type": "code",
   "execution_count": 211,
   "id": "f6df6cec",
   "metadata": {},
   "outputs": [],
   "source": [
    "amz_raw['firstReview'] = pd.to_datetime(amz_raw['firstReview'])"
   ]
  },
  {
   "cell_type": "code",
   "execution_count": null,
   "id": "052fe600",
   "metadata": {},
   "outputs": [],
   "source": [
    "import pandas as pd\n",
    "from fuzzywuzzy import process\n",
    "from tqdm import tqdm\n",
    "\n",
    "threshold = 90\n",
    "\n",
    "amz_list = list(amz_raw['title'])\n",
    "\n",
    "sams_list = list(sams_raw['Primary_Desc'])\n",
    "\n",
    "response = []\n",
    "\n",
    "for name_to_find in tqdm(sams_list, total = len(sams_list)):\n",
    "    \n",
    "    resp_match =  process.extractOne(name_to_find, amz_list)\n",
    "    if resp_match[1] >= threshold:\n",
    "         row = {'sams_name':name_to_find,'amazon_name':resp_match[0], 'score':resp_match[1]}\n",
    "         response.append(row)\n",
    "         print(row)\n",
    "\n",
    "results = pd.DataFrame(response)"
   ]
  },
  {
   "cell_type": "code",
   "execution_count": null,
   "id": "055cf819",
   "metadata": {},
   "outputs": [],
   "source": [
    "amz_raw['title']"
   ]
  }
 ],
 "metadata": {
  "kernelspec": {
   "display_name": "Python 3.9.7 64-bit ('base': conda)",
   "language": "python",
   "name": "python397jvsc74a57bd040d3a090f54c6569ab1632332b64b2c03c39dcf918b08424e98f38b5ae0af88f"
  },
  "language_info": {
   "codemirror_mode": {
    "name": "ipython",
    "version": 3
   },
   "file_extension": ".py",
   "mimetype": "text/x-python",
   "name": "python",
   "nbconvert_exporter": "python",
   "pygments_lexer": "ipython3",
   "version": "3.9.7"
  }
 },
 "nbformat": 4,
 "nbformat_minor": 5
}
