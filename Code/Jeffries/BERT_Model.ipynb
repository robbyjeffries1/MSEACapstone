{
 "cells": [
  {
   "cell_type": "markdown",
   "id": "5fb0d549",
   "metadata": {},
   "source": [
    "# BERT (Bidirectional Encoder Representations from Transformers)\n",
    "### Robby Jeffries\n",
    "### Reference: https://github.com/nicknochnack/BERTSentiment/blob/main/Sentiment.ipynb"
   ]
  },
  {
   "cell_type": "markdown",
   "id": "fb11f248",
   "metadata": {},
   "source": [
    "# 1. Install and Import Dependencies"
   ]
  },
  {
   "cell_type": "code",
   "execution_count": null,
   "id": "40990dfb",
   "metadata": {},
   "outputs": [],
   "source": [
    "conda install pytorch torchvision torchaudio -c pytorch"
   ]
  },
  {
   "cell_type": "code",
   "execution_count": null,
   "id": "2ce317c1",
   "metadata": {},
   "outputs": [],
   "source": [
    "conda install transformers requests beautifulsoup4 pandas numpy"
   ]
  },
  {
   "cell_type": "code",
   "execution_count": null,
   "id": "31d22187",
   "metadata": {},
   "outputs": [],
   "source": [
    "from transformers import AutoTokenizer, AutoModelForSequenceClassification\n",
    "import torch\n",
    "import requests\n",
    "import re"
   ]
  },
  {
   "cell_type": "markdown",
   "id": "22ee9b8f",
   "metadata": {},
   "source": [
    "# 2. Instantiate Model"
   ]
  },
  {
   "cell_type": "markdown",
   "id": "8473c2d5",
   "metadata": {},
   "source": [
    "Multilingual support for\n",
    "* English\n",
    "* Dutch\n",
    "* German\n",
    "* French\n",
    "* Italian\n",
    "* Spanish"
   ]
  },
  {
   "cell_type": "code",
   "execution_count": null,
   "id": "dae42019",
   "metadata": {},
   "outputs": [],
   "source": [
    "tokenizer = AutoTokenizer.from_pretrained('nlptown/bert-base-multilingual-uncased-sentiment')\n",
    "\n",
    "model = AutoModelForSequenceClassification.from_pretrained('nlptown/bert-base-multilingual-uncased-sentiment')"
   ]
  },
  {
   "cell_type": "markdown",
   "id": "ecbc4e51",
   "metadata": {},
   "source": [
    "# 3. Playground to Encode and Calculate Sentiment"
   ]
  },
  {
   "cell_type": "code",
   "execution_count": null,
   "id": "b860e054",
   "metadata": {},
   "outputs": [],
   "source": [
    "tokens = tokenizer.encode('covid', return_tensors='pt')"
   ]
  },
  {
   "cell_type": "code",
   "execution_count": null,
   "id": "f48cd685",
   "metadata": {},
   "outputs": [],
   "source": [
    "result = model(tokens)"
   ]
  },
  {
   "cell_type": "code",
   "execution_count": null,
   "id": "f8d4bb73",
   "metadata": {},
   "outputs": [],
   "source": [
    "result.logits"
   ]
  },
  {
   "cell_type": "code",
   "execution_count": null,
   "id": "58c09c4c",
   "metadata": {},
   "outputs": [],
   "source": [
    "# Add one so that scores range from 1-5 instead of 0-4\n",
    "int(torch.argmax(result.logits))+1"
   ]
  },
  {
   "cell_type": "markdown",
   "id": "890afabb",
   "metadata": {},
   "source": [
    "# 4. Import Reviews"
   ]
  },
  {
   "cell_type": "code",
   "execution_count": null,
   "id": "086a8a50",
   "metadata": {},
   "outputs": [],
   "source": [
    "import os\n",
    "import numpy as np\n",
    "import pandas as pd"
   ]
  },
  {
   "cell_type": "code",
   "execution_count": null,
   "id": "9548897a",
   "metadata": {},
   "outputs": [],
   "source": [
    "os.chdir('/Users/robbyjeffries/MSEA2022/Spring 2022/ECON 5763, Economic Analytics/Data')"
   ]
  },
  {
   "cell_type": "code",
   "execution_count": null,
   "id": "7c48dae2",
   "metadata": {},
   "outputs": [],
   "source": [
    "raw = pd.read_csv('CSV_completed/Electronics_clean.csv', sep='\\t')"
   ]
  },
  {
   "cell_type": "code",
   "execution_count": null,
   "id": "23f0b077",
   "metadata": {
    "scrolled": true
   },
   "outputs": [],
   "source": [
    "df = pd.DataFrame(np.array(raw), columns=['marketplace','customer_id','review_id','product_id','product_parent','product_title','star_rating','helpful_votes','total_votes','vine','verified_purchase','review_headline','review_body','review_date','year','product_category'])"
   ]
  },
  {
   "cell_type": "code",
   "execution_count": null,
   "id": "4c9146c7",
   "metadata": {},
   "outputs": [],
   "source": [
    "df['review_body'].iloc[0]"
   ]
  },
  {
   "cell_type": "markdown",
   "id": "4b1622ec",
   "metadata": {},
   "source": [
    "# 5. Score Sentiment and Calculate RMSE"
   ]
  },
  {
   "cell_type": "code",
   "execution_count": null,
   "id": "cea19a8a",
   "metadata": {},
   "outputs": [],
   "source": [
    "from sklearn.metrics import mean_squared_error"
   ]
  },
  {
   "cell_type": "code",
   "execution_count": null,
   "id": "9764f42b",
   "metadata": {},
   "outputs": [],
   "source": [
    "def sentiment_score(review):\n",
    "    tokens = tokenizer.encode(review, return_tensors='pt')\n",
    "    result = model(tokens)\n",
    "    return int(torch.argmax(result.logits))+1"
   ]
  },
  {
   "cell_type": "code",
   "execution_count": null,
   "id": "1a565c1c",
   "metadata": {},
   "outputs": [],
   "source": [
    "sentiment_score(df['review_body'].iloc[1])"
   ]
  },
  {
   "cell_type": "code",
   "execution_count": null,
   "id": "6e681c1b",
   "metadata": {},
   "outputs": [],
   "source": [
    "# Calculate a sentiment score for every review\n",
    "df['sentiment'] = df['review_body'].apply(lambda x: sentiment_score(x[:1001]))"
   ]
  },
  {
   "cell_type": "code",
   "execution_count": null,
   "id": "6e0c356f",
   "metadata": {
    "scrolled": true
   },
   "outputs": [],
   "source": [
    "df"
   ]
  },
  {
   "cell_type": "code",
   "execution_count": null,
   "id": "7d7d8198",
   "metadata": {},
   "outputs": [],
   "source": [
    "star_rating = df['star_rating']\n",
    "sentiment = df['sentiment']\n",
    "rms = np.sqrt(mean_squared_error(star_rating, sentiment))\n",
    "print('RMSE =', rms)"
   ]
  }
 ],
 "metadata": {
  "kernelspec": {
   "display_name": "Python 3.9.7 64-bit ('base': conda)",
   "language": "python",
   "name": "python397jvsc74a57bd040d3a090f54c6569ab1632332b64b2c03c39dcf918b08424e98f38b5ae0af88f"
  },
  "language_info": {
   "codemirror_mode": {
    "name": "ipython",
    "version": 3
   },
   "file_extension": ".py",
   "mimetype": "text/x-python",
   "name": "python",
   "nbconvert_exporter": "python",
   "pygments_lexer": "ipython3",
   "version": "3.9.7"
  }
 },
 "nbformat": 4,
 "nbformat_minor": 5
}
