{
 "cells": [
  {
   "cell_type": "markdown",
   "id": "a24d5f37",
   "metadata": {},
   "source": [
    "# Sentiment Analysis \n",
    "#### by Robby Jeffries\n",
    "#### 02-24-2022"
   ]
  },
  {
   "cell_type": "markdown",
   "id": "57927935",
   "metadata": {},
   "source": [
    "## Import Data"
   ]
  },
  {
   "cell_type": "code",
   "execution_count": 1,
   "id": "d548e1ec",
   "metadata": {},
   "outputs": [],
   "source": [
    "import os\n",
    "import numpy as np\n",
    "import pandas as pd"
   ]
  },
  {
   "cell_type": "code",
   "execution_count": null,
   "id": "cc499f8f",
   "metadata": {
    "scrolled": true
   },
   "outputs": [],
   "source": [
    "# set working directory\n",
    "os.chdir('/Users/robbyjeffries/MSEACapstone/Data')\n",
    "\n",
    "# import raw review data for the Electronics category\n",
    "raw = pd.read_csv('CSV_cleaned/Electronics.csv')"
   ]
  },
  {
   "cell_type": "code",
   "execution_count": null,
   "id": "0a2217cc",
   "metadata": {},
   "outputs": [],
   "source": [
    "# create a dataframe with the relevent columns from the raw dataframe\n",
    "df = raw[['overall', 'verified', 'reviewTime', 'asin', 'reviewerName', 'reviewText', 'summary']]"
   ]
  },
  {
   "cell_type": "code",
   "execution_count": null,
   "id": "9c8abb0b",
   "metadata": {},
   "outputs": [],
   "source": [
    "df.head()"
   ]
  },
  {
   "cell_type": "code",
   "execution_count": null,
   "id": "52dd0fed",
   "metadata": {},
   "outputs": [],
   "source": [
    "df.shape"
   ]
  },
  {
   "cell_type": "code",
   "execution_count": null,
   "id": "2fa91433",
   "metadata": {},
   "outputs": [],
   "source": [
    "# total the number of NaN rows\n",
    "nan_in_df = df.isnull().sum().sum()\n",
    "  \n",
    "# printing the number of NaN values present in the whole dataframe\n",
    "print('Number of NaN values present: ' + str(nan_in_df))"
   ]
  },
  {
   "cell_type": "code",
   "execution_count": null,
   "id": "48777c96",
   "metadata": {},
   "outputs": [],
   "source": [
    "# drop NaN rows\n",
    "df = df.dropna()"
   ]
  },
  {
   "cell_type": "code",
   "execution_count": null,
   "id": "5444d837",
   "metadata": {},
   "outputs": [],
   "source": [
    "# total the number of NaN rows\n",
    "nan_in_df = df.isnull().sum().sum()\n",
    "  \n",
    "# printing the number of NaN values present in the whole dataframe\n",
    "print('Number of NaN values present: ' + str(nan_in_df))"
   ]
  },
  {
   "cell_type": "code",
   "execution_count": null,
   "id": "33ff4bdd",
   "metadata": {},
   "outputs": [],
   "source": [
    "# Creating Sentiment Column\n",
    "df['sentiment'] = df['overall'].apply(lambda x: 1 if x>=3 else 0)\n",
    "df.head()"
   ]
  },
  {
   "cell_type": "code",
   "execution_count": null,
   "id": "bd56db9c",
   "metadata": {},
   "outputs": [],
   "source": [
    "# Extract review year and place it in a new column\n",
    "df['year'] = df['reviewTime'].apply(lambda x: x[-4:])\n",
    "df.head()"
   ]
  },
  {
   "cell_type": "code",
   "execution_count": null,
   "id": "983bb48b",
   "metadata": {},
   "outputs": [],
   "source": [
    "# Filter only 2014\n",
    "df = df[df.year == '2014']\n",
    "df.shape"
   ]
  },
  {
   "cell_type": "code",
   "execution_count": null,
   "id": "ab095edf",
   "metadata": {
    "scrolled": true
   },
   "outputs": [],
   "source": [
    "df.head()"
   ]
  },
  {
   "cell_type": "code",
   "execution_count": null,
   "id": "1a223f4b",
   "metadata": {},
   "outputs": [],
   "source": [
    "df.to_csv('CSV_completed/Electronics_clean.csv', sep='\\t', index=False)"
   ]
  },
  {
   "cell_type": "code",
   "execution_count": null,
   "id": "de3336c6",
   "metadata": {},
   "outputs": [],
   "source": [
    "df.head()"
   ]
  },
  {
   "cell_type": "markdown",
   "id": "1cf308d3",
   "metadata": {},
   "source": [
    "***"
   ]
  },
  {
   "cell_type": "markdown",
   "id": "028835cb",
   "metadata": {},
   "source": [
    "# Import Metadata"
   ]
  },
  {
   "cell_type": "code",
   "execution_count": null,
   "id": "886f0286",
   "metadata": {
    "scrolled": true
   },
   "outputs": [],
   "source": [
    "# import metadata for the Electronics category\n",
    "meta_raw = pd.read_csv('Metadata_completed/meta_Electronics.csv')"
   ]
  },
  {
   "cell_type": "code",
   "execution_count": null,
   "id": "374660e7",
   "metadata": {},
   "outputs": [],
   "source": [
    "# create a dataframe with a subset of the columns in the raw metadata\n",
    "df_meta = meta_raw[['asin', 'title', 'brand']]"
   ]
  },
  {
   "cell_type": "code",
   "execution_count": null,
   "id": "a13e44bb",
   "metadata": {},
   "outputs": [],
   "source": [
    "df_meta.head()"
   ]
  },
  {
   "cell_type": "code",
   "execution_count": null,
   "id": "7d534d53",
   "metadata": {},
   "outputs": [],
   "source": [
    "df_meta_dup = df_meta.groupby(df_meta.columns.tolist(),as_index=False).size().sort_values(by='size',ascending=False)"
   ]
  },
  {
   "cell_type": "code",
   "execution_count": null,
   "id": "5554886c",
   "metadata": {},
   "outputs": [],
   "source": [
    "df_meta_dup[df_meta_dup['size']==2].shape"
   ]
  },
  {
   "cell_type": "code",
   "execution_count": null,
   "id": "3bb381a6",
   "metadata": {
    "scrolled": true
   },
   "outputs": [],
   "source": [
    "df_meta.to_csv('Metadata_completed/meta_Electronics_clean.csv', sep='\\t', index=False)\n"
   ]
  },
  {
   "cell_type": "markdown",
   "id": "2335edb9",
   "metadata": {},
   "source": [
    "***"
   ]
  },
  {
   "cell_type": "markdown",
   "id": "53a4886d",
   "metadata": {},
   "source": [
    "# Merge Data and Metadata on asin"
   ]
  },
  {
   "cell_type": "code",
   "execution_count": null,
   "id": "551b3102",
   "metadata": {
    "scrolled": false
   },
   "outputs": [],
   "source": [
    "joined = pd.merge(raw, meta_raw, on='asin')\n",
    "joined.shape"
   ]
  },
  {
   "cell_type": "code",
   "execution_count": null,
   "id": "488a1cda",
   "metadata": {},
   "outputs": [],
   "source": [
    "joined.shape[0]-raw.shape[0]"
   ]
  },
  {
   "cell_type": "code",
   "execution_count": null,
   "id": "020bff6e",
   "metadata": {},
   "outputs": [],
   "source": [
    "joined.sample(10)"
   ]
  },
  {
   "cell_type": "code",
   "execution_count": null,
   "id": "e739ddb0",
   "metadata": {},
   "outputs": [],
   "source": [
    "joined.sample(10)"
   ]
  },
  {
   "cell_type": "code",
   "execution_count": null,
   "id": "01212cbe",
   "metadata": {},
   "outputs": [],
   "source": [
    "# total the number of NaN rows\n",
    "nan_in_df = joined.isnull().sum().sum()\n",
    "  \n",
    "# printing the number of NaN values present in the whole dataframe\n",
    "print('Number of NaN values present: ' + str(nan_in_df))"
   ]
  },
  {
   "cell_type": "code",
   "execution_count": null,
   "id": "e26cbd92",
   "metadata": {},
   "outputs": [],
   "source": [
    "# Count the number of NaN in each column\n",
    "for row in joined.columns:\n",
    "    nan_in_df = joined[row].isnull().sum().sum()\n",
    "    print('NaN in ' + row + ': ' + str(nan_in_df))"
   ]
  },
  {
   "cell_type": "code",
   "execution_count": null,
   "id": "072df81c",
   "metadata": {},
   "outputs": [],
   "source": [
    "# drop NaN rows\n",
    "joined = joined.dropna()"
   ]
  },
  {
   "cell_type": "code",
   "execution_count": null,
   "id": "de901435",
   "metadata": {},
   "outputs": [],
   "source": [
    "# total the number of NaN rows\n",
    "nan_in_df = joined.isnull().sum().sum()\n",
    "  \n",
    "# printing the number of NaN values present in the whole dataframe\n",
    "print('Number of NaN values present: ' + str(nan_in_df))"
   ]
  },
  {
   "cell_type": "code",
   "execution_count": null,
   "id": "a33f989b",
   "metadata": {},
   "outputs": [],
   "source": [
    "df_meta.shape"
   ]
  },
  {
   "cell_type": "code",
   "execution_count": null,
   "id": "fbf7a536",
   "metadata": {},
   "outputs": [],
   "source": [
    "df_meta['asin'].nunique()"
   ]
  },
  {
   "cell_type": "code",
   "execution_count": null,
   "id": "2f6f5841",
   "metadata": {},
   "outputs": [],
   "source": [
    "joined.shape"
   ]
  },
  {
   "cell_type": "code",
   "execution_count": null,
   "id": "347803d9",
   "metadata": {
    "scrolled": true
   },
   "outputs": [],
   "source": [
    "joined['title']"
   ]
  },
  {
   "cell_type": "code",
   "execution_count": null,
   "id": "93ab5de3",
   "metadata": {},
   "outputs": [],
   "source": [
    "for row in joined.index:\n",
    "    print(joined['asin'][row], joined['title'][row])"
   ]
  },
  {
   "cell_type": "markdown",
   "id": "5b0e0baa",
   "metadata": {},
   "source": [
    "## Data Cleaning"
   ]
  },
  {
   "cell_type": "code",
   "execution_count": null,
   "id": "52821b01",
   "metadata": {},
   "outputs": [],
   "source": [
    "import re\n",
    "import nltk\n",
    "\n",
    "nltk.download('stopwords')\n",
    "\n",
    "from nltk.corpus import stopwords\n",
    "from nltk.stem.porter import PorterStemmer\n",
    "ps = PorterStemmer()\n",
    "\n",
    "all_stopwords = stopwords.words('english')\n",
    "all_stopwords.remove('not')"
   ]
  },
  {
   "cell_type": "code",
   "execution_count": null,
   "id": "3eee378e",
   "metadata": {},
   "outputs": [],
   "source": [
    "corpus = []\n",
    "\n",
    "for i in range(0,len(df)):\n",
    "    review = re.sub('[^a-zA-Z]', ' ', df['reviewText'][i])\n",
    "    #review = re.sub('~', ' ', df['reviewText'][i])\n",
    "    print(i)\n",
    "    review = review.lower()\n",
    "    review = review.split()\n",
    "    review = [ps.stem(word) for word in review if not word in set(all_stopwords)]\n",
    "    review = ' '.join(review)\n",
    "    corpus.append(review)"
   ]
  },
  {
   "cell_type": "code",
   "execution_count": null,
   "id": "696508dc",
   "metadata": {},
   "outputs": [],
   "source": [
    "corpus = []\n",
    "\n",
    "def clean(x):\n",
    "    review = re.sub('[^a-zA-Z]', ' ', x)\n",
    "    #review = re.sub('~', ' ', df['reviewText'][i])\n",
    "    review = review.lower()\n",
    "    review = review.split()\n",
    "    review = [ps.stem(word) for word in review if not word in set(all_stopwords)]\n",
    "    review = ' '.join(review)\n",
    "    corpus.append(review)\n",
    "    return review"
   ]
  },
  {
   "cell_type": "code",
   "execution_count": null,
   "id": "2c569780",
   "metadata": {},
   "outputs": [],
   "source": [
    "clean(df['reviewText'].values[0])"
   ]
  },
  {
   "cell_type": "code",
   "execution_count": null,
   "id": "ce585c21",
   "metadata": {},
   "outputs": [],
   "source": [
    "df['reviewText'] = df['reviewText'].apply(lambda x: clean(x))"
   ]
  },
  {
   "cell_type": "code",
   "execution_count": null,
   "id": "3f66d600",
   "metadata": {},
   "outputs": [],
   "source": [
    "df['summary'] = df['summary'].apply(lambda x: clean(x))"
   ]
  },
  {
   "cell_type": "code",
   "execution_count": null,
   "id": "0a21707a",
   "metadata": {},
   "outputs": [],
   "source": [
    "df.iloc[[366]]"
   ]
  },
  {
   "cell_type": "code",
   "execution_count": null,
   "id": "7f6ec2f2",
   "metadata": {
    "scrolled": true
   },
   "outputs": [],
   "source": [
    "df.sample(10)"
   ]
  },
  {
   "cell_type": "code",
   "execution_count": null,
   "id": "137e4ac8",
   "metadata": {},
   "outputs": [],
   "source": [
    "df.to_csv('CSV_completed/Electronics_clean.csv', sep='\\t', index=False)"
   ]
  },
  {
   "cell_type": "markdown",
   "id": "6160f168",
   "metadata": {},
   "source": [
    "# Create dataframe showing each unique product with the date of its first reivew"
   ]
  },
  {
   "cell_type": "markdown",
   "id": "a35a97a7",
   "metadata": {},
   "source": [
    "### Clean data"
   ]
  },
  {
   "cell_type": "code",
   "execution_count": null,
   "id": "02d09ddb",
   "metadata": {},
   "outputs": [],
   "source": [
    "# create a df with all amazon reviews\n",
    "all_reviews = raw[['overall', 'verified', 'reviewTime', 'asin', 'reviewerName', 'reviewText', 'summary']]"
   ]
  },
  {
   "cell_type": "code",
   "execution_count": null,
   "id": "0fa39f77",
   "metadata": {},
   "outputs": [],
   "source": [
    "# merge all_reviews with metadata\n",
    "df2 = pd.merge(all_reviews, meta_raw, on='asin')\n",
    "df2.shape"
   ]
  },
  {
   "cell_type": "code",
   "execution_count": null,
   "id": "5c18ccc8",
   "metadata": {},
   "outputs": [],
   "source": [
    "df2 = df2[['overall', 'verified', 'reviewTime', 'asin', 'reviewerName', 'reviewText', 'summary', 'title', 'brand']]"
   ]
  },
  {
   "cell_type": "code",
   "execution_count": null,
   "id": "15ba80f2",
   "metadata": {},
   "outputs": [],
   "source": [
    "# total the number of NaN rows\n",
    "nan_in_df = df2.isnull().sum().sum()\n",
    "  \n",
    "# printing the number of NaN values present in the whole dataframe\n",
    "print('Number of NaN values present: ' + str(nan_in_df))"
   ]
  },
  {
   "cell_type": "code",
   "execution_count": null,
   "id": "ed1f6102",
   "metadata": {},
   "outputs": [],
   "source": [
    "df2 = df2.dropna()"
   ]
  },
  {
   "cell_type": "code",
   "execution_count": null,
   "id": "7683c37c",
   "metadata": {},
   "outputs": [],
   "source": [
    "# Count the number of NaN in each column\n",
    "for row in df2.columns:\n",
    "    nan_in_df = df2[row].isnull().sum().sum()\n",
    "    print('NaN in ' + row + ': ' + str(nan_in_df))"
   ]
  },
  {
   "cell_type": "code",
   "execution_count": null,
   "id": "d1b8d366",
   "metadata": {
    "scrolled": false
   },
   "outputs": [],
   "source": [
    "df2.sample(5)"
   ]
  },
  {
   "cell_type": "code",
   "execution_count": null,
   "id": "e4354404",
   "metadata": {},
   "outputs": [],
   "source": [
    "# Convert each reviewTime value from a str to a datetime format\n",
    "df2['reviewTime'] = df2['reviewTime'].apply(lambda x: datetime.strptime(x, '%m %d, %Y'))"
   ]
  },
  {
   "cell_type": "code",
   "execution_count": null,
   "id": "93bb424b",
   "metadata": {},
   "outputs": [],
   "source": [
    "df2.head()"
   ]
  },
  {
   "cell_type": "markdown",
   "id": "9b941e1a",
   "metadata": {},
   "source": [
    "### Create df with each unique product and its earliest review date"
   ]
  },
  {
   "cell_type": "code",
   "execution_count": null,
   "id": "c1b1f266",
   "metadata": {},
   "outputs": [],
   "source": [
    "# create a pandas series with two columns\n",
    "# the first column has a row for each unique product title\n",
    "# the second column contains a list of each reviewTime for each product\n",
    "df3 = df2.groupby('title').apply(lambda x: x['reviewTime'].unique())"
   ]
  },
  {
   "cell_type": "code",
   "execution_count": null,
   "id": "70399f45",
   "metadata": {},
   "outputs": [],
   "source": [
    "type(df3)"
   ]
  },
  {
   "cell_type": "code",
   "execution_count": null,
   "id": "c165b747",
   "metadata": {},
   "outputs": [],
   "source": [
    "df4 = pd.DataFrame({'title':df3.index, 'reviewDate':df3.values})"
   ]
  },
  {
   "cell_type": "code",
   "execution_count": null,
   "id": "8ddcf360",
   "metadata": {},
   "outputs": [],
   "source": [
    "df4.head()"
   ]
  },
  {
   "cell_type": "markdown",
   "id": "10184b5d",
   "metadata": {},
   "source": [
    "### For each list of dates, keep only the oldest date"
   ]
  },
  {
   "cell_type": "code",
   "execution_count": null,
   "id": "aff6c0b3",
   "metadata": {},
   "outputs": [],
   "source": [
    "df4['firstReview'] = ''"
   ]
  },
  {
   "cell_type": "code",
   "execution_count": null,
   "id": "1cb3d120",
   "metadata": {},
   "outputs": [],
   "source": [
    "df4.iloc[0]"
   ]
  },
  {
   "cell_type": "code",
   "execution_count": null,
   "id": "be1ecff2",
   "metadata": {},
   "outputs": [],
   "source": [
    "for i, row in df4.iterrows():\n",
    "    df4['firstReview'][i] = min(row['reviewDate'])"
   ]
  },
  {
   "cell_type": "code",
   "execution_count": null,
   "id": "2973ebb5",
   "metadata": {},
   "outputs": [],
   "source": [
    "df4 = df4.sort_values(by='firstReview')\n",
    "df4.head()"
   ]
  },
  {
   "cell_type": "code",
   "execution_count": null,
   "id": "f8a1b683",
   "metadata": {},
   "outputs": [],
   "source": [
    "df4.shape"
   ]
  },
  {
   "cell_type": "code",
   "execution_count": null,
   "id": "91a67f63",
   "metadata": {},
   "outputs": [],
   "source": [
    "# filter df4 (df of unique products and the date of their first review) to 2014 and 2015\n",
    "filtered_df = df4[['title', 'firstReview']]\n",
    "filtered_df.shape"
   ]
  },
  {
   "cell_type": "code",
   "execution_count": null,
   "id": "b0b1168b",
   "metadata": {},
   "outputs": [],
   "source": [
    "type(filtered_df['firstReview'][0])"
   ]
  },
  {
   "cell_type": "code",
   "execution_count": null,
   "id": "6e834a83",
   "metadata": {},
   "outputs": [],
   "source": [
    "filtered_df.head()"
   ]
  },
  {
   "cell_type": "code",
   "execution_count": null,
   "id": "3c1847a9",
   "metadata": {
    "scrolled": true
   },
   "outputs": [],
   "source": [
    "filtered_df['firstReview'] = pd.to_datetime(filtered_df['firstReview'])"
   ]
  },
  {
   "cell_type": "code",
   "execution_count": null,
   "id": "3965002b",
   "metadata": {},
   "outputs": [],
   "source": [
    "filtered_df.head()"
   ]
  },
  {
   "cell_type": "code",
   "execution_count": null,
   "id": "73cf34ad",
   "metadata": {},
   "outputs": [],
   "source": [
    "date_df = filtered_df[(filtered_df['firstReview'] >= '2014-01-01') & (filtered_df['firstReview'] <= '2015-12-31')]"
   ]
  },
  {
   "cell_type": "code",
   "execution_count": null,
   "id": "8bd49d98",
   "metadata": {},
   "outputs": [],
   "source": [
    "date_df.to_csv('CSV_completed/product_with_first_review_date.csv', index=False)"
   ]
  },
  {
   "cell_type": "markdown",
   "id": "f9c01a0f",
   "metadata": {},
   "source": [
    "### Convert reviewTime to date format"
   ]
  },
  {
   "cell_type": "code",
   "execution_count": null,
   "id": "bde74759",
   "metadata": {},
   "outputs": [],
   "source": [
    "from datetime import datetime\n",
    "\n",
    "date_string = '12 31, 2009'\n",
    "\n",
    "date = date.strptime(date_string, '%m %d, %Y')\n",
    "print(date)"
   ]
  },
  {
   "cell_type": "markdown",
   "id": "d2334240",
   "metadata": {},
   "source": [
    "## Model Building"
   ]
  },
  {
   "cell_type": "markdown",
   "id": "78acc959",
   "metadata": {},
   "source": [
    "We will use a Support Vector Machine\n",
    "\n",
    "A support vector machine (SVM) is a supervised machine learning model that uses classification algorithms for two-group classification problems. After giving an SVM model sets of labeled training data for each category, they’re able to categorize new text.\n",
    "\n",
    "The basics of Support Vector Machines and how it works are best understood with a simple example. Let’s imagine we have two tags: red and yellow, and our data has two features: x and y. We want a classifier that, given a pair of (x,y) coordinates, outputs if it’s either red or yellow. We plot our already labeled training data on a plane:"
   ]
  },
  {
   "cell_type": "markdown",
   "id": "5cde92d3",
   "metadata": {},
   "source": [
    "**TF-IDF (term frequency-inverse document frequency)** is a statistical measure that evaluates how relevant a word is to a document in a collection of documents."
   ]
  },
  {
   "cell_type": "code",
   "execution_count": null,
   "id": "27426b81",
   "metadata": {},
   "outputs": [],
   "source": [
    "from sklearn.feature_extraction.text import TfidfVectorizer\n",
    "from sklearn.model_selection import train_test_split\n",
    "from sklearn.svm import LinearSVC\n",
    "from sklearn.metrics import classification_report"
   ]
  },
  {
   "cell_type": "code",
   "execution_count": null,
   "id": "f2913c5b",
   "metadata": {},
   "outputs": [],
   "source": [
    "# Tokenizing Raw text reviews\n",
    "tfidf = TfidfVectorizer(max_features=5000)\n",
    "X=df['reviewClean']\n",
    "y=df['overall']\n",
    "# y=df['star_rating']\n",
    "\n",
    "X = tfidf.fit_transform(X)"
   ]
  },
  {
   "cell_type": "code",
   "execution_count": null,
   "id": "2774546a",
   "metadata": {},
   "outputs": [],
   "source": [
    "X"
   ]
  },
  {
   "cell_type": "code",
   "execution_count": null,
   "id": "a53ec8b6",
   "metadata": {},
   "outputs": [],
   "source": [
    "print(X[:2,]) # Text Reviews got recoded in numbers"
   ]
  },
  {
   "cell_type": "code",
   "execution_count": null,
   "id": "6e001a02",
   "metadata": {},
   "outputs": [],
   "source": [
    "from random import sample, seed\n",
    "\n",
    "seed(2022)\n",
    "# Random Sample of features \n",
    "sample(tfidf.get_feature_names(), 10)"
   ]
  },
  {
   "cell_type": "code",
   "execution_count": null,
   "id": "ecb34ecc",
   "metadata": {},
   "outputs": [],
   "source": [
    "# Partion Data into Train and Test\n",
    "X_train, X_test, y_train, y_test = train_test_split(X, y, test_size=0.2, random_state=2022)"
   ]
  },
  {
   "cell_type": "code",
   "execution_count": null,
   "id": "35688aa3",
   "metadata": {},
   "outputs": [],
   "source": [
    "# Model\n",
    "clf = LinearSVC(loss='hinge') # tweek parametters here to make it better (or worse)\n",
    "\n",
    "# Training Model\n",
    "clf.fit(X_train, y_train)"
   ]
  },
  {
   "cell_type": "code",
   "execution_count": null,
   "id": "b007def4",
   "metadata": {},
   "outputs": [],
   "source": [
    "# Testing Model\n",
    "y_pred = clf.predict(X_test)"
   ]
  },
  {
   "cell_type": "code",
   "execution_count": null,
   "id": "518c0709",
   "metadata": {},
   "outputs": [],
   "source": [
    "print(classification_report(y_test, y_pred))"
   ]
  },
  {
   "cell_type": "markdown",
   "id": "6bb53af5",
   "metadata": {},
   "source": [
    "### Testing the model on few reviews"
   ]
  },
  {
   "cell_type": "code",
   "execution_count": null,
   "id": "9c7615ca",
   "metadata": {},
   "outputs": [],
   "source": [
    "# Let's understand how the algorith works\n",
    "x = df['reviewClean']\n",
    "x"
   ]
  },
  {
   "cell_type": "code",
   "execution_count": null,
   "id": "b5613924",
   "metadata": {},
   "outputs": [],
   "source": [
    "vec = tfidf.transform(x) # tokenizing using previously created features\n",
    "vec"
   ]
  },
  {
   "cell_type": "code",
   "execution_count": null,
   "id": "dc2b6cc5",
   "metadata": {},
   "outputs": [],
   "source": [
    "clf.predict(vec)"
   ]
  },
  {
   "cell_type": "code",
   "execution_count": null,
   "id": "d83fc5b3",
   "metadata": {},
   "outputs": [],
   "source": [
    "df['prediction']=pd.Series(clf.predict(vec))\n"
   ]
  },
  {
   "cell_type": "code",
   "execution_count": null,
   "id": "f9b8474e",
   "metadata": {
    "scrolled": true
   },
   "outputs": [],
   "source": [
    "df.head()"
   ]
  },
  {
   "cell_type": "code",
   "execution_count": null,
   "id": "e549d8be",
   "metadata": {},
   "outputs": [],
   "source": [
    "# Creating Sentiment Column\n",
    "df['predictionSentiment'] = df['prediction'].apply(lambda x: 1 if x>=3 else 0)\n",
    "df.head()"
   ]
  },
  {
   "cell_type": "code",
   "execution_count": null,
   "id": "dcc87092",
   "metadata": {},
   "outputs": [],
   "source": [
    "# Calculating the MSE with sklearn\n",
    "from sklearn.metrics import mean_squared_error\n",
    "mse = mean_squared_error(df['overall'], df['prediction'])\n",
    "print(mse)"
   ]
  },
  {
   "cell_type": "code",
   "execution_count": null,
   "id": "e4332508",
   "metadata": {},
   "outputs": [],
   "source": [
    "# Calculating the MSE with sklearn\n",
    "from sklearn.metrics import mean_squared_error\n",
    "mse = mean_squared_error(df['sentiment'], df['predictionSentiment'])\n",
    "print(mse)"
   ]
  },
  {
   "cell_type": "code",
   "execution_count": null,
   "id": "15813186",
   "metadata": {},
   "outputs": [],
   "source": [
    "df['sentiment'].values == df['predictionSentiment']"
   ]
  }
 ],
 "metadata": {
  "kernelspec": {
   "display_name": "Python 3.9.7 64-bit ('base': conda)",
   "language": "python",
   "name": "python397jvsc74a57bd040d3a090f54c6569ab1632332b64b2c03c39dcf918b08424e98f38b5ae0af88f"
  },
  "language_info": {
   "codemirror_mode": {
    "name": "ipython",
    "version": 3
   },
   "file_extension": ".py",
   "mimetype": "text/x-python",
   "name": "python",
   "nbconvert_exporter": "python",
   "pygments_lexer": "ipython3",
   "version": "3.9.7"
  }
 },
 "nbformat": 4,
 "nbformat_minor": 5
}
