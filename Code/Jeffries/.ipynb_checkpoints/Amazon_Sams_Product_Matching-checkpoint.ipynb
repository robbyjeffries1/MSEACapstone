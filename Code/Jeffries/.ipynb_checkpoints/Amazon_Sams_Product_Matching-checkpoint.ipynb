{
 "cells": [
  {
   "cell_type": "markdown",
   "id": "9966be51",
   "metadata": {},
   "source": [
    "# Product Matching by Robby Jeffries\n",
    "## Amazon and Sam's Club\n",
    "\n",
    "This notebook will identify which products appear in both the Amazon and Sam's Club data sets."
   ]
  },
  {
   "cell_type": "code",
   "execution_count": 1,
   "id": "02568615",
   "metadata": {},
   "outputs": [],
   "source": [
    "import os\n",
    "import numpy as np\n",
    "import pandas as pd"
   ]
  },
  {
   "cell_type": "code",
   "execution_count": 2,
   "id": "4df85586",
   "metadata": {},
   "outputs": [],
   "source": [
    "# set working directory\n",
    "os.chdir('/Users/robbyjeffries/MSEACapstone/Data')\n",
    "\n",
    "# import raw review data for the Electronics category\n",
    "amz_raw = pd.read_csv('Products/products_with_first_review_date.csv')\n",
    "sams_raw = pd.read_excel('Products/Products_Vendor_Start_Date.xlsx', index_col=0) "
   ]
  },
  {
   "cell_type": "code",
   "execution_count": 3,
   "id": "d2160ecb",
   "metadata": {},
   "outputs": [
    {
     "data": {
      "text/html": [
       "<div>\n",
       "<style scoped>\n",
       "    .dataframe tbody tr th:only-of-type {\n",
       "        vertical-align: middle;\n",
       "    }\n",
       "\n",
       "    .dataframe tbody tr th {\n",
       "        vertical-align: top;\n",
       "    }\n",
       "\n",
       "    .dataframe thead th {\n",
       "        text-align: right;\n",
       "    }\n",
       "</style>\n",
       "<table border=\"1\" class=\"dataframe\">\n",
       "  <thead>\n",
       "    <tr style=\"text-align: right;\">\n",
       "      <th></th>\n",
       "      <th>Vendor_Name</th>\n",
       "      <th>UPC_Desc</th>\n",
       "      <th>Start Date</th>\n",
       "    </tr>\n",
       "    <tr>\n",
       "      <th>Primary_Desc</th>\n",
       "      <th></th>\n",
       "      <th></th>\n",
       "      <th></th>\n",
       "    </tr>\n",
       "  </thead>\n",
       "  <tbody>\n",
       "    <tr>\n",
       "      <th>CG PORT CHARGER LRG</th>\n",
       "      <td>CONCEPT GREEN ENERGY SOLUTIONS</td>\n",
       "      <td>CHARGER</td>\n",
       "      <td>2014-07-01</td>\n",
       "    </tr>\n",
       "    <tr>\n",
       "      <th>48IN 720P LED TV</th>\n",
       "      <td>JSP LLC</td>\n",
       "      <td>48IN JVC TV</td>\n",
       "      <td>2015-10-14</td>\n",
       "    </tr>\n",
       "    <tr>\n",
       "      <th>19\" MTS TV</th>\n",
       "      <td>SANYO MFG CORP</td>\n",
       "      <td>19\"REFURB TV</td>\n",
       "      <td>2014-11-28</td>\n",
       "    </tr>\n",
       "    <tr>\n",
       "      <th>BELKIN GRP CDY SHEER</th>\n",
       "      <td>BRIGHTSTAR US INC</td>\n",
       "      <td>PHONE CASE</td>\n",
       "      <td>2014-07-03</td>\n",
       "    </tr>\n",
       "    <tr>\n",
       "      <th>TOSHIBA 27\" TV</th>\n",
       "      <td>TOSHIBA AMERICA INC</td>\n",
       "      <td>TV 27\" PIP</td>\n",
       "      <td>2015-05-30</td>\n",
       "    </tr>\n",
       "  </tbody>\n",
       "</table>\n",
       "</div>"
      ],
      "text/plain": [
       "                                         Vendor_Name      UPC_Desc Start Date\n",
       "Primary_Desc                                                                 \n",
       "CG PORT CHARGER LRG   CONCEPT GREEN ENERGY SOLUTIONS  CHARGER      2014-07-01\n",
       "48IN 720P LED TV      JSP LLC                         48IN JVC TV  2015-10-14\n",
       "19\" MTS TV            SANYO MFG CORP                  19\"REFURB TV 2014-11-28\n",
       "BELKIN GRP CDY SHEER  BRIGHTSTAR US INC               PHONE CASE   2014-07-03\n",
       "TOSHIBA 27\" TV        TOSHIBA AMERICA INC             TV 27\" PIP   2015-05-30"
      ]
     },
     "execution_count": 3,
     "metadata": {},
     "output_type": "execute_result"
    }
   ],
   "source": [
    "sams_raw.head()"
   ]
  },
  {
   "cell_type": "code",
   "execution_count": 4,
   "id": "55ab429b",
   "metadata": {},
   "outputs": [
    {
     "data": {
      "text/html": [
       "<div>\n",
       "<style scoped>\n",
       "    .dataframe tbody tr th:only-of-type {\n",
       "        vertical-align: middle;\n",
       "    }\n",
       "\n",
       "    .dataframe tbody tr th {\n",
       "        vertical-align: top;\n",
       "    }\n",
       "\n",
       "    .dataframe thead th {\n",
       "        text-align: right;\n",
       "    }\n",
       "</style>\n",
       "<table border=\"1\" class=\"dataframe\">\n",
       "  <thead>\n",
       "    <tr style=\"text-align: right;\">\n",
       "      <th></th>\n",
       "      <th>title</th>\n",
       "      <th>firstReview</th>\n",
       "    </tr>\n",
       "  </thead>\n",
       "  <tbody>\n",
       "    <tr>\n",
       "      <th>0</th>\n",
       "      <td>1000 Cd DVD Silver Aluminum Hard Case for Medi...</td>\n",
       "      <td>2014-01-01</td>\n",
       "    </tr>\n",
       "    <tr>\n",
       "      <th>1</th>\n",
       "      <td>Toshiba Satellite L670-17E Laptop Screen 17.3 ...</td>\n",
       "      <td>2014-01-01</td>\n",
       "    </tr>\n",
       "    <tr>\n",
       "      <th>2</th>\n",
       "      <td>ASUS GTX780TI-3GD5 Graphics Cards GTX780TI-3GD5</td>\n",
       "      <td>2014-01-01</td>\n",
       "    </tr>\n",
       "    <tr>\n",
       "      <th>3</th>\n",
       "      <td>12&amp;quot; SATA 15-Pin Male to Female Power Exte...</td>\n",
       "      <td>2014-01-01</td>\n",
       "    </tr>\n",
       "    <tr>\n",
       "      <th>4</th>\n",
       "      <td>GreatShield LEAN Series Slim Bluetooth Keyboar...</td>\n",
       "      <td>2014-01-01</td>\n",
       "    </tr>\n",
       "  </tbody>\n",
       "</table>\n",
       "</div>"
      ],
      "text/plain": [
       "                                               title firstReview\n",
       "0  1000 Cd DVD Silver Aluminum Hard Case for Medi...  2014-01-01\n",
       "1  Toshiba Satellite L670-17E Laptop Screen 17.3 ...  2014-01-01\n",
       "2    ASUS GTX780TI-3GD5 Graphics Cards GTX780TI-3GD5  2014-01-01\n",
       "3  12&quot; SATA 15-Pin Male to Female Power Exte...  2014-01-01\n",
       "4  GreatShield LEAN Series Slim Bluetooth Keyboar...  2014-01-01"
      ]
     },
     "execution_count": 4,
     "metadata": {},
     "output_type": "execute_result"
    }
   ],
   "source": [
    "amz_raw.head()"
   ]
  },
  {
   "cell_type": "markdown",
   "id": "3bdba2d3",
   "metadata": {},
   "source": [
    "### Example from Toward Data Science\n",
    "https://towardsdatascience.com/surprisingly-effective-way-to-name-matching-in-python-1a67328e670e"
   ]
  },
  {
   "cell_type": "code",
   "execution_count": 8,
   "id": "a3f3fd20",
   "metadata": {},
   "outputs": [],
   "source": [
    "if False: # Change it to true if you haven't installed it\n",
    "    !pip install cython\n",
    "    !pip install git+https://github.com/ing-bank/sparse_dot_topn.git"
   ]
  },
  {
   "cell_type": "code",
   "execution_count": 9,
   "id": "b8b1d6d2",
   "metadata": {},
   "outputs": [
    {
     "name": "stderr",
     "output_type": "stream",
     "text": [
      "/var/folders/c9/z8kjq8qs15n6nq0dr7vdg5640000gn/T/ipykernel_53365/3807556838.py:9: FutureWarning: Passing a negative integer is deprecated in version 1.0 and will not be supported in future version. Instead, use None to not limit the column width.\n",
      "  pd.set_option('display.max_colwidth', -1)\n"
     ]
    },
    {
     "data": {
      "text/html": [
       "<div>\n",
       "<style scoped>\n",
       "    .dataframe tbody tr th:only-of-type {\n",
       "        vertical-align: middle;\n",
       "    }\n",
       "\n",
       "    .dataframe tbody tr th {\n",
       "        vertical-align: top;\n",
       "    }\n",
       "\n",
       "    .dataframe thead th {\n",
       "        text-align: right;\n",
       "    }\n",
       "</style>\n",
       "<table border=\"1\" class=\"dataframe\">\n",
       "  <thead>\n",
       "    <tr style=\"text-align: right;\">\n",
       "      <th></th>\n",
       "      <th>title</th>\n",
       "      <th>firstReview</th>\n",
       "    </tr>\n",
       "  </thead>\n",
       "  <tbody>\n",
       "    <tr>\n",
       "      <th>0</th>\n",
       "      <td>1000 Cd DVD Silver Aluminum Hard Case for Media Storage Holder w/Hanger Sleeves</td>\n",
       "      <td>2014-01-01</td>\n",
       "    </tr>\n",
       "    <tr>\n",
       "      <th>1</th>\n",
       "      <td>Toshiba Satellite L670-17E Laptop Screen 17.3 LED BOTTOM LEFT WXGA++ 1600x900</td>\n",
       "      <td>2014-01-01</td>\n",
       "    </tr>\n",
       "    <tr>\n",
       "      <th>2</th>\n",
       "      <td>ASUS GTX780TI-3GD5 Graphics Cards GTX780TI-3GD5</td>\n",
       "      <td>2014-01-01</td>\n",
       "    </tr>\n",
       "    <tr>\n",
       "      <th>3</th>\n",
       "      <td>12&amp;quot; SATA 15-Pin Male to Female Power Extension Cable</td>\n",
       "      <td>2014-01-01</td>\n",
       "    </tr>\n",
       "    <tr>\n",
       "      <th>4</th>\n",
       "      <td>GreatShield LEAN Series Slim Bluetooth Keyboard Leather Case with Sleep / Wake Cover for Google Nexus 7 FHD 2nd Gen (2013) - Black/Blue</td>\n",
       "      <td>2014-01-01</td>\n",
       "    </tr>\n",
       "  </tbody>\n",
       "</table>\n",
       "</div>"
      ],
      "text/plain": [
       "                                                                                                                                     title  \\\n",
       "0  1000 Cd DVD Silver Aluminum Hard Case for Media Storage Holder w/Hanger Sleeves                                                           \n",
       "1  Toshiba Satellite L670-17E Laptop Screen 17.3 LED BOTTOM LEFT WXGA++ 1600x900                                                             \n",
       "2  ASUS GTX780TI-3GD5 Graphics Cards GTX780TI-3GD5                                                                                           \n",
       "3  12&quot; SATA 15-Pin Male to Female Power Extension Cable                                                                                 \n",
       "4  GreatShield LEAN Series Slim Bluetooth Keyboard Leather Case with Sleep / Wake Cover for Google Nexus 7 FHD 2nd Gen (2013) - Black/Blue   \n",
       "\n",
       "  firstReview  \n",
       "0  2014-01-01  \n",
       "1  2014-01-01  \n",
       "2  2014-01-01  \n",
       "3  2014-01-01  \n",
       "4  2014-01-01  "
      ]
     },
     "execution_count": 9,
     "metadata": {},
     "output_type": "execute_result"
    }
   ],
   "source": [
    "#  Importing libraries and module and some setting for notebook\n",
    "import pandas as pd \n",
    "import re\n",
    "from sklearn.feature_extraction.text import TfidfVectorizer\n",
    "import numpy as np\n",
    "from scipy.sparse import csr_matrix\n",
    "import sparse_dot_topn.sparse_dot_topn as ct  # Leading Juice for us\n",
    "import time\n",
    "pd.set_option('display.max_colwidth', -1)\n",
    "\n",
    "# reading dataset as df\n",
    "df = pd.read_csv('Products/products_with_first_review_date.csv')\n",
    "\n",
    "# printing first five rows\n",
    "df.head(5)"
   ]
  },
  {
   "cell_type": "code",
   "execution_count": 11,
   "id": "3d7a03c5",
   "metadata": {},
   "outputs": [
    {
     "name": "stdout",
     "output_type": "stream",
     "text": [
      "All 3-grams in \"Deluxroom\":\n"
     ]
    },
    {
     "data": {
      "text/plain": [
       "['Del', 'elu', 'lux', 'uxr', 'xro', 'roo', 'oom']"
      ]
     },
     "execution_count": 11,
     "metadata": {},
     "output_type": "execute_result"
    }
   ],
   "source": [
    "def ngrams(string, n=3):\n",
    "    \n",
    "    string = re.sub(r'[,-./]|\\sBD',r'', string)\n",
    "    ngrams = zip(*[string[i:] for i in range(n)])\n",
    "    return [''.join(ngram) for ngram in ngrams]\n",
    "\n",
    "# Testing ngrams work for verification\n",
    "print('All 3-grams in \"Deluxroom\":')\n",
    "ngrams('Deluxroom')"
   ]
  },
  {
   "cell_type": "code",
   "execution_count": 12,
   "id": "e7d47445",
   "metadata": {},
   "outputs": [],
   "source": [
    "products = df['title']\n",
    "vectorizer = TfidfVectorizer(min_df=1, analyzer=ngrams)\n",
    "tf_idf_matrix = vectorizer.fit_transform(products)"
   ]
  },
  {
   "cell_type": "code",
   "execution_count": 13,
   "id": "e8df94e7",
   "metadata": {
    "scrolled": true
   },
   "outputs": [
    {
     "name": "stdout",
     "output_type": "stream",
     "text": [
      "  (0, 112899)\t0.16136184017158206\n",
      "  (0, 89806)\t0.11716672116921079\n",
      "  (0, 89011)\t0.12539803554645057\n",
      "  (0, 97904)\t0.10793643099622584\n",
      "  (0, 69347)\t0.10887550257110412\n",
      "  (0, 2436)\t0.09460996511982211\n",
      "  (0, 105404)\t0.07229125110871673\n",
      "  (0, 91737)\t0.09204861623304697\n",
      "  (0, 101220)\t0.1148782024843828\n",
      "  (0, 83004)\t0.11882564321480643\n",
      "  (0, 50266)\t0.11135260940984015\n",
      "  (0, 113594)\t0.22331113023652624\n",
      "  (0, 3789)\t0.21155747597276103\n",
      "  (0, 105436)\t0.10403715095580454\n",
      "  (0, 86987)\t0.0909779238603611\n",
      "  (0, 97828)\t0.1152127994440927\n",
      "  (0, 103058)\t0.10731524355908936\n",
      "  (0, 50477)\t0.12878919897155897\n",
      "  (0, 1718)\t0.09772693157311348\n",
      "  (0, 87572)\t0.10315007221648095\n",
      "  (0, 91675)\t0.09947818720534739\n",
      "  (0, 82653)\t0.11233701705999256\n",
      "  (0, 106360)\t0.13630874069923593\n",
      "  (0, 103395)\t0.1351365534087081\n",
      "  (0, 110810)\t0.08013756350381719\n",
      "  :\t:\n",
      "  (0, 101746)\t0.13981788332382855\n",
      "  (0, 95057)\t0.1281269689604296\n",
      "  (0, 99562)\t0.10586824572869268\n",
      "  (0, 111936)\t0.12714886351628873\n",
      "  (0, 98463)\t0.13257058821880338\n",
      "  (0, 36519)\t0.1428410701161924\n",
      "  (0, 1249)\t0.10942733883635282\n",
      "  (0, 105386)\t0.08071797409522341\n",
      "  (0, 89530)\t0.1304129615824219\n",
      "  (0, 112898)\t0.06894072013734556\n",
      "  (0, 98483)\t0.1267259340190493\n",
      "  (0, 94924)\t0.128321601502061\n",
      "  (0, 69292)\t0.11197623032856864\n",
      "  (0, 2433)\t0.10116237847803974\n",
      "  (0, 41010)\t0.12035424179778077\n",
      "  (0, 73841)\t0.13109683813760512\n",
      "  (0, 42467)\t0.12145523169085684\n",
      "  (0, 1437)\t0.10906859644664137\n",
      "  (0, 86012)\t0.11152799611628025\n",
      "  (0, 40577)\t0.20365611878875328\n",
      "  (0, 1378)\t0.20322847998208832\n",
      "  (0, 8720)\t0.11949151771756675\n",
      "  (0, 8953)\t0.07885313828018431\n",
      "  (0, 8965)\t0.09986015624570378\n",
      "  (0, 12017)\t0.0956534593094256\n"
     ]
    }
   ],
   "source": [
    "print(tf_idf_matrix[0])"
   ]
  },
  {
   "cell_type": "code",
   "execution_count": 14,
   "id": "c030b1e2",
   "metadata": {},
   "outputs": [],
   "source": [
    "def awesome_cossim_top(A, B, ntop, lower_bound=0):\n",
    "    # force A and B as a CSR matrix.\n",
    "    # If they have already been CSR, there is no overhead\n",
    "    A = A.tocsr()\n",
    "    B = B.tocsr()\n",
    "    M, _ = A.shape\n",
    "    _, N = B.shape\n",
    " \n",
    "    idx_dtype = np.int32\n",
    " \n",
    "    nnz_max = M*ntop\n",
    " \n",
    "    indptr = np.zeros(M+1, dtype=idx_dtype)\n",
    "    indices = np.zeros(nnz_max, dtype=idx_dtype)\n",
    "    data = np.zeros(nnz_max, dtype=A.dtype)\n",
    "    \n",
    "    ct.sparse_dot_topn(\n",
    "            M, N, np.asarray(A.indptr, dtype=idx_dtype),\n",
    "            np.asarray(A.indices, dtype=idx_dtype),\n",
    "            A.data,\n",
    "            np.asarray(B.indptr, dtype=idx_dtype),\n",
    "            np.asarray(B.indices, dtype=idx_dtype),\n",
    "            B.data,\n",
    "            ntop,\n",
    "            lower_bound,\n",
    "            indptr, indices, data)\n",
    "    \n",
    "    return csr_matrix((data,indices,indptr),shape=(M,N))\n"
   ]
  },
  {
   "cell_type": "code",
   "execution_count": null,
   "id": "482a2778",
   "metadata": {},
   "outputs": [],
   "source": [
    "#  Top 10 with similarity above 0.8\n",
    "t1 = time.time()\n",
    "matches = awesome_cossim_top(tf_idf_matrix, tf_idf_matrix.transpose(), 10, 0.8)\n",
    "t = time.time()-t1\n",
    "print(\"SELFTIMED:\", t)"
   ]
  },
  {
   "cell_type": "code",
   "execution_count": null,
   "id": "2315f674",
   "metadata": {},
   "outputs": [],
   "source": [
    "# unpacks the resulting sparse matrix\n",
    "def get_matches_df(sparse_matrix, name_vector, top=100):\n",
    "    non_zeros = sparse_matrix.nonzero()\n",
    "    \n",
    "    sparserows = non_zeros[0]\n",
    "    sparsecols = non_zeros[1]\n",
    "    \n",
    "    if top:\n",
    "        nr_matches = top\n",
    "    else:\n",
    "        nr_matches = sparsecols.size\n",
    "    \n",
    "    left_side = np.empty([nr_matches], dtype=object)\n",
    "    right_side = np.empty([nr_matches], dtype=object)\n",
    "    similairity = np.zeros(nr_matches)\n",
    "    \n",
    "    for index in range(0, nr_matches):\n",
    "        left_side[index] = name_vector[sparserows[index]]\n",
    "        right_side[index] = name_vector[sparsecols[index]]\n",
    "        similairity[index] = sparse_matrix.data[index]\n",
    "    \n",
    "    return pd.DataFrame({'left_side': left_side,\n",
    "                          'right_side': right_side,\n",
    "                           'similairity': similairity})"
   ]
  },
  {
   "cell_type": "code",
   "execution_count": null,
   "id": "aea1ecad",
   "metadata": {},
   "outputs": [],
   "source": [
    "# store the  matches into new dataframe called matched_df and \n",
    "# printing 10 samples\n",
    "matches_df = get_matches_df(matches, room_types, top=200)\n",
    "matches_df = matches_df[matches_df['similairity'] < 0.99999] # For removing all exact matches\n",
    "matches_df.sample(10)"
   ]
  },
  {
   "cell_type": "code",
   "execution_count": null,
   "id": "d464b909",
   "metadata": {},
   "outputs": [],
   "source": [
    "# printing the matches in sorted order\n",
    "matches_df.sort_values(['similairity'], ascending=False).head(10)"
   ]
  }
 ],
 "metadata": {
  "kernelspec": {
   "display_name": "Python 3.9.7 64-bit ('base': conda)",
   "language": "python",
   "name": "python397jvsc74a57bd040d3a090f54c6569ab1632332b64b2c03c39dcf918b08424e98f38b5ae0af88f"
  },
  "language_info": {
   "codemirror_mode": {
    "name": "ipython",
    "version": 3
   },
   "file_extension": ".py",
   "mimetype": "text/x-python",
   "name": "python",
   "nbconvert_exporter": "python",
   "pygments_lexer": "ipython3",
   "version": "3.9.7"
  }
 },
 "nbformat": 4,
 "nbformat_minor": 5
}
