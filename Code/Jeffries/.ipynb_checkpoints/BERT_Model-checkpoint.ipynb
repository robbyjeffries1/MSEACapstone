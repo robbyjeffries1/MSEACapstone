{
 "cells": [
  {
   "cell_type": "markdown",
   "id": "5fb0d549",
   "metadata": {},
   "source": [
    "# BERT (Bidirectional Encoder Representations from Transformers)\n",
    "### Robby Jeffries\n",
    "### Reference: https://github.com/nicknochnack/BERTSentiment/blob/main/Sentiment.ipynb"
   ]
  },
  {
   "cell_type": "markdown",
   "id": "fb11f248",
   "metadata": {},
   "source": [
    "# 1. Install and Import Dependencies"
   ]
  },
  {
   "cell_type": "code",
   "execution_count": 2,
   "id": "40990dfb",
   "metadata": {},
   "outputs": [
    {
     "name": "stdout",
     "output_type": "stream",
     "text": [
      "Collecting package metadata (current_repodata.json): done\n",
      "Solving environment: done\n",
      "\n",
      "# All requested packages already installed.\n",
      "\n",
      "\n",
      "Note: you may need to restart the kernel to use updated packages.\n"
     ]
    }
   ],
   "source": [
    "conda install pytorch torchvision torchaudio -c pytorch"
   ]
  },
  {
   "cell_type": "code",
   "execution_count": 3,
   "id": "2ce317c1",
   "metadata": {},
   "outputs": [
    {
     "name": "stdout",
     "output_type": "stream",
     "text": [
      "Collecting package metadata (current_repodata.json): done\n",
      "Solving environment: done\n",
      "\n",
      "# All requested packages already installed.\n",
      "\n",
      "\n",
      "Note: you may need to restart the kernel to use updated packages.\n"
     ]
    }
   ],
   "source": [
    "conda install transformers requests beautifulsoup4 pandas numpy"
   ]
  },
  {
   "cell_type": "code",
   "execution_count": 1,
   "id": "31d22187",
   "metadata": {},
   "outputs": [],
   "source": [
    "from transformers import AutoTokenizer, AutoModelForSequenceClassification\n",
    "import torch\n",
    "import requests\n",
    "import re"
   ]
  },
  {
   "cell_type": "markdown",
   "id": "22ee9b8f",
   "metadata": {},
   "source": [
    "# 2. Instantiate Model"
   ]
  },
  {
   "cell_type": "markdown",
   "id": "8473c2d5",
   "metadata": {},
   "source": [
    "Multilingual support for\n",
    "* English\n",
    "* Dutch\n",
    "* German\n",
    "* French\n",
    "* Italian\n",
    "* Spanish"
   ]
  },
  {
   "cell_type": "code",
   "execution_count": 2,
   "id": "dae42019",
   "metadata": {},
   "outputs": [],
   "source": [
    "tokenizer = AutoTokenizer.from_pretrained('nlptown/bert-base-multilingual-uncased-sentiment')\n",
    "\n",
    "model = AutoModelForSequenceClassification.from_pretrained('nlptown/bert-base-multilingual-uncased-sentiment')"
   ]
  },
  {
   "cell_type": "markdown",
   "id": "ecbc4e51",
   "metadata": {},
   "source": [
    "# 3. Playground to Encode and Calculate Sentiment"
   ]
  },
  {
   "cell_type": "code",
   "execution_count": 7,
   "id": "b860e054",
   "metadata": {},
   "outputs": [],
   "source": [
    "tokens = tokenizer.encode('it''s alright', return_tensors='pt')"
   ]
  },
  {
   "cell_type": "code",
   "execution_count": 8,
   "id": "f48cd685",
   "metadata": {},
   "outputs": [],
   "source": [
    "result = model(tokens)"
   ]
  },
  {
   "cell_type": "code",
   "execution_count": 9,
   "id": "f8d4bb73",
   "metadata": {},
   "outputs": [
    {
     "data": {
      "text/plain": [
       "tensor([[-1.5823, -0.4876,  0.9463,  1.0014,  0.1038]],\n",
       "       grad_fn=<AddmmBackward0>)"
      ]
     },
     "execution_count": 9,
     "metadata": {},
     "output_type": "execute_result"
    }
   ],
   "source": [
    "result.logits"
   ]
  },
  {
   "cell_type": "code",
   "execution_count": 10,
   "id": "58c09c4c",
   "metadata": {},
   "outputs": [
    {
     "data": {
      "text/plain": [
       "4"
      ]
     },
     "execution_count": 10,
     "metadata": {},
     "output_type": "execute_result"
    }
   ],
   "source": [
    "# Add one so that scores range from 1-5 instead of 0-4\n",
    "int(torch.argmax(result.logits))+1"
   ]
  },
  {
   "cell_type": "markdown",
   "id": "890afabb",
   "metadata": {},
   "source": [
    "# 4. Import Reviews"
   ]
  },
  {
   "cell_type": "code",
   "execution_count": 38,
   "id": "086a8a50",
   "metadata": {},
   "outputs": [],
   "source": [
    "import os\n",
    "import numpy as np\n",
    "import pandas as pd"
   ]
  },
  {
   "cell_type": "code",
   "execution_count": 44,
   "id": "9548897a",
   "metadata": {},
   "outputs": [],
   "source": [
    "os.chdir('/Users/robbyjeffries/MSEACapstone/Data')"
   ]
  },
  {
   "cell_type": "code",
   "execution_count": 54,
   "id": "7c48dae2",
   "metadata": {},
   "outputs": [],
   "source": [
    "raw = pd.read_csv('2015_top_1000.csv')"
   ]
  },
  {
   "cell_type": "code",
   "execution_count": 55,
   "id": "23f0b077",
   "metadata": {
    "scrolled": true
   },
   "outputs": [],
   "source": [
    "df = pd.DataFrame(np.array(raw), columns=['marketplace','customer_id','review_id','product_id','product_parent','product_title','star_rating','helpful_votes','total_votes','vine','verified_purchase','review_headline','review_body','review_date','year','product_category'])"
   ]
  },
  {
   "cell_type": "code",
   "execution_count": 56,
   "id": "4c9146c7",
   "metadata": {},
   "outputs": [
    {
     "data": {
      "text/plain": [
       "'Cute'"
      ]
     },
     "execution_count": 56,
     "metadata": {},
     "output_type": "execute_result"
    }
   ],
   "source": [
    "df['review_body'].iloc[0]"
   ]
  },
  {
   "cell_type": "markdown",
   "id": "4b1622ec",
   "metadata": {},
   "source": [
    "# 5. Score Sentiment and Calculate RMSE"
   ]
  },
  {
   "cell_type": "code",
   "execution_count": 84,
   "id": "cea19a8a",
   "metadata": {},
   "outputs": [],
   "source": [
    "from sklearn.metrics import mean_squared_error"
   ]
  },
  {
   "cell_type": "code",
   "execution_count": 57,
   "id": "9764f42b",
   "metadata": {},
   "outputs": [],
   "source": [
    "def sentiment_score(review):\n",
    "    tokens = tokenizer.encode(review, return_tensors='pt')\n",
    "    result = model(tokens)\n",
    "    return int(torch.argmax(result.logits))+1"
   ]
  },
  {
   "cell_type": "code",
   "execution_count": 59,
   "id": "1a565c1c",
   "metadata": {},
   "outputs": [
    {
     "data": {
      "text/plain": [
       "5"
      ]
     },
     "execution_count": 59,
     "metadata": {},
     "output_type": "execute_result"
    }
   ],
   "source": [
    "sentiment_score(df['review_body'].iloc[1])"
   ]
  },
  {
   "cell_type": "code",
   "execution_count": 87,
   "id": "6e681c1b",
   "metadata": {},
   "outputs": [],
   "source": [
    "# Calculate a sentiment score for every review\n",
    "df['sentiment'] = df['review_body'].apply(lambda x: sentiment_score(x[:1001]))"
   ]
  },
  {
   "cell_type": "code",
   "execution_count": 88,
   "id": "6e0c356f",
   "metadata": {
    "scrolled": true
   },
   "outputs": [
    {
     "data": {
      "text/html": [
       "<div>\n",
       "<style scoped>\n",
       "    .dataframe tbody tr th:only-of-type {\n",
       "        vertical-align: middle;\n",
       "    }\n",
       "\n",
       "    .dataframe tbody tr th {\n",
       "        vertical-align: top;\n",
       "    }\n",
       "\n",
       "    .dataframe thead th {\n",
       "        text-align: right;\n",
       "    }\n",
       "</style>\n",
       "<table border=\"1\" class=\"dataframe\">\n",
       "  <thead>\n",
       "    <tr style=\"text-align: right;\">\n",
       "      <th></th>\n",
       "      <th>marketplace</th>\n",
       "      <th>customer_id</th>\n",
       "      <th>review_id</th>\n",
       "      <th>product_id</th>\n",
       "      <th>product_parent</th>\n",
       "      <th>product_title</th>\n",
       "      <th>star_rating</th>\n",
       "      <th>helpful_votes</th>\n",
       "      <th>total_votes</th>\n",
       "      <th>vine</th>\n",
       "      <th>verified_purchase</th>\n",
       "      <th>review_headline</th>\n",
       "      <th>review_body</th>\n",
       "      <th>review_date</th>\n",
       "      <th>year</th>\n",
       "      <th>product_category</th>\n",
       "      <th>sentiment</th>\n",
       "    </tr>\n",
       "  </thead>\n",
       "  <tbody>\n",
       "    <tr>\n",
       "      <th>0</th>\n",
       "      <td>US</td>\n",
       "      <td>27234583</td>\n",
       "      <td>RYSGVGQU5HB5C</td>\n",
       "      <td>B0091JKY0M</td>\n",
       "      <td>941945933</td>\n",
       "      <td>Amazon.com Gift Card for Any Amount in a Santa...</td>\n",
       "      <td>5</td>\n",
       "      <td>0</td>\n",
       "      <td>0</td>\n",
       "      <td>N</td>\n",
       "      <td>Y</td>\n",
       "      <td>Five Stars</td>\n",
       "      <td>Cute</td>\n",
       "      <td>16436</td>\n",
       "      <td>2015</td>\n",
       "      <td>Gift_Card</td>\n",
       "      <td>4</td>\n",
       "    </tr>\n",
       "    <tr>\n",
       "      <th>1</th>\n",
       "      <td>US</td>\n",
       "      <td>41200446</td>\n",
       "      <td>R31Z6984SLA3AB</td>\n",
       "      <td>B004LLIKVU</td>\n",
       "      <td>473048287</td>\n",
       "      <td>Amazon.com eGift Cards</td>\n",
       "      <td>5</td>\n",
       "      <td>0</td>\n",
       "      <td>0</td>\n",
       "      <td>N</td>\n",
       "      <td>Y</td>\n",
       "      <td>Five Stars</td>\n",
       "      <td>Very good</td>\n",
       "      <td>16436</td>\n",
       "      <td>2015</td>\n",
       "      <td>Gift_Card</td>\n",
       "      <td>5</td>\n",
       "    </tr>\n",
       "    <tr>\n",
       "      <th>2</th>\n",
       "      <td>US</td>\n",
       "      <td>37861590</td>\n",
       "      <td>R2XEC6TIXZX2ZE</td>\n",
       "      <td>BT00CTP4TW</td>\n",
       "      <td>775486538</td>\n",
       "      <td>Amazon.com Gift Card in a Greeting Card (Vario...</td>\n",
       "      <td>5</td>\n",
       "      <td>0</td>\n",
       "      <td>0</td>\n",
       "      <td>N</td>\n",
       "      <td>Y</td>\n",
       "      <td>Five Stars</td>\n",
       "      <td>great</td>\n",
       "      <td>16436</td>\n",
       "      <td>2015</td>\n",
       "      <td>Gift_Card</td>\n",
       "      <td>5</td>\n",
       "    </tr>\n",
       "    <tr>\n",
       "      <th>3</th>\n",
       "      <td>US</td>\n",
       "      <td>1776698</td>\n",
       "      <td>R3IYIAD43DSX3B</td>\n",
       "      <td>B004LLIKVU</td>\n",
       "      <td>473048287</td>\n",
       "      <td>Amazon.com eGift Cards</td>\n",
       "      <td>5</td>\n",
       "      <td>0</td>\n",
       "      <td>0</td>\n",
       "      <td>N</td>\n",
       "      <td>Y</td>\n",
       "      <td>Five Stars</td>\n",
       "      <td>EXCELENT!</td>\n",
       "      <td>16436</td>\n",
       "      <td>2015</td>\n",
       "      <td>Gift_Card</td>\n",
       "      <td>5</td>\n",
       "    </tr>\n",
       "    <tr>\n",
       "      <th>4</th>\n",
       "      <td>US</td>\n",
       "      <td>38926751</td>\n",
       "      <td>R3LSH0P496X2FT</td>\n",
       "      <td>B0069VHL5Q</td>\n",
       "      <td>493863665</td>\n",
       "      <td>Amazon Gift Card - Print - Holiday Scene (Colo...</td>\n",
       "      <td>5</td>\n",
       "      <td>0</td>\n",
       "      <td>0</td>\n",
       "      <td>N</td>\n",
       "      <td>Y</td>\n",
       "      <td>Best printing option for B&amp;W printer</td>\n",
       "      <td>I purchased 4 of these for Christmas gifts. Wh...</td>\n",
       "      <td>16436</td>\n",
       "      <td>2015</td>\n",
       "      <td>Gift_Card</td>\n",
       "      <td>5</td>\n",
       "    </tr>\n",
       "    <tr>\n",
       "      <th>...</th>\n",
       "      <td>...</td>\n",
       "      <td>...</td>\n",
       "      <td>...</td>\n",
       "      <td>...</td>\n",
       "      <td>...</td>\n",
       "      <td>...</td>\n",
       "      <td>...</td>\n",
       "      <td>...</td>\n",
       "      <td>...</td>\n",
       "      <td>...</td>\n",
       "      <td>...</td>\n",
       "      <td>...</td>\n",
       "      <td>...</td>\n",
       "      <td>...</td>\n",
       "      <td>...</td>\n",
       "      <td>...</td>\n",
       "      <td>...</td>\n",
       "    </tr>\n",
       "    <tr>\n",
       "      <th>995</th>\n",
       "      <td>US</td>\n",
       "      <td>2133051</td>\n",
       "      <td>R25Y65N46PJ5OK</td>\n",
       "      <td>B00B2TFSO6</td>\n",
       "      <td>89375983</td>\n",
       "      <td>Amazon eGift Card - Thank You (Note)</td>\n",
       "      <td>5</td>\n",
       "      <td>0</td>\n",
       "      <td>0</td>\n",
       "      <td>N</td>\n",
       "      <td>Y</td>\n",
       "      <td>Five Stars</td>\n",
       "      <td>bien</td>\n",
       "      <td>16469</td>\n",
       "      <td>2015</td>\n",
       "      <td>Gift_Card</td>\n",
       "      <td>4</td>\n",
       "    </tr>\n",
       "    <tr>\n",
       "      <th>996</th>\n",
       "      <td>US</td>\n",
       "      <td>42245473</td>\n",
       "      <td>R2BC427TSS7PKD</td>\n",
       "      <td>B00CHSWGFU</td>\n",
       "      <td>728247461</td>\n",
       "      <td>Amazon eGift Card - Smile!</td>\n",
       "      <td>5</td>\n",
       "      <td>0</td>\n",
       "      <td>0</td>\n",
       "      <td>N</td>\n",
       "      <td>Y</td>\n",
       "      <td>Five Stars</td>\n",
       "      <td>IT WAS A WONDERFUL GIFT FROM A VERY LOVING FAM...</td>\n",
       "      <td>16469</td>\n",
       "      <td>2015</td>\n",
       "      <td>Gift_Card</td>\n",
       "      <td>5</td>\n",
       "    </tr>\n",
       "    <tr>\n",
       "      <th>997</th>\n",
       "      <td>US</td>\n",
       "      <td>15972562</td>\n",
       "      <td>R3IA8EI4LVH00N</td>\n",
       "      <td>B007RZ6DSO</td>\n",
       "      <td>473048287</td>\n",
       "      <td>Amazon.com eGift Cards</td>\n",
       "      <td>5</td>\n",
       "      <td>0</td>\n",
       "      <td>0</td>\n",
       "      <td>N</td>\n",
       "      <td>Y</td>\n",
       "      <td>My girlfreinds daughter liked hers too</td>\n",
       "      <td>It's what it is supposed to be, a gift card. M...</td>\n",
       "      <td>16469</td>\n",
       "      <td>2015</td>\n",
       "      <td>Gift_Card</td>\n",
       "      <td>4</td>\n",
       "    </tr>\n",
       "    <tr>\n",
       "      <th>998</th>\n",
       "      <td>US</td>\n",
       "      <td>50026506</td>\n",
       "      <td>R260JKWUSH3UTD</td>\n",
       "      <td>B00PG40SDY</td>\n",
       "      <td>812178203</td>\n",
       "      <td>Amazon eGift Card - Deck the Halls</td>\n",
       "      <td>4</td>\n",
       "      <td>0</td>\n",
       "      <td>0</td>\n",
       "      <td>N</td>\n",
       "      <td>Y</td>\n",
       "      <td>Four Stars</td>\n",
       "      <td>it was received and spent.</td>\n",
       "      <td>16469</td>\n",
       "      <td>2015</td>\n",
       "      <td>Gift_Card</td>\n",
       "      <td>4</td>\n",
       "    </tr>\n",
       "    <tr>\n",
       "      <th>999</th>\n",
       "      <td>US</td>\n",
       "      <td>745556</td>\n",
       "      <td>R1JUOEYOIWJ5GD</td>\n",
       "      <td>B004KNWWO0</td>\n",
       "      <td>802996579</td>\n",
       "      <td>Amazon.com Gift Cards - Print at Home</td>\n",
       "      <td>5</td>\n",
       "      <td>0</td>\n",
       "      <td>0</td>\n",
       "      <td>N</td>\n",
       "      <td>Y</td>\n",
       "      <td>Five Stars</td>\n",
       "      <td>Very very Good!!!</td>\n",
       "      <td>16469</td>\n",
       "      <td>2015</td>\n",
       "      <td>Gift_Card</td>\n",
       "      <td>5</td>\n",
       "    </tr>\n",
       "  </tbody>\n",
       "</table>\n",
       "<p>1000 rows × 17 columns</p>\n",
       "</div>"
      ],
      "text/plain": [
       "    marketplace customer_id       review_id  product_id product_parent  \\\n",
       "0            US    27234583   RYSGVGQU5HB5C  B0091JKY0M      941945933   \n",
       "1            US    41200446  R31Z6984SLA3AB  B004LLIKVU      473048287   \n",
       "2            US    37861590  R2XEC6TIXZX2ZE  BT00CTP4TW      775486538   \n",
       "3            US     1776698  R3IYIAD43DSX3B  B004LLIKVU      473048287   \n",
       "4            US    38926751  R3LSH0P496X2FT  B0069VHL5Q      493863665   \n",
       "..          ...         ...             ...         ...            ...   \n",
       "995          US     2133051  R25Y65N46PJ5OK  B00B2TFSO6       89375983   \n",
       "996          US    42245473  R2BC427TSS7PKD  B00CHSWGFU      728247461   \n",
       "997          US    15972562  R3IA8EI4LVH00N  B007RZ6DSO      473048287   \n",
       "998          US    50026506  R260JKWUSH3UTD  B00PG40SDY      812178203   \n",
       "999          US      745556  R1JUOEYOIWJ5GD  B004KNWWO0      802996579   \n",
       "\n",
       "                                         product_title star_rating  \\\n",
       "0    Amazon.com Gift Card for Any Amount in a Santa...           5   \n",
       "1                               Amazon.com eGift Cards           5   \n",
       "2    Amazon.com Gift Card in a Greeting Card (Vario...           5   \n",
       "3                               Amazon.com eGift Cards           5   \n",
       "4    Amazon Gift Card - Print - Holiday Scene (Colo...           5   \n",
       "..                                                 ...         ...   \n",
       "995               Amazon eGift Card - Thank You (Note)           5   \n",
       "996                         Amazon eGift Card - Smile!           5   \n",
       "997                             Amazon.com eGift Cards           5   \n",
       "998                 Amazon eGift Card - Deck the Halls           4   \n",
       "999              Amazon.com Gift Cards - Print at Home           5   \n",
       "\n",
       "    helpful_votes total_votes vine verified_purchase  \\\n",
       "0               0           0    N                 Y   \n",
       "1               0           0    N                 Y   \n",
       "2               0           0    N                 Y   \n",
       "3               0           0    N                 Y   \n",
       "4               0           0    N                 Y   \n",
       "..            ...         ...  ...               ...   \n",
       "995             0           0    N                 Y   \n",
       "996             0           0    N                 Y   \n",
       "997             0           0    N                 Y   \n",
       "998             0           0    N                 Y   \n",
       "999             0           0    N                 Y   \n",
       "\n",
       "                            review_headline  \\\n",
       "0                                Five Stars   \n",
       "1                                Five Stars   \n",
       "2                                Five Stars   \n",
       "3                                Five Stars   \n",
       "4      Best printing option for B&W printer   \n",
       "..                                      ...   \n",
       "995                              Five Stars   \n",
       "996                              Five Stars   \n",
       "997  My girlfreinds daughter liked hers too   \n",
       "998                              Four Stars   \n",
       "999                              Five Stars   \n",
       "\n",
       "                                           review_body review_date  year  \\\n",
       "0                                                 Cute       16436  2015   \n",
       "1                                            Very good       16436  2015   \n",
       "2                                                great       16436  2015   \n",
       "3                                            EXCELENT!       16436  2015   \n",
       "4    I purchased 4 of these for Christmas gifts. Wh...       16436  2015   \n",
       "..                                                 ...         ...   ...   \n",
       "995                                               bien       16469  2015   \n",
       "996  IT WAS A WONDERFUL GIFT FROM A VERY LOVING FAM...       16469  2015   \n",
       "997  It's what it is supposed to be, a gift card. M...       16469  2015   \n",
       "998                         it was received and spent.       16469  2015   \n",
       "999                                  Very very Good!!!       16469  2015   \n",
       "\n",
       "    product_category  sentiment  \n",
       "0          Gift_Card          4  \n",
       "1          Gift_Card          5  \n",
       "2          Gift_Card          5  \n",
       "3          Gift_Card          5  \n",
       "4          Gift_Card          5  \n",
       "..               ...        ...  \n",
       "995        Gift_Card          4  \n",
       "996        Gift_Card          5  \n",
       "997        Gift_Card          4  \n",
       "998        Gift_Card          4  \n",
       "999        Gift_Card          5  \n",
       "\n",
       "[1000 rows x 17 columns]"
      ]
     },
     "execution_count": 88,
     "metadata": {},
     "output_type": "execute_result"
    }
   ],
   "source": [
    "df"
   ]
  },
  {
   "cell_type": "code",
   "execution_count": 90,
   "id": "7d7d8198",
   "metadata": {},
   "outputs": [
    {
     "name": "stdout",
     "output_type": "stream",
     "text": [
      "RMSE = 0.8899438184514796\n"
     ]
    }
   ],
   "source": [
    "star_rating = df['star_rating']\n",
    "sentiment = df['sentiment']\n",
    "rms = np.sqrt(mean_squared_error(star_rating, sentiment))\n",
    "print('RMSE =', rms)"
   ]
  }
 ],
 "metadata": {
  "kernelspec": {
   "display_name": "Python 3.9.7 64-bit ('base': conda)",
   "language": "python",
   "name": "python397jvsc74a57bd040d3a090f54c6569ab1632332b64b2c03c39dcf918b08424e98f38b5ae0af88f"
  },
  "language_info": {
   "codemirror_mode": {
    "name": "ipython",
    "version": 3
   },
   "file_extension": ".py",
   "mimetype": "text/x-python",
   "name": "python",
   "nbconvert_exporter": "python",
   "pygments_lexer": "ipython3",
   "version": "3.9.7"
  }
 },
 "nbformat": 4,
 "nbformat_minor": 5
}
