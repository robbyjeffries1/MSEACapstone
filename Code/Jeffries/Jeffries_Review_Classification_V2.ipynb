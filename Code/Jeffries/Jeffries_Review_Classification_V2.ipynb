{
 "cells": [
  {
   "cell_type": "markdown",
   "id": "a24d5f37",
   "metadata": {},
   "source": [
    "# Sentiment Analysis \n",
    "#### by Robby Jeffries\n",
    "#### 02-24-2022"
   ]
  },
  {
   "cell_type": "markdown",
   "id": "57927935",
   "metadata": {},
   "source": [
    "## Import Data"
   ]
  },
  {
   "cell_type": "code",
   "execution_count": 1,
   "id": "d548e1ec",
   "metadata": {},
   "outputs": [],
   "source": [
    "import os\n",
    "import numpy as np\n",
    "import pandas as pd"
   ]
  },
  {
   "cell_type": "code",
   "execution_count": 3,
   "id": "cc499f8f",
   "metadata": {
    "scrolled": true
   },
   "outputs": [],
   "source": [
    "# set working directory\n",
    "os.chdir('/Users/robbyjeffries/MSEACapstone/Data')"
   ]
  },
  {
   "cell_type": "code",
   "execution_count": 4,
   "id": "1a223f4b",
   "metadata": {},
   "outputs": [],
   "source": [
    "df = pd.read_csv('CSV_completed/Electronics_clean.csv', sep='\\t')"
   ]
  },
  {
   "cell_type": "code",
   "execution_count": 5,
   "id": "de3336c6",
   "metadata": {},
   "outputs": [
    {
     "data": {
      "text/html": [
       "<div>\n",
       "<style scoped>\n",
       "    .dataframe tbody tr th:only-of-type {\n",
       "        vertical-align: middle;\n",
       "    }\n",
       "\n",
       "    .dataframe tbody tr th {\n",
       "        vertical-align: top;\n",
       "    }\n",
       "\n",
       "    .dataframe thead th {\n",
       "        text-align: right;\n",
       "    }\n",
       "</style>\n",
       "<table border=\"1\" class=\"dataframe\">\n",
       "  <thead>\n",
       "    <tr style=\"text-align: right;\">\n",
       "      <th></th>\n",
       "      <th>overall</th>\n",
       "      <th>verified</th>\n",
       "      <th>reviewTime</th>\n",
       "      <th>asin</th>\n",
       "      <th>reviewerName</th>\n",
       "      <th>reviewText</th>\n",
       "      <th>summary</th>\n",
       "      <th>sentiment</th>\n",
       "      <th>year</th>\n",
       "    </tr>\n",
       "  </thead>\n",
       "  <tbody>\n",
       "    <tr>\n",
       "      <th>0</th>\n",
       "      <td>4.0</td>\n",
       "      <td>True</td>\n",
       "      <td>08 12, 2014</td>\n",
       "      <td>0070524076</td>\n",
       "      <td>LINDSAY BUENA</td>\n",
       "      <td>thought book fine use much thought exampl basi...</td>\n",
       "      <td>colleg physic</td>\n",
       "      <td>1</td>\n",
       "      <td>2014</td>\n",
       "    </tr>\n",
       "    <tr>\n",
       "      <th>1</th>\n",
       "      <td>4.0</td>\n",
       "      <td>True</td>\n",
       "      <td>05 13, 2014</td>\n",
       "      <td>0070524076</td>\n",
       "      <td>Hassan</td>\n",
       "      <td>return book two week ago know got messag say t...</td>\n",
       "      <td>return</td>\n",
       "      <td>1</td>\n",
       "      <td>2014</td>\n",
       "    </tr>\n",
       "    <tr>\n",
       "      <th>2</th>\n",
       "      <td>5.0</td>\n",
       "      <td>False</td>\n",
       "      <td>02 23, 2014</td>\n",
       "      <td>0070524076</td>\n",
       "      <td>Nena</td>\n",
       "      <td>book not perfect condit expect rent textbook t...</td>\n",
       "      <td>rent book expect</td>\n",
       "      <td>1</td>\n",
       "      <td>2014</td>\n",
       "    </tr>\n",
       "    <tr>\n",
       "      <th>3</th>\n",
       "      <td>3.0</td>\n",
       "      <td>True</td>\n",
       "      <td>10 13, 2014</td>\n",
       "      <td>0151004714</td>\n",
       "      <td>Sande</td>\n",
       "      <td>keep read messud know seem click charact write...</td>\n",
       "      <td>ok</td>\n",
       "      <td>1</td>\n",
       "      <td>2014</td>\n",
       "    </tr>\n",
       "    <tr>\n",
       "      <th>4</th>\n",
       "      <td>2.0</td>\n",
       "      <td>True</td>\n",
       "      <td>10 2, 2014</td>\n",
       "      <td>0151004714</td>\n",
       "      <td>MSY</td>\n",
       "      <td>sorri could not get rambl bore book time thoug...</td>\n",
       "      <td>disappoint</td>\n",
       "      <td>0</td>\n",
       "      <td>2014</td>\n",
       "    </tr>\n",
       "  </tbody>\n",
       "</table>\n",
       "</div>"
      ],
      "text/plain": [
       "   overall  verified   reviewTime        asin   reviewerName  \\\n",
       "0      4.0      True  08 12, 2014  0070524076  LINDSAY BUENA   \n",
       "1      4.0      True  05 13, 2014  0070524076         Hassan   \n",
       "2      5.0     False  02 23, 2014  0070524076           Nena   \n",
       "3      3.0      True  10 13, 2014  0151004714          Sande   \n",
       "4      2.0      True   10 2, 2014  0151004714            MSY   \n",
       "\n",
       "                                          reviewText           summary  \\\n",
       "0  thought book fine use much thought exampl basi...     colleg physic   \n",
       "1  return book two week ago know got messag say t...            return   \n",
       "2  book not perfect condit expect rent textbook t...  rent book expect   \n",
       "3  keep read messud know seem click charact write...                ok   \n",
       "4  sorri could not get rambl bore book time thoug...        disappoint   \n",
       "\n",
       "   sentiment  year  \n",
       "0          1  2014  \n",
       "1          1  2014  \n",
       "2          1  2014  \n",
       "3          1  2014  \n",
       "4          0  2014  "
      ]
     },
     "execution_count": 5,
     "metadata": {},
     "output_type": "execute_result"
    }
   ],
   "source": [
    "df.head()"
   ]
  },
  {
   "cell_type": "markdown",
   "id": "1cf308d3",
   "metadata": {},
   "source": [
    "***"
   ]
  },
  {
   "cell_type": "markdown",
   "id": "028835cb",
   "metadata": {},
   "source": [
    "# Import Metadata"
   ]
  },
  {
   "cell_type": "code",
   "execution_count": 6,
   "id": "3bb381a6",
   "metadata": {
    "scrolled": true
   },
   "outputs": [],
   "source": [
    "df_meta = pd.read_csv('Metadata_completed/meta_Electronics_clean.csv', sep = '\\t')"
   ]
  },
  {
   "cell_type": "code",
   "execution_count": 7,
   "id": "2ad2fe8e",
   "metadata": {},
   "outputs": [
    {
     "data": {
      "text/html": [
       "<div>\n",
       "<style scoped>\n",
       "    .dataframe tbody tr th:only-of-type {\n",
       "        vertical-align: middle;\n",
       "    }\n",
       "\n",
       "    .dataframe tbody tr th {\n",
       "        vertical-align: top;\n",
       "    }\n",
       "\n",
       "    .dataframe thead th {\n",
       "        text-align: right;\n",
       "    }\n",
       "</style>\n",
       "<table border=\"1\" class=\"dataframe\">\n",
       "  <thead>\n",
       "    <tr style=\"text-align: right;\">\n",
       "      <th></th>\n",
       "      <th>asin</th>\n",
       "      <th>title</th>\n",
       "      <th>brand</th>\n",
       "    </tr>\n",
       "  </thead>\n",
       "  <tbody>\n",
       "    <tr>\n",
       "      <th>0</th>\n",
       "      <td>0011300000</td>\n",
       "      <td>Genuine Geovision 1 Channel 3rd Party NVR IP S...</td>\n",
       "      <td>GeoVision</td>\n",
       "    </tr>\n",
       "    <tr>\n",
       "      <th>1</th>\n",
       "      <td>0043396828</td>\n",
       "      <td>Books \"Handbook of Astronomical Image Processi...</td>\n",
       "      <td>33 Books Co.</td>\n",
       "    </tr>\n",
       "    <tr>\n",
       "      <th>2</th>\n",
       "      <td>0060009810</td>\n",
       "      <td>One Hot Summer</td>\n",
       "      <td>Visit Amazon's Carolina Garcia Aguilera Page</td>\n",
       "    </tr>\n",
       "    <tr>\n",
       "      <th>3</th>\n",
       "      <td>0060219602</td>\n",
       "      <td>Hurray for Hattie Rabbit: Story and pictures (...</td>\n",
       "      <td>Visit Amazon's Dick Gackenbach Page</td>\n",
       "    </tr>\n",
       "    <tr>\n",
       "      <th>4</th>\n",
       "      <td>0060786817</td>\n",
       "      <td>sex.lies.murder.fame.: A Novel</td>\n",
       "      <td>Visit Amazon's Lolita Files Page</td>\n",
       "    </tr>\n",
       "  </tbody>\n",
       "</table>\n",
       "</div>"
      ],
      "text/plain": [
       "         asin                                              title  \\\n",
       "0  0011300000  Genuine Geovision 1 Channel 3rd Party NVR IP S...   \n",
       "1  0043396828  Books \"Handbook of Astronomical Image Processi...   \n",
       "2  0060009810                                     One Hot Summer   \n",
       "3  0060219602  Hurray for Hattie Rabbit: Story and pictures (...   \n",
       "4  0060786817                     sex.lies.murder.fame.: A Novel   \n",
       "\n",
       "                                          brand  \n",
       "0                                     GeoVision  \n",
       "1                                  33 Books Co.  \n",
       "2  Visit Amazon's Carolina Garcia Aguilera Page  \n",
       "3           Visit Amazon's Dick Gackenbach Page  \n",
       "4              Visit Amazon's Lolita Files Page  "
      ]
     },
     "execution_count": 7,
     "metadata": {},
     "output_type": "execute_result"
    }
   ],
   "source": [
    "df_meta.head()"
   ]
  },
  {
   "cell_type": "markdown",
   "id": "2335edb9",
   "metadata": {},
   "source": [
    "***"
   ]
  },
  {
   "cell_type": "markdown",
   "id": "53a4886d",
   "metadata": {},
   "source": [
    "# Merge Data and Metadata on asin"
   ]
  },
  {
   "cell_type": "code",
   "execution_count": 8,
   "id": "551b3102",
   "metadata": {
    "scrolled": false
   },
   "outputs": [
    {
     "data": {
      "text/plain": [
       "(3023754, 11)"
      ]
     },
     "execution_count": 8,
     "metadata": {},
     "output_type": "execute_result"
    }
   ],
   "source": [
    "joined = pd.merge(df, df_meta, on='asin')\n",
    "joined.shape"
   ]
  },
  {
   "cell_type": "code",
   "execution_count": 10,
   "id": "488a1cda",
   "metadata": {},
   "outputs": [
    {
     "data": {
      "text/plain": [
       "101323"
      ]
     },
     "execution_count": 10,
     "metadata": {},
     "output_type": "execute_result"
    }
   ],
   "source": [
    "joined.shape[0]-df.shape[0]"
   ]
  },
  {
   "cell_type": "code",
   "execution_count": 11,
   "id": "020bff6e",
   "metadata": {},
   "outputs": [
    {
     "data": {
      "text/html": [
       "<div>\n",
       "<style scoped>\n",
       "    .dataframe tbody tr th:only-of-type {\n",
       "        vertical-align: middle;\n",
       "    }\n",
       "\n",
       "    .dataframe tbody tr th {\n",
       "        vertical-align: top;\n",
       "    }\n",
       "\n",
       "    .dataframe thead th {\n",
       "        text-align: right;\n",
       "    }\n",
       "</style>\n",
       "<table border=\"1\" class=\"dataframe\">\n",
       "  <thead>\n",
       "    <tr style=\"text-align: right;\">\n",
       "      <th></th>\n",
       "      <th>overall</th>\n",
       "      <th>verified</th>\n",
       "      <th>reviewTime</th>\n",
       "      <th>asin</th>\n",
       "      <th>reviewerName</th>\n",
       "      <th>reviewText</th>\n",
       "      <th>summary</th>\n",
       "      <th>sentiment</th>\n",
       "      <th>year</th>\n",
       "      <th>title</th>\n",
       "      <th>brand</th>\n",
       "    </tr>\n",
       "  </thead>\n",
       "  <tbody>\n",
       "    <tr>\n",
       "      <th>1107040</th>\n",
       "      <td>2.0</td>\n",
       "      <td>True</td>\n",
       "      <td>12 27, 2014</td>\n",
       "      <td>B0071V3B0W</td>\n",
       "      <td>Lucretia Parker</td>\n",
       "      <td>constantli loos bluetooth earpiec hate someth ...</td>\n",
       "      <td>good bad ugli</td>\n",
       "      <td>0</td>\n",
       "      <td>2014</td>\n",
       "      <td>Azeca AZM04 Clip On Bluetooth Headset with Ret...</td>\n",
       "      <td>Azeca</td>\n",
       "    </tr>\n",
       "    <tr>\n",
       "      <th>2945579</th>\n",
       "      <td>5.0</td>\n",
       "      <td>True</td>\n",
       "      <td>03 11, 2014</td>\n",
       "      <td>B00FJW12TM</td>\n",
       "      <td>Patricia Nugent</td>\n",
       "      <td>love took month receiv china orang instead pur...</td>\n",
       "      <td>good news bad news</td>\n",
       "      <td>1</td>\n",
       "      <td>2014</td>\n",
       "      <td>Semi-Purple Ultra Thin Silicone Gel Keyboard P...</td>\n",
       "      <td>Live2Pedal</td>\n",
       "    </tr>\n",
       "    <tr>\n",
       "      <th>1764824</th>\n",
       "      <td>5.0</td>\n",
       "      <td>True</td>\n",
       "      <td>10 29, 2014</td>\n",
       "      <td>B00CP4J7OY</td>\n",
       "      <td>gagirl</td>\n",
       "      <td>great leappad love recharg pack must</td>\n",
       "      <td>five star</td>\n",
       "      <td>1</td>\n",
       "      <td>2014</td>\n",
       "      <td>LeapFrog LeapPad2 Power Learning Tablet, Green</td>\n",
       "      <td>LeapFrog</td>\n",
       "    </tr>\n",
       "    <tr>\n",
       "      <th>748249</th>\n",
       "      <td>5.0</td>\n",
       "      <td>True</td>\n",
       "      <td>07 29, 2014</td>\n",
       "      <td>B004G7D0EG</td>\n",
       "      <td>Kenneth Barnes</td>\n",
       "      <td>got exactli order perfect</td>\n",
       "      <td>awesom</td>\n",
       "      <td>1</td>\n",
       "      <td>2014</td>\n",
       "      <td>SanDisk 32GB MicroSDHC High Speed Class 4 Card...</td>\n",
       "      <td>SanDisk</td>\n",
       "    </tr>\n",
       "    <tr>\n",
       "      <th>2320875</th>\n",
       "      <td>3.0</td>\n",
       "      <td>False</td>\n",
       "      <td>09 7, 2014</td>\n",
       "      <td>B00HQ883QW</td>\n",
       "      <td>hassan albaghli</td>\n",
       "      <td>unfortun work expect alway need restart work p...</td>\n",
       "      <td>unfortun</td>\n",
       "      <td>1</td>\n",
       "      <td>2014</td>\n",
       "      <td>NETGEAR AC1200 Wireless WiFi Range Extender (E...</td>\n",
       "      <td>NETGEAR</td>\n",
       "    </tr>\n",
       "    <tr>\n",
       "      <th>682005</th>\n",
       "      <td>5.0</td>\n",
       "      <td>True</td>\n",
       "      <td>03 6, 2014</td>\n",
       "      <td>B003ZJ7ETI</td>\n",
       "      <td>Clarence Powers</td>\n",
       "      <td>cabl purchas work well whole experi process po...</td>\n",
       "      <td>purchas f optic digit cabl</td>\n",
       "      <td>1</td>\n",
       "      <td>2014</td>\n",
       "      <td>TOSLink Optical Digital Audio Cable SPDIF Dolb...</td>\n",
       "      <td>Cmple</td>\n",
       "    </tr>\n",
       "    <tr>\n",
       "      <th>151082</th>\n",
       "      <td>5.0</td>\n",
       "      <td>True</td>\n",
       "      <td>08 8, 2014</td>\n",
       "      <td>B000219896</td>\n",
       "      <td>mcgman</td>\n",
       "      <td>work great travel daughter friend like watch m...</td>\n",
       "      <td>perfect trip</td>\n",
       "      <td>1</td>\n",
       "      <td>2014</td>\n",
       "      <td>Boostaroo Portable Amplifier - Clear</td>\n",
       "      <td>ThinkGeek</td>\n",
       "    </tr>\n",
       "    <tr>\n",
       "      <th>1976737</th>\n",
       "      <td>5.0</td>\n",
       "      <td>False</td>\n",
       "      <td>06 11, 2014</td>\n",
       "      <td>B00ECQUY2M</td>\n",
       "      <td>icykyl</td>\n",
       "      <td>walkman e decid die one day year half honestli...</td>\n",
       "      <td>somewhat downgrad not decis</td>\n",
       "      <td>1</td>\n",
       "      <td>2014</td>\n",
       "      <td>Sony NWZE385 16 GB Walkman MP3 Video Player (B...</td>\n",
       "      <td>Sony</td>\n",
       "    </tr>\n",
       "    <tr>\n",
       "      <th>554112</th>\n",
       "      <td>4.0</td>\n",
       "      <td>True</td>\n",
       "      <td>12 9, 2014</td>\n",
       "      <td>B0028N6VN2</td>\n",
       "      <td>Morghanna</td>\n",
       "      <td>usual linksi instal easili work well</td>\n",
       "      <td>good router</td>\n",
       "      <td>1</td>\n",
       "      <td>2014</td>\n",
       "      <td>Linksys Wireless-N PCI Adapter with Dual-Band ...</td>\n",
       "      <td>Linksys</td>\n",
       "    </tr>\n",
       "    <tr>\n",
       "      <th>2302280</th>\n",
       "      <td>5.0</td>\n",
       "      <td>True</td>\n",
       "      <td>06 28, 2014</td>\n",
       "      <td>B00HI154M8</td>\n",
       "      <td>Bryan</td>\n",
       "      <td>advertis great product</td>\n",
       "      <td>great product</td>\n",
       "      <td>1</td>\n",
       "      <td>2014</td>\n",
       "      <td>Loopilops Lightning Cable, Apple Certified MFI...</td>\n",
       "      <td>Loopilops</td>\n",
       "    </tr>\n",
       "  </tbody>\n",
       "</table>\n",
       "</div>"
      ],
      "text/plain": [
       "         overall  verified   reviewTime        asin     reviewerName  \\\n",
       "1107040      2.0      True  12 27, 2014  B0071V3B0W  Lucretia Parker   \n",
       "2945579      5.0      True  03 11, 2014  B00FJW12TM  Patricia Nugent   \n",
       "1764824      5.0      True  10 29, 2014  B00CP4J7OY           gagirl   \n",
       "748249       5.0      True  07 29, 2014  B004G7D0EG   Kenneth Barnes   \n",
       "2320875      3.0     False   09 7, 2014  B00HQ883QW  hassan albaghli   \n",
       "682005       5.0      True   03 6, 2014  B003ZJ7ETI  Clarence Powers   \n",
       "151082       5.0      True   08 8, 2014  B000219896           mcgman   \n",
       "1976737      5.0     False  06 11, 2014  B00ECQUY2M           icykyl   \n",
       "554112       4.0      True   12 9, 2014  B0028N6VN2        Morghanna   \n",
       "2302280      5.0      True  06 28, 2014  B00HI154M8            Bryan   \n",
       "\n",
       "                                                reviewText  \\\n",
       "1107040  constantli loos bluetooth earpiec hate someth ...   \n",
       "2945579  love took month receiv china orang instead pur...   \n",
       "1764824               great leappad love recharg pack must   \n",
       "748249                           got exactli order perfect   \n",
       "2320875  unfortun work expect alway need restart work p...   \n",
       "682005   cabl purchas work well whole experi process po...   \n",
       "151082   work great travel daughter friend like watch m...   \n",
       "1976737  walkman e decid die one day year half honestli...   \n",
       "554112                usual linksi instal easili work well   \n",
       "2302280                             advertis great product   \n",
       "\n",
       "                             summary  sentiment  year  \\\n",
       "1107040                good bad ugli          0  2014   \n",
       "2945579           good news bad news          1  2014   \n",
       "1764824                    five star          1  2014   \n",
       "748249                        awesom          1  2014   \n",
       "2320875                     unfortun          1  2014   \n",
       "682005    purchas f optic digit cabl          1  2014   \n",
       "151082                  perfect trip          1  2014   \n",
       "1976737  somewhat downgrad not decis          1  2014   \n",
       "554112                   good router          1  2014   \n",
       "2302280                great product          1  2014   \n",
       "\n",
       "                                                     title       brand  \n",
       "1107040  Azeca AZM04 Clip On Bluetooth Headset with Ret...       Azeca  \n",
       "2945579  Semi-Purple Ultra Thin Silicone Gel Keyboard P...  Live2Pedal  \n",
       "1764824     LeapFrog LeapPad2 Power Learning Tablet, Green    LeapFrog  \n",
       "748249   SanDisk 32GB MicroSDHC High Speed Class 4 Card...     SanDisk  \n",
       "2320875  NETGEAR AC1200 Wireless WiFi Range Extender (E...     NETGEAR  \n",
       "682005   TOSLink Optical Digital Audio Cable SPDIF Dolb...       Cmple  \n",
       "151082                Boostaroo Portable Amplifier - Clear   ThinkGeek  \n",
       "1976737  Sony NWZE385 16 GB Walkman MP3 Video Player (B...        Sony  \n",
       "554112   Linksys Wireless-N PCI Adapter with Dual-Band ...     Linksys  \n",
       "2302280  Loopilops Lightning Cable, Apple Certified MFI...   Loopilops  "
      ]
     },
     "execution_count": 11,
     "metadata": {},
     "output_type": "execute_result"
    }
   ],
   "source": [
    "joined.sample(10)"
   ]
  },
  {
   "cell_type": "code",
   "execution_count": 12,
   "id": "01212cbe",
   "metadata": {},
   "outputs": [
    {
     "name": "stdout",
     "output_type": "stream",
     "text": [
      "Number of NaN values present: 18303\n"
     ]
    }
   ],
   "source": [
    "# total the number of NaN rows\n",
    "nan_in_df = joined.isnull().sum().sum()\n",
    "  \n",
    "# printing the number of NaN values present in the whole dataframe\n",
    "print('Number of NaN values present: ' + str(nan_in_df))"
   ]
  },
  {
   "cell_type": "code",
   "execution_count": 13,
   "id": "e26cbd92",
   "metadata": {},
   "outputs": [
    {
     "name": "stdout",
     "output_type": "stream",
     "text": [
      "NaN in overall: 0\n",
      "NaN in verified: 0\n",
      "NaN in reviewTime: 0\n",
      "NaN in asin: 0\n",
      "NaN in reviewerName: 0\n",
      "NaN in reviewText: 3527\n",
      "NaN in summary: 7204\n",
      "NaN in sentiment: 0\n",
      "NaN in year: 0\n",
      "NaN in title: 12\n",
      "NaN in brand: 7560\n"
     ]
    }
   ],
   "source": [
    "# Count the number of NaN in each column\n",
    "for row in joined.columns:\n",
    "    nan_in_df = joined[row].isnull().sum().sum()\n",
    "    print('NaN in ' + row + ': ' + str(nan_in_df))"
   ]
  },
  {
   "cell_type": "code",
   "execution_count": 14,
   "id": "072df81c",
   "metadata": {},
   "outputs": [],
   "source": [
    "# drop NaN rows\n",
    "joined = joined.dropna()"
   ]
  },
  {
   "cell_type": "code",
   "execution_count": 15,
   "id": "de901435",
   "metadata": {
    "scrolled": true
   },
   "outputs": [
    {
     "name": "stdout",
     "output_type": "stream",
     "text": [
      "Number of NaN values present: 0\n"
     ]
    }
   ],
   "source": [
    "# total the number of NaN rows\n",
    "nan_in_df = joined.isnull().sum().sum()\n",
    "  \n",
    "# printing the number of NaN values present in the whole dataframe\n",
    "print('Number of NaN values present: ' + str(nan_in_df))"
   ]
  },
  {
   "cell_type": "code",
   "execution_count": 64,
   "id": "deb338e4",
   "metadata": {},
   "outputs": [],
   "source": [
    "products = pd.read_csv('CSV_completed/product_match.csv', sep='\\t')"
   ]
  },
  {
   "cell_type": "code",
   "execution_count": 65,
   "id": "40d7a6dd",
   "metadata": {},
   "outputs": [
    {
     "data": {
      "text/html": [
       "<div>\n",
       "<style scoped>\n",
       "    .dataframe tbody tr th:only-of-type {\n",
       "        vertical-align: middle;\n",
       "    }\n",
       "\n",
       "    .dataframe tbody tr th {\n",
       "        vertical-align: top;\n",
       "    }\n",
       "\n",
       "    .dataframe thead th {\n",
       "        text-align: right;\n",
       "    }\n",
       "</style>\n",
       "<table border=\"1\" class=\"dataframe\">\n",
       "  <thead>\n",
       "    <tr style=\"text-align: right;\">\n",
       "      <th></th>\n",
       "      <th>sams_name</th>\n",
       "      <th>amazon_name</th>\n",
       "      <th>score</th>\n",
       "    </tr>\n",
       "  </thead>\n",
       "  <tbody>\n",
       "    <tr>\n",
       "      <th>0</th>\n",
       "      <td>CG PORT CHARGER LRG</td>\n",
       "      <td>Charger</td>\n",
       "      <td>90</td>\n",
       "    </tr>\n",
       "    <tr>\n",
       "      <th>1</th>\n",
       "      <td>INCIPIO FEATHER</td>\n",
       "      <td>Incipio Feather Case for Microsoft Surface Pro...</td>\n",
       "      <td>90</td>\n",
       "    </tr>\n",
       "    <tr>\n",
       "      <th>2</th>\n",
       "      <td>LG LUCID</td>\n",
       "      <td>Black Micro Bluetooth Hands Free Heaphone For ...</td>\n",
       "      <td>90</td>\n",
       "    </tr>\n",
       "    <tr>\n",
       "      <th>3</th>\n",
       "      <td>SOUND RUSH</td>\n",
       "      <td>Panasonic RP-HXS200M-K Sound Rush On-Ear Headp...</td>\n",
       "      <td>90</td>\n",
       "    </tr>\n",
       "    <tr>\n",
       "      <th>4</th>\n",
       "      <td>DELL INSPIRON 11</td>\n",
       "      <td>Dell Inspiron 1150</td>\n",
       "      <td>94</td>\n",
       "    </tr>\n",
       "  </tbody>\n",
       "</table>\n",
       "</div>"
      ],
      "text/plain": [
       "              sams_name                                        amazon_name  \\\n",
       "0  CG PORT CHARGER LRG                                             Charger   \n",
       "1  INCIPIO FEATHER       Incipio Feather Case for Microsoft Surface Pro...   \n",
       "2  LG LUCID              Black Micro Bluetooth Hands Free Heaphone For ...   \n",
       "3  SOUND RUSH            Panasonic RP-HXS200M-K Sound Rush On-Ear Headp...   \n",
       "4  DELL INSPIRON 11                                     Dell Inspiron 1150   \n",
       "\n",
       "   score  \n",
       "0     90  \n",
       "1     90  \n",
       "2     90  \n",
       "3     90  \n",
       "4     94  "
      ]
     },
     "execution_count": 65,
     "metadata": {},
     "output_type": "execute_result"
    }
   ],
   "source": [
    "products.head()"
   ]
  },
  {
   "cell_type": "code",
   "execution_count": 66,
   "id": "c118302f",
   "metadata": {},
   "outputs": [
    {
     "data": {
      "text/plain": [
       "(31, 3)"
      ]
     },
     "execution_count": 66,
     "metadata": {},
     "output_type": "execute_result"
    }
   ],
   "source": [
    "products.shape"
   ]
  },
  {
   "cell_type": "markdown",
   "id": "ba8d86a1",
   "metadata": {},
   "source": [
    "## Filter joined dataset using matching products list"
   ]
  },
  {
   "cell_type": "code",
   "execution_count": 67,
   "id": "1bfabbc5",
   "metadata": {},
   "outputs": [],
   "source": [
    "prod_match = joined[joined['title'].isin(products['amazon_name'])]"
   ]
  },
  {
   "cell_type": "code",
   "execution_count": 68,
   "id": "6880cc52",
   "metadata": {},
   "outputs": [
    {
     "data": {
      "text/plain": [
       "(189, 11)"
      ]
     },
     "execution_count": 68,
     "metadata": {},
     "output_type": "execute_result"
    }
   ],
   "source": [
    "prod_match.shape"
   ]
  },
  {
   "cell_type": "code",
   "execution_count": 69,
   "id": "bd324c2f",
   "metadata": {},
   "outputs": [
    {
     "data": {
      "text/html": [
       "<div>\n",
       "<style scoped>\n",
       "    .dataframe tbody tr th:only-of-type {\n",
       "        vertical-align: middle;\n",
       "    }\n",
       "\n",
       "    .dataframe tbody tr th {\n",
       "        vertical-align: top;\n",
       "    }\n",
       "\n",
       "    .dataframe thead th {\n",
       "        text-align: right;\n",
       "    }\n",
       "</style>\n",
       "<table border=\"1\" class=\"dataframe\">\n",
       "  <thead>\n",
       "    <tr style=\"text-align: right;\">\n",
       "      <th></th>\n",
       "      <th>overall</th>\n",
       "      <th>verified</th>\n",
       "      <th>reviewTime</th>\n",
       "      <th>asin</th>\n",
       "      <th>reviewerName</th>\n",
       "      <th>reviewText</th>\n",
       "      <th>summary</th>\n",
       "      <th>sentiment</th>\n",
       "      <th>year</th>\n",
       "      <th>title</th>\n",
       "      <th>brand</th>\n",
       "    </tr>\n",
       "  </thead>\n",
       "  <tbody>\n",
       "    <tr>\n",
       "      <th>1745593</th>\n",
       "      <td>4.0</td>\n",
       "      <td>True</td>\n",
       "      <td>10 17, 2014</td>\n",
       "      <td>B00CKX7VMK</td>\n",
       "      <td>Jeffrey Danowitz</td>\n",
       "      <td>surpris easi use clear speech even outdoor win...</td>\n",
       "      <td>better expect</td>\n",
       "      <td>1</td>\n",
       "      <td>2014</td>\n",
       "      <td>Etymotic QSA Personal Sound Amplifier, Platinu...</td>\n",
       "      <td>Etymotic Research</td>\n",
       "    </tr>\n",
       "    <tr>\n",
       "      <th>1745594</th>\n",
       "      <td>3.0</td>\n",
       "      <td>False</td>\n",
       "      <td>10 13, 2014</td>\n",
       "      <td>B00CKX7VMK</td>\n",
       "      <td>Suzan T.</td>\n",
       "      <td>not comfort ear</td>\n",
       "      <td>three star</td>\n",
       "      <td>1</td>\n",
       "      <td>2014</td>\n",
       "      <td>Etymotic QSA Personal Sound Amplifier, Platinu...</td>\n",
       "      <td>Etymotic Research</td>\n",
       "    </tr>\n",
       "    <tr>\n",
       "      <th>1745595</th>\n",
       "      <td>5.0</td>\n",
       "      <td>True</td>\n",
       "      <td>09 19, 2014</td>\n",
       "      <td>B00CKX7VMK</td>\n",
       "      <td>LSB16</td>\n",
       "      <td>good better two sieman year ago</td>\n",
       "      <td>five star</td>\n",
       "      <td>1</td>\n",
       "      <td>2014</td>\n",
       "      <td>Etymotic QSA Personal Sound Amplifier, Platinu...</td>\n",
       "      <td>Etymotic Research</td>\n",
       "    </tr>\n",
       "    <tr>\n",
       "      <th>1745596</th>\n",
       "      <td>1.0</td>\n",
       "      <td>True</td>\n",
       "      <td>09 3, 2014</td>\n",
       "      <td>B00CKX7VMK</td>\n",
       "      <td>S. Murphy</td>\n",
       "      <td>bought mom good review disappoint tri first on...</td>\n",
       "      <td>bought mom good review disappoint</td>\n",
       "      <td>0</td>\n",
       "      <td>2014</td>\n",
       "      <td>Etymotic QSA Personal Sound Amplifier, Platinu...</td>\n",
       "      <td>Etymotic Research</td>\n",
       "    </tr>\n",
       "    <tr>\n",
       "      <th>1745597</th>\n",
       "      <td>2.0</td>\n",
       "      <td>True</td>\n",
       "      <td>07 30, 2014</td>\n",
       "      <td>B00CKX7VMK</td>\n",
       "      <td>JED</td>\n",
       "      <td>disappoint bean person sound amplifi hard get ...</td>\n",
       "      <td>disappoint bean person sound amplifi</td>\n",
       "      <td>0</td>\n",
       "      <td>2014</td>\n",
       "      <td>Etymotic QSA Personal Sound Amplifier, Platinu...</td>\n",
       "      <td>Etymotic Research</td>\n",
       "    </tr>\n",
       "  </tbody>\n",
       "</table>\n",
       "</div>"
      ],
      "text/plain": [
       "         overall  verified   reviewTime        asin      reviewerName  \\\n",
       "1745593      4.0      True  10 17, 2014  B00CKX7VMK  Jeffrey Danowitz   \n",
       "1745594      3.0     False  10 13, 2014  B00CKX7VMK          Suzan T.   \n",
       "1745595      5.0      True  09 19, 2014  B00CKX7VMK             LSB16   \n",
       "1745596      1.0      True   09 3, 2014  B00CKX7VMK         S. Murphy   \n",
       "1745597      2.0      True  07 30, 2014  B00CKX7VMK               JED   \n",
       "\n",
       "                                                reviewText  \\\n",
       "1745593  surpris easi use clear speech even outdoor win...   \n",
       "1745594                                    not comfort ear   \n",
       "1745595                    good better two sieman year ago   \n",
       "1745596  bought mom good review disappoint tri first on...   \n",
       "1745597  disappoint bean person sound amplifi hard get ...   \n",
       "\n",
       "                                      summary  sentiment  year  \\\n",
       "1745593                         better expect          1  2014   \n",
       "1745594                            three star          1  2014   \n",
       "1745595                             five star          1  2014   \n",
       "1745596     bought mom good review disappoint          0  2014   \n",
       "1745597  disappoint bean person sound amplifi          0  2014   \n",
       "\n",
       "                                                     title              brand  \n",
       "1745593  Etymotic QSA Personal Sound Amplifier, Platinu...  Etymotic Research  \n",
       "1745594  Etymotic QSA Personal Sound Amplifier, Platinu...  Etymotic Research  \n",
       "1745595  Etymotic QSA Personal Sound Amplifier, Platinu...  Etymotic Research  \n",
       "1745596  Etymotic QSA Personal Sound Amplifier, Platinu...  Etymotic Research  \n",
       "1745597  Etymotic QSA Personal Sound Amplifier, Platinu...  Etymotic Research  "
      ]
     },
     "execution_count": 69,
     "metadata": {},
     "output_type": "execute_result"
    }
   ],
   "source": [
    "prod_match.head()"
   ]
  },
  {
   "cell_type": "markdown",
   "id": "5b0e0baa",
   "metadata": {},
   "source": [
    "## Data Cleaning"
   ]
  },
  {
   "cell_type": "code",
   "execution_count": 70,
   "id": "52821b01",
   "metadata": {},
   "outputs": [
    {
     "name": "stderr",
     "output_type": "stream",
     "text": [
      "[nltk_data] Downloading package stopwords to\n",
      "[nltk_data]     /Users/robbyjeffries/nltk_data...\n",
      "[nltk_data]   Package stopwords is already up-to-date!\n"
     ]
    }
   ],
   "source": [
    "import re\n",
    "import nltk\n",
    "\n",
    "nltk.download('stopwords')\n",
    "\n",
    "from nltk.corpus import stopwords\n",
    "from nltk.stem.porter import PorterStemmer\n",
    "ps = PorterStemmer()\n",
    "\n",
    "all_stopwords = stopwords.words('english')\n",
    "all_stopwords.remove('not')"
   ]
  },
  {
   "cell_type": "code",
   "execution_count": 71,
   "id": "696508dc",
   "metadata": {},
   "outputs": [],
   "source": [
    "def clean(x):\n",
    "    review = re.sub('[^a-zA-Z]', ' ', x)\n",
    "    #review = re.sub('~', ' ', df['reviewText'][i])\n",
    "    review = review.lower()\n",
    "    review = review.split()\n",
    "    review = [ps.stem(word) for word in review if not word in set(all_stopwords)]\n",
    "    review = ' '.join(review)\n",
    "    return review"
   ]
  },
  {
   "cell_type": "code",
   "execution_count": 72,
   "id": "2c569780",
   "metadata": {},
   "outputs": [
    {
     "data": {
      "text/plain": [
       "'surpri easi use clear speech even outdoor wind level allow hear tabl crowd restaur parti satisfi bean left ear batteri last use time drawback phone'"
      ]
     },
     "execution_count": 72,
     "metadata": {},
     "output_type": "execute_result"
    }
   ],
   "source": [
    "clean(prod_match['reviewText'].values[0])"
   ]
  },
  {
   "cell_type": "code",
   "execution_count": 73,
   "id": "ce585c21",
   "metadata": {},
   "outputs": [
    {
     "name": "stderr",
     "output_type": "stream",
     "text": [
      "/var/folders/c9/z8kjq8qs15n6nq0dr7vdg5640000gn/T/ipykernel_64413/3496369203.py:1: SettingWithCopyWarning: \n",
      "A value is trying to be set on a copy of a slice from a DataFrame.\n",
      "Try using .loc[row_indexer,col_indexer] = value instead\n",
      "\n",
      "See the caveats in the documentation: https://pandas.pydata.org/pandas-docs/stable/user_guide/indexing.html#returning-a-view-versus-a-copy\n",
      "  prod_match['reviewText'] = prod_match['reviewText'].apply(lambda x: clean(x))\n"
     ]
    }
   ],
   "source": [
    "prod_match['reviewText'] = prod_match['reviewText'].apply(lambda x: clean(x))"
   ]
  },
  {
   "cell_type": "code",
   "execution_count": 74,
   "id": "3f66d600",
   "metadata": {},
   "outputs": [
    {
     "name": "stderr",
     "output_type": "stream",
     "text": [
      "/var/folders/c9/z8kjq8qs15n6nq0dr7vdg5640000gn/T/ipykernel_64413/3491007709.py:1: SettingWithCopyWarning: \n",
      "A value is trying to be set on a copy of a slice from a DataFrame.\n",
      "Try using .loc[row_indexer,col_indexer] = value instead\n",
      "\n",
      "See the caveats in the documentation: https://pandas.pydata.org/pandas-docs/stable/user_guide/indexing.html#returning-a-view-versus-a-copy\n",
      "  prod_match['summary'] = prod_match['summary'].apply(lambda x: clean(x))\n"
     ]
    }
   ],
   "source": [
    "prod_match['summary'] = prod_match['summary'].apply(lambda x: clean(x))"
   ]
  },
  {
   "cell_type": "code",
   "execution_count": 75,
   "id": "7f6ec2f2",
   "metadata": {
    "scrolled": true
   },
   "outputs": [
    {
     "data": {
      "text/html": [
       "<div>\n",
       "<style scoped>\n",
       "    .dataframe tbody tr th:only-of-type {\n",
       "        vertical-align: middle;\n",
       "    }\n",
       "\n",
       "    .dataframe tbody tr th {\n",
       "        vertical-align: top;\n",
       "    }\n",
       "\n",
       "    .dataframe thead th {\n",
       "        text-align: right;\n",
       "    }\n",
       "</style>\n",
       "<table border=\"1\" class=\"dataframe\">\n",
       "  <thead>\n",
       "    <tr style=\"text-align: right;\">\n",
       "      <th></th>\n",
       "      <th>overall</th>\n",
       "      <th>verified</th>\n",
       "      <th>reviewTime</th>\n",
       "      <th>asin</th>\n",
       "      <th>reviewerName</th>\n",
       "      <th>reviewText</th>\n",
       "      <th>summary</th>\n",
       "      <th>sentiment</th>\n",
       "      <th>year</th>\n",
       "      <th>title</th>\n",
       "      <th>brand</th>\n",
       "    </tr>\n",
       "  </thead>\n",
       "  <tbody>\n",
       "    <tr>\n",
       "      <th>2222967</th>\n",
       "      <td>5.0</td>\n",
       "      <td>True</td>\n",
       "      <td>12 25, 2014</td>\n",
       "      <td>B00GK6DMW6</td>\n",
       "      <td>Axel</td>\n",
       "      <td>ivdont know bad review cover mine fit perfectl...</td>\n",
       "      <td>ivdont know bad review cover</td>\n",
       "      <td>1</td>\n",
       "      <td>2014</td>\n",
       "      <td>Incipio Feather Case for Microsoft Surface Pro...</td>\n",
       "      <td>Incipio</td>\n",
       "    </tr>\n",
       "    <tr>\n",
       "      <th>2970621</th>\n",
       "      <td>5.0</td>\n",
       "      <td>True</td>\n",
       "      <td>01 4, 2014</td>\n",
       "      <td>B00HJBX8NE</td>\n",
       "      <td>Holly Odenbaugh</td>\n",
       "      <td>love comput end get charger anoth person work ...</td>\n",
       "      <td>great</td>\n",
       "      <td>1</td>\n",
       "      <td>2014</td>\n",
       "      <td>Dell Inspiron 1150</td>\n",
       "      <td>Dell</td>\n",
       "    </tr>\n",
       "    <tr>\n",
       "      <th>1745594</th>\n",
       "      <td>3.0</td>\n",
       "      <td>False</td>\n",
       "      <td>10 13, 2014</td>\n",
       "      <td>B00CKX7VMK</td>\n",
       "      <td>Suzan T.</td>\n",
       "      <td>not comfort ear</td>\n",
       "      <td>three star</td>\n",
       "      <td>1</td>\n",
       "      <td>2014</td>\n",
       "      <td>Etymotic QSA Personal Sound Amplifier, Platinu...</td>\n",
       "      <td>Etymotic Research</td>\n",
       "    </tr>\n",
       "    <tr>\n",
       "      <th>1746294</th>\n",
       "      <td>5.0</td>\n",
       "      <td>True</td>\n",
       "      <td>05 29, 2014</td>\n",
       "      <td>B00CL6TKQ6</td>\n",
       "      <td>JMR</td>\n",
       "      <td>exactli order deliv quickli work perfectli wou...</td>\n",
       "      <td>order</td>\n",
       "      <td>1</td>\n",
       "      <td>2014</td>\n",
       "      <td>Charger</td>\n",
       "      <td>ZhiZhu</td>\n",
       "    </tr>\n",
       "    <tr>\n",
       "      <th>2223019</th>\n",
       "      <td>1.0</td>\n",
       "      <td>True</td>\n",
       "      <td>03 29, 2014</td>\n",
       "      <td>B00GK6DMW6</td>\n",
       "      <td>darok2</td>\n",
       "      <td>would love give product good rate clear use ma...</td>\n",
       "      <td>warp kickstand surfac pro</td>\n",
       "      <td>0</td>\n",
       "      <td>2014</td>\n",
       "      <td>Incipio Feather Case for Microsoft Surface Pro...</td>\n",
       "      <td>Incipio</td>\n",
       "    </tr>\n",
       "    <tr>\n",
       "      <th>1746326</th>\n",
       "      <td>5.0</td>\n",
       "      <td>False</td>\n",
       "      <td>08 16, 2014</td>\n",
       "      <td>B00CL6TKQ6</td>\n",
       "      <td>Jose</td>\n",
       "      <td>good</td>\n",
       "      <td>five star</td>\n",
       "      <td>1</td>\n",
       "      <td>2014</td>\n",
       "      <td>Charger</td>\n",
       "      <td>ZhiZhu</td>\n",
       "    </tr>\n",
       "    <tr>\n",
       "      <th>3016090</th>\n",
       "      <td>1.0</td>\n",
       "      <td>True</td>\n",
       "      <td>11 30, 2014</td>\n",
       "      <td>B00NKEUHEW</td>\n",
       "      <td>Kevin Wagoner</td>\n",
       "      <td>junk</td>\n",
       "      <td>one star</td>\n",
       "      <td>0</td>\n",
       "      <td>2014</td>\n",
       "      <td>inDigi Bluetooth Smart Watch Phone For iPhone ...</td>\n",
       "      <td>inDigi</td>\n",
       "    </tr>\n",
       "    <tr>\n",
       "      <th>2275514</th>\n",
       "      <td>3.0</td>\n",
       "      <td>True</td>\n",
       "      <td>10 4, 2014</td>\n",
       "      <td>B00H4FFHYS</td>\n",
       "      <td>MaryEl</td>\n",
       "      <td>easi chang middl space bar terribl hit right p...</td>\n",
       "      <td>easi chang</td>\n",
       "      <td>1</td>\n",
       "      <td>2014</td>\n",
       "      <td>Dell Inspiron 15 (3521 / 5521) Laptop Keyboard...</td>\n",
       "      <td>Dell</td>\n",
       "    </tr>\n",
       "    <tr>\n",
       "      <th>2275521</th>\n",
       "      <td>1.0</td>\n",
       "      <td>True</td>\n",
       "      <td>05 16, 2014</td>\n",
       "      <td>B00H4FFHYS</td>\n",
       "      <td>Amazon Customer</td>\n",
       "      <td>unlik origin keyboard replac issu space bar re...</td>\n",
       "      <td>bewar</td>\n",
       "      <td>0</td>\n",
       "      <td>2014</td>\n",
       "      <td>Dell Inspiron 15 (3521 / 5521) Laptop Keyboard...</td>\n",
       "      <td>Dell</td>\n",
       "    </tr>\n",
       "    <tr>\n",
       "      <th>2965997</th>\n",
       "      <td>5.0</td>\n",
       "      <td>False</td>\n",
       "      <td>08 15, 2014</td>\n",
       "      <td>B00H76ENFI</td>\n",
       "      <td>Rami</td>\n",
       "      <td>amazingli fast gb flash drive happier get soli...</td>\n",
       "      <td>great flash drive</td>\n",
       "      <td>1</td>\n",
       "      <td>2014</td>\n",
       "      <td>ULTRA 64GB Flash Drive</td>\n",
       "      <td>Ultra</td>\n",
       "    </tr>\n",
       "  </tbody>\n",
       "</table>\n",
       "</div>"
      ],
      "text/plain": [
       "         overall  verified   reviewTime        asin     reviewerName  \\\n",
       "2222967      5.0      True  12 25, 2014  B00GK6DMW6             Axel   \n",
       "2970621      5.0      True   01 4, 2014  B00HJBX8NE  Holly Odenbaugh   \n",
       "1745594      3.0     False  10 13, 2014  B00CKX7VMK         Suzan T.   \n",
       "1746294      5.0      True  05 29, 2014  B00CL6TKQ6              JMR   \n",
       "2223019      1.0      True  03 29, 2014  B00GK6DMW6           darok2   \n",
       "1746326      5.0     False  08 16, 2014  B00CL6TKQ6             Jose   \n",
       "3016090      1.0      True  11 30, 2014  B00NKEUHEW    Kevin Wagoner   \n",
       "2275514      3.0      True   10 4, 2014  B00H4FFHYS           MaryEl   \n",
       "2275521      1.0      True  05 16, 2014  B00H4FFHYS  Amazon Customer   \n",
       "2965997      5.0     False  08 15, 2014  B00H76ENFI             Rami   \n",
       "\n",
       "                                                reviewText  \\\n",
       "2222967  ivdont know bad review cover mine fit perfectl...   \n",
       "2970621  love comput end get charger anoth person work ...   \n",
       "1745594                                    not comfort ear   \n",
       "1746294  exactli order deliv quickli work perfectli wou...   \n",
       "2223019  would love give product good rate clear use ma...   \n",
       "1746326                                               good   \n",
       "3016090                                               junk   \n",
       "2275514  easi chang middl space bar terribl hit right p...   \n",
       "2275521  unlik origin keyboard replac issu space bar re...   \n",
       "2965997  amazingli fast gb flash drive happier get soli...   \n",
       "\n",
       "                              summary  sentiment  year  \\\n",
       "2222967  ivdont know bad review cover          1  2014   \n",
       "2970621                         great          1  2014   \n",
       "1745594                    three star          1  2014   \n",
       "1746294                         order          1  2014   \n",
       "2223019     warp kickstand surfac pro          0  2014   \n",
       "1746326                     five star          1  2014   \n",
       "3016090                      one star          0  2014   \n",
       "2275514                    easi chang          1  2014   \n",
       "2275521                         bewar          0  2014   \n",
       "2965997             great flash drive          1  2014   \n",
       "\n",
       "                                                     title              brand  \n",
       "2222967  Incipio Feather Case for Microsoft Surface Pro...            Incipio  \n",
       "2970621                                 Dell Inspiron 1150               Dell  \n",
       "1745594  Etymotic QSA Personal Sound Amplifier, Platinu...  Etymotic Research  \n",
       "1746294                                            Charger             ZhiZhu  \n",
       "2223019  Incipio Feather Case for Microsoft Surface Pro...            Incipio  \n",
       "1746326                                            Charger             ZhiZhu  \n",
       "3016090  inDigi Bluetooth Smart Watch Phone For iPhone ...             inDigi  \n",
       "2275514  Dell Inspiron 15 (3521 / 5521) Laptop Keyboard...               Dell  \n",
       "2275521  Dell Inspiron 15 (3521 / 5521) Laptop Keyboard...               Dell  \n",
       "2965997                             ULTRA 64GB Flash Drive              Ultra  "
      ]
     },
     "execution_count": 75,
     "metadata": {},
     "output_type": "execute_result"
    }
   ],
   "source": [
    "prod_match.sample(10)"
   ]
  },
  {
   "cell_type": "code",
   "execution_count": 76,
   "id": "137e4ac8",
   "metadata": {},
   "outputs": [],
   "source": [
    "prod_match.to_csv('CSV_completed/Electronics_clean.csv', sep='\\t', index=False)"
   ]
  },
  {
   "cell_type": "markdown",
   "id": "d2334240",
   "metadata": {},
   "source": [
    "## Model Building"
   ]
  },
  {
   "cell_type": "markdown",
   "id": "78acc959",
   "metadata": {},
   "source": [
    "We will use a Support Vector Machine\n",
    "\n",
    "A support vector machine (SVM) is a supervised machine learning model that uses classification algorithms for two-group classification problems. After giving an SVM model sets of labeled training data for each category, they’re able to categorize new text.\n",
    "\n",
    "The basics of Support Vector Machines and how it works are best understood with a simple example. Let’s imagine we have two tags: red and yellow, and our data has two features: x and y. We want a classifier that, given a pair of (x,y) coordinates, outputs if it’s either red or yellow. We plot our already labeled training data on a plane:"
   ]
  },
  {
   "cell_type": "markdown",
   "id": "5cde92d3",
   "metadata": {},
   "source": [
    "**TF-IDF (term frequency-inverse document frequency)** is a statistical measure that evaluates how relevant a word is to a document in a collection of documents."
   ]
  },
  {
   "cell_type": "code",
   "execution_count": 77,
   "id": "27426b81",
   "metadata": {},
   "outputs": [],
   "source": [
    "from sklearn.feature_extraction.text import TfidfVectorizer\n",
    "from sklearn.model_selection import train_test_split\n",
    "from sklearn.svm import SVC\n",
    "from sklearn.metrics import classification_report"
   ]
  },
  {
   "cell_type": "code",
   "execution_count": 87,
   "id": "f2913c5b",
   "metadata": {},
   "outputs": [],
   "source": [
    "# Tokenizing Raw text reviews\n",
    "tfidf = TfidfVectorizer(max_features=5000)\n",
    "X=prod_match['reviewText']\n",
    "y=prod_match['sentiment']\n",
    "# y=df['star_rating']\n",
    "\n",
    "X = tfidf.fit_transform(X)"
   ]
  },
  {
   "cell_type": "code",
   "execution_count": 88,
   "id": "2774546a",
   "metadata": {},
   "outputs": [
    {
     "data": {
      "text/plain": [
       "<189x1303 sparse matrix of type '<class 'numpy.float64'>'\n",
       "\twith 4453 stored elements in Compressed Sparse Row format>"
      ]
     },
     "execution_count": 88,
     "metadata": {},
     "output_type": "execute_result"
    }
   ],
   "source": [
    "X"
   ]
  },
  {
   "cell_type": "code",
   "execution_count": 89,
   "id": "a53ec8b6",
   "metadata": {},
   "outputs": [
    {
     "name": "stdout",
     "output_type": "stream",
     "text": [
      "  (0, 831)\t0.19767480761675008\n",
      "  (0, 320)\t0.23673124514823543\n",
      "  (0, 1174)\t0.11990429988460971\n",
      "  (0, 607)\t0.1776411362647969\n",
      "  (0, 93)\t0.1776411362647969\n",
      "  (0, 332)\t0.17262069284617454\n",
      "  (0, 618)\t0.20718619070651617\n",
      "  (0, 94)\t0.18990344177634533\n",
      "  (0, 979)\t0.21944849621806461\n",
      "  (0, 813)\t0.23673124514823543\n",
      "  (0, 950)\t0.21944849621806461\n",
      "  (0, 255)\t0.20718619070651617\n",
      "  (0, 1143)\t0.21944849621806461\n",
      "  (0, 506)\t0.1776411362647969\n",
      "  (0, 34)\t0.18990344177634533\n",
      "  (0, 624)\t0.23673124514823543\n",
      "  (0, 1275)\t0.23673124514823543\n",
      "  (0, 793)\t0.23673124514823543\n",
      "  (0, 364)\t0.1640672040799107\n",
      "  (0, 1084)\t0.21944849621806461\n",
      "  (0, 192)\t0.18990344177634533\n",
      "  (0, 1230)\t0.222451990998135\n",
      "  (0, 334)\t0.15084700424485997\n",
      "  (0, 1137)\t0.23673124514823543\n",
      "  (1, 202)\t0.7547622975684325\n",
      "  (1, 757)\t0.2790137505874156\n",
      "  (1, 332)\t0.5937046413431214\n"
     ]
    }
   ],
   "source": [
    "print(X[:2,]) # Text Reviews got recoded in numbers"
   ]
  },
  {
   "cell_type": "code",
   "execution_count": 90,
   "id": "6e001a02",
   "metadata": {},
   "outputs": [
    {
     "data": {
      "text/plain": [
       "['spill',\n",
       " 'keyboard',\n",
       " 'read',\n",
       " 'stud',\n",
       " 'lip',\n",
       " 'trip',\n",
       " 'book',\n",
       " 'soft',\n",
       " 'plea',\n",
       " 'xp']"
      ]
     },
     "execution_count": 90,
     "metadata": {},
     "output_type": "execute_result"
    }
   ],
   "source": [
    "from random import sample, seed\n",
    "\n",
    "seed(2022)\n",
    "# Random Sample of features \n",
    "sample(tfidf.get_feature_names(), 10)"
   ]
  },
  {
   "cell_type": "code",
   "execution_count": 91,
   "id": "ecb34ecc",
   "metadata": {},
   "outputs": [],
   "source": [
    "# Partion Data into Train and Test\n",
    "X_train, X_test, y_train, y_test = train_test_split(X, y, test_size=0.2, random_state=2022)"
   ]
  },
  {
   "cell_type": "markdown",
   "id": "173f897a",
   "metadata": {},
   "source": [
    "# SVC Model"
   ]
  },
  {
   "cell_type": "code",
   "execution_count": 92,
   "id": "95c33e49",
   "metadata": {},
   "outputs": [
    {
     "name": "stdout",
     "output_type": "stream",
     "text": [
      "# Tuning hyper-parameters for precision\n",
      "\n"
     ]
    },
    {
     "name": "stderr",
     "output_type": "stream",
     "text": [
      "/opt/anaconda3/lib/python3.9/site-packages/sklearn/metrics/_classification.py:1248: UndefinedMetricWarning: Precision is ill-defined and being set to 0.0 in labels with no predicted samples. Use `zero_division` parameter to control this behavior.\n",
      "  _warn_prf(average, modifier, msg_start, len(result))\n",
      "/opt/anaconda3/lib/python3.9/site-packages/sklearn/metrics/_classification.py:1248: UndefinedMetricWarning: Precision is ill-defined and being set to 0.0 in labels with no predicted samples. Use `zero_division` parameter to control this behavior.\n",
      "  _warn_prf(average, modifier, msg_start, len(result))\n",
      "/opt/anaconda3/lib/python3.9/site-packages/sklearn/metrics/_classification.py:1248: UndefinedMetricWarning: Precision is ill-defined and being set to 0.0 in labels with no predicted samples. Use `zero_division` parameter to control this behavior.\n",
      "  _warn_prf(average, modifier, msg_start, len(result))\n",
      "/opt/anaconda3/lib/python3.9/site-packages/sklearn/metrics/_classification.py:1248: UndefinedMetricWarning: Precision is ill-defined and being set to 0.0 in labels with no predicted samples. Use `zero_division` parameter to control this behavior.\n",
      "  _warn_prf(average, modifier, msg_start, len(result))\n",
      "/opt/anaconda3/lib/python3.9/site-packages/sklearn/metrics/_classification.py:1248: UndefinedMetricWarning: Precision is ill-defined and being set to 0.0 in labels with no predicted samples. Use `zero_division` parameter to control this behavior.\n",
      "  _warn_prf(average, modifier, msg_start, len(result))\n",
      "/opt/anaconda3/lib/python3.9/site-packages/sklearn/metrics/_classification.py:1248: UndefinedMetricWarning: Precision is ill-defined and being set to 0.0 in labels with no predicted samples. Use `zero_division` parameter to control this behavior.\n",
      "  _warn_prf(average, modifier, msg_start, len(result))\n",
      "/opt/anaconda3/lib/python3.9/site-packages/sklearn/metrics/_classification.py:1248: UndefinedMetricWarning: Precision is ill-defined and being set to 0.0 in labels with no predicted samples. Use `zero_division` parameter to control this behavior.\n",
      "  _warn_prf(average, modifier, msg_start, len(result))\n",
      "/opt/anaconda3/lib/python3.9/site-packages/sklearn/metrics/_classification.py:1248: UndefinedMetricWarning: Precision is ill-defined and being set to 0.0 in labels with no predicted samples. Use `zero_division` parameter to control this behavior.\n",
      "  _warn_prf(average, modifier, msg_start, len(result))\n",
      "/opt/anaconda3/lib/python3.9/site-packages/sklearn/metrics/_classification.py:1248: UndefinedMetricWarning: Precision is ill-defined and being set to 0.0 in labels with no predicted samples. Use `zero_division` parameter to control this behavior.\n",
      "  _warn_prf(average, modifier, msg_start, len(result))\n",
      "/opt/anaconda3/lib/python3.9/site-packages/sklearn/metrics/_classification.py:1248: UndefinedMetricWarning: Precision is ill-defined and being set to 0.0 in labels with no predicted samples. Use `zero_division` parameter to control this behavior.\n",
      "  _warn_prf(average, modifier, msg_start, len(result))\n",
      "/opt/anaconda3/lib/python3.9/site-packages/sklearn/metrics/_classification.py:1248: UndefinedMetricWarning: Precision is ill-defined and being set to 0.0 in labels with no predicted samples. Use `zero_division` parameter to control this behavior.\n",
      "  _warn_prf(average, modifier, msg_start, len(result))\n",
      "/opt/anaconda3/lib/python3.9/site-packages/sklearn/metrics/_classification.py:1248: UndefinedMetricWarning: Precision is ill-defined and being set to 0.0 in labels with no predicted samples. Use `zero_division` parameter to control this behavior.\n",
      "  _warn_prf(average, modifier, msg_start, len(result))\n",
      "/opt/anaconda3/lib/python3.9/site-packages/sklearn/metrics/_classification.py:1248: UndefinedMetricWarning: Precision is ill-defined and being set to 0.0 in labels with no predicted samples. Use `zero_division` parameter to control this behavior.\n",
      "  _warn_prf(average, modifier, msg_start, len(result))\n",
      "/opt/anaconda3/lib/python3.9/site-packages/sklearn/metrics/_classification.py:1248: UndefinedMetricWarning: Precision is ill-defined and being set to 0.0 in labels with no predicted samples. Use `zero_division` parameter to control this behavior.\n",
      "  _warn_prf(average, modifier, msg_start, len(result))\n"
     ]
    },
    {
     "name": "stdout",
     "output_type": "stream",
     "text": [
      "Best parameters set found on train set:\n",
      "\n",
      "{'C': 10, 'kernel': 'linear'}\n",
      "\n",
      "Grid scores on train set:\n",
      "\n",
      "0.640 (+/-0.479) for {'C': 1, 'kernel': 'linear'}\n",
      "0.579 (+/-0.504) for {'C': 1, 'kernel': 'poly'}\n",
      "0.690 (+/-0.298) for {'C': 10, 'kernel': 'linear'}\n",
      "0.579 (+/-0.504) for {'C': 10, 'kernel': 'poly'}\n",
      "0.690 (+/-0.298) for {'C': 100, 'kernel': 'linear'}\n",
      "0.579 (+/-0.504) for {'C': 100, 'kernel': 'poly'}\n",
      "0.690 (+/-0.298) for {'C': 1000, 'kernel': 'linear'}\n",
      "0.579 (+/-0.504) for {'C': 1000, 'kernel': 'poly'}\n",
      "\n",
      "Detailed classification report:\n",
      "\n",
      "The scores are computed on test set.\n",
      "\n",
      "              precision    recall  f1-score   support\n",
      "\n",
      "           0       0.43      0.23      0.30        13\n",
      "           1       0.68      0.84      0.75        25\n",
      "\n",
      "    accuracy                           0.63        38\n",
      "   macro avg       0.55      0.54      0.53        38\n",
      "weighted avg       0.59      0.63      0.60        38\n",
      "\n",
      "\n",
      "# Tuning hyper-parameters for recall\n",
      "\n",
      "Best parameters set found on train set:\n",
      "\n",
      "{'C': 10, 'kernel': 'linear'}\n",
      "\n",
      "Grid scores on train set:\n",
      "\n",
      "0.576 (+/-0.166) for {'C': 1, 'kernel': 'linear'}\n",
      "0.527 (+/-0.066) for {'C': 1, 'kernel': 'poly'}\n",
      "0.611 (+/-0.185) for {'C': 10, 'kernel': 'linear'}\n",
      "0.527 (+/-0.066) for {'C': 10, 'kernel': 'poly'}\n",
      "0.611 (+/-0.185) for {'C': 100, 'kernel': 'linear'}\n",
      "0.527 (+/-0.066) for {'C': 100, 'kernel': 'poly'}\n",
      "0.611 (+/-0.185) for {'C': 1000, 'kernel': 'linear'}\n",
      "0.527 (+/-0.066) for {'C': 1000, 'kernel': 'poly'}\n",
      "\n",
      "Detailed classification report:\n",
      "\n",
      "The scores are computed on test set.\n",
      "\n",
      "              precision    recall  f1-score   support\n",
      "\n",
      "           0       0.43      0.23      0.30        13\n",
      "           1       0.68      0.84      0.75        25\n",
      "\n",
      "    accuracy                           0.63        38\n",
      "   macro avg       0.55      0.54      0.53        38\n",
      "weighted avg       0.59      0.63      0.60        38\n",
      "\n",
      "\n"
     ]
    }
   ],
   "source": [
    "from sklearn.model_selection import GridSearchCV\n",
    "from sklearn.metrics import classification_report\n",
    "from sklearn.svm import SVC # support vector machines for classification (SVR is for regression)\n",
    "\n",
    "tuned_parameters = [{'kernel': ['linear', 'poly'], 'C': [1, 10, 100, 1000]}]\n",
    "\n",
    "scores = ['precision', 'recall']\n",
    "\n",
    "for score in scores:\n",
    "    print(\"# Tuning hyper-parameters for %s\" % score)\n",
    "    print()\n",
    "\n",
    "    clf = GridSearchCV(SVC(random_state = 2022), tuned_parameters, cv=5, scoring='%s_macro' % score).fit(X_train, y_train)\n",
    "\n",
    "    print(\"Best parameters set found on train set:\")\n",
    "    print()\n",
    "    print(clf.best_params_)\n",
    "    print()\n",
    "    print(\"Grid scores on train set:\")\n",
    "    print()\n",
    "    means = clf.cv_results_['mean_test_score']\n",
    "    stds = clf.cv_results_['std_test_score']\n",
    "    for mean, std, params in zip(means, stds, clf.cv_results_['params']):\n",
    "        print(\"%0.3f (+/-%0.03f) for %r\"\n",
    "              % (mean, std * 2, params))\n",
    "    print()\n",
    "\n",
    "    print(\"Detailed classification report:\")\n",
    "    print()\n",
    "    print(\"The scores are computed on test set.\")\n",
    "    print()\n",
    "    print(classification_report(y_test, clf.predict(X_test)))\n",
    "    print()"
   ]
  },
  {
   "cell_type": "markdown",
   "id": "c5c95155",
   "metadata": {},
   "source": [
    "***\n",
    "\n",
    "## Vader Model\n",
    "\n",
    "https://towardsdatascience.com/sentimental-analysis-using-vader-a3415fef7664"
   ]
  },
  {
   "cell_type": "code",
   "execution_count": 93,
   "id": "d16af882",
   "metadata": {},
   "outputs": [
    {
     "name": "stderr",
     "output_type": "stream",
     "text": [
      "[nltk_data] Downloading package vader_lexicon to\n",
      "[nltk_data]     /Users/robbyjeffries/nltk_data...\n"
     ]
    }
   ],
   "source": [
    "import nltk\n",
    "nltk.download('vader_lexicon')\n",
    "from nltk.sentiment.vader import SentimentIntensityAnalyzer\n",
    "\n",
    "sid = SentimentIntensityAnalyzer()"
   ]
  },
  {
   "cell_type": "code",
   "execution_count": 95,
   "id": "fe5ec7b2",
   "metadata": {},
   "outputs": [
    {
     "name": "stderr",
     "output_type": "stream",
     "text": [
      "/var/folders/c9/z8kjq8qs15n6nq0dr7vdg5640000gn/T/ipykernel_64413/1047053032.py:1: SettingWithCopyWarning: \n",
      "A value is trying to be set on a copy of a slice from a DataFrame.\n",
      "Try using .loc[row_indexer,col_indexer] = value instead\n",
      "\n",
      "See the caveats in the documentation: https://pandas.pydata.org/pandas-docs/stable/user_guide/indexing.html#returning-a-view-versus-a-copy\n",
      "  prod_match['score'] = prod_match['reviewText'].apply(lambda review: sid.polarity_scores(review))\n"
     ]
    },
    {
     "data": {
      "text/plain": [
       "1745593    {'neg': 0.0, 'neu': 0.836, 'pos': 0.164, 'comp...\n",
       "1745594    {'neg': 0.513, 'neu': 0.487, 'pos': 0.0, 'comp...\n",
       "1745595    {'neg': 0.0, 'neu': 0.408, 'pos': 0.592, 'comp...\n",
       "1745596    {'neg': 0.116, 'neu': 0.748, 'pos': 0.136, 'co...\n",
       "1745597    {'neg': 0.134, 'neu': 0.784, 'pos': 0.082, 'co...\n",
       "                                 ...                        \n",
       "3016090    {'neg': 0.0, 'neu': 1.0, 'pos': 0.0, 'compound...\n",
       "3019978    {'neg': 0.064, 'neu': 0.709, 'pos': 0.226, 'co...\n",
       "3019979    {'neg': 0.169, 'neu': 0.708, 'pos': 0.123, 'co...\n",
       "3019980    {'neg': 0.203, 'neu': 0.65, 'pos': 0.146, 'com...\n",
       "3020104    {'neg': 0.094, 'neu': 0.836, 'pos': 0.07, 'com...\n",
       "Name: score, Length: 189, dtype: object"
      ]
     },
     "execution_count": 95,
     "metadata": {},
     "output_type": "execute_result"
    }
   ],
   "source": [
    "prod_match['score'] = prod_match['reviewText'].apply(lambda review: sid.polarity_scores(review))\n",
    "\n",
    "prod_match['score']"
   ]
  }
 ],
 "metadata": {
  "kernelspec": {
   "display_name": "Python 3.9.7 64-bit ('base': conda)",
   "language": "python",
   "name": "python397jvsc74a57bd040d3a090f54c6569ab1632332b64b2c03c39dcf918b08424e98f38b5ae0af88f"
  },
  "language_info": {
   "codemirror_mode": {
    "name": "ipython",
    "version": 3
   },
   "file_extension": ".py",
   "mimetype": "text/x-python",
   "name": "python",
   "nbconvert_exporter": "python",
   "pygments_lexer": "ipython3",
   "version": "3.9.7"
  }
 },
 "nbformat": 4,
 "nbformat_minor": 5
}
