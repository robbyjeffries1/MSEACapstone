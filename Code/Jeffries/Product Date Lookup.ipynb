{
 "cells": [
  {
   "cell_type": "code",
   "execution_count": 31,
   "id": "85633a5c",
   "metadata": {},
   "outputs": [],
   "source": [
    "import os\n",
    "import numpy as np\n",
    "import pandas as pd\n",
    "from fuzzywuzzy import process\n",
    "from tqdm import tqdm\n",
    "\n",
    "# set working directory\n",
    "os.chdir('/Users/robbyjeffries/MSEACapstone/Data')\n",
    "\n",
    "# import raw review data for the Electronics category\n",
    "amz_raw = pd.read_csv('Products/products_with_first_review_date.csv')\n",
    "sams_raw = pd.read_excel('Products/Products_Vendor_Start_Date.xlsx') \n",
    "\n",
    "sams_raw = sams_raw.dropna()\n",
    "amz_raw = amz_raw.dropna()\n",
    "\n",
    "amz_raw['firstReview'] = pd.to_datetime(amz_raw['firstReview'])"
   ]
  },
  {
   "cell_type": "code",
   "execution_count": 32,
   "id": "184ad561",
   "metadata": {},
   "outputs": [
    {
     "name": "stderr",
     "output_type": "stream",
     "text": [
      "  0%|                                        | 1/1923 [00:06<3:38:41,  6.83s/it]"
     ]
    },
    {
     "name": "stdout",
     "output_type": "stream",
     "text": [
      "{'sams_name': 'CG PORT CHARGER LRG ', 'amazon_name': 'Charger', 'score': 90}\n"
     ]
    },
    {
     "name": "stderr",
     "output_type": "stream",
     "text": [
      "  0%|                                        | 6/1923 [01:19<6:31:53, 12.27s/it]"
     ]
    },
    {
     "name": "stdout",
     "output_type": "stream",
     "text": [
      "{'sams_name': 'INCIPIO FEATHER     ', 'amazon_name': 'Incipio Feather Case for Microsoft Surface Pro and Surface Pro 2', 'score': 90}\n"
     ]
    },
    {
     "name": "stderr",
     "output_type": "stream",
     "text": [
      "  1%|▏                                      | 11/1923 [02:12<4:51:42,  9.15s/it]"
     ]
    },
    {
     "name": "stdout",
     "output_type": "stream",
     "text": [
      "{'sams_name': 'LG LUCID            ', 'amazon_name': 'Black Micro Bluetooth Hands Free Heaphone For LG Lucid2', 'score': 90}\n"
     ]
    },
    {
     "name": "stderr",
     "output_type": "stream",
     "text": [
      "  1%|▎                                     | 18/1923 [04:34<11:21:12, 21.46s/it]"
     ]
    },
    {
     "name": "stdout",
     "output_type": "stream",
     "text": [
      "{'sams_name': 'SOUND RUSH          ', 'amazon_name': 'Panasonic RP-HXS200M-K Sound Rush On-Ear Headphones, Black/Gray', 'score': 90}\n"
     ]
    },
    {
     "name": "stderr",
     "output_type": "stream",
     "text": [
      "  1%|▍                                     | 22/1923 [06:15<10:44:09, 20.33s/it]"
     ]
    },
    {
     "name": "stdout",
     "output_type": "stream",
     "text": [
      "{'sams_name': 'DELL INSPIRON 11    ', 'amazon_name': 'Dell Inspiron 1150', 'score': 94}\n"
     ]
    },
    {
     "name": "stderr",
     "output_type": "stream",
     "text": [
      "\r",
      "  1%|▍                                      | 23/1923 [06:21<8:27:40, 16.03s/it]"
     ]
    },
    {
     "name": "stdout",
     "output_type": "stream",
     "text": [
      "{'sams_name': 'TV STAND            ', 'amazon_name': 'Aluminum Portable TV Stand for up to 60 inch Monitors - Silver', 'score': 90}\n"
     ]
    },
    {
     "name": "stderr",
     "output_type": "stream",
     "text": [
      "\r",
      "  1%|▍                                     | 24/1923 [06:53<11:01:55, 20.91s/it]"
     ]
    },
    {
     "name": "stdout",
     "output_type": "stream",
     "text": [
      "{'sams_name': 'SPEAKER PHONE       ', 'amazon_name': 'Micro Boom Wireless Bluetooth Speaker &amp; Speaker Phone (Black)', 'score': 90}\n"
     ]
    },
    {
     "name": "stderr",
     "output_type": "stream",
     "text": [
      "  2%|▋                                      | 35/1923 [09:51<7:18:04, 13.92s/it]"
     ]
    },
    {
     "name": "stdout",
     "output_type": "stream",
     "text": [
      "{'sams_name': '64GB FLASH DRIVE    ', 'amazon_name': 'ULTRA 64GB Flash Drive', 'score': 95}\n"
     ]
    },
    {
     "name": "stderr",
     "output_type": "stream",
     "text": [
      "  3%|▉                                      | 49/1923 [12:43<5:52:29, 11.29s/it]"
     ]
    },
    {
     "name": "stdout",
     "output_type": "stream",
     "text": [
      "{'sams_name': 'CEILING MOUNT       ', 'amazon_name': 'Projector Ceiling Mount for PANASONIC PT-AE8000 AE8000U', 'score': 90}\n"
     ]
    },
    {
     "name": "stderr",
     "output_type": "stream",
     "text": [
      "  3%|█                                      | 51/1923 [13:19<7:10:27, 13.80s/it]"
     ]
    },
    {
     "name": "stdout",
     "output_type": "stream",
     "text": [
      "{'sams_name': 'INSPIRON 15Z        ', 'amazon_name': 'Dell Inspiron 15Z Intel Core i5 1.8GHz 6GB 500GB+32GB SSD DVD 15.6&quot; W8 (Silver)', 'score': 90}\n"
     ]
    },
    {
     "name": "stderr",
     "output_type": "stream",
     "text": [
      "  3%|█▏                                     | 56/1923 [13:55<4:10:39,  8.06s/it]"
     ]
    },
    {
     "name": "stdout",
     "output_type": "stream",
     "text": [
      "{'sams_name': 'CORDLESS PHONE      ', 'amazon_name': 'Fenzer Rechargeable Cordless Phone Battery for GE 27911EE1 27950EE1 Cordless Telephone Battery Replacement Pack', 'score': 90}\n"
     ]
    },
    {
     "name": "stderr",
     "output_type": "stream",
     "text": [
      "  3%|█▎                                     | 63/1923 [15:23<6:07:13, 11.85s/it]"
     ]
    },
    {
     "name": "stdout",
     "output_type": "stream",
     "text": [
      "{'sams_name': 'DELL INSPIRON 660   ', 'amazon_name': 'Dell Inspiron 660 I660-1044BK Desktop Computer', 'score': 90}\n"
     ]
    },
    {
     "name": "stderr",
     "output_type": "stream",
     "text": [
      "  4%|█▍                                     | 69/1923 [16:46<7:44:45, 15.04s/it]"
     ]
    },
    {
     "name": "stdout",
     "output_type": "stream",
     "text": [
      "{'sams_name': 'HARLEY DAVIDSON     ', 'amazon_name': \"Hogtunes 0401 Audio Cable (3.3', Connect MP3/GPS to Factory Harley-Davidson Radio)\", 'score': 90}\n"
     ]
    },
    {
     "name": "stderr",
     "output_type": "stream",
     "text": [
      "  5%|█▊                                     | 92/1923 [21:07<4:26:40,  8.74s/it]"
     ]
    },
    {
     "name": "stdout",
     "output_type": "stream",
     "text": [
      "{'sams_name': 'CONDITIONER CHARGER ', 'amazon_name': 'Charger', 'score': 90}\n"
     ]
    },
    {
     "name": "stderr",
     "output_type": "stream",
     "text": [
      "  5%|█▉                                     | 95/1923 [21:46<6:53:03, 13.56s/it]"
     ]
    },
    {
     "name": "stdout",
     "output_type": "stream",
     "text": [
      "{'sams_name': 'DUAL USB CAR CHARGER', 'amazon_name': 'Lewis N. Clark Luggage Dual USB Car Charger, Black, One Size', 'score': 90}\n"
     ]
    },
    {
     "name": "stderr",
     "output_type": "stream",
     "text": [
      "\r",
      "  5%|█▉                                     | 96/1923 [22:17<9:31:56, 18.78s/it]"
     ]
    },
    {
     "name": "stdout",
     "output_type": "stream",
     "text": [
      "{'sams_name': 'DUAL USB CAR CHARGER', 'amazon_name': 'Lewis N. Clark Luggage Dual USB Car Charger, Black, One Size', 'score': 90}\n"
     ]
    },
    {
     "name": "stderr",
     "output_type": "stream",
     "text": [
      "  5%|█▉                                    | 100/1923 [23:00<6:54:44, 13.65s/it]"
     ]
    },
    {
     "name": "stdout",
     "output_type": "stream",
     "text": [
      "{'sams_name': 'INSPIRON 17R        ', 'amazon_name': 'NEW Genuine battery for J1KND 312-0233 04YRJH Dell Inspiron 17R N7010 14R N4010', 'score': 90}\n"
     ]
    },
    {
     "name": "stderr",
     "output_type": "stream",
     "text": [
      "\r",
      "  5%|█▉                                    | 101/1923 [23:24<8:23:15, 16.57s/it]"
     ]
    },
    {
     "name": "stdout",
     "output_type": "stream",
     "text": [
      "{'sams_name': 'PERSONAL SOUND      ', 'amazon_name': 'Etymotic QSA Personal Sound Amplifier, Platinum Pair', 'score': 90}\n"
     ]
    },
    {
     "name": "stderr",
     "output_type": "stream",
     "text": [
      "  6%|██▏                                  | 114/1923 [27:08<11:11:18, 22.27s/it]"
     ]
    },
    {
     "name": "stdout",
     "output_type": "stream",
     "text": [
      "{'sams_name': 'RUNPHONES WIRELESS  ', 'amazon_name': 'RunPhones Wireless Headphones (Swift Black, Large)', 'score': 90}\n"
     ]
    },
    {
     "name": "stderr",
     "output_type": "stream",
     "text": [
      "  7%|██▌                                   | 129/1923 [29:44<4:18:49,  8.66s/it]"
     ]
    },
    {
     "name": "stdout",
     "output_type": "stream",
     "text": [
      "{'sams_name': 'LOGITECH FABRIC SKIN', 'amazon_name': 'Logitech Fabric Skin Keyboard Folio for iPad Air, Mars Red Orange', 'score': 90}\n"
     ]
    },
    {
     "name": "stderr",
     "output_type": "stream",
     "text": [
      "  7%|██▊                                   | 140/1923 [32:04<6:03:04, 12.22s/it]"
     ]
    },
    {
     "name": "stdout",
     "output_type": "stream",
     "text": [
      "{'sams_name': 'OTTERBOX COMMUTER   ', 'amazon_name': 'Argyle Pink and Gray - Decal Style Vinyl Skin fits Otterbox Commuter iPhone4/4s Case (CASE SOLD SEPARATELY)', 'score': 90}\n"
     ]
    },
    {
     "name": "stderr",
     "output_type": "stream",
     "text": [
      "  7%|██▊                                   | 142/1923 [32:26<5:23:09, 10.89s/it]"
     ]
    },
    {
     "name": "stdout",
     "output_type": "stream",
     "text": [
      "{'sams_name': 'TV STAND            ', 'amazon_name': 'Aluminum Portable TV Stand for up to 60 inch Monitors - Silver', 'score': 90}\n"
     ]
    },
    {
     "name": "stderr",
     "output_type": "stream",
     "text": [
      "\r",
      "  7%|██▊                                   | 143/1923 [32:31<4:29:51,  9.10s/it]"
     ]
    },
    {
     "name": "stdout",
     "output_type": "stream",
     "text": [
      "{'sams_name': 'SMART CHARGER       ', 'amazon_name': 'GWC Technology HU2V40 USB 2.0 4-Port Hub with Smart Charger Adapter', 'score': 90}\n"
     ]
    },
    {
     "name": "stderr",
     "output_type": "stream",
     "text": [
      "  8%|███▏                                  | 159/1923 [35:31<4:03:18,  8.28s/it]"
     ]
    },
    {
     "name": "stdout",
     "output_type": "stream",
     "text": [
      "{'sams_name': 'INSPIRON 15 (3521)  ', 'amazon_name': 'Dell Inspiron 15 (3521 / 5521) Laptop Keyboard - YH3FC - Genuine Dell Part', 'score': 90}\n"
     ]
    },
    {
     "name": "stderr",
     "output_type": "stream",
     "text": [
      "  9%|███▎                                  | 170/1923 [37:55<6:21:08, 13.05s/it]"
     ]
    },
    {
     "name": "stdout",
     "output_type": "stream",
     "text": [
      "{'sams_name': 'DC/AC POWER INVERTER', 'amazon_name': 'APC Pnoteac 140 12V DC/AC Power inverter', 'score': 90}\n"
     ]
    },
    {
     "name": "stderr",
     "output_type": "stream",
     "text": [
      "\r",
      "  9%|███▍                                  | 171/1923 [38:07<6:09:07, 12.64s/it]"
     ]
    },
    {
     "name": "stdout",
     "output_type": "stream",
     "text": [
      "{'sams_name': 'JAZ 1GB EXTERNAL    ', 'amazon_name': 'na', 'score': 90}\n"
     ]
    },
    {
     "name": "stderr",
     "output_type": "stream",
     "text": [
      "  9%|███▍                                  | 177/1923 [39:17<5:51:45, 12.09s/it]"
     ]
    },
    {
     "name": "stdout",
     "output_type": "stream",
     "text": [
      "{'sams_name': 'WALL TYPE CHARGER   ', 'amazon_name': 'Charger', 'score': 90}\n"
     ]
    },
    {
     "name": "stderr",
     "output_type": "stream",
     "text": [
      " 11%|████▎                                 | 217/1923 [47:25<4:48:11, 10.14s/it]"
     ]
    },
    {
     "name": "stdout",
     "output_type": "stream",
     "text": [
      "{'sams_name': 'DELL INSPIRON 15R   ', 'amazon_name': 'Dell Inspiron 1150', 'score': 91}\n"
     ]
    },
    {
     "name": "stderr",
     "output_type": "stream",
     "text": [
      " 12%|████▍                                 | 223/1923 [48:53<6:42:10, 14.19s/it]"
     ]
    },
    {
     "name": "stdout",
     "output_type": "stream",
     "text": [
      "{'sams_name': 'COLOR INKJET PRINTER', 'amazon_name': '10ft ReadyPlug&reg; USB Cable for: Epson Stylus NX530 Wireless All-in-One Color Inkjet Printer, Copier, Scanner', 'score': 90}\n"
     ]
    },
    {
     "name": "stderr",
     "output_type": "stream",
     "text": [
      " 12%|████▌                                 | 232/1923 [50:18<4:07:27,  8.78s/it]"
     ]
    },
    {
     "name": "stdout",
     "output_type": "stream",
     "text": [
      "{'sams_name': 'IPHONE 6 PLUS       ', 'amazon_name': 'inDigi Bluetooth Smart Watch Phone For iPhone 6 plus Samsung S5 Note 4 Android Smart Phone', 'score': 90}\n"
     ]
    },
    {
     "name": "stderr",
     "output_type": "stream",
     "text": [
      " 12%|████▋                                 | 235/1923 [50:50<4:53:00, 10.42s/it]"
     ]
    },
    {
     "name": "stdout",
     "output_type": "stream",
     "text": [
      "{'sams_name': 'DELL STUDIO XPS 13  ', 'amazon_name': 'Laptop Battery for Dell Studio XPS 1340 Series, 9 cells 6600mAh Black', 'score': 90}\n"
     ]
    },
    {
     "name": "stderr",
     "output_type": "stream",
     "text": [
      " 12%|████▋                                 | 239/1923 [51:43<6:04:28, 12.99s/it]\n"
     ]
    },
    {
     "ename": "KeyboardInterrupt",
     "evalue": "",
     "output_type": "error",
     "traceback": [
      "\u001b[0;31m---------------------------------------------------------------------------\u001b[0m",
      "\u001b[0;31mAttributeError\u001b[0m                            Traceback (most recent call last)",
      "\u001b[0;32m/opt/anaconda3/lib/python3.9/site-packages/fuzzywuzzy/process.py\u001b[0m in \u001b[0;36mextractWithoutOrder\u001b[0;34m(query, choices, processor, scorer, score_cutoff)\u001b[0m\n\u001b[1;32m    107\u001b[0m         \u001b[0;31m# See if choices is a dictionary-like object.\u001b[0m\u001b[0;34m\u001b[0m\u001b[0;34m\u001b[0m\u001b[0m\n\u001b[0;32m--> 108\u001b[0;31m         \u001b[0;32mfor\u001b[0m \u001b[0mkey\u001b[0m\u001b[0;34m,\u001b[0m \u001b[0mchoice\u001b[0m \u001b[0;32min\u001b[0m \u001b[0mchoices\u001b[0m\u001b[0;34m.\u001b[0m\u001b[0mitems\u001b[0m\u001b[0;34m(\u001b[0m\u001b[0;34m)\u001b[0m\u001b[0;34m:\u001b[0m\u001b[0;34m\u001b[0m\u001b[0;34m\u001b[0m\u001b[0m\n\u001b[0m\u001b[1;32m    109\u001b[0m             \u001b[0mprocessed\u001b[0m \u001b[0;34m=\u001b[0m \u001b[0mpre_processor\u001b[0m\u001b[0;34m(\u001b[0m\u001b[0mprocessor\u001b[0m\u001b[0;34m(\u001b[0m\u001b[0mchoice\u001b[0m\u001b[0;34m)\u001b[0m\u001b[0;34m)\u001b[0m\u001b[0;34m\u001b[0m\u001b[0;34m\u001b[0m\u001b[0m\n",
      "\u001b[0;31mAttributeError\u001b[0m: 'list' object has no attribute 'items'",
      "\nDuring handling of the above exception, another exception occurred:\n",
      "\u001b[0;31mKeyboardInterrupt\u001b[0m                         Traceback (most recent call last)",
      "\u001b[0;32m/var/folders/c9/z8kjq8qs15n6nq0dr7vdg5640000gn/T/ipykernel_64020/2009397591.py\u001b[0m in \u001b[0;36m<module>\u001b[0;34m\u001b[0m\n\u001b[1;32m     13\u001b[0m     \u001b[0mamz_filtered\u001b[0m \u001b[0;34m=\u001b[0m \u001b[0mlist\u001b[0m\u001b[0;34m(\u001b[0m\u001b[0mamz_raw\u001b[0m\u001b[0;34m.\u001b[0m\u001b[0mloc\u001b[0m\u001b[0;34m[\u001b[0m\u001b[0mamz_raw\u001b[0m\u001b[0;34m[\u001b[0m\u001b[0;34m'firstReview'\u001b[0m\u001b[0;34m]\u001b[0m \u001b[0;34m<\u001b[0m \u001b[0msams_date\u001b[0m\u001b[0;34m,\u001b[0m \u001b[0;34m'title'\u001b[0m\u001b[0;34m]\u001b[0m\u001b[0;34m)\u001b[0m\u001b[0;34m\u001b[0m\u001b[0;34m\u001b[0m\u001b[0m\n\u001b[1;32m     14\u001b[0m \u001b[0;34m\u001b[0m\u001b[0m\n\u001b[0;32m---> 15\u001b[0;31m     \u001b[0mresp_match\u001b[0m \u001b[0;34m=\u001b[0m  \u001b[0mprocess\u001b[0m\u001b[0;34m.\u001b[0m\u001b[0mextractOne\u001b[0m\u001b[0;34m(\u001b[0m\u001b[0mname_to_find\u001b[0m\u001b[0;34m,\u001b[0m \u001b[0mamz_filtered\u001b[0m\u001b[0;34m)\u001b[0m\u001b[0;34m\u001b[0m\u001b[0;34m\u001b[0m\u001b[0m\n\u001b[0m\u001b[1;32m     16\u001b[0m \u001b[0;34m\u001b[0m\u001b[0m\n\u001b[1;32m     17\u001b[0m     \u001b[0;32mif\u001b[0m \u001b[0mresp_match\u001b[0m\u001b[0;34m[\u001b[0m\u001b[0;36m1\u001b[0m\u001b[0;34m]\u001b[0m \u001b[0;34m>=\u001b[0m \u001b[0mthreshold\u001b[0m\u001b[0;34m:\u001b[0m\u001b[0;34m\u001b[0m\u001b[0;34m\u001b[0m\u001b[0m\n",
      "\u001b[0;32m/opt/anaconda3/lib/python3.9/site-packages/fuzzywuzzy/process.py\u001b[0m in \u001b[0;36mextractOne\u001b[0;34m(query, choices, processor, scorer, score_cutoff)\u001b[0m\n\u001b[1;32m    218\u001b[0m     \u001b[0mbest_list\u001b[0m \u001b[0;34m=\u001b[0m \u001b[0mextractWithoutOrder\u001b[0m\u001b[0;34m(\u001b[0m\u001b[0mquery\u001b[0m\u001b[0;34m,\u001b[0m \u001b[0mchoices\u001b[0m\u001b[0;34m,\u001b[0m \u001b[0mprocessor\u001b[0m\u001b[0;34m,\u001b[0m \u001b[0mscorer\u001b[0m\u001b[0;34m,\u001b[0m \u001b[0mscore_cutoff\u001b[0m\u001b[0;34m)\u001b[0m\u001b[0;34m\u001b[0m\u001b[0;34m\u001b[0m\u001b[0m\n\u001b[1;32m    219\u001b[0m     \u001b[0;32mtry\u001b[0m\u001b[0;34m:\u001b[0m\u001b[0;34m\u001b[0m\u001b[0;34m\u001b[0m\u001b[0m\n\u001b[0;32m--> 220\u001b[0;31m         \u001b[0;32mreturn\u001b[0m \u001b[0mmax\u001b[0m\u001b[0;34m(\u001b[0m\u001b[0mbest_list\u001b[0m\u001b[0;34m,\u001b[0m \u001b[0mkey\u001b[0m\u001b[0;34m=\u001b[0m\u001b[0;32mlambda\u001b[0m \u001b[0mi\u001b[0m\u001b[0;34m:\u001b[0m \u001b[0mi\u001b[0m\u001b[0;34m[\u001b[0m\u001b[0;36m1\u001b[0m\u001b[0;34m]\u001b[0m\u001b[0;34m)\u001b[0m\u001b[0;34m\u001b[0m\u001b[0;34m\u001b[0m\u001b[0m\n\u001b[0m\u001b[1;32m    221\u001b[0m     \u001b[0;32mexcept\u001b[0m \u001b[0mValueError\u001b[0m\u001b[0;34m:\u001b[0m\u001b[0;34m\u001b[0m\u001b[0;34m\u001b[0m\u001b[0m\n\u001b[1;32m    222\u001b[0m         \u001b[0;32mreturn\u001b[0m \u001b[0;32mNone\u001b[0m\u001b[0;34m\u001b[0m\u001b[0;34m\u001b[0m\u001b[0m\n",
      "\u001b[0;32m/opt/anaconda3/lib/python3.9/site-packages/fuzzywuzzy/process.py\u001b[0m in \u001b[0;36mextractWithoutOrder\u001b[0;34m(query, choices, processor, scorer, score_cutoff)\u001b[0m\n\u001b[1;32m    115\u001b[0m         \u001b[0;32mfor\u001b[0m \u001b[0mchoice\u001b[0m \u001b[0;32min\u001b[0m \u001b[0mchoices\u001b[0m\u001b[0;34m:\u001b[0m\u001b[0;34m\u001b[0m\u001b[0;34m\u001b[0m\u001b[0m\n\u001b[1;32m    116\u001b[0m             \u001b[0mprocessed\u001b[0m \u001b[0;34m=\u001b[0m \u001b[0mpre_processor\u001b[0m\u001b[0;34m(\u001b[0m\u001b[0mprocessor\u001b[0m\u001b[0;34m(\u001b[0m\u001b[0mchoice\u001b[0m\u001b[0;34m)\u001b[0m\u001b[0;34m)\u001b[0m\u001b[0;34m\u001b[0m\u001b[0;34m\u001b[0m\u001b[0m\n\u001b[0;32m--> 117\u001b[0;31m             \u001b[0mscore\u001b[0m \u001b[0;34m=\u001b[0m \u001b[0mscorer\u001b[0m\u001b[0;34m(\u001b[0m\u001b[0mprocessed_query\u001b[0m\u001b[0;34m,\u001b[0m \u001b[0mprocessed\u001b[0m\u001b[0;34m)\u001b[0m\u001b[0;34m\u001b[0m\u001b[0;34m\u001b[0m\u001b[0m\n\u001b[0m\u001b[1;32m    118\u001b[0m             \u001b[0;32mif\u001b[0m \u001b[0mscore\u001b[0m \u001b[0;34m>=\u001b[0m \u001b[0mscore_cutoff\u001b[0m\u001b[0;34m:\u001b[0m\u001b[0;34m\u001b[0m\u001b[0;34m\u001b[0m\u001b[0m\n\u001b[1;32m    119\u001b[0m                 \u001b[0;32myield\u001b[0m \u001b[0;34m(\u001b[0m\u001b[0mchoice\u001b[0m\u001b[0;34m,\u001b[0m \u001b[0mscore\u001b[0m\u001b[0;34m)\u001b[0m\u001b[0;34m\u001b[0m\u001b[0;34m\u001b[0m\u001b[0m\n",
      "\u001b[0;32m/opt/anaconda3/lib/python3.9/site-packages/fuzzywuzzy/fuzz.py\u001b[0m in \u001b[0;36mWRatio\u001b[0;34m(s1, s2, force_ascii, full_process)\u001b[0m\n\u001b[1;32m    286\u001b[0m \u001b[0;34m\u001b[0m\u001b[0m\n\u001b[1;32m    287\u001b[0m     \u001b[0;32mif\u001b[0m \u001b[0mtry_partial\u001b[0m\u001b[0;34m:\u001b[0m\u001b[0;34m\u001b[0m\u001b[0;34m\u001b[0m\u001b[0m\n\u001b[0;32m--> 288\u001b[0;31m         \u001b[0mpartial\u001b[0m \u001b[0;34m=\u001b[0m \u001b[0mpartial_ratio\u001b[0m\u001b[0;34m(\u001b[0m\u001b[0mp1\u001b[0m\u001b[0;34m,\u001b[0m \u001b[0mp2\u001b[0m\u001b[0;34m)\u001b[0m \u001b[0;34m*\u001b[0m \u001b[0mpartial_scale\u001b[0m\u001b[0;34m\u001b[0m\u001b[0;34m\u001b[0m\u001b[0m\n\u001b[0m\u001b[1;32m    289\u001b[0m         \u001b[0mptsor\u001b[0m \u001b[0;34m=\u001b[0m \u001b[0mpartial_token_sort_ratio\u001b[0m\u001b[0;34m(\u001b[0m\u001b[0mp1\u001b[0m\u001b[0;34m,\u001b[0m \u001b[0mp2\u001b[0m\u001b[0;34m,\u001b[0m \u001b[0mfull_process\u001b[0m\u001b[0;34m=\u001b[0m\u001b[0;32mFalse\u001b[0m\u001b[0;34m)\u001b[0m\u001b[0;31m \u001b[0m\u001b[0;31m\\\u001b[0m\u001b[0;34m\u001b[0m\u001b[0;34m\u001b[0m\u001b[0m\n\u001b[1;32m    290\u001b[0m             \u001b[0;34m*\u001b[0m \u001b[0munbase_scale\u001b[0m \u001b[0;34m*\u001b[0m \u001b[0mpartial_scale\u001b[0m\u001b[0;34m\u001b[0m\u001b[0;34m\u001b[0m\u001b[0m\n",
      "\u001b[0;32m/opt/anaconda3/lib/python3.9/site-packages/fuzzywuzzy/utils.py\u001b[0m in \u001b[0;36mdecorator\u001b[0;34m(*args, **kwargs)\u001b[0m\n\u001b[1;32m     36\u001b[0m         \u001b[0;32mif\u001b[0m \u001b[0margs\u001b[0m\u001b[0;34m[\u001b[0m\u001b[0;36m0\u001b[0m\u001b[0;34m]\u001b[0m \u001b[0;32mis\u001b[0m \u001b[0;32mNone\u001b[0m \u001b[0;32mor\u001b[0m \u001b[0margs\u001b[0m\u001b[0;34m[\u001b[0m\u001b[0;36m1\u001b[0m\u001b[0;34m]\u001b[0m \u001b[0;32mis\u001b[0m \u001b[0;32mNone\u001b[0m\u001b[0;34m:\u001b[0m\u001b[0;34m\u001b[0m\u001b[0;34m\u001b[0m\u001b[0m\n\u001b[1;32m     37\u001b[0m             \u001b[0;32mreturn\u001b[0m \u001b[0;36m0\u001b[0m\u001b[0;34m\u001b[0m\u001b[0;34m\u001b[0m\u001b[0m\n\u001b[0;32m---> 38\u001b[0;31m         \u001b[0;32mreturn\u001b[0m \u001b[0mfunc\u001b[0m\u001b[0;34m(\u001b[0m\u001b[0;34m*\u001b[0m\u001b[0margs\u001b[0m\u001b[0;34m,\u001b[0m \u001b[0;34m**\u001b[0m\u001b[0mkwargs\u001b[0m\u001b[0;34m)\u001b[0m\u001b[0;34m\u001b[0m\u001b[0;34m\u001b[0m\u001b[0m\n\u001b[0m\u001b[1;32m     39\u001b[0m     \u001b[0;32mreturn\u001b[0m \u001b[0mdecorator\u001b[0m\u001b[0;34m\u001b[0m\u001b[0;34m\u001b[0m\u001b[0m\n\u001b[1;32m     40\u001b[0m \u001b[0;34m\u001b[0m\u001b[0m\n",
      "\u001b[0;32m/opt/anaconda3/lib/python3.9/site-packages/fuzzywuzzy/utils.py\u001b[0m in \u001b[0;36mdecorator\u001b[0;34m(*args, **kwargs)\u001b[0m\n\u001b[1;32m     27\u001b[0m         \u001b[0;32mif\u001b[0m \u001b[0margs\u001b[0m\u001b[0;34m[\u001b[0m\u001b[0;36m0\u001b[0m\u001b[0;34m]\u001b[0m \u001b[0;34m==\u001b[0m \u001b[0margs\u001b[0m\u001b[0;34m[\u001b[0m\u001b[0;36m1\u001b[0m\u001b[0;34m]\u001b[0m\u001b[0;34m:\u001b[0m\u001b[0;34m\u001b[0m\u001b[0;34m\u001b[0m\u001b[0m\n\u001b[1;32m     28\u001b[0m             \u001b[0;32mreturn\u001b[0m \u001b[0;36m100\u001b[0m\u001b[0;34m\u001b[0m\u001b[0;34m\u001b[0m\u001b[0m\n\u001b[0;32m---> 29\u001b[0;31m         \u001b[0;32mreturn\u001b[0m \u001b[0mfunc\u001b[0m\u001b[0;34m(\u001b[0m\u001b[0;34m*\u001b[0m\u001b[0margs\u001b[0m\u001b[0;34m,\u001b[0m \u001b[0;34m**\u001b[0m\u001b[0mkwargs\u001b[0m\u001b[0;34m)\u001b[0m\u001b[0;34m\u001b[0m\u001b[0;34m\u001b[0m\u001b[0m\n\u001b[0m\u001b[1;32m     30\u001b[0m     \u001b[0;32mreturn\u001b[0m \u001b[0mdecorator\u001b[0m\u001b[0;34m\u001b[0m\u001b[0;34m\u001b[0m\u001b[0m\n\u001b[1;32m     31\u001b[0m \u001b[0;34m\u001b[0m\u001b[0m\n",
      "\u001b[0;32m/opt/anaconda3/lib/python3.9/site-packages/fuzzywuzzy/utils.py\u001b[0m in \u001b[0;36mdecorator\u001b[0;34m(*args, **kwargs)\u001b[0m\n\u001b[1;32m     45\u001b[0m         \u001b[0;32mif\u001b[0m \u001b[0mlen\u001b[0m\u001b[0;34m(\u001b[0m\u001b[0margs\u001b[0m\u001b[0;34m[\u001b[0m\u001b[0;36m0\u001b[0m\u001b[0;34m]\u001b[0m\u001b[0;34m)\u001b[0m \u001b[0;34m==\u001b[0m \u001b[0;36m0\u001b[0m \u001b[0;32mor\u001b[0m \u001b[0mlen\u001b[0m\u001b[0;34m(\u001b[0m\u001b[0margs\u001b[0m\u001b[0;34m[\u001b[0m\u001b[0;36m1\u001b[0m\u001b[0;34m]\u001b[0m\u001b[0;34m)\u001b[0m \u001b[0;34m==\u001b[0m \u001b[0;36m0\u001b[0m\u001b[0;34m:\u001b[0m\u001b[0;34m\u001b[0m\u001b[0;34m\u001b[0m\u001b[0m\n\u001b[1;32m     46\u001b[0m             \u001b[0;32mreturn\u001b[0m \u001b[0;36m0\u001b[0m\u001b[0;34m\u001b[0m\u001b[0;34m\u001b[0m\u001b[0m\n\u001b[0;32m---> 47\u001b[0;31m         \u001b[0;32mreturn\u001b[0m \u001b[0mfunc\u001b[0m\u001b[0;34m(\u001b[0m\u001b[0;34m*\u001b[0m\u001b[0margs\u001b[0m\u001b[0;34m,\u001b[0m \u001b[0;34m**\u001b[0m\u001b[0mkwargs\u001b[0m\u001b[0;34m)\u001b[0m\u001b[0;34m\u001b[0m\u001b[0;34m\u001b[0m\u001b[0m\n\u001b[0m\u001b[1;32m     48\u001b[0m     \u001b[0;32mreturn\u001b[0m \u001b[0mdecorator\u001b[0m\u001b[0;34m\u001b[0m\u001b[0;34m\u001b[0m\u001b[0m\n\u001b[1;32m     49\u001b[0m \u001b[0;34m\u001b[0m\u001b[0m\n",
      "\u001b[0;32m/opt/anaconda3/lib/python3.9/site-packages/fuzzywuzzy/fuzz.py\u001b[0m in \u001b[0;36mpartial_ratio\u001b[0;34m(s1, s2)\u001b[0m\n\u001b[1;32m     60\u001b[0m \u001b[0;34m\u001b[0m\u001b[0m\n\u001b[1;32m     61\u001b[0m         \u001b[0mm2\u001b[0m \u001b[0;34m=\u001b[0m \u001b[0mSequenceMatcher\u001b[0m\u001b[0;34m(\u001b[0m\u001b[0;32mNone\u001b[0m\u001b[0;34m,\u001b[0m \u001b[0mshorter\u001b[0m\u001b[0;34m,\u001b[0m \u001b[0mlong_substr\u001b[0m\u001b[0;34m)\u001b[0m\u001b[0;34m\u001b[0m\u001b[0;34m\u001b[0m\u001b[0m\n\u001b[0;32m---> 62\u001b[0;31m         \u001b[0mr\u001b[0m \u001b[0;34m=\u001b[0m \u001b[0mm2\u001b[0m\u001b[0;34m.\u001b[0m\u001b[0mratio\u001b[0m\u001b[0;34m(\u001b[0m\u001b[0;34m)\u001b[0m\u001b[0;34m\u001b[0m\u001b[0;34m\u001b[0m\u001b[0m\n\u001b[0m\u001b[1;32m     63\u001b[0m         \u001b[0;32mif\u001b[0m \u001b[0mr\u001b[0m \u001b[0;34m>\u001b[0m \u001b[0;36m.995\u001b[0m\u001b[0;34m:\u001b[0m\u001b[0;34m\u001b[0m\u001b[0;34m\u001b[0m\u001b[0m\n\u001b[1;32m     64\u001b[0m             \u001b[0;32mreturn\u001b[0m \u001b[0;36m100\u001b[0m\u001b[0;34m\u001b[0m\u001b[0;34m\u001b[0m\u001b[0m\n",
      "\u001b[0;32m/opt/anaconda3/lib/python3.9/site-packages/fuzzywuzzy/StringMatcher.py\u001b[0m in \u001b[0;36mratio\u001b[0;34m(self)\u001b[0m\n\u001b[1;32m     62\u001b[0m     \u001b[0;32mdef\u001b[0m \u001b[0mratio\u001b[0m\u001b[0;34m(\u001b[0m\u001b[0mself\u001b[0m\u001b[0;34m)\u001b[0m\u001b[0;34m:\u001b[0m\u001b[0;34m\u001b[0m\u001b[0;34m\u001b[0m\u001b[0m\n\u001b[1;32m     63\u001b[0m         \u001b[0;32mif\u001b[0m \u001b[0;32mnot\u001b[0m \u001b[0mself\u001b[0m\u001b[0;34m.\u001b[0m\u001b[0m_ratio\u001b[0m\u001b[0;34m:\u001b[0m\u001b[0;34m\u001b[0m\u001b[0;34m\u001b[0m\u001b[0m\n\u001b[0;32m---> 64\u001b[0;31m             \u001b[0mself\u001b[0m\u001b[0;34m.\u001b[0m\u001b[0m_ratio\u001b[0m \u001b[0;34m=\u001b[0m \u001b[0mratio\u001b[0m\u001b[0;34m(\u001b[0m\u001b[0mself\u001b[0m\u001b[0;34m.\u001b[0m\u001b[0m_str1\u001b[0m\u001b[0;34m,\u001b[0m \u001b[0mself\u001b[0m\u001b[0;34m.\u001b[0m\u001b[0m_str2\u001b[0m\u001b[0;34m)\u001b[0m\u001b[0;34m\u001b[0m\u001b[0;34m\u001b[0m\u001b[0m\n\u001b[0m\u001b[1;32m     65\u001b[0m         \u001b[0;32mreturn\u001b[0m \u001b[0mself\u001b[0m\u001b[0;34m.\u001b[0m\u001b[0m_ratio\u001b[0m\u001b[0;34m\u001b[0m\u001b[0;34m\u001b[0m\u001b[0m\n\u001b[1;32m     66\u001b[0m \u001b[0;34m\u001b[0m\u001b[0m\n",
      "\u001b[0;31mKeyboardInterrupt\u001b[0m: "
     ]
    }
   ],
   "source": [
    "threshold = 90\n",
    "\n",
    "amz_list = list(amz_raw['title'])\n",
    "\n",
    "sams_list = list(sams_raw['Primary_Desc'])\n",
    "\n",
    "response = []\n",
    "\n",
    "for name_to_find in tqdm(sams_list, total = len(sams_list)):\n",
    "    \n",
    "    sams_date = sams_raw.loc[sams_raw['Primary_Desc'] == name_to_find, 'Start Date'].values[0]\n",
    "    \n",
    "    amz_filtered = list(amz_raw.loc[amz_raw['firstReview'] < sams_date, 'title'])\n",
    "    \n",
    "    resp_match =  process.extractOne(name_to_find, amz_filtered)\n",
    "    \n",
    "    if resp_match[1] >= threshold:\n",
    "         row = {'sams_name':name_to_find,'amazon_name':resp_match[0], 'score':resp_match[1]}\n",
    "         response.append(row)\n",
    "         print(row)\n",
    "\n",
    "results = pd.DataFrame(response)"
   ]
  },
  {
   "cell_type": "code",
   "execution_count": 33,
   "id": "8064cfc5",
   "metadata": {},
   "outputs": [
    {
     "data": {
      "text/html": [
       "<div>\n",
       "<style scoped>\n",
       "    .dataframe tbody tr th:only-of-type {\n",
       "        vertical-align: middle;\n",
       "    }\n",
       "\n",
       "    .dataframe tbody tr th {\n",
       "        vertical-align: top;\n",
       "    }\n",
       "\n",
       "    .dataframe thead th {\n",
       "        text-align: right;\n",
       "    }\n",
       "</style>\n",
       "<table border=\"1\" class=\"dataframe\">\n",
       "  <thead>\n",
       "    <tr style=\"text-align: right;\">\n",
       "      <th></th>\n",
       "      <th>sams_name</th>\n",
       "      <th>amazon_name</th>\n",
       "      <th>score</th>\n",
       "    </tr>\n",
       "  </thead>\n",
       "  <tbody>\n",
       "    <tr>\n",
       "      <th>0</th>\n",
       "      <td>CG PORT CHARGER LRG</td>\n",
       "      <td>Charger</td>\n",
       "      <td>90</td>\n",
       "    </tr>\n",
       "    <tr>\n",
       "      <th>1</th>\n",
       "      <td>INCIPIO FEATHER</td>\n",
       "      <td>Incipio Feather Case for Microsoft Surface Pro...</td>\n",
       "      <td>90</td>\n",
       "    </tr>\n",
       "    <tr>\n",
       "      <th>2</th>\n",
       "      <td>LG LUCID</td>\n",
       "      <td>Black Micro Bluetooth Hands Free Heaphone For ...</td>\n",
       "      <td>90</td>\n",
       "    </tr>\n",
       "    <tr>\n",
       "      <th>3</th>\n",
       "      <td>SOUND RUSH</td>\n",
       "      <td>Panasonic RP-HXS200M-K Sound Rush On-Ear Headp...</td>\n",
       "      <td>90</td>\n",
       "    </tr>\n",
       "    <tr>\n",
       "      <th>4</th>\n",
       "      <td>DELL INSPIRON 11</td>\n",
       "      <td>Dell Inspiron 1150</td>\n",
       "      <td>94</td>\n",
       "    </tr>\n",
       "    <tr>\n",
       "      <th>5</th>\n",
       "      <td>TV STAND</td>\n",
       "      <td>Aluminum Portable TV Stand for up to 60 inch M...</td>\n",
       "      <td>90</td>\n",
       "    </tr>\n",
       "    <tr>\n",
       "      <th>6</th>\n",
       "      <td>SPEAKER PHONE</td>\n",
       "      <td>Micro Boom Wireless Bluetooth Speaker &amp;amp; Sp...</td>\n",
       "      <td>90</td>\n",
       "    </tr>\n",
       "    <tr>\n",
       "      <th>7</th>\n",
       "      <td>64GB FLASH DRIVE</td>\n",
       "      <td>ULTRA 64GB Flash Drive</td>\n",
       "      <td>95</td>\n",
       "    </tr>\n",
       "    <tr>\n",
       "      <th>8</th>\n",
       "      <td>CEILING MOUNT</td>\n",
       "      <td>Projector Ceiling Mount for PANASONIC PT-AE800...</td>\n",
       "      <td>90</td>\n",
       "    </tr>\n",
       "    <tr>\n",
       "      <th>9</th>\n",
       "      <td>INSPIRON 15Z</td>\n",
       "      <td>Dell Inspiron 15Z Intel Core i5 1.8GHz 6GB 500...</td>\n",
       "      <td>90</td>\n",
       "    </tr>\n",
       "    <tr>\n",
       "      <th>10</th>\n",
       "      <td>CORDLESS PHONE</td>\n",
       "      <td>Fenzer Rechargeable Cordless Phone Battery for...</td>\n",
       "      <td>90</td>\n",
       "    </tr>\n",
       "    <tr>\n",
       "      <th>11</th>\n",
       "      <td>DELL INSPIRON 660</td>\n",
       "      <td>Dell Inspiron 660 I660-1044BK Desktop Computer</td>\n",
       "      <td>90</td>\n",
       "    </tr>\n",
       "    <tr>\n",
       "      <th>12</th>\n",
       "      <td>HARLEY DAVIDSON</td>\n",
       "      <td>Hogtunes 0401 Audio Cable (3.3', Connect MP3/G...</td>\n",
       "      <td>90</td>\n",
       "    </tr>\n",
       "    <tr>\n",
       "      <th>13</th>\n",
       "      <td>CONDITIONER CHARGER</td>\n",
       "      <td>Charger</td>\n",
       "      <td>90</td>\n",
       "    </tr>\n",
       "    <tr>\n",
       "      <th>14</th>\n",
       "      <td>DUAL USB CAR CHARGER</td>\n",
       "      <td>Lewis N. Clark Luggage Dual USB Car Charger, B...</td>\n",
       "      <td>90</td>\n",
       "    </tr>\n",
       "    <tr>\n",
       "      <th>15</th>\n",
       "      <td>DUAL USB CAR CHARGER</td>\n",
       "      <td>Lewis N. Clark Luggage Dual USB Car Charger, B...</td>\n",
       "      <td>90</td>\n",
       "    </tr>\n",
       "    <tr>\n",
       "      <th>16</th>\n",
       "      <td>INSPIRON 17R</td>\n",
       "      <td>NEW Genuine battery for J1KND 312-0233 04YRJH ...</td>\n",
       "      <td>90</td>\n",
       "    </tr>\n",
       "    <tr>\n",
       "      <th>17</th>\n",
       "      <td>PERSONAL SOUND</td>\n",
       "      <td>Etymotic QSA Personal Sound Amplifier, Platinu...</td>\n",
       "      <td>90</td>\n",
       "    </tr>\n",
       "    <tr>\n",
       "      <th>18</th>\n",
       "      <td>RUNPHONES WIRELESS</td>\n",
       "      <td>RunPhones Wireless Headphones (Swift Black, La...</td>\n",
       "      <td>90</td>\n",
       "    </tr>\n",
       "    <tr>\n",
       "      <th>19</th>\n",
       "      <td>LOGITECH FABRIC SKIN</td>\n",
       "      <td>Logitech Fabric Skin Keyboard Folio for iPad A...</td>\n",
       "      <td>90</td>\n",
       "    </tr>\n",
       "    <tr>\n",
       "      <th>20</th>\n",
       "      <td>OTTERBOX COMMUTER</td>\n",
       "      <td>Argyle Pink and Gray - Decal Style Vinyl Skin ...</td>\n",
       "      <td>90</td>\n",
       "    </tr>\n",
       "    <tr>\n",
       "      <th>21</th>\n",
       "      <td>TV STAND</td>\n",
       "      <td>Aluminum Portable TV Stand for up to 60 inch M...</td>\n",
       "      <td>90</td>\n",
       "    </tr>\n",
       "    <tr>\n",
       "      <th>22</th>\n",
       "      <td>SMART CHARGER</td>\n",
       "      <td>GWC Technology HU2V40 USB 2.0 4-Port Hub with ...</td>\n",
       "      <td>90</td>\n",
       "    </tr>\n",
       "    <tr>\n",
       "      <th>23</th>\n",
       "      <td>INSPIRON 15 (3521)</td>\n",
       "      <td>Dell Inspiron 15 (3521 / 5521) Laptop Keyboard...</td>\n",
       "      <td>90</td>\n",
       "    </tr>\n",
       "    <tr>\n",
       "      <th>24</th>\n",
       "      <td>DC/AC POWER INVERTER</td>\n",
       "      <td>APC Pnoteac 140 12V DC/AC Power inverter</td>\n",
       "      <td>90</td>\n",
       "    </tr>\n",
       "    <tr>\n",
       "      <th>25</th>\n",
       "      <td>JAZ 1GB EXTERNAL</td>\n",
       "      <td>na</td>\n",
       "      <td>90</td>\n",
       "    </tr>\n",
       "    <tr>\n",
       "      <th>26</th>\n",
       "      <td>WALL TYPE CHARGER</td>\n",
       "      <td>Charger</td>\n",
       "      <td>90</td>\n",
       "    </tr>\n",
       "    <tr>\n",
       "      <th>27</th>\n",
       "      <td>DELL INSPIRON 15R</td>\n",
       "      <td>Dell Inspiron 1150</td>\n",
       "      <td>91</td>\n",
       "    </tr>\n",
       "    <tr>\n",
       "      <th>28</th>\n",
       "      <td>COLOR INKJET PRINTER</td>\n",
       "      <td>10ft ReadyPlug&amp;reg; USB Cable for: Epson Stylu...</td>\n",
       "      <td>90</td>\n",
       "    </tr>\n",
       "    <tr>\n",
       "      <th>29</th>\n",
       "      <td>IPHONE 6 PLUS</td>\n",
       "      <td>inDigi Bluetooth Smart Watch Phone For iPhone ...</td>\n",
       "      <td>90</td>\n",
       "    </tr>\n",
       "    <tr>\n",
       "      <th>30</th>\n",
       "      <td>DELL STUDIO XPS 13</td>\n",
       "      <td>Laptop Battery for Dell Studio XPS 1340 Series...</td>\n",
       "      <td>90</td>\n",
       "    </tr>\n",
       "  </tbody>\n",
       "</table>\n",
       "</div>"
      ],
      "text/plain": [
       "               sams_name                                        amazon_name  \\\n",
       "0   CG PORT CHARGER LRG                                             Charger   \n",
       "1   INCIPIO FEATHER       Incipio Feather Case for Microsoft Surface Pro...   \n",
       "2   LG LUCID              Black Micro Bluetooth Hands Free Heaphone For ...   \n",
       "3   SOUND RUSH            Panasonic RP-HXS200M-K Sound Rush On-Ear Headp...   \n",
       "4   DELL INSPIRON 11                                     Dell Inspiron 1150   \n",
       "5   TV STAND              Aluminum Portable TV Stand for up to 60 inch M...   \n",
       "6   SPEAKER PHONE         Micro Boom Wireless Bluetooth Speaker &amp; Sp...   \n",
       "7   64GB FLASH DRIVE                                 ULTRA 64GB Flash Drive   \n",
       "8   CEILING MOUNT         Projector Ceiling Mount for PANASONIC PT-AE800...   \n",
       "9   INSPIRON 15Z          Dell Inspiron 15Z Intel Core i5 1.8GHz 6GB 500...   \n",
       "10  CORDLESS PHONE        Fenzer Rechargeable Cordless Phone Battery for...   \n",
       "11  DELL INSPIRON 660        Dell Inspiron 660 I660-1044BK Desktop Computer   \n",
       "12  HARLEY DAVIDSON       Hogtunes 0401 Audio Cable (3.3', Connect MP3/G...   \n",
       "13  CONDITIONER CHARGER                                             Charger   \n",
       "14  DUAL USB CAR CHARGER  Lewis N. Clark Luggage Dual USB Car Charger, B...   \n",
       "15  DUAL USB CAR CHARGER  Lewis N. Clark Luggage Dual USB Car Charger, B...   \n",
       "16  INSPIRON 17R          NEW Genuine battery for J1KND 312-0233 04YRJH ...   \n",
       "17  PERSONAL SOUND        Etymotic QSA Personal Sound Amplifier, Platinu...   \n",
       "18  RUNPHONES WIRELESS    RunPhones Wireless Headphones (Swift Black, La...   \n",
       "19  LOGITECH FABRIC SKIN  Logitech Fabric Skin Keyboard Folio for iPad A...   \n",
       "20  OTTERBOX COMMUTER     Argyle Pink and Gray - Decal Style Vinyl Skin ...   \n",
       "21  TV STAND              Aluminum Portable TV Stand for up to 60 inch M...   \n",
       "22  SMART CHARGER         GWC Technology HU2V40 USB 2.0 4-Port Hub with ...   \n",
       "23  INSPIRON 15 (3521)    Dell Inspiron 15 (3521 / 5521) Laptop Keyboard...   \n",
       "24  DC/AC POWER INVERTER           APC Pnoteac 140 12V DC/AC Power inverter   \n",
       "25  JAZ 1GB EXTERNAL                                                     na   \n",
       "26  WALL TYPE CHARGER                                               Charger   \n",
       "27  DELL INSPIRON 15R                                    Dell Inspiron 1150   \n",
       "28  COLOR INKJET PRINTER  10ft ReadyPlug&reg; USB Cable for: Epson Stylu...   \n",
       "29  IPHONE 6 PLUS         inDigi Bluetooth Smart Watch Phone For iPhone ...   \n",
       "30  DELL STUDIO XPS 13    Laptop Battery for Dell Studio XPS 1340 Series...   \n",
       "\n",
       "    score  \n",
       "0      90  \n",
       "1      90  \n",
       "2      90  \n",
       "3      90  \n",
       "4      94  \n",
       "5      90  \n",
       "6      90  \n",
       "7      95  \n",
       "8      90  \n",
       "9      90  \n",
       "10     90  \n",
       "11     90  \n",
       "12     90  \n",
       "13     90  \n",
       "14     90  \n",
       "15     90  \n",
       "16     90  \n",
       "17     90  \n",
       "18     90  \n",
       "19     90  \n",
       "20     90  \n",
       "21     90  \n",
       "22     90  \n",
       "23     90  \n",
       "24     90  \n",
       "25     90  \n",
       "26     90  \n",
       "27     91  \n",
       "28     90  \n",
       "29     90  \n",
       "30     90  "
      ]
     },
     "execution_count": 33,
     "metadata": {},
     "output_type": "execute_result"
    }
   ],
   "source": [
    "results = pd.DataFrame(response)\n",
    "results.head(100)"
   ]
  },
  {
   "cell_type": "code",
   "execution_count": 34,
   "id": "2c1e7116",
   "metadata": {},
   "outputs": [],
   "source": [
    "results.to_csv('CSV_completed/product_match.csv', sep='\\t', index=False)"
   ]
  }
 ],
 "metadata": {
  "kernelspec": {
   "display_name": "Python 3.9.7 64-bit ('base': conda)",
   "language": "python",
   "name": "python397jvsc74a57bd040d3a090f54c6569ab1632332b64b2c03c39dcf918b08424e98f38b5ae0af88f"
  },
  "language_info": {
   "codemirror_mode": {
    "name": "ipython",
    "version": 3
   },
   "file_extension": ".py",
   "mimetype": "text/x-python",
   "name": "python",
   "nbconvert_exporter": "python",
   "pygments_lexer": "ipython3",
   "version": "3.9.7"
  }
 },
 "nbformat": 4,
 "nbformat_minor": 5
}
