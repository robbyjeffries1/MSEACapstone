{
 "cells": [
  {
   "cell_type": "markdown",
   "id": "55021a7c",
   "metadata": {},
   "source": [
    "# Amazon Reviews Sentiment Analysis"
   ]
  },
  {
   "cell_type": "code",
   "execution_count": 1,
   "id": "894f9829",
   "metadata": {},
   "outputs": [],
   "source": [
    "import numpy as np\n",
    "import pandas as pd"
   ]
  },
  {
   "cell_type": "code",
   "execution_count": 2,
   "id": "ce0a0fe6",
   "metadata": {
    "scrolled": true
   },
   "outputs": [
    {
     "name": "stdout",
     "output_type": "stream",
     "text": [
      "C:\\Users\\PC Daryl\\OneDrive - University of Arkansas\\UARK\\Spring 2022\\ECON 5763 - Economic Analytics\\MSEACapstone\n"
     ]
    },
    {
     "data": {
      "text/html": [
       "<div>\n",
       "<style scoped>\n",
       "    .dataframe tbody tr th:only-of-type {\n",
       "        vertical-align: middle;\n",
       "    }\n",
       "\n",
       "    .dataframe tbody tr th {\n",
       "        vertical-align: top;\n",
       "    }\n",
       "\n",
       "    .dataframe thead th {\n",
       "        text-align: right;\n",
       "    }\n",
       "</style>\n",
       "<table border=\"1\" class=\"dataframe\">\n",
       "  <thead>\n",
       "    <tr style=\"text-align: right;\">\n",
       "      <th></th>\n",
       "      <th>review_body</th>\n",
       "      <th>star_rating</th>\n",
       "    </tr>\n",
       "  </thead>\n",
       "  <tbody>\n",
       "    <tr>\n",
       "      <th>0</th>\n",
       "      <td>love it</td>\n",
       "      <td>5</td>\n",
       "    </tr>\n",
       "    <tr>\n",
       "      <th>1</th>\n",
       "      <td>Works great!</td>\n",
       "      <td>4</td>\n",
       "    </tr>\n",
       "    <tr>\n",
       "      <th>2</th>\n",
       "      <td>Gave this as a gift and the recipient was thri...</td>\n",
       "      <td>5</td>\n",
       "    </tr>\n",
       "    <tr>\n",
       "      <th>3</th>\n",
       "      <td>It's a good beginners stereo. I bought it for ...</td>\n",
       "      <td>4</td>\n",
       "    </tr>\n",
       "    <tr>\n",
       "      <th>4</th>\n",
       "      <td>The connection on my iHOME cube was beginning ...</td>\n",
       "      <td>5</td>\n",
       "    </tr>\n",
       "  </tbody>\n",
       "</table>\n",
       "</div>"
      ],
      "text/plain": [
       "                                         review_body  star_rating\n",
       "0                                            love it            5\n",
       "1                                       Works great!            4\n",
       "2  Gave this as a gift and the recipient was thri...            5\n",
       "3  It's a good beginners stereo. I bought it for ...            4\n",
       "4  The connection on my iHOME cube was beginning ...            5"
      ]
     },
     "execution_count": 2,
     "metadata": {},
     "output_type": "execute_result"
    }
   ],
   "source": [
    "# Importing the Data\n",
    "%cd ..\n",
    "df = pd.read_csv(\"Data/aws_reviews_1000_2015_electronic.csv\")\n",
    "df = df[['review_body', 'star_rating']]\n",
    "df.head()"
   ]
  },
  {
   "cell_type": "markdown",
   "id": "a6361cd5",
   "metadata": {},
   "source": [
    "Tentatively, I will classify reviews that scored 3 and above as positive and the rest as negative."
   ]
  },
  {
   "cell_type": "code",
   "execution_count": 3,
   "id": "97a9385d",
   "metadata": {},
   "outputs": [
    {
     "data": {
      "text/html": [
       "<div>\n",
       "<style scoped>\n",
       "    .dataframe tbody tr th:only-of-type {\n",
       "        vertical-align: middle;\n",
       "    }\n",
       "\n",
       "    .dataframe tbody tr th {\n",
       "        vertical-align: top;\n",
       "    }\n",
       "\n",
       "    .dataframe thead th {\n",
       "        text-align: right;\n",
       "    }\n",
       "</style>\n",
       "<table border=\"1\" class=\"dataframe\">\n",
       "  <thead>\n",
       "    <tr style=\"text-align: right;\">\n",
       "      <th></th>\n",
       "      <th>review_body</th>\n",
       "      <th>star_rating</th>\n",
       "      <th>sentiment</th>\n",
       "    </tr>\n",
       "  </thead>\n",
       "  <tbody>\n",
       "    <tr>\n",
       "      <th>0</th>\n",
       "      <td>love it</td>\n",
       "      <td>5</td>\n",
       "      <td>positive</td>\n",
       "    </tr>\n",
       "    <tr>\n",
       "      <th>1</th>\n",
       "      <td>Works great!</td>\n",
       "      <td>4</td>\n",
       "      <td>positive</td>\n",
       "    </tr>\n",
       "    <tr>\n",
       "      <th>2</th>\n",
       "      <td>Gave this as a gift and the recipient was thri...</td>\n",
       "      <td>5</td>\n",
       "      <td>positive</td>\n",
       "    </tr>\n",
       "    <tr>\n",
       "      <th>3</th>\n",
       "      <td>It's a good beginners stereo. I bought it for ...</td>\n",
       "      <td>4</td>\n",
       "      <td>positive</td>\n",
       "    </tr>\n",
       "    <tr>\n",
       "      <th>4</th>\n",
       "      <td>The connection on my iHOME cube was beginning ...</td>\n",
       "      <td>5</td>\n",
       "      <td>positive</td>\n",
       "    </tr>\n",
       "  </tbody>\n",
       "</table>\n",
       "</div>"
      ],
      "text/plain": [
       "                                         review_body  star_rating sentiment\n",
       "0                                            love it            5  positive\n",
       "1                                       Works great!            4  positive\n",
       "2  Gave this as a gift and the recipient was thri...            5  positive\n",
       "3  It's a good beginners stereo. I bought it for ...            4  positive\n",
       "4  The connection on my iHOME cube was beginning ...            5  positive"
      ]
     },
     "execution_count": 3,
     "metadata": {},
     "output_type": "execute_result"
    }
   ],
   "source": [
    "# Creating Sentiment Column\n",
    "df['sentiment'] = df['star_rating'].apply(lambda x: 'positive' if x>=3 else 'negative')\n",
    "df.head()"
   ]
  },
  {
   "cell_type": "markdown",
   "id": "f07c7421",
   "metadata": {},
   "source": [
    "### Text Preprocessing"
   ]
  },
  {
   "cell_type": "markdown",
   "id": "7ff84111",
   "metadata": {},
   "source": [
    "Before we start building our model, we need to get rid of special characters, duplicates characters and standardize the formatting of the reviews. "
   ]
  },
  {
   "cell_type": "code",
   "execution_count": 4,
   "id": "889bdc31",
   "metadata": {},
   "outputs": [],
   "source": [
    "# Dependencies\n",
    "\n",
    "if False: # Change it to true if you haven't installed it\n",
    "    !pip install spacy==2.2.3\n",
    "    !python -m spacy download en_core_web_sm\n",
    "    !pip install beautifulsoup4==4.9.1\n",
    "    !pip install textblob==0.15.3\n",
    "    !pip install git+https://github.com/laxmimerit/preprocess_kgptalkie.git --upgrade --force-reinstall"
   ]
  },
  {
   "cell_type": "code",
   "execution_count": 5,
   "id": "640580af",
   "metadata": {},
   "outputs": [],
   "source": [
    "import preprocess_kgptalkie as ps\n",
    "import re"
   ]
  },
  {
   "cell_type": "code",
   "execution_count": 6,
   "id": "30b85b70",
   "metadata": {},
   "outputs": [],
   "source": [
    "def get_clean(x):\n",
    "    '''\n",
    "    Reformat a string by removing duplicates, and special characters\n",
    "    e.g: you're -> you are\n",
    "         i'm -> i am\n",
    "         I llllovvee iit!! -> i love it\n",
    "         white_dog -> white dog\n",
    "    '''\n",
    "    x = str(x).lower().replace('\\\\', '').replace('_', ' ')\n",
    "    x = ps.cont_exp(x) # you're -> you are; i'm -> i am\n",
    "    x = ps.remove_emails(x)\n",
    "    x = ps.remove_urls(x)\n",
    "    x = ps.remove_html_tags(x)\n",
    "    x = ps.remove_accented_chars(x)\n",
    "    x = ps.remove_special_chars(x)\n",
    "    x = re.sub(\"(.)\\\\1{2,}\", \"\\\\1\", x) # (e.g: I llllovvee iit -> I love it)\n",
    "    return x"
   ]
  },
  {
   "cell_type": "code",
   "execution_count": 7,
   "id": "b4262282",
   "metadata": {},
   "outputs": [],
   "source": [
    "df['review_body'] = df['review_body'].apply(lambda x: get_clean(x))"
   ]
  },
  {
   "cell_type": "code",
   "execution_count": 8,
   "id": "132f3e5c",
   "metadata": {},
   "outputs": [
    {
     "data": {
      "text/html": [
       "<div>\n",
       "<style scoped>\n",
       "    .dataframe tbody tr th:only-of-type {\n",
       "        vertical-align: middle;\n",
       "    }\n",
       "\n",
       "    .dataframe tbody tr th {\n",
       "        vertical-align: top;\n",
       "    }\n",
       "\n",
       "    .dataframe thead th {\n",
       "        text-align: right;\n",
       "    }\n",
       "</style>\n",
       "<table border=\"1\" class=\"dataframe\">\n",
       "  <thead>\n",
       "    <tr style=\"text-align: right;\">\n",
       "      <th></th>\n",
       "      <th>review_body</th>\n",
       "      <th>star_rating</th>\n",
       "      <th>sentiment</th>\n",
       "    </tr>\n",
       "  </thead>\n",
       "  <tbody>\n",
       "    <tr>\n",
       "      <th>0</th>\n",
       "      <td>love it</td>\n",
       "      <td>5</td>\n",
       "      <td>positive</td>\n",
       "    </tr>\n",
       "    <tr>\n",
       "      <th>1</th>\n",
       "      <td>works great</td>\n",
       "      <td>4</td>\n",
       "      <td>positive</td>\n",
       "    </tr>\n",
       "    <tr>\n",
       "      <th>2</th>\n",
       "      <td>gave this as a gift and the recipient was thri...</td>\n",
       "      <td>5</td>\n",
       "      <td>positive</td>\n",
       "    </tr>\n",
       "    <tr>\n",
       "      <th>3</th>\n",
       "      <td>it is a good beginners stereo i bought it for ...</td>\n",
       "      <td>4</td>\n",
       "      <td>positive</td>\n",
       "    </tr>\n",
       "    <tr>\n",
       "      <th>4</th>\n",
       "      <td>the connection on my ihome cube was beginning ...</td>\n",
       "      <td>5</td>\n",
       "      <td>positive</td>\n",
       "    </tr>\n",
       "  </tbody>\n",
       "</table>\n",
       "</div>"
      ],
      "text/plain": [
       "                                         review_body  star_rating sentiment\n",
       "0                                            love it            5  positive\n",
       "1                                        works great            4  positive\n",
       "2  gave this as a gift and the recipient was thri...            5  positive\n",
       "3  it is a good beginners stereo i bought it for ...            4  positive\n",
       "4  the connection on my ihome cube was beginning ...            5  positive"
      ]
     },
     "execution_count": 8,
     "metadata": {},
     "output_type": "execute_result"
    }
   ],
   "source": [
    "df.head()"
   ]
  },
  {
   "cell_type": "markdown",
   "id": "62472a57",
   "metadata": {},
   "source": [
    "### Model Building"
   ]
  },
  {
   "cell_type": "markdown",
   "id": "80c4eb56",
   "metadata": {},
   "source": [
    "We will use a Support Vector Machine\n",
    "\n",
    "A support vector machine (SVM) is a supervised machine learning model that uses classification algorithms for two-group classification problems. After giving an SVM model sets of labeled training data for each category, they’re able to categorize new text.\n",
    "\n",
    "The basics of Support Vector Machines and how it works are best understood with a simple example. Let’s imagine we have two tags: red and yellow, and our data has two features: x and y. We want a classifier that, given a pair of (x,y) coordinates, outputs if it’s either red or yellow. We plot our already labeled training data on a plane:"
   ]
  },
  {
   "cell_type": "code",
   "execution_count": 9,
   "id": "98d17c5e",
   "metadata": {},
   "outputs": [
    {
     "data": {
      "text/plain": [
       "[<matplotlib.lines.Line2D at 0x188d5c4d320>]"
      ]
     },
     "execution_count": 9,
     "metadata": {},
     "output_type": "execute_result"
    },
    {
     "data": {
      "image/png": "[encoded data removed]",
      "text/plain": [
       "<Figure size 432x288 with 1 Axes>"
      ]
     },
     "metadata": {
      "needs_background": "light"
     },
     "output_type": "display_data"
    }
   ],
   "source": [
    "from sklearn.datasets import make_blobs\n",
    "import matplotlib.pyplot as plt\n",
    "import seaborn as sns\n",
    "sns.set()\n",
    "%matplotlib inline\n",
    "\n",
    "\n",
    "X, y = make_blobs(n_samples=50, centers=2,\n",
    "                  random_state=0, cluster_std=0.60)\n",
    "plt.scatter(X[:, 0], X[:, 1], c=y, s=50, cmap='autumn')\n",
    "\n",
    "plt.plot([0.6], [2.5], 'x', color='black', markeredgewidth=2, markersize=10) # Unlabelled Point;"
   ]
  },
  {
   "cell_type": "markdown",
   "id": "5afa3919",
   "metadata": {},
   "source": [
    "A support vector machine takes these data points and outputs the hyperplane (which in two dimensions it’s simply a line) that best separates the tags. This line is the decision boundary: anything that falls to one side of it we will classify as red, and anything that falls to the other as yellow."
   ]
  },
  {
   "cell_type": "code",
   "execution_count": 10,
   "id": "1d81b7aa",
   "metadata": {},
   "outputs": [
    {
     "data": {
      "image/png": "[encoded data removed]",
      "text/plain": [
       "<Figure size 432x288 with 1 Axes>"
      ]
     },
     "metadata": {
      "needs_background": "light"
     },
     "output_type": "display_data"
    }
   ],
   "source": [
    "xfit = np.linspace(-1, 3.5)\n",
    "plt.scatter(X[:, 0], X[:, 1], c=y, s=50, cmap='autumn')\n",
    "plt.plot([0.6], [2.5], 'x', color='red', markeredgewidth=2, markersize=10) # Unlabelled Point\n",
    "\n",
    "\n",
    "plt.plot(xfit, 0.17 * xfit + 2.2, '-k')\n",
    "\n",
    "plt.xlim(-1, 3.5);"
   ]
  },
  {
   "cell_type": "markdown",
   "id": "0f321f66",
   "metadata": {},
   "source": [
    "Now, we want to apply this algorithm for text classification, and the first thing we need is a way to transform a piece of text into a vector of numbers so we can run SVM with them. In other words, which features do we have to use in order to classify texts using SVM?\n",
    "\n",
    "The most common answer is word frequencies"
   ]
  },
  {
   "cell_type": "markdown",
   "id": "b19a2ad9",
   "metadata": {},
   "source": [
    "**TF-IDF (term frequency-inverse document frequency)** is a statistical measure that evaluates how relevant a word is to a document in a collection of documents."
   ]
  },
  {
   "cell_type": "code",
   "execution_count": 11,
   "id": "d8c23bff",
   "metadata": {},
   "outputs": [],
   "source": [
    "from sklearn.feature_extraction.text import TfidfVectorizer\n",
    "from sklearn.model_selection import train_test_split\n",
    "from sklearn.svm import LinearSVC\n",
    "from sklearn.metrics import classification_report"
   ]
  },
  {
   "cell_type": "code",
   "execution_count": 12,
   "id": "2478c7c9",
   "metadata": {},
   "outputs": [],
   "source": [
    "# Tokenizing Raw text reviews\n",
    "tfidf = TfidfVectorizer(max_features=5000)\n",
    "X=df['review_body']\n",
    "y=df['sentiment']\n",
    "# y=df['star_rating']\n",
    "\n",
    "X = tfidf.fit_transform(X)"
   ]
  },
  {
   "cell_type": "code",
   "execution_count": 13,
   "id": "4c5f29ef",
   "metadata": {},
   "outputs": [
    {
     "data": {
      "text/plain": [
       "<1000x4161 sparse matrix of type '<class 'numpy.float64'>'\n",
       "\twith 23505 stored elements in Compressed Sparse Row format>"
      ]
     },
     "execution_count": 13,
     "metadata": {},
     "output_type": "execute_result"
    }
   ],
   "source": [
    "X"
   ]
  },
  {
   "cell_type": "code",
   "execution_count": 14,
   "id": "b736dcc8",
   "metadata": {},
   "outputs": [
    {
     "name": "stdout",
     "output_type": "stream",
     "text": [
      "  (0, 1947)\t0.4193551541780707\n",
      "  (0, 2178)\t0.9078222594011927\n",
      "  (1, 1644)\t0.6286022186765592\n",
      "  (1, 4108)\t0.7777269769494352\n"
     ]
    }
   ],
   "source": [
    "print(X[:2,]) # Text Reviews got recoded in numbers"
   ]
  },
  {
   "cell_type": "code",
   "execution_count": 15,
   "id": "168a70b0",
   "metadata": {},
   "outputs": [
    {
     "data": {
      "text/plain": [
       "['mount',\n",
       " 'teen',\n",
       " 'opened',\n",
       " 'blast',\n",
       " 'somewhat',\n",
       " 'ounce',\n",
       " '4th',\n",
       " 'suburban',\n",
       " 'one',\n",
       " 'ton']"
      ]
     },
     "execution_count": 15,
     "metadata": {},
     "output_type": "execute_result"
    }
   ],
   "source": [
    "from random import sample, seed\n",
    "\n",
    "seed(2022)\n",
    "# Random Sample of features \n",
    "sample(tfidf.get_feature_names(), 10)"
   ]
  },
  {
   "cell_type": "code",
   "execution_count": 16,
   "id": "e0d84d99",
   "metadata": {},
   "outputs": [],
   "source": [
    "# Partion Data into Train and Test\n",
    "X_train, X_test, y_train, y_test = train_test_split(X, y, test_size=0.2, random_state=2022)"
   ]
  },
  {
   "cell_type": "code",
   "execution_count": 17,
   "id": "acb0c18b",
   "metadata": {},
   "outputs": [
    {
     "data": {
      "text/plain": [
       "LinearSVC(loss='hinge')"
      ]
     },
     "execution_count": 17,
     "metadata": {},
     "output_type": "execute_result"
    }
   ],
   "source": [
    "# Model\n",
    "clf = LinearSVC(loss='hinge') # tweek parametters here to make it better (or worse)\n",
    "\n",
    "# Training Model\n",
    "clf.fit(X_train, y_train)"
   ]
  },
  {
   "cell_type": "code",
   "execution_count": 18,
   "id": "66438d2d",
   "metadata": {},
   "outputs": [],
   "source": [
    "# Testing Model\n",
    "y_pred = clf.predict(X_test)"
   ]
  },
  {
   "cell_type": "code",
   "execution_count": 19,
   "id": "aba48930",
   "metadata": {},
   "outputs": [
    {
     "name": "stdout",
     "output_type": "stream",
     "text": [
      "              precision    recall  f1-score   support\n",
      "\n",
      "    negative       0.77      0.49      0.60        49\n",
      "    positive       0.85      0.95      0.90       151\n",
      "\n",
      "    accuracy                           0.84       200\n",
      "   macro avg       0.81      0.72      0.75       200\n",
      "weighted avg       0.83      0.84      0.83       200\n",
      "\n"
     ]
    }
   ],
   "source": [
    "print(classification_report(y_test, y_pred))"
   ]
  },
  {
   "cell_type": "markdown",
   "id": "162842d4",
   "metadata": {},
   "source": [
    "### Testing the model on few reviews"
   ]
  },
  {
   "cell_type": "code",
   "execution_count": 20,
   "id": "75799c7c",
   "metadata": {},
   "outputs": [
    {
     "data": {
      "text/plain": [
       "['i love this phone will definitely recommend',\n",
       " 'this phone is terrible i want a refund',\n",
       " 'i believe this phone fulfill his purpose but it could have been better']"
      ]
     },
     "execution_count": 20,
     "metadata": {},
     "output_type": "execute_result"
    }
   ],
   "source": [
    "# Let's understand how the algorith works\n",
    "x = ['I love this phone, will definitely recommend',\n",
    "     'This PHONE is terrible, I want a refund!', \n",
    "     'I believe this phone fulfill his purpose, but it could have been better']\n",
    "\n",
    "for i in range(len(x)):\n",
    "       x[i] = get_clean(x[i])\n",
    "x"
   ]
  },
  {
   "cell_type": "code",
   "execution_count": 21,
   "id": "84867dfb",
   "metadata": {},
   "outputs": [
    {
     "data": {
      "text/plain": [
       "<3x4161 sparse matrix of type '<class 'numpy.float64'>'\n",
       "\twith 23 stored elements in Compressed Sparse Row format>"
      ]
     },
     "execution_count": 21,
     "metadata": {},
     "output_type": "execute_result"
    }
   ],
   "source": [
    "vec = tfidf.transform(x) # tokenizing using previously created feature\n",
    "vec"
   ]
  },
  {
   "cell_type": "code",
   "execution_count": 22,
   "id": "e95d06ac",
   "metadata": {},
   "outputs": [
    {
     "data": {
      "text/plain": [
       "array(['positive', 'negative', 'positive'], dtype=object)"
      ]
     },
     "execution_count": 22,
     "metadata": {},
     "output_type": "execute_result"
    }
   ],
   "source": [
    "clf.predict(vec)"
   ]
  },
  {
   "cell_type": "code",
   "execution_count": 23,
   "id": "d950cf84",
   "metadata": {},
   "outputs": [],
   "source": [
    "# Exporting the model\n",
    "import pickle\n",
    "\n",
    "\n",
    "pickle.dump(clf, open('amazon_svc', 'wb'))"
   ]
  },
  {
   "cell_type": "code",
   "execution_count": null,
   "id": "11c1f5ba",
   "metadata": {},
   "outputs": [],
   "source": []
  }
 ],
 "metadata": {
  "kernelspec": {
   "display_name": "Python 3",
   "language": "python",
   "name": "python3"
  },
  "language_info": {
   "codemirror_mode": {
    "name": "ipython",
    "version": 3
   },
   "file_extension": ".py",
   "mimetype": "text/x-python",
   "name": "python",
   "nbconvert_exporter": "python",
   "pygments_lexer": "ipython3",
   "version": "3.6.13"
  }
 },
 "nbformat": 4,
 "nbformat_minor": 5
}
