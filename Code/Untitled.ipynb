{
 "cells": [
  {
   "cell_type": "code",
   "execution_count": 1,
   "id": "c09469ad",
   "metadata": {},
   "outputs": [
    {
     "name": "stdout",
     "output_type": "stream",
     "text": [
      "Requirement already satisfied: pip in /opt/anaconda3/lib/python3.9/site-packages (22.0.4)\n",
      "Requirement already satisfied: setuptools in /opt/anaconda3/lib/python3.9/site-packages (61.2.0)\n",
      "Requirement already satisfied: wheel in /opt/anaconda3/lib/python3.9/site-packages (0.37.1)\n",
      "Requirement already satisfied: spacy[apple] in /opt/anaconda3/lib/python3.9/site-packages (3.2.4)\n",
      "Requirement already satisfied: wasabi<1.1.0,>=0.8.1 in /opt/anaconda3/lib/python3.9/site-packages (from spacy[apple]) (0.9.1)\n",
      "Requirement already satisfied: pydantic!=1.8,!=1.8.1,<1.9.0,>=1.7.4 in /opt/anaconda3/lib/python3.9/site-packages (from spacy[apple]) (1.8.2)\n",
      "Requirement already satisfied: spacy-legacy<3.1.0,>=3.0.8 in /opt/anaconda3/lib/python3.9/site-packages (from spacy[apple]) (3.0.9)\n",
      "Requirement already satisfied: jinja2 in /opt/anaconda3/lib/python3.9/site-packages (from spacy[apple]) (2.11.3)\n",
      "Requirement already satisfied: typer<0.5.0,>=0.3.0 in /opt/anaconda3/lib/python3.9/site-packages (from spacy[apple]) (0.4.1)\n",
      "Requirement already satisfied: setuptools in /opt/anaconda3/lib/python3.9/site-packages (from spacy[apple]) (61.2.0)\n",
      "Requirement already satisfied: numpy>=1.15.0 in /opt/anaconda3/lib/python3.9/site-packages (from spacy[apple]) (1.22.3)\n",
      "Requirement already satisfied: murmurhash<1.1.0,>=0.28.0 in /opt/anaconda3/lib/python3.9/site-packages (from spacy[apple]) (1.0.6)\n",
      "Requirement already satisfied: thinc<8.1.0,>=8.0.12 in /opt/anaconda3/lib/python3.9/site-packages (from spacy[apple]) (8.0.15)\n",
      "Requirement already satisfied: packaging>=20.0 in /opt/anaconda3/lib/python3.9/site-packages (from spacy[apple]) (21.0)\n",
      "Requirement already satisfied: srsly<3.0.0,>=2.4.1 in /opt/anaconda3/lib/python3.9/site-packages (from spacy[apple]) (2.4.2)\n",
      "Requirement already satisfied: cymem<2.1.0,>=2.0.2 in /opt/anaconda3/lib/python3.9/site-packages (from spacy[apple]) (2.0.6)\n",
      "Requirement already satisfied: pathy>=0.3.5 in /opt/anaconda3/lib/python3.9/site-packages (from spacy[apple]) (0.6.1)\n",
      "Requirement already satisfied: catalogue<2.1.0,>=2.0.6 in /opt/anaconda3/lib/python3.9/site-packages (from spacy[apple]) (2.0.7)\n",
      "Requirement already satisfied: preshed<3.1.0,>=3.0.2 in /opt/anaconda3/lib/python3.9/site-packages (from spacy[apple]) (3.0.6)\n",
      "Requirement already satisfied: blis<0.8.0,>=0.4.0 in /opt/anaconda3/lib/python3.9/site-packages (from spacy[apple]) (0.7.7)\n",
      "Requirement already satisfied: requests<3.0.0,>=2.13.0 in /opt/anaconda3/lib/python3.9/site-packages (from spacy[apple]) (2.26.0)\n",
      "Requirement already satisfied: click<8.1.0 in /opt/anaconda3/lib/python3.9/site-packages (from spacy[apple]) (8.0.3)\n",
      "Requirement already satisfied: langcodes<4.0.0,>=3.2.0 in /opt/anaconda3/lib/python3.9/site-packages (from spacy[apple]) (3.3.0)\n",
      "Requirement already satisfied: tqdm<5.0.0,>=4.38.0 in /opt/anaconda3/lib/python3.9/site-packages (from spacy[apple]) (4.62.3)\n",
      "Requirement already satisfied: spacy-loggers<2.0.0,>=1.0.0 in /opt/anaconda3/lib/python3.9/site-packages (from spacy[apple]) (1.0.2)\n",
      "Requirement already satisfied: thinc-apple-ops<1.0.0,>=0.0.4 in /opt/anaconda3/lib/python3.9/site-packages (from spacy[apple]) (0.0.5)\n",
      "Requirement already satisfied: pyparsing>=2.0.2 in /opt/anaconda3/lib/python3.9/site-packages (from packaging>=20.0->spacy[apple]) (3.0.4)\n",
      "Requirement already satisfied: smart-open<6.0.0,>=5.0.0 in /opt/anaconda3/lib/python3.9/site-packages (from pathy>=0.3.5->spacy[apple]) (5.2.1)\n",
      "Requirement already satisfied: typing-extensions>=3.7.4.3 in /opt/anaconda3/lib/python3.9/site-packages (from pydantic!=1.8,!=1.8.1,<1.9.0,>=1.7.4->spacy[apple]) (3.10.0.2)\n",
      "Requirement already satisfied: idna<4,>=2.5 in /opt/anaconda3/lib/python3.9/site-packages (from requests<3.0.0,>=2.13.0->spacy[apple]) (3.2)\n",
      "Requirement already satisfied: urllib3<1.27,>=1.21.1 in /opt/anaconda3/lib/python3.9/site-packages (from requests<3.0.0,>=2.13.0->spacy[apple]) (1.26.7)\n",
      "Requirement already satisfied: charset-normalizer~=2.0.0 in /opt/anaconda3/lib/python3.9/site-packages (from requests<3.0.0,>=2.13.0->spacy[apple]) (2.0.4)\n",
      "Requirement already satisfied: certifi>=2017.4.17 in /opt/anaconda3/lib/python3.9/site-packages (from requests<3.0.0,>=2.13.0->spacy[apple]) (2021.10.8)\n",
      "Requirement already satisfied: MarkupSafe>=0.23 in /opt/anaconda3/lib/python3.9/site-packages (from jinja2->spacy[apple]) (1.1.1)\n",
      "Requirement already satisfied: beautifulsoup4==4.9.1 in /opt/anaconda3/lib/python3.9/site-packages (4.9.1)\n",
      "Requirement already satisfied: soupsieve>1.2 in /opt/anaconda3/lib/python3.9/site-packages (from beautifulsoup4==4.9.1) (2.2.1)\n",
      "Requirement already satisfied: textblob==0.15.3 in /opt/anaconda3/lib/python3.9/site-packages (0.15.3)\n",
      "Requirement already satisfied: nltk>=3.1 in /opt/anaconda3/lib/python3.9/site-packages (from textblob==0.15.3) (3.6.5)\n",
      "Requirement already satisfied: click in /opt/anaconda3/lib/python3.9/site-packages (from nltk>=3.1->textblob==0.15.3) (8.0.3)\n",
      "Requirement already satisfied: joblib in /opt/anaconda3/lib/python3.9/site-packages (from nltk>=3.1->textblob==0.15.3) (1.1.0)\n",
      "Requirement already satisfied: regex>=2021.8.3 in /opt/anaconda3/lib/python3.9/site-packages (from nltk>=3.1->textblob==0.15.3) (2021.8.3)\n",
      "Requirement already satisfied: tqdm in /opt/anaconda3/lib/python3.9/site-packages (from nltk>=3.1->textblob==0.15.3) (4.62.3)\n",
      "Collecting git+https://github.com/laxmimerit/preprocess_kgptalkie.git\n",
      "  Cloning https://github.com/laxmimerit/preprocess_kgptalkie.git to /private/var/folders/c9/z8kjq8qs15n6nq0dr7vdg5640000gn/T/pip-req-build-pc5hzqci\n",
      "  Running command git clone --filter=blob:none --quiet https://github.com/laxmimerit/preprocess_kgptalkie.git /private/var/folders/c9/z8kjq8qs15n6nq0dr7vdg5640000gn/T/pip-req-build-pc5hzqci\n",
      "  Resolved https://github.com/laxmimerit/preprocess_kgptalkie.git to commit 9ca68d37027af9f6a30d54640347ce3b2e2694b3\n",
      "  Preparing metadata (setup.py) ... \u001b[?25ldone\n",
      "\u001b[?25hBuilding wheels for collected packages: preprocess-kgptalkie\n",
      "  Building wheel for preprocess-kgptalkie (setup.py) ... \u001b[?25ldone\n",
      "\u001b[?25h  Created wheel for preprocess-kgptalkie: filename=preprocess_kgptalkie-0.1.3-py3-none-any.whl size=7641 sha256=156b0d8b18beffee959237c8ce5f39c6e3edec156527ff26f8019e1923452964\n",
      "  Stored in directory: /private/var/folders/c9/z8kjq8qs15n6nq0dr7vdg5640000gn/T/pip-ephem-wheel-cache-psb1dk8g/wheels/d1/c3/bb/559fe93e652b51cbc532f17e9693f3b70055f8560cf06c1fb3\n",
      "Successfully built preprocess-kgptalkie\n",
      "Installing collected packages: preprocess-kgptalkie\n",
      "  Attempting uninstall: preprocess-kgptalkie\n",
      "    Found existing installation: preprocess-kgptalkie 0.1.3\n",
      "    Uninstalling preprocess-kgptalkie-0.1.3:\n",
      "      Successfully uninstalled preprocess-kgptalkie-0.1.3\n",
      "Successfully installed preprocess-kgptalkie-0.1.3\n"
     ]
    }
   ],
   "source": [
    "# Dependencies\n",
    "\n",
    "if True: # Change it to true if you haven't installed it\n",
    "    #!pip install spacy==2.2.3\n",
    "    #!python -m spacy download en_core_web_sm\n",
    "    !pip install -U pip setuptools wheel\n",
    "    !pip install -U 'spacy[apple]'\n",
    "    !python -m spacy download en_core_web_sm\n",
    "    \n",
    "    !pip install beautifulsoup4==4.9.1\n",
    "    !pip install textblob==0.15.3\n",
    "    !pip install git+https://github.com/laxmimerit/preprocess_kgptalkie.git --upgrade --force-reinstall"
   ]
  },
  {
   "cell_type": "code",
   "execution_count": null,
   "id": "e21de33a",
   "metadata": {},
   "outputs": [],
   "source": [
    "import preprocess_kgptalkie as ps\n",
    "import re"
   ]
  }
 ],
 "metadata": {
  "kernelspec": {
   "display_name": "Python 3.9.7 64-bit ('base': conda)",
   "language": "python",
   "name": "python397jvsc74a57bd040d3a090f54c6569ab1632332b64b2c03c39dcf918b08424e98f38b5ae0af88f"
  },
  "language_info": {
   "codemirror_mode": {
    "name": "ipython",
    "version": 3
   },
   "file_extension": ".py",
   "mimetype": "text/x-python",
   "name": "python",
   "nbconvert_exporter": "python",
   "pygments_lexer": "ipython3",
   "version": "3.9.7"
  }
 },
 "nbformat": 4,
 "nbformat_minor": 5
}
